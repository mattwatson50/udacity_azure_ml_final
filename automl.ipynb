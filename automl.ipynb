{
 "cells": [
  {
   "cell_type": "markdown",
   "metadata": {},
   "source": [
    "# Automated ML\n",
    "\n",
    "TODO: Import Dependencies. In the cell below, import all the dependencies that you will need to complete the project."
   ]
  },
  {
   "cell_type": "code",
   "execution_count": 23,
   "metadata": {
    "gather": {
     "logged": 1598423888013
    },
    "jupyter": {
     "outputs_hidden": false,
     "source_hidden": false
    },
    "nteract": {
     "transient": {
      "deleting": false
     }
    }
   },
   "outputs": [],
   "source": [
    "import requests\n",
    "import json\n",
    "\n",
    "from azureml.core import Workspace, Experiment\n",
    "from azureml.train.automl import AutoMLConfig\n",
    "from azureml.core.compute import ComputeTarget, AmlCompute\n",
    "from azureml.core.compute_target import ComputeTargetException\n",
    "from azureml.core.dataset import Dataset\n",
    "from azureml.widgets import RunDetails\n",
    "from azureml.automl.runtime.onnx_convert import OnnxConverter\n",
    "from azureml.core.model import InferenceConfig\n",
    "from azureml.core.webservice import AciWebservice\n",
    "from azureml.core import Environment\n",
    "from azureml.core.model import Model"
   ]
  },
  {
   "cell_type": "markdown",
   "metadata": {},
   "source": [
    "## Dataset\n",
    "\n",
    "### Overview\n",
    "TODO: In this markdown cell, give an overview of the dataset you are using. Also mention the task you will be performing.\n",
    "\n",
    "\n",
    "TODO: Get data. In the cell below, write code to access the data you will be using in this project. Remember that the dataset needs to be external."
   ]
  },
  {
   "cell_type": "code",
   "execution_count": 5,
   "metadata": {
    "gather": {
     "logged": 1598423890461
    },
    "jupyter": {
     "outputs_hidden": false,
     "source_hidden": false
    },
    "nteract": {
     "transient": {
      "deleting": false
     }
    }
   },
   "outputs": [
    {
     "name": "stderr",
     "output_type": "stream",
     "text": [
      "2024-04-05:18:39:15,796 INFO     [workspace.py:291] Found the config file in: /mnt/batch/tasks/shared/LS_root/mounts/clusters/notebook257053/code/config.json\n"
     ]
    },
    {
     "name": "stdout",
     "output_type": "stream",
     "text": [
      "Workspace.create(name='quick-starts-ws-257053', subscription_id='d4ad7261-832d-46b2-b093-22156001df5b', resource_group='aml-quickstarts-257053')\n"
     ]
    },
    {
     "name": "stderr",
     "output_type": "stream",
     "text": [
      "2024-04-05:18:39:16,834 INFO     [clientbase.py:192] Created a worker pool for first use\n"
     ]
    },
    {
     "name": "stdout",
     "output_type": "stream",
     "text": [
      "   season_id matchup_home     season_type  min         team_name_home  \\\n",
      "0      22015  ATL vs. DET  Regular Season  240          Atlanta Hawks   \n",
      "1      22015  GSW vs. NOP  Regular Season  240  Golden State Warriors   \n",
      "2      22015  CHI vs. CLE  Regular Season  240          Chicago Bulls   \n",
      "3      22015  BOS vs. PHI  Regular Season  240         Boston Celtics   \n",
      "4      22015  MIA vs. CHA  Regular Season  240             Miami Heat   \n",
      "\n",
      "   fg3m_home  fg3a_home  fg3_pct_home wl_home        team_name_away  \\\n",
      "0          8         27          0.30       L       Detroit Pistons   \n",
      "1          9         30          0.30       W  New Orleans Pelicans   \n",
      "2          7         19          0.37       W   Cleveland Cavaliers   \n",
      "3          8         24          0.33       W    Philadelphia 76ers   \n",
      "4         12         20          0.60       W     Charlotte Hornets   \n",
      "\n",
      "   fg3m_away  fg3a_away  fg3_pct_away wl_away  highest_3pp highest_3pp_wl  \n",
      "0         12         29          0.41       W         0.41              W  \n",
      "1          6         18          0.33       L         0.33              L  \n",
      "2          9         29          0.31       L         0.37              W  \n",
      "3          7         22          0.32       L         0.33              W  \n",
      "4          6         24          0.25       L         0.60              W  \n"
     ]
    }
   ],
   "source": [
    "# workspace setup\n",
    "ws = Workspace.from_config()\n",
    "print(ws)\n",
    "\n",
    "# dataset key info\n",
    "key = 'nba_3pt_data'\n",
    "data_desc = 'NBA game data from 2015 to 2023 containing 3 point percentages.'\n",
    "\n",
    "# checking if dataset is already registered\n",
    "if key in ws.datasets.keys():\n",
    "    nba_dataset = ws.datasets[key]\n",
    "else:\n",
    "    # get data from url\n",
    "    nba_data_url = 'https://raw.githubusercontent.com/mattwatson50/udacity_azure_ml_final/main/data/nba_3pt_data.csv'\n",
    "    nba_dataset = Dataset.Tabular.from_delimited_files(nba_data_url)        \n",
    "    # register dataset\n",
    "    nba_dataset = dataset.register(workspace=ws,\n",
    "                               name=key,\n",
    "                               description=data_desc)\n",
    "\n",
    "# getting nba dataset\n",
    "nba_df = nba_dataset.to_pandas_dataframe()\n",
    "print(nba_df.head())\n",
    "\n",
    "# choose a name for experiment\n",
    "experiment_name = 'automl_nba_3pt'\n",
    "\n",
    "experiment=Experiment(ws, experiment_name)"
   ]
  },
  {
   "cell_type": "code",
   "execution_count": 9,
   "metadata": {},
   "outputs": [
    {
     "name": "stdout",
     "output_type": "stream",
     "text": [
      "InProgress..\n",
      "SucceededProvisioning operation finished, operation \"Succeeded\"\n",
      "Succeeded\n",
      "AmlCompute wait for completion finished\n",
      "\n",
      "Minimum number of nodes requested have been provisioned\n"
     ]
    }
   ],
   "source": [
    "# creating a compute cluster\n",
    "cluster_name = \"proj-compute-cluster\"\n",
    "\n",
    "try:\n",
    "    cpu_cluster = ComputeTarget(workspace=ws, name=cluster_name)\n",
    "    print('Cluster already created.')\n",
    "except ComputeTargetException:\n",
    "    compute_config = AmlCompute.provisioning_configuration(vm_size='STANDARD_DS3_V2',\n",
    "                                                           max_nodes=6)\n",
    "    cpu_cluster = ComputeTarget.create(ws, cluster_name, compute_config)\n",
    "\n",
    "cpu_cluster.wait_for_completion(show_output=True)"
   ]
  },
  {
   "cell_type": "markdown",
   "metadata": {},
   "source": [
    "## AutoML Configuration\n",
    "\n",
    "TODO: Explain why you chose the automl settings and cofiguration you used below."
   ]
  },
  {
   "cell_type": "code",
   "execution_count": 10,
   "metadata": {
    "gather": {
     "logged": 1598429217746
    },
    "jupyter": {
     "outputs_hidden": false,
     "source_hidden": false
    },
    "nteract": {
     "transient": {
      "deleting": false
     }
    }
   },
   "outputs": [],
   "source": [
    "# TODO: Put your automl settings here\n",
    "automl_settings = {\n",
    "    'experiment_timeout_minutes' : 30,\n",
    "    'task' : 'classification',\n",
    "    'primary_metric' : 'accuracy',\n",
    "    'training_data' : nba_dataset,\n",
    "    'label_column_name' : 'highest_3pp_wl',\n",
    "    'n_cross_validations' : 5,\n",
    "    'enable_early_stopping' : True,\n",
    "    'enable_onnx_compatible_models' : True\n",
    "}\n",
    "\n",
    "# TODO: Put your automl config here\n",
    "automl_config = AutoMLConfig(compute_target=cluster_name,\n",
    "                             **automl_settings)"
   ]
  },
  {
   "cell_type": "code",
   "execution_count": 11,
   "metadata": {
    "gather": {
     "logged": 1598431107951
    },
    "jupyter": {
     "outputs_hidden": false,
     "source_hidden": false
    },
    "nteract": {
     "transient": {
      "deleting": false
     }
    }
   },
   "outputs": [
    {
     "name": "stdout",
     "output_type": "stream",
     "text": [
      "Submitting remote run.\n"
     ]
    },
    {
     "data": {
      "text/html": [
       "<table style=\"width:100%\"><tr><th>Experiment</th><th>Id</th><th>Type</th><th>Status</th><th>Details Page</th><th>Docs Page</th></tr><tr><td>automl_nba_3pt</td><td>AutoML_8fdde942-877a-4cd9-8a2f-7896b2732328</td><td>automl</td><td>NotStarted</td><td><a href=\"https://ml.azure.com/runs/AutoML_8fdde942-877a-4cd9-8a2f-7896b2732328?wsid=/subscriptions/d4ad7261-832d-46b2-b093-22156001df5b/resourcegroups/aml-quickstarts-257053/workspaces/quick-starts-ws-257053&amp;tid=660b3398-b80e-49d2-bc5b-ac1dc93b5254\" target=\"_blank\" rel=\"noopener\">Link to Azure Machine Learning studio</a></td><td><a href=\"https://docs.microsoft.com/en-us/python/api/overview/azure/ml/intro?view=azure-ml-py\" target=\"_blank\" rel=\"noopener\">Link to Documentation</a></td></tr></table>"
      ]
     },
     "metadata": {},
     "output_type": "display_data"
    }
   ],
   "source": [
    "# TODO: Submit your experiment\n",
    "remote_run = experiment.submit(automl_config)"
   ]
  },
  {
   "cell_type": "markdown",
   "metadata": {},
   "source": [
    "## Run Details\n",
    "\n",
    "OPTIONAL: Write about the different models trained and their performance. Why do you think some models did better than others?\n",
    "\n",
    "TODO: In the cell below, use the `RunDetails` widget to show the different experiments."
   ]
  },
  {
   "cell_type": "code",
   "execution_count": 12,
   "metadata": {
    "gather": {
     "logged": 1598431121770
    },
    "jupyter": {
     "outputs_hidden": false,
     "source_hidden": false
    },
    "nteract": {
     "transient": {
      "deleting": false
     }
    }
   },
   "outputs": [
    {
     "data": {
      "application/vnd.jupyter.widget-view+json": {
       "model_id": "fd2f17698ebe4979b4533ee2be88e832",
       "version_major": 2,
       "version_minor": 0
      },
      "text/plain": [
       "_AutoMLWidget(widget_settings={'childWidgetDisplay': 'popup', 'send_telemetry': False, 'log_level': 'INFO', 's…"
      ]
     },
     "metadata": {},
     "output_type": "display_data"
    },
    {
     "data": {
      "application/aml.mini.widget.v1": "{\"status\": \"Completed\", \"workbench_run_details_uri\": \"https://ml.azure.com/runs/AutoML_8fdde942-877a-4cd9-8a2f-7896b2732328?wsid=/subscriptions/d4ad7261-832d-46b2-b093-22156001df5b/resourcegroups/aml-quickstarts-257053/workspaces/quick-starts-ws-257053&tid=660b3398-b80e-49d2-bc5b-ac1dc93b5254\", \"run_id\": \"AutoML_8fdde942-877a-4cd9-8a2f-7896b2732328\", \"run_properties\": {\"run_id\": \"AutoML_8fdde942-877a-4cd9-8a2f-7896b2732328\", \"created_utc\": \"2024-04-05T18:42:26.894429Z\", \"properties\": {\"num_iterations\": \"1000\", \"training_type\": \"TrainFull\", \"acquisition_function\": \"EI\", \"primary_metric\": \"accuracy\", \"train_split\": \"0\", \"acquisition_parameter\": \"0\", \"num_cross_validation\": \"5\", \"target\": \"proj-compute-cluster\", \"AMLSettingsJsonString\": \"{\\\"path\\\":null,\\\"name\\\":\\\"automl_nba_3pt\\\",\\\"subscription_id\\\":\\\"d4ad7261-832d-46b2-b093-22156001df5b\\\",\\\"resource_group\\\":\\\"aml-quickstarts-257053\\\",\\\"workspace_name\\\":\\\"quick-starts-ws-257053\\\",\\\"region\\\":\\\"southcentralus\\\",\\\"compute_target\\\":\\\"proj-compute-cluster\\\",\\\"spark_service\\\":null,\\\"azure_service\\\":\\\"remote\\\",\\\"many_models\\\":false,\\\"pipeline_fetch_max_batch_size\\\":1,\\\"enable_batch_run\\\":true,\\\"enable_parallel_run\\\":false,\\\"num_procs\\\":null,\\\"enable_run_restructure\\\":false,\\\"start_auxiliary_runs_before_parent_complete\\\":false,\\\"enable_code_generation\\\":true,\\\"iterations\\\":1000,\\\"primary_metric\\\":\\\"accuracy\\\",\\\"task_type\\\":\\\"classification\\\",\\\"positive_label\\\":null,\\\"data_script\\\":null,\\\"test_size\\\":0.0,\\\"test_include_predictions_only\\\":false,\\\"validation_size\\\":0.0,\\\"n_cross_validations\\\":5,\\\"y_min\\\":null,\\\"y_max\\\":null,\\\"num_classes\\\":null,\\\"featurization\\\":\\\"auto\\\",\\\"_ignore_package_version_incompatibilities\\\":false,\\\"is_timeseries\\\":false,\\\"max_cores_per_iteration\\\":1,\\\"max_concurrent_iterations\\\":1,\\\"iteration_timeout_minutes\\\":null,\\\"mem_in_mb\\\":null,\\\"enforce_time_on_windows\\\":false,\\\"experiment_timeout_minutes\\\":30,\\\"experiment_exit_score\\\":null,\\\"partition_column_names\\\":null,\\\"whitelist_models\\\":null,\\\"blacklist_algos\\\":[\\\"TensorFlowLinearClassifier\\\",\\\"TensorFlowDNN\\\"],\\\"supported_models\\\":[\\\"SVM\\\",\\\"RandomForest\\\",\\\"ExtremeRandomTrees\\\",\\\"LightGBM\\\",\\\"TensorFlowDNN\\\",\\\"LinearSVM\\\",\\\"XGBoostClassifier\\\",\\\"BernoulliNaiveBayes\\\",\\\"TensorFlowLinearClassifier\\\",\\\"TabnetClassifier\\\",\\\"DecisionTree\\\",\\\"AveragedPerceptronClassifier\\\",\\\"MultinomialNaiveBayes\\\",\\\"GradientBoosting\\\",\\\"SGD\\\",\\\"KNN\\\",\\\"LogisticRegression\\\"],\\\"private_models\\\":[],\\\"auto_blacklist\\\":true,\\\"blacklist_samples_reached\\\":false,\\\"exclude_nan_labels\\\":true,\\\"verbosity\\\":20,\\\"_debug_log\\\":\\\"azureml_automl.log\\\",\\\"show_warnings\\\":false,\\\"model_explainability\\\":true,\\\"service_url\\\":null,\\\"sdk_url\\\":null,\\\"sdk_packages\\\":null,\\\"enable_onnx_compatible_models\\\":true,\\\"enable_split_onnx_featurizer_estimator_models\\\":false,\\\"vm_type\\\":\\\"STANDARD_DS3_V2\\\",\\\"telemetry_verbosity\\\":20,\\\"send_telemetry\\\":true,\\\"enable_dnn\\\":false,\\\"scenario\\\":\\\"AutoML\\\",\\\"environment_label\\\":null,\\\"save_mlflow\\\":false,\\\"enable_categorical_indicators\\\":false,\\\"force_text_dnn\\\":false,\\\"enable_feature_sweeping\\\":false,\\\"enable_early_stopping\\\":true,\\\"early_stopping_n_iters\\\":10,\\\"arguments\\\":null,\\\"dataset_id\\\":\\\"dd6db559-dcc7-48ee-b362-7e5d429cc740\\\",\\\"hyperdrive_config\\\":null,\\\"validation_dataset_id\\\":null,\\\"run_source\\\":null,\\\"metrics\\\":null,\\\"enable_metric_confidence\\\":false,\\\"enable_ensembling\\\":true,\\\"enable_stack_ensembling\\\":false,\\\"ensemble_iterations\\\":15,\\\"enable_tf\\\":false,\\\"enable_subsampling\\\":null,\\\"subsample_seed\\\":null,\\\"enable_nimbusml\\\":false,\\\"enable_streaming\\\":false,\\\"force_streaming\\\":false,\\\"track_child_runs\\\":true,\\\"n_best_runs\\\":1,\\\"allowed_private_models\\\":[],\\\"label_column_name\\\":\\\"highest_3pp_wl\\\",\\\"weight_column_name\\\":null,\\\"cv_split_column_names\\\":null,\\\"enable_local_managed\\\":false,\\\"_local_managed_run_id\\\":null,\\\"cost_mode\\\":1,\\\"lag_length\\\":0,\\\"metric_operation\\\":\\\"maximize\\\",\\\"preprocess\\\":true}\", \"DataPrepJsonString\": \"{\\\\\\\"training_data\\\\\\\": {\\\\\\\"datasetId\\\\\\\": \\\\\\\"dd6db559-dcc7-48ee-b362-7e5d429cc740\\\\\\\"}, \\\\\\\"datasets\\\\\\\": 0}\", \"EnableSubsampling\": null, \"runTemplate\": \"AutoML\", \"azureml.runsource\": \"automl\", \"display_task_type\": \"classification\", \"dependencies_versions\": \"{\\\"azureml-dataprep-native\\\": \\\"38.0.0\\\", \\\"azureml-dataprep\\\": \\\"4.10.8\\\", \\\"azureml-dataprep-rslex\\\": \\\"2.17.12\\\", \\\"azureml-train-automl-runtime\\\": \\\"1.51.0.post2\\\", \\\"azureml-train-automl-client\\\": \\\"1.51.0.post1\\\", \\\"azureml-training-tabular\\\": \\\"1.51.0.post1\\\", \\\"azureml-automl-runtime\\\": \\\"1.51.0.post1\\\", \\\"azureml-automl-core\\\": \\\"1.51.0.post1\\\", \\\"azureml-mlflow\\\": \\\"1.51.0\\\", \\\"azureml-datadrift\\\": \\\"1.51.0\\\", \\\"azureml-pipeline\\\": \\\"1.51.0\\\", \\\"azureml-contrib-dataset\\\": \\\"1.51.0\\\", \\\"azureml-contrib-notebook\\\": \\\"1.51.0\\\", \\\"azureml-accel-models\\\": \\\"1.51.0\\\", \\\"azureml-automl-dnn-nlp\\\": \\\"1.51.0\\\", \\\"azureml-pipeline-core\\\": \\\"1.51.0\\\", \\\"azureml-responsibleai\\\": \\\"1.51.0\\\", \\\"azureml-contrib-automl-pipeline-steps\\\": \\\"1.51.0\\\", \\\"azureml-pipeline-steps\\\": \\\"1.51.0\\\", \\\"azureml-core\\\": \\\"1.51.0\\\", \\\"azureml-contrib-reinforcementlearning\\\": \\\"1.51.0\\\", \\\"azureml-contrib-server\\\": \\\"1.51.0\\\", \\\"azureml-opendatasets\\\": \\\"1.51.0\\\", \\\"azureml-contrib-services\\\": \\\"1.51.0\\\", \\\"azureml-telemetry\\\": \\\"1.51.0\\\", \\\"azureml-train-restclients-hyperdrive\\\": \\\"1.51.0\\\", \\\"azureml-interpret\\\": \\\"1.51.0\\\", \\\"azureml-train-core\\\": \\\"1.51.0\\\", \\\"azureml-tensorboard\\\": \\\"1.51.0\\\", \\\"azureml-train\\\": \\\"1.51.0\\\", \\\"azureml-contrib-pipeline-steps\\\": \\\"1.51.0\\\", \\\"azureml-explain-model\\\": \\\"1.51.0\\\", \\\"azureml-cli-common\\\": \\\"1.51.0\\\", \\\"azureml-widgets\\\": \\\"1.51.0\\\", \\\"azureml-train-automl\\\": \\\"1.51.0\\\", \\\"azureml-defaults\\\": \\\"1.51.0\\\", \\\"azureml-contrib-fairness\\\": \\\"1.51.0\\\", \\\"azureml-sdk\\\": \\\"1.51.0\\\", \\\"azureml-dataset-runtime\\\": \\\"1.51.0\\\", \\\"azureml-inference-server-http\\\": \\\"0.8.4\\\"}\", \"_aml_system_scenario_identification\": \"Remote.Parent\", \"ClientType\": \"SDK\", \"PlatformVersion\": \"DPV1\", \"environment_cpu_name\": \"AzureML-AutoML\", \"environment_cpu_label\": \"scikit-upgrade2\", \"environment_gpu_name\": \"AzureML-AutoML-GPU\", \"environment_gpu_label\": \"scikit-upgrade2\", \"root_attribution\": \"automl\", \"attribution\": \"AutoML\", \"Orchestrator\": \"AutoML\", \"CancelUri\": \"https://southcentralus.api.azureml.ms/jasmine/v1.0/subscriptions/d4ad7261-832d-46b2-b093-22156001df5b/resourceGroups/aml-quickstarts-257053/providers/Microsoft.MachineLearningServices/workspaces/quick-starts-ws-257053/experimentids/c8fcbcd8-01af-44bf-8210-2a577a83a369/cancel/AutoML_8fdde942-877a-4cd9-8a2f-7896b2732328\", \"ClientSdkVersion\": null, \"snapshotId\": \"00000000-0000-0000-0000-000000000000\", \"SetupRunId\": \"AutoML_8fdde942-877a-4cd9-8a2f-7896b2732328_setup\", \"SetupRunContainerId\": \"dcid.AutoML_8fdde942-877a-4cd9-8a2f-7896b2732328_setup\", \"FeaturizationRunJsonPath\": \"featurizer_container.json\", \"FeaturizationRunId\": \"AutoML_8fdde942-877a-4cd9-8a2f-7896b2732328_featurize\", \"ProblemInfoJsonString\": \"{\\\"dataset_num_categorical\\\": 0, \\\"is_sparse\\\": true, \\\"subsampling\\\": false, \\\"has_extra_col\\\": true, \\\"dataset_classes\\\": 2, \\\"dataset_features\\\": 660, \\\"dataset_samples\\\": 10187, \\\"single_frequency_class_detected\\\": false}\", \"ModelExplainRunId\": \"AutoML_8fdde942-877a-4cd9-8a2f-7896b2732328_ModelExplain\"}, \"tags\": {\"model_explain_run\": \"best_run\", \"_aml_system_automl_run_workspace_id\": \"fabc5968-e538-45e9-a955-32ae240dcb17\", \"_aml_system_azureml.automlComponent\": \"AutoML\", \"pipeline_id_000\": \"5dfac790c5c209f98a1da2dc1c7fb76f0397324f;c7af0367625be6ac5c2fecbfc72ed444cb7a2111;799d2168db11fc19b9e1c6c1df62f8981ad39fe9;44b5d2d23120dfcf96a7dc6389a293d17a966b1b;3735210984ea10097d5c91905cf6300ac278cd89;5304e705d6f401cb07f85bcf0ca59ac1f84dfcf5;294650ec23bc3d067a4972de7ceb12f6e97260fa;3caa818370e5e0c328d6266c359019bd31681270;79ebb3b8c385e3190e3dd4c1fa28b74730528045;589334a57221e0720a95cf217c065115a7b841d1;5a8eb9d9f67b1dd7e9e4062585daa2417ea78989;35b8e2db3c5f6e714072e1be9f0210fe48426975;da45f657e4591caadf1589a85a1f7b8932585595;797e3e972ad02d947be4c64d2b06b775b6df7a49;3fd2e115482e0c7b92aa3297688aefb6c3aa6fb8;1dfdf370ba770047b14bfa59c40920815defcdab;5235e3d56688f5f38ef82d73fba7c2e698fc1af2;17f87d449bb43aaf3cdae4b7eb6dd6e7fbdaf343;dc68fbd594530b5d52812dd9b3ffa3d6d8ba625e;2032292dd602836ed754a266c771ac100c4c80dc;fedbb4995d6de479c513576119965d71276f03d1;e478544eb8734c07a1943f5bdf4e6605be6943df;3729fcdcce0e2533633dd5b0c9762f151aef849d;e7c78ea70fd379a87f18851b2b24b9c4d85cc441;04c1507aa326b2ef5d41ce4796b7e91f113b0ae9;b50199cdabdf259ad63e07a4298c340fec6b3a32;21a2896aab6f2ef7bfbc243a2b285f52cc2fe08d;5a7cc8c7cc69ba69ac36eec99283d6944b182016;8d6cf3e6f4331d0d81d9c1db48ceda8fada5f519;f608487f3423a4d41a4e6508822254c870b24e36;8520fafcdfafc4814110a6e10233269a5cb04dd5;d3812cd4cae6f09e5e02cdc7a9531db57c836045;d4e2676180ae8eecd8e10acb09be2380f214823d;fa16390cf5f14696601c7d969d4b3de1246ef303;__AutoML_Ensemble__\", \"score_000\": \"0.9885154089963738;0.9880244428032334;0.6617271835132482;0.9172462534379917;0.9657408598436289;0.7394757342452172;0.9775205797746596;0.7127715284893841;0.7107109254069586;0.9637771396004149;0.8202639780353932;0.9741831080843454;0.7066854458465397;0.6021386971064743;0.9870427994756475;0.6863650050127597;0.7215091465397506;0.754687881647808;0.9878285091845992;0.7229805034727994;0.7776583644191871;0.9795818091509239;0.7109072926136351;0.9906749665053237;0.9857664608086996;0.7678417384375317;0.7109072926136351;0.9889082879390741;0.9749676615585179;0.9885152644670263;0.7107109254069586;0.9897915549575252;0.9801709589474024;0.9849813773935867;0.9910678454480241\", \"predicted_cost_000\": \"0;0;0.5;0.5;0.5;0.5;0.5;0.5;0.5;0.5;0.5;0.5;0.5;0.5;0.5;0.5;0.5;0.5;0.5;0.5;4.101610646760593;0.21213881202481216;0.17572217697857126;1.2749397618057445;4.6594506744869;0.22148105245952635;0.024759224651055383;0.5706331404262212;0.5688887608513215;2.400175690904197;0.18461665694456497;2.3533487328088274;3.7784629320920353;1.1782991853411122;0\", \"fit_time_000\": \"0.21381619999999998;0.6945044000000001;0.65114;0.32774280000000006;0.0718102;0.047693400000000004;0.13298939999999998;0.42208499999999993;0.22167760000000003;0.0959344;0.057104199999999994;0.10209280000000001;0.4148072;0.0623586;0.15265440000000002;0.9214782000000001;0.1378238;0.5570181999999999;0.2851966;7.3359184;9.5853438;0.17948240000000001;0.0437424;4.1752166;3.2672432000000002;0.1235984;0.0799618;0.518379;1.2264602;6.0620742;0.173238;1.5617338;4.3787234;2.6187630000000004;25\", \"training_percent_000\": \"100;100;100;100;100;100;100;100;100;100;100;100;100;100;100;100;100;100;100;100;100;100;100;100;100;100;100;100;100;100;100;100;100;100;100\", \"iteration_000\": \"0;1;2;3;4;5;6;7;8;9;10;11;12;13;14;15;16;17;18;19;20;21;22;23;24;25;26;27;28;29;30;31;32;33;34\", \"run_preprocessor_000\": \"MaxAbsScaler;MaxAbsScaler;MaxAbsScaler;SparseNormalizer;MaxAbsScaler;MaxAbsScaler;StandardScalerWrapper;MaxAbsScaler;StandardScalerWrapper;StandardScalerWrapper;SparseNormalizer;StandardScalerWrapper;MaxAbsScaler;MaxAbsScaler;StandardScalerWrapper;SparseNormalizer;StandardScalerWrapper;StandardScalerWrapper;StandardScalerWrapper;TruncatedSVDWrapper;TruncatedSVDWrapper;StandardScalerWrapper;MaxAbsScaler;StandardScalerWrapper;StandardScalerWrapper;TruncatedSVDWrapper;StandardScalerWrapper;StandardScalerWrapper;SparseNormalizer;StandardScalerWrapper;SparseNormalizer;StandardScalerWrapper;StandardScalerWrapper;StandardScalerWrapper;\", \"run_algorithm_000\": \"LightGBM;XGBoostClassifier;ExtremeRandomTrees;XGBoostClassifier;LightGBM;LightGBM;XGBoostClassifier;LogisticRegression;ExtremeRandomTrees;XGBoostClassifier;LightGBM;XGBoostClassifier;LogisticRegression;SGD;XGBoostClassifier;RandomForest;LogisticRegression;RandomForest;XGBoostClassifier;RandomForest;RandomForest;XGBoostClassifier;LightGBM;XGBoostClassifier;XGBoostClassifier;XGBoostClassifier;XGBoostClassifier;XGBoostClassifier;XGBoostClassifier;XGBoostClassifier;XGBoostClassifier;XGBoostClassifier;XGBoostClassifier;XGBoostClassifier;VotingEnsemble\", \"dynamic_allowlisting_iterations\": \"<25>;<30>;\", \"_aml_system_azureml.automl_early_exit_message\": \"No scores improved over last 10 iterations, so experiment stopped early. This early stopping behavior can be disabled by setting enable_early_stopping = False in AutoMLConfig for notebook/python SDK runs.\", \"automl_best_child_run_id\": \"AutoML_8fdde942-877a-4cd9-8a2f-7896b2732328_34\", \"model_explain_best_run_child_id\": \"AutoML_8fdde942-877a-4cd9-8a2f-7896b2732328_34\"}, \"end_time_utc\": \"2024-04-05T19:14:59.525268Z\", \"status\": \"Completed\", \"log_files\": {}, \"log_groups\": [], \"run_duration\": \"0:32:32\", \"run_number\": \"1712342546\", \"run_queued_details\": {\"status\": \"Completed\", \"details\": null}}, \"child_runs\": [{\"run_id\": \"AutoML_8fdde942-877a-4cd9-8a2f-7896b2732328_setup\", \"run_number\": 1712342560, \"metric\": null, \"status\": \"Completed\", \"run_type\": \"azureml.scriptrun\", \"training_percent\": null, \"start_time\": \"2024-04-05T18:44:48.628046Z\", \"end_time\": \"2024-04-05T18:47:29.607964Z\", \"created_time\": \"2024-04-05T18:42:40.395377Z\", \"created_time_dt\": \"2024-04-05T18:42:40.395377Z\", \"duration\": \"0:04:49\", \"iteration\": null, \"goal\": null, \"run_name\": \"Completed\", \"run_properties\": null}, {\"run_id\": \"AutoML_8fdde942-877a-4cd9-8a2f-7896b2732328_featurize\", \"run_number\": 1712342849, \"metric\": null, \"status\": \"Completed\", \"run_type\": \"automl.featurization\", \"training_percent\": null, \"start_time\": \"2024-04-05T18:47:30.23853Z\", \"end_time\": \"2024-04-05T18:49:44.777184Z\", \"created_time\": \"2024-04-05T18:47:29.940894Z\", \"created_time_dt\": \"2024-04-05T18:47:29.940894Z\", \"duration\": \"0:02:14\", \"iteration\": null, \"goal\": null, \"run_name\": \"Completed\", \"run_properties\": null}, {\"run_id\": \"AutoML_8fdde942-877a-4cd9-8a2f-7896b2732328_0\", \"run_number\": 1712342986, \"metric\": null, \"status\": \"Completed\", \"run_type\": null, \"training_percent\": \"100\", \"start_time\": \"2024-04-05T18:50:25.570244Z\", \"end_time\": \"2024-04-05T18:50:38.706605Z\", \"created_time\": \"2024-04-05T18:49:46.611871Z\", \"created_time_dt\": \"2024-04-05T18:49:46.611871Z\", \"duration\": \"0:00:52\", \"iteration\": \"0\", \"goal\": \"accuracy_max\", \"run_name\": \"MaxAbsScaler, LightGBM\", \"run_properties\": \"copy=True\", \"primary_metric\": 0.98851541, \"best_metric\": 0.98851541}, {\"run_id\": \"AutoML_8fdde942-877a-4cd9-8a2f-7896b2732328_1\", \"run_number\": 1712342987, \"metric\": null, \"status\": \"Completed\", \"run_type\": null, \"training_percent\": \"100\", \"start_time\": \"2024-04-05T18:50:39.354989Z\", \"end_time\": \"2024-04-05T18:50:53.487296Z\", \"created_time\": \"2024-04-05T18:49:47.122846Z\", \"created_time_dt\": \"2024-04-05T18:49:47.122846Z\", \"duration\": \"0:01:06\", \"iteration\": \"1\", \"goal\": \"accuracy_max\", \"run_name\": \"MaxAbsScaler, XGBoostClassifier\", \"run_properties\": \"copy=True\", \"primary_metric\": 0.98802444, \"best_metric\": 0.98851541}, {\"run_id\": \"AutoML_8fdde942-877a-4cd9-8a2f-7896b2732328_3\", \"run_number\": 1712342988, \"metric\": null, \"status\": \"Completed\", \"run_type\": null, \"training_percent\": \"100\", \"start_time\": \"2024-04-05T18:51:08.918613Z\", \"end_time\": \"2024-04-05T18:51:20.13332Z\", \"created_time\": \"2024-04-05T18:49:48.024637Z\", \"created_time_dt\": \"2024-04-05T18:49:48.024637Z\", \"duration\": \"0:01:32\", \"iteration\": \"3\", \"goal\": \"accuracy_max\", \"run_name\": \"SparseNormalizer, XGBoostClassifier\", \"run_properties\": \"copy=True, norm='l2'\", \"primary_metric\": 0.91724625, \"best_metric\": 0.98851541}, {\"run_id\": \"AutoML_8fdde942-877a-4cd9-8a2f-7896b2732328_6\", \"run_number\": 1712342989, \"metric\": null, \"status\": \"Completed\", \"run_type\": null, \"training_percent\": \"100\", \"start_time\": \"2024-04-05T18:51:46.514062Z\", \"end_time\": \"2024-04-05T18:51:56.818944Z\", \"created_time\": \"2024-04-05T18:49:49.270756Z\", \"created_time_dt\": \"2024-04-05T18:49:49.270756Z\", \"duration\": \"0:02:07\", \"iteration\": \"6\", \"goal\": \"accuracy_max\", \"run_name\": \"StandardScalerWrapper, XGBoostClassifier\", \"run_properties\": \"copy=True, with_mean=False, with_std=False\", \"primary_metric\": 0.97752058, \"best_metric\": 0.98851541}, {\"run_id\": \"AutoML_8fdde942-877a-4cd9-8a2f-7896b2732328_8\", \"run_number\": 1712342990, \"metric\": null, \"status\": \"Completed\", \"run_type\": null, \"training_percent\": \"100\", \"start_time\": \"2024-04-05T18:52:10.288115Z\", \"end_time\": \"2024-04-05T18:52:20.742148Z\", \"created_time\": \"2024-04-05T18:49:50.077408Z\", \"created_time_dt\": \"2024-04-05T18:49:50.077408Z\", \"duration\": \"0:02:30\", \"iteration\": \"8\", \"goal\": \"accuracy_max\", \"run_name\": \"StandardScalerWrapper, ExtremeRandomTrees\", \"run_properties\": \"copy=True, with_mean=False, with_std=False\", \"primary_metric\": 0.71071093, \"best_metric\": 0.98851541}, {\"run_id\": \"AutoML_8fdde942-877a-4cd9-8a2f-7896b2732328_11\", \"run_number\": 1712342991, \"metric\": null, \"status\": \"Completed\", \"run_type\": null, \"training_percent\": \"100\", \"start_time\": \"2024-04-05T18:52:42.596306Z\", \"end_time\": \"2024-04-05T18:52:52.464395Z\", \"created_time\": \"2024-04-05T18:49:51.25422Z\", \"created_time_dt\": \"2024-04-05T18:49:51.25422Z\", \"duration\": \"0:03:01\", \"iteration\": \"11\", \"goal\": \"accuracy_max\", \"run_name\": \"StandardScalerWrapper, XGBoostClassifier\", \"run_properties\": \"copy=True, with_mean=False, with_std=False\", \"primary_metric\": 0.97418311, \"best_metric\": 0.98851541}, {\"run_id\": \"AutoML_8fdde942-877a-4cd9-8a2f-7896b2732328_13\", \"run_number\": 1712342992, \"metric\": null, \"status\": \"Completed\", \"run_type\": null, \"training_percent\": \"100\", \"start_time\": \"2024-04-05T18:53:05.994131Z\", \"end_time\": \"2024-04-05T18:53:15.744675Z\", \"created_time\": \"2024-04-05T18:49:52.014374Z\", \"created_time_dt\": \"2024-04-05T18:49:52.014374Z\", \"duration\": \"0:03:23\", \"iteration\": \"13\", \"goal\": \"accuracy_max\", \"run_name\": \"MaxAbsScaler, SGD\", \"run_properties\": \"copy=True\", \"primary_metric\": 0.6021387, \"best_metric\": 0.98851541}, {\"run_id\": \"AutoML_8fdde942-877a-4cd9-8a2f-7896b2732328_16\", \"run_number\": 1712342993, \"metric\": null, \"status\": \"Completed\", \"run_type\": null, \"training_percent\": \"100\", \"start_time\": \"2024-04-05T18:53:43.688399Z\", \"end_time\": \"2024-04-05T18:53:53.851566Z\", \"created_time\": \"2024-04-05T18:49:53.318754Z\", \"created_time_dt\": \"2024-04-05T18:49:53.318754Z\", \"duration\": \"0:04:00\", \"iteration\": \"16\", \"goal\": \"accuracy_max\", \"run_name\": \"StandardScalerWrapper, LogisticRegression\", \"run_properties\": \"copy=True, with_mean=False, with_std=False\", \"primary_metric\": 0.72150915, \"best_metric\": 0.98851541}, {\"run_id\": \"AutoML_8fdde942-877a-4cd9-8a2f-7896b2732328_worker_0\", \"run_number\": 1712342994, \"metric\": null, \"status\": \"Completed\", \"run_type\": \"azureml.scriptrun\", \"training_percent\": null, \"start_time\": \"2024-04-05T18:50:17.262697Z\", \"end_time\": \"2024-04-05T18:55:26.938753Z\", \"created_time\": \"2024-04-05T18:49:54.685976Z\", \"created_time_dt\": \"2024-04-05T18:49:54.685976Z\", \"duration\": \"0:05:32\", \"iteration\": null, \"goal\": null, \"run_name\": \"Completed\", \"run_properties\": null}, {\"run_id\": \"AutoML_8fdde942-877a-4cd9-8a2f-7896b2732328_20\", \"run_number\": 1712343450, \"metric\": null, \"status\": \"Completed\", \"run_type\": \"azureml.scriptrun\", \"training_percent\": \"100\", \"start_time\": \"2024-04-05T18:58:01.167923Z\", \"end_time\": \"2024-04-05T18:59:29.498036Z\", \"created_time\": \"2024-04-05T18:57:30.894552Z\", \"created_time_dt\": \"2024-04-05T18:57:30.894552Z\", \"duration\": \"0:01:58\", \"iteration\": \"20\", \"goal\": \"accuracy_max\", \"run_name\": \"TruncatedSVDWrapper, RandomForest\", \"run_properties\": \"n_components=0.7026315789473684, random_state=None\", \"primary_metric\": 0.77765836, \"best_metric\": 0.98851541}, {\"run_id\": \"AutoML_8fdde942-877a-4cd9-8a2f-7896b2732328_21\", \"run_number\": 1712343570, \"metric\": null, \"status\": \"Completed\", \"run_type\": \"azureml.scriptrun\", \"training_percent\": \"100\", \"start_time\": \"2024-04-05T18:59:53.634798Z\", \"end_time\": \"2024-04-05T19:00:21.881763Z\", \"created_time\": \"2024-04-05T18:59:30.914703Z\", \"created_time_dt\": \"2024-04-05T18:59:30.914703Z\", \"duration\": \"0:00:50\", \"iteration\": \"21\", \"goal\": \"accuracy_max\", \"run_name\": \"StandardScalerWrapper, XGBoostClassifier\", \"run_properties\": \"copy=True, with_mean=False, with_std=False\", \"primary_metric\": 0.97958181, \"best_metric\": 0.98851541}, {\"run_id\": \"AutoML_8fdde942-877a-4cd9-8a2f-7896b2732328_22\", \"run_number\": 1712343623, \"metric\": null, \"status\": \"Completed\", \"run_type\": \"azureml.scriptrun\", \"training_percent\": \"100\", \"start_time\": \"2024-04-05T19:00:43.460954Z\", \"end_time\": \"2024-04-05T19:01:10.425932Z\", \"created_time\": \"2024-04-05T19:00:23.046694Z\", \"created_time_dt\": \"2024-04-05T19:00:23.046694Z\", \"duration\": \"0:00:47\", \"iteration\": \"22\", \"goal\": \"accuracy_max\", \"run_name\": \"MaxAbsScaler, LightGBM\", \"run_properties\": \"copy=True\", \"primary_metric\": 0.71090729, \"best_metric\": 0.98851541}, {\"run_id\": \"AutoML_8fdde942-877a-4cd9-8a2f-7896b2732328_23\", \"run_number\": 1712343671, \"metric\": null, \"status\": \"Completed\", \"run_type\": \"azureml.scriptrun\", \"training_percent\": \"100\", \"start_time\": \"2024-04-05T19:01:34.851254Z\", \"end_time\": \"2024-04-05T19:02:33.186887Z\", \"created_time\": \"2024-04-05T19:01:11.583385Z\", \"created_time_dt\": \"2024-04-05T19:01:11.583385Z\", \"duration\": \"0:01:21\", \"iteration\": \"23\", \"goal\": \"accuracy_max\", \"run_name\": \"StandardScalerWrapper, XGBoostClassifier\", \"run_properties\": \"copy=True, with_mean=False, with_std=False\", \"primary_metric\": 0.99067497, \"best_metric\": 0.99067497}, {\"run_id\": \"AutoML_8fdde942-877a-4cd9-8a2f-7896b2732328_24\", \"run_number\": 1712343754, \"metric\": null, \"status\": \"Completed\", \"run_type\": \"azureml.scriptrun\", \"training_percent\": \"100\", \"start_time\": \"2024-04-05T19:02:58.574287Z\", \"end_time\": \"2024-04-05T19:03:51.800051Z\", \"created_time\": \"2024-04-05T19:02:34.406986Z\", \"created_time_dt\": \"2024-04-05T19:02:34.406986Z\", \"duration\": \"0:01:17\", \"iteration\": \"24\", \"goal\": \"accuracy_max\", \"run_name\": \"StandardScalerWrapper, XGBoostClassifier\", \"run_properties\": \"copy=True, with_mean=False, with_std=False\", \"primary_metric\": 0.98576646, \"best_metric\": 0.99067497}, {\"run_id\": \"AutoML_8fdde942-877a-4cd9-8a2f-7896b2732328_25\", \"run_number\": 1712343834, \"metric\": null, \"status\": \"Completed\", \"run_type\": \"azureml.scriptrun\", \"training_percent\": \"100\", \"start_time\": \"2024-04-05T19:04:16.738061Z\", \"end_time\": \"2024-04-05T19:04:44.995962Z\", \"created_time\": \"2024-04-05T19:03:54.198423Z\", \"created_time_dt\": \"2024-04-05T19:03:54.198423Z\", \"duration\": \"0:00:50\", \"iteration\": \"25\", \"goal\": \"accuracy_max\", \"run_name\": \"TruncatedSVDWrapper, XGBoostClassifier\", \"run_properties\": \"n_components=0.01, random_state=None\", \"primary_metric\": 0.76784174, \"best_metric\": 0.99067497}, {\"run_id\": \"AutoML_8fdde942-877a-4cd9-8a2f-7896b2732328_26\", \"run_number\": 1712343886, \"metric\": null, \"status\": \"Completed\", \"run_type\": \"azureml.scriptrun\", \"training_percent\": \"100\", \"start_time\": \"2024-04-05T19:05:09.430908Z\", \"end_time\": \"2024-04-05T19:05:37.080735Z\", \"created_time\": \"2024-04-05T19:04:46.429683Z\", \"created_time_dt\": \"2024-04-05T19:04:46.429683Z\", \"duration\": \"0:00:50\", \"iteration\": \"26\", \"goal\": \"accuracy_max\", \"run_name\": \"StandardScalerWrapper, XGBoostClassifier\", \"run_properties\": \"copy=True, with_mean=False, with_std=False\", \"primary_metric\": 0.71090729, \"best_metric\": 0.99067497}, {\"run_id\": \"AutoML_8fdde942-877a-4cd9-8a2f-7896b2732328_27\", \"run_number\": 1712343938, \"metric\": null, \"status\": \"Completed\", \"run_type\": \"azureml.scriptrun\", \"training_percent\": \"100\", \"start_time\": \"2024-04-05T19:06:00.993038Z\", \"end_time\": \"2024-04-05T19:06:31.016278Z\", \"created_time\": \"2024-04-05T19:05:38.543Z\", \"created_time_dt\": \"2024-04-05T19:05:38.543Z\", \"duration\": \"0:00:52\", \"iteration\": \"27\", \"goal\": \"accuracy_max\", \"run_name\": \"StandardScalerWrapper, XGBoostClassifier\", \"run_properties\": \"copy=True, with_mean=False, with_std=False\", \"primary_metric\": 0.98890829, \"best_metric\": 0.99067497}, {\"run_id\": \"AutoML_8fdde942-877a-4cd9-8a2f-7896b2732328_28\", \"run_number\": 1712343992, \"metric\": null, \"status\": \"Completed\", \"run_type\": \"azureml.scriptrun\", \"training_percent\": \"100\", \"start_time\": \"2024-04-05T19:06:54.336549Z\", \"end_time\": \"2024-04-05T19:07:28.636199Z\", \"created_time\": \"2024-04-05T19:06:32.710994Z\", \"created_time_dt\": \"2024-04-05T19:06:32.710994Z\", \"duration\": \"0:00:55\", \"iteration\": \"28\", \"goal\": \"accuracy_max\", \"run_name\": \"SparseNormalizer, XGBoostClassifier\", \"run_properties\": \"copy=True, norm='l1'\", \"primary_metric\": 0.97496766, \"best_metric\": 0.99067497}, {\"run_id\": \"AutoML_8fdde942-877a-4cd9-8a2f-7896b2732328_29\", \"run_number\": 1712344050, \"metric\": null, \"status\": \"Completed\", \"run_type\": \"azureml.scriptrun\", \"training_percent\": \"100\", \"start_time\": \"2024-04-05T19:07:54.525991Z\", \"end_time\": \"2024-04-05T19:09:01.273631Z\", \"created_time\": \"2024-04-05T19:07:30.235167Z\", \"created_time_dt\": \"2024-04-05T19:07:30.235167Z\", \"duration\": \"0:01:31\", \"iteration\": \"29\", \"goal\": \"accuracy_max\", \"run_name\": \"StandardScalerWrapper, XGBoostClassifier\", \"run_properties\": \"copy=True, with_mean=False, with_std=False\", \"primary_metric\": 0.98851526, \"best_metric\": 0.99067497}, {\"run_id\": \"AutoML_8fdde942-877a-4cd9-8a2f-7896b2732328_30\", \"run_number\": 1712344143, \"metric\": null, \"status\": \"Completed\", \"run_type\": \"azureml.scriptrun\", \"training_percent\": \"100\", \"start_time\": \"2024-04-05T19:09:24.868818Z\", \"end_time\": \"2024-04-05T19:09:52.919664Z\", \"created_time\": \"2024-04-05T19:09:03.617942Z\", \"created_time_dt\": \"2024-04-05T19:09:03.617942Z\", \"duration\": \"0:00:49\", \"iteration\": \"30\", \"goal\": \"accuracy_max\", \"run_name\": \"SparseNormalizer, XGBoostClassifier\", \"run_properties\": \"copy=True, norm='l1'\", \"primary_metric\": 0.71071093, \"best_metric\": 0.99067497}, {\"run_id\": \"AutoML_8fdde942-877a-4cd9-8a2f-7896b2732328_31\", \"run_number\": 1712344194, \"metric\": null, \"status\": \"Completed\", \"run_type\": \"azureml.scriptrun\", \"training_percent\": \"100\", \"start_time\": \"2024-04-05T19:10:15.669981Z\", \"end_time\": \"2024-04-05T19:10:53.016598Z\", \"created_time\": \"2024-04-05T19:09:54.305525Z\", \"created_time_dt\": \"2024-04-05T19:09:54.305525Z\", \"duration\": \"0:00:58\", \"iteration\": \"31\", \"goal\": \"accuracy_max\", \"run_name\": \"StandardScalerWrapper, XGBoostClassifier\", \"run_properties\": \"copy=True, with_mean=False, with_std=False\", \"primary_metric\": 0.98979155, \"best_metric\": 0.99067497}, {\"run_id\": \"AutoML_8fdde942-877a-4cd9-8a2f-7896b2732328_32\", \"run_number\": 1712344254, \"metric\": null, \"status\": \"Completed\", \"run_type\": \"azureml.scriptrun\", \"training_percent\": \"100\", \"start_time\": \"2024-04-05T19:11:16.244263Z\", \"end_time\": \"2024-04-05T19:12:13.718691Z\", \"created_time\": \"2024-04-05T19:10:54.625826Z\", \"created_time_dt\": \"2024-04-05T19:10:54.625826Z\", \"duration\": \"0:01:19\", \"iteration\": \"32\", \"goal\": \"accuracy_max\", \"run_name\": \"StandardScalerWrapper, XGBoostClassifier\", \"run_properties\": \"copy=True, with_mean=False, with_std=False\", \"primary_metric\": 0.98017096, \"best_metric\": 0.99067497}, {\"run_id\": \"AutoML_8fdde942-877a-4cd9-8a2f-7896b2732328_33\", \"run_number\": 1712344335, \"metric\": null, \"status\": \"Completed\", \"run_type\": \"azureml.scriptrun\", \"training_percent\": \"100\", \"start_time\": \"2024-04-05T19:12:38.763907Z\", \"end_time\": \"2024-04-05T19:13:23.977286Z\", \"created_time\": \"2024-04-05T19:12:15.051674Z\", \"created_time_dt\": \"2024-04-05T19:12:15.051674Z\", \"duration\": \"0:01:08\", \"iteration\": \"33\", \"goal\": \"accuracy_max\", \"run_name\": \"StandardScalerWrapper, XGBoostClassifier\", \"run_properties\": \"copy=True, with_mean=False, with_std=False\", \"primary_metric\": 0.98498138, \"best_metric\": 0.99067497}, {\"run_id\": \"AutoML_8fdde942-877a-4cd9-8a2f-7896b2732328_34\", \"run_number\": 1712344404, \"metric\": null, \"status\": \"Completed\", \"run_type\": \"azureml.scriptrun\", \"training_percent\": \"100\", \"start_time\": \"2024-04-05T19:13:48.366164Z\", \"end_time\": \"2024-04-05T19:14:58.590742Z\", \"created_time\": \"2024-04-05T19:13:24.607629Z\", \"created_time_dt\": \"2024-04-05T19:13:24.607629Z\", \"duration\": \"0:01:33\", \"iteration\": \"34\", \"goal\": \"accuracy_max\", \"run_name\": \"VotingEnsemble\", \"run_properties\": \"classification_labels=numpy.array([0, 1]\", \"primary_metric\": 0.99106785, \"best_metric\": 0.99106785}], \"children_metrics\": {\"categories\": [0], \"series\": {\"norm_macro_recall\": [{\"categories\": [\"0\", \"1\", \"3\", \"6\", \"8\", \"11\", \"13\", \"16\", \"20\", \"21\", \"22\", \"23\", \"24\", \"25\", \"26\", \"27\", \"28\", \"29\", \"30\", \"31\", \"32\", \"33\", \"34\"], \"mode\": \"markers\", \"name\": \"norm_macro_recall\", \"stepped\": false, \"type\": \"scatter\", \"data\": [0.9722735673143955, 0.9715510239366161, 0.7461682367922113, 0.936431583548492, 0.0, 0.926153407363968, 0.22187254175524468, 0.11394641507642436, 0.44968126555219384, 0.9444334738575819, 0.0007042253521126973, 0.9771138155689005, 0.9659220546686665, 0.3294274536995824, 0.003470213889536744, 0.9728794732499786, 0.9327374818841238, 0.9736175801431599, 0.0, 0.9746321749934221, 0.9413157015655088, 0.9637933632777843, 0.9778754709410894]}, {\"categories\": [\"0\", \"1\", \"3\", \"6\", \"8\", \"11\", \"13\", \"16\", \"20\", \"21\", \"22\", \"23\", \"24\", \"25\", \"26\", \"27\", \"28\", \"29\", \"30\", \"31\", \"32\", \"33\", \"34\"], \"mode\": \"lines\", \"name\": \"norm_macro_recall_max\", \"stepped\": true, \"type\": \"scatter\", \"data\": [0.9722735673143955, 0.9722735673143955, 0.9722735673143955, 0.9722735673143955, 0.9722735673143955, 0.9722735673143955, 0.9722735673143955, 0.9722735673143955, 0.9722735673143955, 0.9722735673143955, 0.9722735673143955, 0.9771138155689005, 0.9771138155689005, 0.9771138155689005, 0.9771138155689005, 0.9771138155689005, 0.9771138155689005, 0.9771138155689005, 0.9771138155689005, 0.9771138155689005, 0.9771138155689005, 0.9771138155689005, 0.9778754709410894]}], \"precision_score_macro\": [{\"categories\": [\"0\", \"1\", \"3\", \"6\", \"8\", \"11\", \"13\", \"16\", \"20\", \"21\", \"22\", \"23\", \"24\", \"25\", \"26\", \"27\", \"28\", \"29\", \"30\", \"31\", \"32\", \"33\", \"34\"], \"mode\": \"markers\", \"name\": \"precision_score_macro\", \"stepped\": false, \"type\": \"scatter\", \"data\": [0.9860226652931141, 0.9851781420852896, 0.9234266555981143, 0.9768942344028051, 0.3553554627034793, 0.9738980599027972, 0.5935747272515739, 0.6520275719504761, 0.7299147564402018, 0.9777598926360334, 0.45542633823827233, 0.988827268484102, 0.982485420731091, 0.7248341190779577, 0.5785354552788526, 0.9866700956494837, 0.9724687455075574, 0.9853693631205449, 0.3553554627034793, 0.9879189920590971, 0.9810039868601128, 0.9816254756625563, 0.9894051132027561]}, {\"categories\": [\"0\", \"1\", \"3\", \"6\", \"8\", \"11\", \"13\", \"16\", \"20\", \"21\", \"22\", \"23\", \"24\", \"25\", \"26\", \"27\", \"28\", \"29\", \"30\", \"31\", \"32\", \"33\", \"34\"], \"mode\": \"lines\", \"name\": \"precision_score_macro_max\", \"stepped\": true, \"type\": \"scatter\", \"data\": [0.9860226652931141, 0.9860226652931141, 0.9860226652931141, 0.9860226652931141, 0.9860226652931141, 0.9860226652931141, 0.9860226652931141, 0.9860226652931141, 0.9860226652931141, 0.9860226652931141, 0.9860226652931141, 0.988827268484102, 0.988827268484102, 0.988827268484102, 0.988827268484102, 0.988827268484102, 0.988827268484102, 0.988827268484102, 0.988827268484102, 0.988827268484102, 0.988827268484102, 0.988827268484102, 0.9894051132027561]}], \"average_precision_score_weighted\": [{\"categories\": [\"0\", \"1\", \"3\", \"6\", \"8\", \"11\", \"13\", \"16\", \"20\", \"21\", \"22\", \"23\", \"24\", \"25\", \"26\", \"27\", \"28\", \"29\", \"30\", \"31\", \"32\", \"33\", \"34\"], \"mode\": \"markers\", \"name\": \"average_precision_score_weighted\", \"stepped\": false, \"type\": \"scatter\", \"data\": [0.9992393112073856, 0.9991932124503355, 0.9798389811991459, 0.9968526192088489, 0.7998117072190339, 0.9977766519203722, 0.7054929457874525, 0.6837824777023624, 0.8492656302419361, 0.9980024792820805, 0.9048746095481748, 0.9996266528942505, 0.9991394668037579, 0.8208420374710634, 0.7898558253404907, 0.9993615564934186, 0.9974485350744603, 0.9994381833184667, 0.5888811295319246, 0.9994984134562259, 0.9984571401645702, 0.998968588855287, 0.9995067369195348]}, {\"categories\": [\"0\", \"1\", \"3\", \"6\", \"8\", \"11\", \"13\", \"16\", \"20\", \"21\", \"22\", \"23\", \"24\", \"25\", \"26\", \"27\", \"28\", \"29\", \"30\", \"31\", \"32\", \"33\", \"34\"], \"mode\": \"lines\", \"name\": \"average_precision_score_weighted_max\", \"stepped\": true, \"type\": \"scatter\", \"data\": [0.9992393112073856, 0.9992393112073856, 0.9992393112073856, 0.9992393112073856, 0.9992393112073856, 0.9992393112073856, 0.9992393112073856, 0.9992393112073856, 0.9992393112073856, 0.9992393112073856, 0.9992393112073856, 0.9996266528942505, 0.9996266528942505, 0.9996266528942505, 0.9996266528942505, 0.9996266528942505, 0.9996266528942505, 0.9996266528942505, 0.9996266528942505, 0.9996266528942505, 0.9996266528942505, 0.9996266528942505, 0.9996266528942505]}], \"AUC_weighted\": [{\"categories\": [\"0\", \"1\", \"3\", \"6\", \"8\", \"11\", \"13\", \"16\", \"20\", \"21\", \"22\", \"23\", \"24\", \"25\", \"26\", \"27\", \"28\", \"29\", \"30\", \"31\", \"32\", \"33\", \"34\"], \"mode\": \"markers\", \"name\": \"AUC_weighted\", \"stepped\": false, \"type\": \"scatter\", \"data\": [0.9992244569899761, 0.9991699343488557, 0.9791794946525233, 0.9971179770971265, 0.7807307362451515, 0.9977221954442749, 0.6597307084207932, 0.6299075218778759, 0.8211143160320145, 0.9979966149262051, 0.8915828326602485, 0.9996226990631142, 0.9991183515613024, 0.7964690946361458, 0.7628966404245453, 0.9993504853461795, 0.9973463896277348, 0.9994279144479858, 0.5, 0.9994905773121303, 0.9984206368596563, 0.9989411029751164, 0.9994989604889313]}, {\"categories\": [\"0\", \"1\", \"3\", \"6\", \"8\", \"11\", \"13\", \"16\", \"20\", \"21\", \"22\", \"23\", \"24\", \"25\", \"26\", \"27\", \"28\", \"29\", \"30\", \"31\", \"32\", \"33\", \"34\"], \"mode\": \"lines\", \"name\": \"AUC_weighted_max\", \"stepped\": true, \"type\": \"scatter\", \"data\": [0.9992244569899761, 0.9992244569899761, 0.9992244569899761, 0.9992244569899761, 0.9992244569899761, 0.9992244569899761, 0.9992244569899761, 0.9992244569899761, 0.9992244569899761, 0.9992244569899761, 0.9992244569899761, 0.9996226990631142, 0.9996226990631142, 0.9996226990631142, 0.9996226990631142, 0.9996226990631142, 0.9996226990631142, 0.9996226990631142, 0.9996226990631142, 0.9996226990631142, 0.9996226990631142, 0.9996226990631142, 0.9996226990631142]}], \"precision_score_weighted\": [{\"categories\": [\"0\", \"1\", \"3\", \"6\", \"8\", \"11\", \"13\", \"16\", \"20\", \"21\", \"22\", \"23\", \"24\", \"25\", \"26\", \"27\", \"28\", \"29\", \"30\", \"31\", \"32\", \"33\", \"34\"], \"mode\": \"markers\", \"name\": \"precision_score_weighted\", \"stepped\": false, \"type\": \"scatter\", \"data\": [0.988547280654992, 0.9880565527472971, 0.9186927112913216, 0.9775272428778574, 0.5051514901729208, 0.9742038538986246, 0.6802457088371222, 0.6876149309813895, 0.7760782567558957, 0.9795379096197333, 0.5610220018671879, 0.9906806366432788, 0.9857932213510997, 0.7540972602526985, 0.6334116329398342, 0.9889141956626382, 0.9749017256506491, 0.9885515230892408, 0.5051514901729208, 0.9897916868159978, 0.9802178601110192, 0.9849951664982731, 0.9910664272402496]}, {\"categories\": [\"0\", \"1\", \"3\", \"6\", \"8\", \"11\", \"13\", \"16\", \"20\", \"21\", \"22\", \"23\", \"24\", \"25\", \"26\", \"27\", \"28\", \"29\", \"30\", \"31\", \"32\", \"33\", \"34\"], \"mode\": \"lines\", \"name\": \"precision_score_weighted_max\", \"stepped\": true, \"type\": \"scatter\", \"data\": [0.988547280654992, 0.988547280654992, 0.988547280654992, 0.988547280654992, 0.988547280654992, 0.988547280654992, 0.988547280654992, 0.988547280654992, 0.988547280654992, 0.988547280654992, 0.988547280654992, 0.9906806366432788, 0.9906806366432788, 0.9906806366432788, 0.9906806366432788, 0.9906806366432788, 0.9906806366432788, 0.9906806366432788, 0.9906806366432788, 0.9906806366432788, 0.9906806366432788, 0.9906806366432788, 0.9910664272402496]}], \"recall_score_macro\": [{\"categories\": [\"0\", \"1\", \"3\", \"6\", \"8\", \"11\", \"13\", \"16\", \"20\", \"21\", \"22\", \"23\", \"24\", \"25\", \"26\", \"27\", \"28\", \"29\", \"30\", \"31\", \"32\", \"33\", \"34\"], \"mode\": \"markers\", \"name\": \"recall_score_macro\", \"stepped\": false, \"type\": \"scatter\", \"data\": [0.9861367836571977, 0.985775511968308, 0.8730841183961058, 0.968215791774246, 0.5, 0.9630767036819841, 0.6109362708776224, 0.5569732075382122, 0.724840632776097, 0.972216736928791, 0.5003521126760564, 0.9885569077844505, 0.9829610273343332, 0.6647137268497912, 0.5017351069447684, 0.9864397366249893, 0.9663687409420619, 0.98680879007158, 0.5, 0.9873160874967113, 0.9706578507827544, 0.9818966816388922, 0.9889377354705449]}, {\"categories\": [\"0\", \"1\", \"3\", \"6\", \"8\", \"11\", \"13\", \"16\", \"20\", \"21\", \"22\", \"23\", \"24\", \"25\", \"26\", \"27\", \"28\", \"29\", \"30\", \"31\", \"32\", \"33\", \"34\"], \"mode\": \"lines\", \"name\": \"recall_score_macro_max\", \"stepped\": true, \"type\": \"scatter\", \"data\": [0.9861367836571977, 0.9861367836571977, 0.9861367836571977, 0.9861367836571977, 0.9861367836571977, 0.9861367836571977, 0.9861367836571977, 0.9861367836571977, 0.9861367836571977, 0.9861367836571977, 0.9861367836571977, 0.9885569077844505, 0.9885569077844505, 0.9885569077844505, 0.9885569077844505, 0.9885569077844505, 0.9885569077844505, 0.9885569077844505, 0.9885569077844505, 0.9885569077844505, 0.9885569077844505, 0.9885569077844505, 0.9889377354705449]}], \"average_precision_score_micro\": [{\"categories\": [\"0\", \"1\", \"3\", \"6\", \"8\", \"11\", \"13\", \"16\", \"20\", \"21\", \"22\", \"23\", \"24\", \"25\", \"26\", \"27\", \"28\", \"29\", \"30\", \"31\", \"32\", \"33\", \"34\"], \"mode\": \"markers\", \"name\": \"average_precision_score_micro\", \"stepped\": false, \"type\": \"scatter\", \"data\": [0.9993601811480873, 0.9993276107886853, 0.9774222946929418, 0.9973162267073313, 0.8270910607759381, 0.9979167727044841, 0.6554397410149798, 0.7393961156944517, 0.8624877121245044, 0.9982219904530713, 0.8729278115545158, 0.9996787823334123, 0.999286528660883, 0.8500029423224429, 0.8204756945922271, 0.9994681221127418, 0.9978188604353793, 0.9995283914252404, 0.6497960274694415, 0.999570005600351, 0.9984820670645005, 0.9991290190115576, 0.999582413888724]}, {\"categories\": [\"0\", \"1\", \"3\", \"6\", \"8\", \"11\", \"13\", \"16\", \"20\", \"21\", \"22\", \"23\", \"24\", \"25\", \"26\", \"27\", \"28\", \"29\", \"30\", \"31\", \"32\", \"33\", \"34\"], \"mode\": \"lines\", \"name\": \"average_precision_score_micro_max\", \"stepped\": true, \"type\": \"scatter\", \"data\": [0.9993601811480873, 0.9993601811480873, 0.9993601811480873, 0.9993601811480873, 0.9993601811480873, 0.9993601811480873, 0.9993601811480873, 0.9993601811480873, 0.9993601811480873, 0.9993601811480873, 0.9993601811480873, 0.9996787823334123, 0.9996787823334123, 0.9996787823334123, 0.9996787823334123, 0.9996787823334123, 0.9996787823334123, 0.9996787823334123, 0.9996787823334123, 0.9996787823334123, 0.9996787823334123, 0.9996787823334123, 0.9996787823334123]}], \"f1_score_macro\": [{\"categories\": [\"0\", \"1\", \"3\", \"6\", \"8\", \"11\", \"13\", \"16\", \"20\", \"21\", \"22\", \"23\", \"24\", \"25\", \"26\", \"27\", \"28\", \"29\", \"30\", \"31\", \"32\", \"33\", \"34\"], \"mode\": \"markers\", \"name\": \"f1_score_macro\", \"stepped\": false, \"type\": \"scatter\", \"data\": [0.9860565306346583, 0.9854589719859821, 0.8932840095555477, 0.9723960469758337, 0.4154394335490106, 0.9682582870828831, 0.576811248875629, 0.5419608682625751, 0.7267957512864482, 0.9749134634310337, 0.41618901852936424, 0.9886841928763037, 0.9827113627883639, 0.6792363939547873, 0.4204489027222057, 0.9865439737980768, 0.9693449995294943, 0.9860759422353491, 0.4154394335490106, 0.9876126143594934, 0.9756416840870875, 0.9817568443240875, 0.9891671348063987]}, {\"categories\": [\"0\", \"1\", \"3\", \"6\", \"8\", \"11\", \"13\", \"16\", \"20\", \"21\", \"22\", \"23\", \"24\", \"25\", \"26\", \"27\", \"28\", \"29\", \"30\", \"31\", \"32\", \"33\", \"34\"], \"mode\": \"lines\", \"name\": \"f1_score_macro_max\", \"stepped\": true, \"type\": \"scatter\", \"data\": [0.9860565306346583, 0.9860565306346583, 0.9860565306346583, 0.9860565306346583, 0.9860565306346583, 0.9860565306346583, 0.9860565306346583, 0.9860565306346583, 0.9860565306346583, 0.9860565306346583, 0.9860565306346583, 0.9886841928763037, 0.9886841928763037, 0.9886841928763037, 0.9886841928763037, 0.9886841928763037, 0.9886841928763037, 0.9886841928763037, 0.9886841928763037, 0.9886841928763037, 0.9886841928763037, 0.9886841928763037, 0.9891671348063987]}], \"log_loss\": [{\"categories\": [\"0\", \"1\", \"3\", \"6\", \"8\", \"11\", \"13\", \"16\", \"20\", \"21\", \"22\", \"23\", \"24\", \"25\", \"26\", \"27\", \"28\", \"29\", \"30\", \"31\", \"32\", \"33\", \"34\"], \"mode\": \"markers\", \"name\": \"log_loss\", \"stepped\": false, \"type\": \"scatter\", \"data\": [0.04392200007555409, 0.038934941199162, 0.641633037050598, 0.15949682383479696, 0.5636819563831601, 0.14461722382992245, 0.7182527188699683, 0.5899129562716279, 0.6212941044396187, 0.12429441019993656, 0.5123172095026004, 0.04496376147036625, 0.034873668751616245, 0.4808221200280052, 0.5483568738686373, 0.03679880944144899, 0.0716541873106081, 0.031181113563370593, 0.6015889034853592, 0.0425644406821988, 0.3410884485417579, 0.03875466656817025, 0.24308367835059208]}, {\"categories\": [\"0\", \"1\", \"3\", \"6\", \"8\", \"11\", \"13\", \"16\", \"20\", \"21\", \"22\", \"23\", \"24\", \"25\", \"26\", \"27\", \"28\", \"29\", \"30\", \"31\", \"32\", \"33\", \"34\"], \"mode\": \"lines\", \"name\": \"log_loss_min\", \"stepped\": true, \"type\": \"scatter\", \"data\": [0.04392200007555409, 0.038934941199162, 0.038934941199162, 0.038934941199162, 0.038934941199162, 0.038934941199162, 0.038934941199162, 0.038934941199162, 0.038934941199162, 0.038934941199162, 0.038934941199162, 0.038934941199162, 0.034873668751616245, 0.034873668751616245, 0.034873668751616245, 0.034873668751616245, 0.034873668751616245, 0.031181113563370593, 0.031181113563370593, 0.031181113563370593, 0.031181113563370593, 0.031181113563370593, 0.031181113563370593]}], \"AUC_micro\": [{\"categories\": [\"0\", \"1\", \"3\", \"6\", \"8\", \"11\", \"13\", \"16\", \"20\", \"21\", \"22\", \"23\", \"24\", \"25\", \"26\", \"27\", \"28\", \"29\", \"30\", \"31\", \"32\", \"33\", \"34\"], \"mode\": \"markers\", \"name\": \"AUC_micro\", \"stepped\": false, \"type\": \"scatter\", \"data\": [0.9993509408251672, 0.9993174406681261, 0.9765962388703862, 0.9972641884970781, 0.8260818373730127, 0.9978731665401834, 0.6547553307928584, 0.7643374613225169, 0.862245421095956, 0.998184358963727, 0.8717323073220383, 0.9996755631892033, 0.999276258193088, 0.8496329971152834, 0.8189109698690397, 0.9994609769359102, 0.997771027194737, 0.9995227391984303, 0.7107109254069586, 0.9995647959431226, 0.9984526842968664, 0.9991157071009074, 0.9995769831911737]}, {\"categories\": [\"0\", \"1\", \"3\", \"6\", \"8\", \"11\", \"13\", \"16\", \"20\", \"21\", \"22\", \"23\", \"24\", \"25\", \"26\", \"27\", \"28\", \"29\", \"30\", \"31\", \"32\", \"33\", \"34\"], \"mode\": \"lines\", \"name\": \"AUC_micro_max\", \"stepped\": true, \"type\": \"scatter\", \"data\": [0.9993509408251672, 0.9993509408251672, 0.9993509408251672, 0.9993509408251672, 0.9993509408251672, 0.9993509408251672, 0.9993509408251672, 0.9993509408251672, 0.9993509408251672, 0.9993509408251672, 0.9993509408251672, 0.9996755631892033, 0.9996755631892033, 0.9996755631892033, 0.9996755631892033, 0.9996755631892033, 0.9996755631892033, 0.9996755631892033, 0.9996755631892033, 0.9996755631892033, 0.9996755631892033, 0.9996755631892033, 0.9996755631892033]}], \"recall_score_micro\": [{\"categories\": [\"0\", \"1\", \"3\", \"6\", \"8\", \"11\", \"13\", \"16\", \"20\", \"21\", \"22\", \"23\", \"24\", \"25\", \"26\", \"27\", \"28\", \"29\", \"30\", \"31\", \"32\", \"33\", \"34\"], \"mode\": \"markers\", \"name\": \"recall_score_micro\", \"stepped\": false, \"type\": \"scatter\", \"data\": [0.9885154089963738, 0.9880244428032334, 0.9172462534379917, 0.9775205797746596, 0.7107109254069586, 0.9741831080843454, 0.6021386971064743, 0.7215091465397506, 0.7776583644191871, 0.9795818091509239, 0.7109072926136351, 0.9906749665053237, 0.9857664608086996, 0.7678417384375317, 0.7109072926136351, 0.9889082879390741, 0.9749676615585179, 0.9885152644670263, 0.7107109254069586, 0.9897915549575252, 0.9801709589474024, 0.9849813773935867, 0.9910678454480241]}, {\"categories\": [\"0\", \"1\", \"3\", \"6\", \"8\", \"11\", \"13\", \"16\", \"20\", \"21\", \"22\", \"23\", \"24\", \"25\", \"26\", \"27\", \"28\", \"29\", \"30\", \"31\", \"32\", \"33\", \"34\"], \"mode\": \"lines\", \"name\": \"recall_score_micro_max\", \"stepped\": true, \"type\": \"scatter\", \"data\": [0.9885154089963738, 0.9885154089963738, 0.9885154089963738, 0.9885154089963738, 0.9885154089963738, 0.9885154089963738, 0.9885154089963738, 0.9885154089963738, 0.9885154089963738, 0.9885154089963738, 0.9885154089963738, 0.9906749665053237, 0.9906749665053237, 0.9906749665053237, 0.9906749665053237, 0.9906749665053237, 0.9906749665053237, 0.9906749665053237, 0.9906749665053237, 0.9906749665053237, 0.9906749665053237, 0.9906749665053237, 0.9910678454480241]}], \"weighted_accuracy\": [{\"categories\": [\"0\", \"1\", \"3\", \"6\", \"8\", \"11\", \"13\", \"16\", \"20\", \"21\", \"22\", \"23\", \"24\", \"25\", \"26\", \"27\", \"28\", \"29\", \"30\", \"31\", \"32\", \"33\", \"34\"], \"mode\": \"markers\", \"name\": \"weighted_accuracy\", \"stepped\": false, \"type\": \"scatter\", \"data\": [0.9901902388103423, 0.9896043713518786, 0.9479643118426313, 0.9839879942664286, 0.8577453499534803, 0.9819143696037351, 0.595947686483005, 0.8364147485335988, 0.8145468243977954, 0.984680869326563, 0.8578369412515008, 0.9921651242468161, 0.9877289591545525, 0.83990342334891, 0.8569001946278758, 0.990652342954065, 0.9809606733659011, 0.9897098707436071, 0.8577453499534803, 0.9915250202050023, 0.9868072880657295, 0.9871346920966182, 0.9925665920835985]}, {\"categories\": [\"0\", \"1\", \"3\", \"6\", \"8\", \"11\", \"13\", \"16\", \"20\", \"21\", \"22\", \"23\", \"24\", \"25\", \"26\", \"27\", \"28\", \"29\", \"30\", \"31\", \"32\", \"33\", \"34\"], \"mode\": \"lines\", \"name\": \"weighted_accuracy_max\", \"stepped\": true, \"type\": \"scatter\", \"data\": [0.9901902388103423, 0.9901902388103423, 0.9901902388103423, 0.9901902388103423, 0.9901902388103423, 0.9901902388103423, 0.9901902388103423, 0.9901902388103423, 0.9901902388103423, 0.9901902388103423, 0.9901902388103423, 0.9921651242468161, 0.9921651242468161, 0.9921651242468161, 0.9921651242468161, 0.9921651242468161, 0.9921651242468161, 0.9921651242468161, 0.9921651242468161, 0.9921651242468161, 0.9921651242468161, 0.9921651242468161, 0.9925665920835985]}], \"f1_score_weighted\": [{\"categories\": [\"0\", \"1\", \"3\", \"6\", \"8\", \"11\", \"13\", \"16\", \"20\", \"21\", \"22\", \"23\", \"24\", \"25\", \"26\", \"27\", \"28\", \"29\", \"30\", \"31\", \"32\", \"33\", \"34\"], \"mode\": \"markers\", \"name\": \"f1_score_weighted\", \"stepped\": false, \"type\": \"scatter\", \"data\": [0.9885154002887271, 0.9880282606645678, 0.9146259130086711, 0.9774145292888269, 0.5905429837158958, 0.9740358321670479, 0.6184390238053422, 0.662636726620519, 0.7764504510160327, 0.979508923710673, 0.5910033269995336, 0.9906723599155771, 0.9857715508337167, 0.7502140063526047, 0.5932927746870641, 0.9889037204708092, 0.9748833881406735, 0.9885243067018878, 0.5905429837158958, 0.9897882252829898, 0.9800631292401208, 0.9849853338671715, 0.9910641633467365]}, {\"categories\": [\"0\", \"1\", \"3\", \"6\", \"8\", \"11\", \"13\", \"16\", \"20\", \"21\", \"22\", \"23\", \"24\", \"25\", \"26\", \"27\", \"28\", \"29\", \"30\", \"31\", \"32\", \"33\", \"34\"], \"mode\": \"lines\", \"name\": \"f1_score_weighted_max\", \"stepped\": true, \"type\": \"scatter\", \"data\": [0.9885154002887271, 0.9885154002887271, 0.9885154002887271, 0.9885154002887271, 0.9885154002887271, 0.9885154002887271, 0.9885154002887271, 0.9885154002887271, 0.9885154002887271, 0.9885154002887271, 0.9885154002887271, 0.9906723599155771, 0.9906723599155771, 0.9906723599155771, 0.9906723599155771, 0.9906723599155771, 0.9906723599155771, 0.9906723599155771, 0.9906723599155771, 0.9906723599155771, 0.9906723599155771, 0.9906723599155771, 0.9910641633467365]}], \"average_precision_score_macro\": [{\"categories\": [\"0\", \"1\", \"3\", \"6\", \"8\", \"11\", \"13\", \"16\", \"20\", \"21\", \"22\", \"23\", \"24\", \"25\", \"26\", \"27\", \"28\", \"29\", \"30\", \"31\", \"32\", \"33\", \"34\"], \"mode\": \"markers\", \"name\": \"average_precision_score_macro\", \"stepped\": false, \"type\": \"scatter\", \"data\": [0.9989186072924847, 0.9988521554138415, 0.9713437025778913, 0.9953533921046469, 0.7323909108298541, 0.9968254687434562, 0.6209527713379099, 0.6084037456798046, 0.8037099162247816, 0.9971038837526827, 0.8786452240020968, 0.9994696272639214, 0.9987759779947705, 0.7606631619192477, 0.7193794630027757, 0.9990896307391859, 0.9963690376902286, 0.9991995378061196, 0.5, 0.9992869314448957, 0.9978031772560426, 0.9985315180082619, 0.9992980101744549]}, {\"categories\": [\"0\", \"1\", \"3\", \"6\", \"8\", \"11\", \"13\", \"16\", \"20\", \"21\", \"22\", \"23\", \"24\", \"25\", \"26\", \"27\", \"28\", \"29\", \"30\", \"31\", \"32\", \"33\", \"34\"], \"mode\": \"lines\", \"name\": \"average_precision_score_macro_max\", \"stepped\": true, \"type\": \"scatter\", \"data\": [0.9989186072924847, 0.9989186072924847, 0.9989186072924847, 0.9989186072924847, 0.9989186072924847, 0.9989186072924847, 0.9989186072924847, 0.9989186072924847, 0.9989186072924847, 0.9989186072924847, 0.9989186072924847, 0.9994696272639214, 0.9994696272639214, 0.9994696272639214, 0.9994696272639214, 0.9994696272639214, 0.9994696272639214, 0.9994696272639214, 0.9994696272639214, 0.9994696272639214, 0.9994696272639214, 0.9994696272639214, 0.9994696272639214]}], \"accuracy\": [{\"categories\": [\"0\", \"1\", \"3\", \"6\", \"8\", \"11\", \"13\", \"16\", \"20\", \"21\", \"22\", \"23\", \"24\", \"25\", \"26\", \"27\", \"28\", \"29\", \"30\", \"31\", \"32\", \"33\", \"34\"], \"mode\": \"markers\", \"name\": \"accuracy\", \"stepped\": false, \"type\": \"scatter\", \"data\": [0.9885154089963738, 0.9880244428032334, 0.9172462534379917, 0.9775205797746596, 0.7107109254069586, 0.9741831080843454, 0.6021386971064743, 0.7215091465397506, 0.7776583644191871, 0.9795818091509239, 0.7109072926136351, 0.9906749665053237, 0.9857664608086996, 0.7678417384375317, 0.7109072926136351, 0.9889082879390741, 0.9749676615585179, 0.9885152644670263, 0.7107109254069586, 0.9897915549575252, 0.9801709589474024, 0.9849813773935867, 0.9910678454480241]}, {\"categories\": [\"0\", \"1\", \"3\", \"6\", \"8\", \"11\", \"13\", \"16\", \"20\", \"21\", \"22\", \"23\", \"24\", \"25\", \"26\", \"27\", \"28\", \"29\", \"30\", \"31\", \"32\", \"33\", \"34\"], \"mode\": \"lines\", \"name\": \"accuracy_max\", \"stepped\": true, \"type\": \"scatter\", \"data\": [0.9885154089963738, 0.9885154089963738, 0.9885154089963738, 0.9885154089963738, 0.9885154089963738, 0.9885154089963738, 0.9885154089963738, 0.9885154089963738, 0.9885154089963738, 0.9885154089963738, 0.9885154089963738, 0.9906749665053237, 0.9906749665053237, 0.9906749665053237, 0.9906749665053237, 0.9906749665053237, 0.9906749665053237, 0.9906749665053237, 0.9906749665053237, 0.9906749665053237, 0.9906749665053237, 0.9906749665053237, 0.9910678454480241]}], \"matthews_correlation\": [{\"categories\": [\"0\", \"1\", \"3\", \"6\", \"8\", \"11\", \"13\", \"16\", \"20\", \"21\", \"22\", \"23\", \"24\", \"25\", \"26\", \"27\", \"28\", \"29\", \"30\", \"31\", \"32\", \"33\", \"34\"], \"mode\": \"markers\", \"name\": \"matthews_correlation\", \"stepped\": false, \"type\": \"scatter\", \"data\": [0.9721522294279117, 0.9709480788588956, 0.794729227448795, 0.9450597062649895, 0.0, 0.9369019939344503, 0.20376570321948825, 0.18538318758328745, 0.45460876043117393, 0.9499525266382154, 0.010083226357874241, 0.9773817262152477, 0.9654429187615822, 0.3846533439894858, 0.02553883434403953, 0.9731064343276536, 0.938814957025496, 0.9721741441752622, 0.0, 0.9752335471030318, 0.951602957338236, 0.9635208701122064, 0.9783415340168009]}, {\"categories\": [\"0\", \"1\", \"3\", \"6\", \"8\", \"11\", \"13\", \"16\", \"20\", \"21\", \"22\", \"23\", \"24\", \"25\", \"26\", \"27\", \"28\", \"29\", \"30\", \"31\", \"32\", \"33\", \"34\"], \"mode\": \"lines\", \"name\": \"matthews_correlation_max\", \"stepped\": true, \"type\": \"scatter\", \"data\": [0.9721522294279117, 0.9721522294279117, 0.9721522294279117, 0.9721522294279117, 0.9721522294279117, 0.9721522294279117, 0.9721522294279117, 0.9721522294279117, 0.9721522294279117, 0.9721522294279117, 0.9721522294279117, 0.9773817262152477, 0.9773817262152477, 0.9773817262152477, 0.9773817262152477, 0.9773817262152477, 0.9773817262152477, 0.9773817262152477, 0.9773817262152477, 0.9773817262152477, 0.9773817262152477, 0.9773817262152477, 0.9783415340168009]}], \"AUC_macro\": [{\"categories\": [\"0\", \"1\", \"3\", \"6\", \"8\", \"11\", \"13\", \"16\", \"20\", \"21\", \"22\", \"23\", \"24\", \"25\", \"26\", \"27\", \"28\", \"29\", \"30\", \"31\", \"32\", \"33\", \"34\"], \"mode\": \"markers\", \"name\": \"AUC_macro\", \"stepped\": false, \"type\": \"scatter\", \"data\": [0.9992244569899761, 0.9991699343488557, 0.9791794946525231, 0.9971179770971267, 0.7807307362451518, 0.9977221954442749, 0.6597307084207932, 0.6299075218778759, 0.8211143160320145, 0.9979966149262051, 0.8915828326602485, 0.9996226990631142, 0.9991183515613024, 0.7964690946361458, 0.7628966404245453, 0.9993504853461795, 0.997346389627735, 0.9994279144479856, 0.5, 0.9994905773121303, 0.9984206368596562, 0.9989411029751164, 0.9994989604889313]}, {\"categories\": [\"0\", \"1\", \"3\", \"6\", \"8\", \"11\", \"13\", \"16\", \"20\", \"21\", \"22\", \"23\", \"24\", \"25\", \"26\", \"27\", \"28\", \"29\", \"30\", \"31\", \"32\", \"33\", \"34\"], \"mode\": \"lines\", \"name\": \"AUC_macro_max\", \"stepped\": true, \"type\": \"scatter\", \"data\": [0.9992244569899761, 0.9992244569899761, 0.9992244569899761, 0.9992244569899761, 0.9992244569899761, 0.9992244569899761, 0.9992244569899761, 0.9992244569899761, 0.9992244569899761, 0.9992244569899761, 0.9992244569899761, 0.9996226990631142, 0.9996226990631142, 0.9996226990631142, 0.9996226990631142, 0.9996226990631142, 0.9996226990631142, 0.9996226990631142, 0.9996226990631142, 0.9996226990631142, 0.9996226990631142, 0.9996226990631142, 0.9996226990631142]}], \"balanced_accuracy\": [{\"categories\": [\"0\", \"1\", \"3\", \"6\", \"8\", \"11\", \"13\", \"16\", \"20\", \"21\", \"22\", \"23\", \"24\", \"25\", \"26\", \"27\", \"28\", \"29\", \"30\", \"31\", \"32\", \"33\", \"34\"], \"mode\": \"markers\", \"name\": \"balanced_accuracy\", \"stepped\": false, \"type\": \"scatter\", \"data\": [0.9861367836571977, 0.985775511968308, 0.8730841183961058, 0.968215791774246, 0.5, 0.9630767036819841, 0.6109362708776224, 0.5569732075382122, 0.724840632776097, 0.972216736928791, 0.5003521126760564, 0.9885569077844505, 0.9829610273343332, 0.6647137268497912, 0.5017351069447684, 0.9864397366249893, 0.9663687409420619, 0.98680879007158, 0.5, 0.9873160874967113, 0.9706578507827544, 0.9818966816388922, 0.9889377354705449]}, {\"categories\": [\"0\", \"1\", \"3\", \"6\", \"8\", \"11\", \"13\", \"16\", \"20\", \"21\", \"22\", \"23\", \"24\", \"25\", \"26\", \"27\", \"28\", \"29\", \"30\", \"31\", \"32\", \"33\", \"34\"], \"mode\": \"lines\", \"name\": \"balanced_accuracy_max\", \"stepped\": true, \"type\": \"scatter\", \"data\": [0.9861367836571977, 0.9861367836571977, 0.9861367836571977, 0.9861367836571977, 0.9861367836571977, 0.9861367836571977, 0.9861367836571977, 0.9861367836571977, 0.9861367836571977, 0.9861367836571977, 0.9861367836571977, 0.9885569077844505, 0.9885569077844505, 0.9885569077844505, 0.9885569077844505, 0.9885569077844505, 0.9885569077844505, 0.9885569077844505, 0.9885569077844505, 0.9885569077844505, 0.9885569077844505, 0.9885569077844505, 0.9889377354705449]}], \"precision_score_micro\": [{\"categories\": [\"0\", \"1\", \"3\", \"6\", \"8\", \"11\", \"13\", \"16\", \"20\", \"21\", \"22\", \"23\", \"24\", \"25\", \"26\", \"27\", \"28\", \"29\", \"30\", \"31\", \"32\", \"33\", \"34\"], \"mode\": \"markers\", \"name\": \"precision_score_micro\", \"stepped\": false, \"type\": \"scatter\", \"data\": [0.9885154089963738, 0.9880244428032334, 0.9172462534379917, 0.9775205797746596, 0.7107109254069586, 0.9741831080843454, 0.6021386971064743, 0.7215091465397506, 0.7776583644191871, 0.9795818091509239, 0.7109072926136351, 0.9906749665053237, 0.9857664608086996, 0.7678417384375317, 0.7109072926136351, 0.9889082879390741, 0.9749676615585179, 0.9885152644670263, 0.7107109254069586, 0.9897915549575252, 0.9801709589474024, 0.9849813773935867, 0.9910678454480241]}, {\"categories\": [\"0\", \"1\", \"3\", \"6\", \"8\", \"11\", \"13\", \"16\", \"20\", \"21\", \"22\", \"23\", \"24\", \"25\", \"26\", \"27\", \"28\", \"29\", \"30\", \"31\", \"32\", \"33\", \"34\"], \"mode\": \"lines\", \"name\": \"precision_score_micro_max\", \"stepped\": true, \"type\": \"scatter\", \"data\": [0.9885154089963738, 0.9885154089963738, 0.9885154089963738, 0.9885154089963738, 0.9885154089963738, 0.9885154089963738, 0.9885154089963738, 0.9885154089963738, 0.9885154089963738, 0.9885154089963738, 0.9885154089963738, 0.9906749665053237, 0.9906749665053237, 0.9906749665053237, 0.9906749665053237, 0.9906749665053237, 0.9906749665053237, 0.9906749665053237, 0.9906749665053237, 0.9906749665053237, 0.9906749665053237, 0.9906749665053237, 0.9910678454480241]}], \"recall_score_weighted\": [{\"categories\": [\"0\", \"1\", \"3\", \"6\", \"8\", \"11\", \"13\", \"16\", \"20\", \"21\", \"22\", \"23\", \"24\", \"25\", \"26\", \"27\", \"28\", \"29\", \"30\", \"31\", \"32\", \"33\", \"34\"], \"mode\": \"markers\", \"name\": \"recall_score_weighted\", \"stepped\": false, \"type\": \"scatter\", \"data\": [0.9885154089963738, 0.9880244428032334, 0.9172462534379917, 0.9775205797746596, 0.7107109254069586, 0.9741831080843454, 0.6021386971064743, 0.7215091465397506, 0.7776583644191871, 0.9795818091509239, 0.7109072926136351, 0.9906749665053237, 0.9857664608086996, 0.7678417384375317, 0.7109072926136351, 0.9889082879390741, 0.9749676615585179, 0.9885152644670263, 0.7107109254069586, 0.9897915549575252, 0.9801709589474024, 0.9849813773935867, 0.9910678454480241]}, {\"categories\": [\"0\", \"1\", \"3\", \"6\", \"8\", \"11\", \"13\", \"16\", \"20\", \"21\", \"22\", \"23\", \"24\", \"25\", \"26\", \"27\", \"28\", \"29\", \"30\", \"31\", \"32\", \"33\", \"34\"], \"mode\": \"lines\", \"name\": \"recall_score_weighted_max\", \"stepped\": true, \"type\": \"scatter\", \"data\": [0.9885154089963738, 0.9885154089963738, 0.9885154089963738, 0.9885154089963738, 0.9885154089963738, 0.9885154089963738, 0.9885154089963738, 0.9885154089963738, 0.9885154089963738, 0.9885154089963738, 0.9885154089963738, 0.9906749665053237, 0.9906749665053237, 0.9906749665053237, 0.9906749665053237, 0.9906749665053237, 0.9906749665053237, 0.9906749665053237, 0.9906749665053237, 0.9906749665053237, 0.9906749665053237, 0.9906749665053237, 0.9910678454480241]}], \"f1_score_micro\": [{\"categories\": [\"0\", \"1\", \"3\", \"6\", \"8\", \"11\", \"13\", \"16\", \"20\", \"21\", \"22\", \"23\", \"24\", \"25\", \"26\", \"27\", \"28\", \"29\", \"30\", \"31\", \"32\", \"33\", \"34\"], \"mode\": \"markers\", \"name\": \"f1_score_micro\", \"stepped\": false, \"type\": \"scatter\", \"data\": [0.9885154089963738, 0.9880244428032334, 0.9172462534379917, 0.9775205797746596, 0.7107109254069586, 0.9741831080843454, 0.6021386971064743, 0.7215091465397506, 0.7776583644191871, 0.9795818091509239, 0.7109072926136351, 0.9906749665053237, 0.9857664608086996, 0.7678417384375317, 0.7109072926136351, 0.9889082879390741, 0.9749676615585179, 0.9885152644670263, 0.7107109254069586, 0.9897915549575252, 0.9801709589474024, 0.9849813773935867, 0.9910678454480241]}, {\"categories\": [\"0\", \"1\", \"3\", \"6\", \"8\", \"11\", \"13\", \"16\", \"20\", \"21\", \"22\", \"23\", \"24\", \"25\", \"26\", \"27\", \"28\", \"29\", \"30\", \"31\", \"32\", \"33\", \"34\"], \"mode\": \"lines\", \"name\": \"f1_score_micro_max\", \"stepped\": true, \"type\": \"scatter\", \"data\": [0.9885154089963738, 0.9885154089963738, 0.9885154089963738, 0.9885154089963738, 0.9885154089963738, 0.9885154089963738, 0.9885154089963738, 0.9885154089963738, 0.9885154089963738, 0.9885154089963738, 0.9885154089963738, 0.9906749665053237, 0.9906749665053237, 0.9906749665053237, 0.9906749665053237, 0.9906749665053237, 0.9906749665053237, 0.9906749665053237, 0.9906749665053237, 0.9906749665053237, 0.9906749665053237, 0.9906749665053237, 0.9910678454480241]}]}, \"metricName\": null, \"primaryMetricName\": \"accuracy\", \"showLegend\": false}, \"run_metrics\": [{\"name\": \"experiment_status\", \"run_id\": \"AutoML_8fdde942-877a-4cd9-8a2f-7896b2732328\", \"categories\": [0, 1, 2, 3, 4, 5, 6, 7, 8, 9, 10, 11, 12, 13], \"series\": [{\"data\": [\"DatasetEvaluation\", \"FeaturesGeneration\", \"DatasetFeaturization\", \"DatasetFeaturizationCompleted\", \"DatasetCrossValidationSplit\", \"ModelSelection\", \"BestRunExplainModel\", \"ModelExplanationDataSetSetup\", \"PickSurrogateModel\", \"EngineeredFeatureExplanations\", \"EngineeredFeatureExplanations\", \"RawFeaturesExplanations\", \"RawFeaturesExplanations\", \"BestRunExplainModel\"]}]}, {\"name\": \"experiment_status_description\", \"run_id\": \"AutoML_8fdde942-877a-4cd9-8a2f-7896b2732328\", \"categories\": [0, 1, 2, 3, 4, 5, 6, 7, 8, 9, 10, 11, 12, 13], \"series\": [{\"data\": [\"Gathering dataset statistics.\", \"Generating features for the dataset.\", \"Beginning to fit featurizers and featurize the dataset.\", \"Completed fit featurizers and featurizing the dataset.\", \"Generating individually featurized CV splits.\", \"Beginning model selection.\", \"Best run model explanations started\", \"Model explanations data setup completed\", \"Choosing LightGBM as the surrogate model for explanations\", \"Computation of engineered features started\", \"Computation of engineered features completed\", \"Computation of raw features started\", \"Computation of raw features completed\", \"Best run model explanations completed\"]}]}, {\"name\": \"f1_score_weighted\", \"run_id\": \"AutoML_8fdde942-877a-4cd9-8a2f-7896b2732328\", \"categories\": [0], \"series\": [{\"data\": [0.9910641633467365]}]}, {\"name\": \"recall_score_macro\", \"run_id\": \"AutoML_8fdde942-877a-4cd9-8a2f-7896b2732328\", \"categories\": [0], \"series\": [{\"data\": [0.9889377354705449]}]}, {\"name\": \"recall_score_micro\", \"run_id\": \"AutoML_8fdde942-877a-4cd9-8a2f-7896b2732328\", \"categories\": [0], \"series\": [{\"data\": [0.9910678454480241]}]}, {\"name\": \"AUC_micro\", \"run_id\": \"AutoML_8fdde942-877a-4cd9-8a2f-7896b2732328\", \"categories\": [0], \"series\": [{\"data\": [0.9995769831911737]}]}, {\"name\": \"log_loss\", \"run_id\": \"AutoML_8fdde942-877a-4cd9-8a2f-7896b2732328\", \"categories\": [0], \"series\": [{\"data\": [0.24308367835059208]}]}, {\"name\": \"weighted_accuracy\", \"run_id\": \"AutoML_8fdde942-877a-4cd9-8a2f-7896b2732328\", \"categories\": [0], \"series\": [{\"data\": [0.9925665920835985]}]}, {\"name\": \"average_precision_score_macro\", \"run_id\": \"AutoML_8fdde942-877a-4cd9-8a2f-7896b2732328\", \"categories\": [0], \"series\": [{\"data\": [0.9992980101744549]}]}, {\"name\": \"average_precision_score_micro\", \"run_id\": \"AutoML_8fdde942-877a-4cd9-8a2f-7896b2732328\", \"categories\": [0], \"series\": [{\"data\": [0.999582413888724]}]}, {\"name\": \"precision_score_micro\", \"run_id\": \"AutoML_8fdde942-877a-4cd9-8a2f-7896b2732328\", \"categories\": [0], \"series\": [{\"data\": [0.9910678454480241]}]}, {\"name\": \"matthews_correlation\", \"run_id\": \"AutoML_8fdde942-877a-4cd9-8a2f-7896b2732328\", \"categories\": [0], \"series\": [{\"data\": [0.9783415340168009]}]}, {\"name\": \"recall_score_weighted\", \"run_id\": \"AutoML_8fdde942-877a-4cd9-8a2f-7896b2732328\", \"categories\": [0], \"series\": [{\"data\": [0.9910678454480241]}]}, {\"name\": \"norm_macro_recall\", \"run_id\": \"AutoML_8fdde942-877a-4cd9-8a2f-7896b2732328\", \"categories\": [0], \"series\": [{\"data\": [0.9778754709410894]}]}, {\"name\": \"precision_score_weighted\", \"run_id\": \"AutoML_8fdde942-877a-4cd9-8a2f-7896b2732328\", \"categories\": [0], \"series\": [{\"data\": [0.9910664272402496]}]}, {\"name\": \"average_precision_score_weighted\", \"run_id\": \"AutoML_8fdde942-877a-4cd9-8a2f-7896b2732328\", \"categories\": [0], \"series\": [{\"data\": [0.9995067369195348]}]}, {\"name\": \"precision_score_macro\", \"run_id\": \"AutoML_8fdde942-877a-4cd9-8a2f-7896b2732328\", \"categories\": [0], \"series\": [{\"data\": [0.9894051132027561]}]}, {\"name\": \"AUC_weighted\", \"run_id\": \"AutoML_8fdde942-877a-4cd9-8a2f-7896b2732328\", \"categories\": [0], \"series\": [{\"data\": [0.9994989604889313]}]}, {\"name\": \"balanced_accuracy\", \"run_id\": \"AutoML_8fdde942-877a-4cd9-8a2f-7896b2732328\", \"categories\": [0], \"series\": [{\"data\": [0.9889377354705449]}]}, {\"name\": \"AUC_macro\", \"run_id\": \"AutoML_8fdde942-877a-4cd9-8a2f-7896b2732328\", \"categories\": [0], \"series\": [{\"data\": [0.9994989604889313]}]}, {\"name\": \"accuracy\", \"run_id\": \"AutoML_8fdde942-877a-4cd9-8a2f-7896b2732328\", \"categories\": [0], \"series\": [{\"data\": [0.9910678454480241]}]}, {\"name\": \"f1_score_macro\", \"run_id\": \"AutoML_8fdde942-877a-4cd9-8a2f-7896b2732328\", \"categories\": [0], \"series\": [{\"data\": [0.9891671348063987]}]}, {\"name\": \"f1_score_micro\", \"run_id\": \"AutoML_8fdde942-877a-4cd9-8a2f-7896b2732328\", \"categories\": [0], \"series\": [{\"data\": [0.9910678454480241]}]}], \"run_logs\": \"\\nRun is completed.\", \"graph\": {}, \"widget_settings\": {\"childWidgetDisplay\": \"popup\", \"send_telemetry\": false, \"log_level\": \"INFO\", \"sdk_version\": \"1.51.0\"}, \"loading\": false}"
     },
     "metadata": {},
     "output_type": "display_data"
    }
   ],
   "source": [
    "# showing RunDetails\n",
    "RunDetails(remote_run).show()"
   ]
  },
  {
   "cell_type": "markdown",
   "metadata": {},
   "source": [
    "## Best Model\n",
    "\n",
    "TODO: In the cell below, get the best model from the automl experiments and display all the properties of the model.\n",
    "\n"
   ]
  },
  {
   "cell_type": "code",
   "execution_count": 14,
   "metadata": {
    "gather": {
     "logged": 1598431425670
    },
    "jupyter": {
     "outputs_hidden": false,
     "source_hidden": false
    },
    "nteract": {
     "transient": {
      "deleting": false
     }
    }
   },
   "outputs": [
    {
     "name": "stdout",
     "output_type": "stream",
     "text": [
      "Run ID: AutoML_8fdde942-877a-4cd9-8a2f-7896b2732328_34\n",
      "Model Name: AutoML8fdde942834\n",
      "Model Details:\n"
     ]
    }
   ],
   "source": [
    "# Retrieve and save your best automl model.\n",
    "\n",
    "# getting best model and saving it out with onnx\n",
    "automl_run, automl_best_model = remote_run.get_output(return_onnx_model=True)\n",
    "print('Run ID: ' + automl_run.id)\n",
    "print('Model Name: ' + automl_run.properties['model_name'])\n",
    "print('Model Details:')\n",
    "# print(automl_best_model)"
   ]
  },
  {
   "cell_type": "code",
   "execution_count": 15,
   "metadata": {
    "gather": {
     "logged": 1598431426111
    },
    "jupyter": {
     "outputs_hidden": false,
     "source_hidden": false
    },
    "nteract": {
     "transient": {
      "deleting": false
     }
    }
   },
   "outputs": [],
   "source": [
    "#TODO: Save the best model\n",
    "\n",
    "# convert and save the model\n",
    "OnnxConverter.save_onnx_model(automl_best_model, file_path=\"./automl_best_model.onnx\")"
   ]
  },
  {
   "cell_type": "markdown",
   "metadata": {},
   "source": [
    "## Model Deployment\n",
    "\n",
    "Remember you have to deploy only one of the two models you trained but you still need to register both the models. Perform the steps in the rest of this notebook only if you wish to deploy this model.\n",
    "\n",
    "TODO: In the cell below, register the model, create an inference config and deploy the model as a web service."
   ]
  },
  {
   "cell_type": "code",
   "execution_count": 34,
   "metadata": {
    "gather": {
     "logged": 1598431435189
    },
    "jupyter": {
     "outputs_hidden": false,
     "source_hidden": false
    },
    "nteract": {
     "transient": {
      "deleting": false
     }
    }
   },
   "outputs": [
    {
     "name": "stdout",
     "output_type": "stream",
     "text": [
      "Tips: You can try get_logs(): https://aka.ms/debugimage#dockerlog or local deployment: https://aka.ms/debugimage#debug-locally to debug if deployment takes longer than 10 minutes.\n",
      "Running\n",
      "2024-04-05 21:23:15+00:00 Creating Container Registry if not exists.\n",
      "2024-04-05 21:23:15+00:00 Registering the environment.\n",
      "2024-04-05 21:23:16+00:00 Use the existing image.\n",
      "2024-04-05 21:23:16+00:00 Generating deployment configuration.\n",
      "2024-04-05 21:23:16+00:00 Submitting deployment to compute.\n",
      "2024-04-05 21:23:18+00:00 Checking the status of deployment nba-data-env-service..\n",
      "2024-04-05 21:27:32+00:00 Checking the status of inference endpoint nba-data-env-service.\n",
      "Failed\n"
     ]
    },
    {
     "name": "stderr",
     "output_type": "stream",
     "text": [
      "2024-04-05:21:29:10,637 ERROR    [_azureml_exception.py:273] Service deployment polling reached non-successful terminal state, current service state: Failed\n",
      "Operation ID: 7adf17f6-82ba-4646-887c-9ce65f5f379e\n",
      "More information can be found using '.get_logs()'\n",
      "Error:\n",
      "{\n",
      "  \"code\": \"AciDeploymentFailed\",\n",
      "  \"statusCode\": 400,\n",
      "  \"message\": \"Aci Deployment failed with exception: Your container application crashed. This may be caused by errors in your scoring file's init() function.\n",
      "\t1. Please check the logs for your container instance: nba-data-env-service. From the AML SDK, you can run print(service.get_logs()) if you have service object to fetch the logs.\n",
      "\t2. You can interactively debug your scoring file locally. Please refer to https://docs.microsoft.com/azure/machine-learning/how-to-debug-visual-studio-code#debug-and-troubleshoot-deployments for more information.\n",
      "\t3. You can also try to run image fabc5968e53845e9a95532ae240dcb17.azurecr.io/azureml/azureml_7fc6f3db27565728c2dfa99ee101907d locally. Please refer to https://aka.ms/debugimage#service-launch-fails for more information.\",\n",
      "  \"details\": [\n",
      "    {\n",
      "      \"code\": \"CrashLoopBackOff\",\n",
      "      \"message\": \"Your container application crashed. This may be caused by errors in your scoring file's init() function.\n",
      "\t1. Please check the logs for your container instance: nba-data-env-service. From the AML SDK, you can run print(service.get_logs()) if you have service object to fetch the logs.\n",
      "\t2. You can interactively debug your scoring file locally. Please refer to https://docs.microsoft.com/azure/machine-learning/how-to-debug-visual-studio-code#debug-and-troubleshoot-deployments for more information.\n",
      "\t3. You can also try to run image fabc5968e53845e9a95532ae240dcb17.azurecr.io/azureml/azureml_7fc6f3db27565728c2dfa99ee101907d locally. Please refer to https://aka.ms/debugimage#service-launch-fails for more information.\"\n",
      "    },\n",
      "    {\n",
      "      \"code\": \"AciDeploymentFailed\",\n",
      "      \"message\": \"Your container application crashed. Please follow the steps to debug:\n",
      "\t1. From the AML SDK, you can run print(service.get_logs()) if you have service object to fetch the logs. Please refer to https://aka.ms/debugimage#dockerlog for more information.\n",
      "\t2. If your container application crashed. This may be caused by errors in your scoring file's init() function. You can try debugging locally first. Please refer to https://aka.ms/debugimage#debug-locally for more information.\n",
      "\t3. You can also interactively debug your scoring file locally. Please refer to https://docs.microsoft.com/azure/machine-learning/how-to-debug-visual-studio-code#debug-and-troubleshoot-deployments for more information.\n",
      "\t4. View the diagnostic events to check status of container, it may help you to debug the issue.\n",
      "\"RestartCount\": 3\n",
      "\"CurrentState\": {\"state\":\"Waiting\",\"startTime\":null,\"exitCode\":null,\"finishTime\":null,\"detailStatus\":\"CrashLoopBackOff: Back-off restarting failed\"}\n",
      "\"PreviousState\": {\"state\":\"Terminated\",\"startTime\":\"2024-04-05T21:28:34.269Z\",\"exitCode\":111,\"finishTime\":\"2024-04-05T21:28:56.432Z\",\"detailStatus\":\"Error\"}\n",
      "\"Events\":\n",
      "{\"count\":1,\"firstTimestamp\":\"2024-04-05T21:17:11Z\",\"lastTimestamp\":\"2024-04-05T21:17:11Z\",\"name\":\"Pulling\",\"message\":\"pulling image \"fabc5968e53845e9a95532ae240dcb17.azurecr.io/azureml/azureml_7fc6f3db27565728c2dfa99ee101907d@sha256:8cde893b875449479da21ec5545cd5686235ac5004bb4995804037b4fc1e8020\"\",\"type\":\"Normal\"}\n",
      "{\"count\":1,\"firstTimestamp\":\"2024-04-05T21:17:53Z\",\"lastTimestamp\":\"2024-04-05T21:17:53Z\",\"name\":\"Pulled\",\"message\":\"Successfully pulled image \"fabc5968e53845e9a95532ae240dcb17.azurecr.io/azureml/azureml_7fc6f3db27565728c2dfa99ee101907d@sha256:8cde893b875449479da21ec5545cd5686235ac5004bb4995804037b4fc1e8020\"\",\"type\":\"Normal\"}\n",
      "{\"count\":7,\"firstTimestamp\":\"2024-04-05T21:18:15Z\",\"lastTimestamp\":\"2024-04-05T21:25:48Z\",\"name\":\"Started\",\"message\":\"Started container\",\"type\":\"Normal\"}\n",
      "{\"count\":8,\"firstTimestamp\":\"2024-04-05T21:18:40Z\",\"lastTimestamp\":\"2024-04-05T21:25:55Z\",\"name\":\"Killing\",\"message\":\"Killing container with id fb6d63abe004584d0ca8c498b91039d59d8ed716cc0be0265e499153eccc45ae.\",\"type\":\"Normal\"}\n",
      "{\"count\":1,\"firstTimestamp\":\"2024-04-05T21:23:52Z\",\"lastTimestamp\":\"2024-04-05T21:23:52Z\",\"name\":\"Pulling\",\"message\":\"pulling image \"fabc5968e53845e9a95532ae240dcb17.azurecr.io/azureml/azureml_7fc6f3db27565728c2dfa99ee101907d@sha256:8cde893b875449479da21ec5545cd5686235ac5004bb4995804037b4fc1e8020\"\",\"type\":\"Normal\"}\n",
      "{\"count\":1,\"firstTimestamp\":\"2024-04-05T21:24:35Z\",\"lastTimestamp\":\"2024-04-05T21:24:35Z\",\"name\":\"Pulled\",\"message\":\"Successfully pulled image \"fabc5968e53845e9a95532ae240dcb17.azurecr.io/azureml/azureml_7fc6f3db27565728c2dfa99ee101907d@sha256:8cde893b875449479da21ec5545cd5686235ac5004bb4995804037b4fc1e8020\"\",\"type\":\"Normal\"}\n",
      "{\"count\":4,\"firstTimestamp\":\"2024-04-05T21:26:15Z\",\"lastTimestamp\":\"2024-04-05T21:28:34Z\",\"name\":\"Started\",\"message\":\"Started container\",\"type\":\"Normal\"}\n",
      "{\"count\":3,\"firstTimestamp\":\"2024-04-05T21:26:38Z\",\"lastTimestamp\":\"2024-04-05T21:27:59Z\",\"name\":\"Killing\",\"message\":\"Killing container with id 2b17b9410fd5185ac8b0b2db9a3dbcfdf282cee95c4cc0936f798193c4891579.\",\"type\":\"Normal\"}\n",
      "\"\n",
      "    }\n",
      "  ]\n",
      "}\n",
      "\n"
     ]
    },
    {
     "ename": "WebserviceException",
     "evalue": "WebserviceException:\n\tMessage: Service deployment polling reached non-successful terminal state, current service state: Failed\nOperation ID: 7adf17f6-82ba-4646-887c-9ce65f5f379e\nMore information can be found using '.get_logs()'\nError:\n{\n  \"code\": \"AciDeploymentFailed\",\n  \"statusCode\": 400,\n  \"message\": \"Aci Deployment failed with exception: Your container application crashed. This may be caused by errors in your scoring file's init() function.\n\t1. Please check the logs for your container instance: nba-data-env-service. From the AML SDK, you can run print(service.get_logs()) if you have service object to fetch the logs.\n\t2. You can interactively debug your scoring file locally. Please refer to https://docs.microsoft.com/azure/machine-learning/how-to-debug-visual-studio-code#debug-and-troubleshoot-deployments for more information.\n\t3. You can also try to run image fabc5968e53845e9a95532ae240dcb17.azurecr.io/azureml/azureml_7fc6f3db27565728c2dfa99ee101907d locally. Please refer to https://aka.ms/debugimage#service-launch-fails for more information.\",\n  \"details\": [\n    {\n      \"code\": \"CrashLoopBackOff\",\n      \"message\": \"Your container application crashed. This may be caused by errors in your scoring file's init() function.\n\t1. Please check the logs for your container instance: nba-data-env-service. From the AML SDK, you can run print(service.get_logs()) if you have service object to fetch the logs.\n\t2. You can interactively debug your scoring file locally. Please refer to https://docs.microsoft.com/azure/machine-learning/how-to-debug-visual-studio-code#debug-and-troubleshoot-deployments for more information.\n\t3. You can also try to run image fabc5968e53845e9a95532ae240dcb17.azurecr.io/azureml/azureml_7fc6f3db27565728c2dfa99ee101907d locally. Please refer to https://aka.ms/debugimage#service-launch-fails for more information.\"\n    },\n    {\n      \"code\": \"AciDeploymentFailed\",\n      \"message\": \"Your container application crashed. Please follow the steps to debug:\n\t1. From the AML SDK, you can run print(service.get_logs()) if you have service object to fetch the logs. Please refer to https://aka.ms/debugimage#dockerlog for more information.\n\t2. If your container application crashed. This may be caused by errors in your scoring file's init() function. You can try debugging locally first. Please refer to https://aka.ms/debugimage#debug-locally for more information.\n\t3. You can also interactively debug your scoring file locally. Please refer to https://docs.microsoft.com/azure/machine-learning/how-to-debug-visual-studio-code#debug-and-troubleshoot-deployments for more information.\n\t4. View the diagnostic events to check status of container, it may help you to debug the issue.\n\"RestartCount\": 3\n\"CurrentState\": {\"state\":\"Waiting\",\"startTime\":null,\"exitCode\":null,\"finishTime\":null,\"detailStatus\":\"CrashLoopBackOff: Back-off restarting failed\"}\n\"PreviousState\": {\"state\":\"Terminated\",\"startTime\":\"2024-04-05T21:28:34.269Z\",\"exitCode\":111,\"finishTime\":\"2024-04-05T21:28:56.432Z\",\"detailStatus\":\"Error\"}\n\"Events\":\n{\"count\":1,\"firstTimestamp\":\"2024-04-05T21:17:11Z\",\"lastTimestamp\":\"2024-04-05T21:17:11Z\",\"name\":\"Pulling\",\"message\":\"pulling image \"fabc5968e53845e9a95532ae240dcb17.azurecr.io/azureml/azureml_7fc6f3db27565728c2dfa99ee101907d@sha256:8cde893b875449479da21ec5545cd5686235ac5004bb4995804037b4fc1e8020\"\",\"type\":\"Normal\"}\n{\"count\":1,\"firstTimestamp\":\"2024-04-05T21:17:53Z\",\"lastTimestamp\":\"2024-04-05T21:17:53Z\",\"name\":\"Pulled\",\"message\":\"Successfully pulled image \"fabc5968e53845e9a95532ae240dcb17.azurecr.io/azureml/azureml_7fc6f3db27565728c2dfa99ee101907d@sha256:8cde893b875449479da21ec5545cd5686235ac5004bb4995804037b4fc1e8020\"\",\"type\":\"Normal\"}\n{\"count\":7,\"firstTimestamp\":\"2024-04-05T21:18:15Z\",\"lastTimestamp\":\"2024-04-05T21:25:48Z\",\"name\":\"Started\",\"message\":\"Started container\",\"type\":\"Normal\"}\n{\"count\":8,\"firstTimestamp\":\"2024-04-05T21:18:40Z\",\"lastTimestamp\":\"2024-04-05T21:25:55Z\",\"name\":\"Killing\",\"message\":\"Killing container with id fb6d63abe004584d0ca8c498b91039d59d8ed716cc0be0265e499153eccc45ae.\",\"type\":\"Normal\"}\n{\"count\":1,\"firstTimestamp\":\"2024-04-05T21:23:52Z\",\"lastTimestamp\":\"2024-04-05T21:23:52Z\",\"name\":\"Pulling\",\"message\":\"pulling image \"fabc5968e53845e9a95532ae240dcb17.azurecr.io/azureml/azureml_7fc6f3db27565728c2dfa99ee101907d@sha256:8cde893b875449479da21ec5545cd5686235ac5004bb4995804037b4fc1e8020\"\",\"type\":\"Normal\"}\n{\"count\":1,\"firstTimestamp\":\"2024-04-05T21:24:35Z\",\"lastTimestamp\":\"2024-04-05T21:24:35Z\",\"name\":\"Pulled\",\"message\":\"Successfully pulled image \"fabc5968e53845e9a95532ae240dcb17.azurecr.io/azureml/azureml_7fc6f3db27565728c2dfa99ee101907d@sha256:8cde893b875449479da21ec5545cd5686235ac5004bb4995804037b4fc1e8020\"\",\"type\":\"Normal\"}\n{\"count\":4,\"firstTimestamp\":\"2024-04-05T21:26:15Z\",\"lastTimestamp\":\"2024-04-05T21:28:34Z\",\"name\":\"Started\",\"message\":\"Started container\",\"type\":\"Normal\"}\n{\"count\":3,\"firstTimestamp\":\"2024-04-05T21:26:38Z\",\"lastTimestamp\":\"2024-04-05T21:27:59Z\",\"name\":\"Killing\",\"message\":\"Killing container with id 2b17b9410fd5185ac8b0b2db9a3dbcfdf282cee95c4cc0936f798193c4891579.\",\"type\":\"Normal\"}\n\"\n    }\n  ]\n}\n\tInnerException None\n\tErrorResponse \n{\n    \"error\": {\n        \"message\": \"Service deployment polling reached non-successful terminal state, current service state: Failed\\nOperation ID: 7adf17f6-82ba-4646-887c-9ce65f5f379e\\nMore information can be found using '.get_logs()'\\nError:\\n{\\n  \\\"code\\\": \\\"AciDeploymentFailed\\\",\\n  \\\"statusCode\\\": 400,\\n  \\\"message\\\": \\\"Aci Deployment failed with exception: Your container application crashed. This may be caused by errors in your scoring file's init() function.\\n\\t1. Please check the logs for your container instance: nba-data-env-service. From the AML SDK, you can run print(service.get_logs()) if you have service object to fetch the logs.\\n\\t2. You can interactively debug your scoring file locally. Please refer to https://docs.microsoft.com/azure/machine-learning/how-to-debug-visual-studio-code#debug-and-troubleshoot-deployments for more information.\\n\\t3. You can also try to run image fabc5968e53845e9a95532ae240dcb17.azurecr.io/azureml/azureml_7fc6f3db27565728c2dfa99ee101907d locally. Please refer to https://aka.ms/debugimage#service-launch-fails for more information.\\\",\\n  \\\"details\\\": [\\n    {\\n      \\\"code\\\": \\\"CrashLoopBackOff\\\",\\n      \\\"message\\\": \\\"Your container application crashed. This may be caused by errors in your scoring file's init() function.\\n\\t1. Please check the logs for your container instance: nba-data-env-service. From the AML SDK, you can run print(service.get_logs()) if you have service object to fetch the logs.\\n\\t2. You can interactively debug your scoring file locally. Please refer to https://docs.microsoft.com/azure/machine-learning/how-to-debug-visual-studio-code#debug-and-troubleshoot-deployments for more information.\\n\\t3. You can also try to run image fabc5968e53845e9a95532ae240dcb17.azurecr.io/azureml/azureml_7fc6f3db27565728c2dfa99ee101907d locally. Please refer to https://aka.ms/debugimage#service-launch-fails for more information.\\\"\\n    },\\n    {\\n      \\\"code\\\": \\\"AciDeploymentFailed\\\",\\n      \\\"message\\\": \\\"Your container application crashed. Please follow the steps to debug:\\n\\t1. From the AML SDK, you can run print(service.get_logs()) if you have service object to fetch the logs. Please refer to https://aka.ms/debugimage#dockerlog for more information.\\n\\t2. If your container application crashed. This may be caused by errors in your scoring file's init() function. You can try debugging locally first. Please refer to https://aka.ms/debugimage#debug-locally for more information.\\n\\t3. You can also interactively debug your scoring file locally. Please refer to https://docs.microsoft.com/azure/machine-learning/how-to-debug-visual-studio-code#debug-and-troubleshoot-deployments for more information.\\n\\t4. View the diagnostic events to check status of container, it may help you to debug the issue.\\n\\\"RestartCount\\\": 3\\n\\\"CurrentState\\\": {\\\"state\\\":\\\"Waiting\\\",\\\"startTime\\\":null,\\\"exitCode\\\":null,\\\"finishTime\\\":null,\\\"detailStatus\\\":\\\"CrashLoopBackOff: Back-off restarting failed\\\"}\\n\\\"PreviousState\\\": {\\\"state\\\":\\\"Terminated\\\",\\\"startTime\\\":\\\"2024-04-05T21:28:34.269Z\\\",\\\"exitCode\\\":111,\\\"finishTime\\\":\\\"2024-04-05T21:28:56.432Z\\\",\\\"detailStatus\\\":\\\"Error\\\"}\\n\\\"Events\\\":\\n{\\\"count\\\":1,\\\"firstTimestamp\\\":\\\"2024-04-05T21:17:11Z\\\",\\\"lastTimestamp\\\":\\\"2024-04-05T21:17:11Z\\\",\\\"name\\\":\\\"Pulling\\\",\\\"message\\\":\\\"pulling image \\\"fabc5968e53845e9a95532ae240dcb17.azurecr.io/azureml/azureml_7fc6f3db27565728c2dfa99ee101907d@sha256:8cde893b875449479da21ec5545cd5686235ac5004bb4995804037b4fc1e8020\\\"\\\",\\\"type\\\":\\\"Normal\\\"}\\n{\\\"count\\\":1,\\\"firstTimestamp\\\":\\\"2024-04-05T21:17:53Z\\\",\\\"lastTimestamp\\\":\\\"2024-04-05T21:17:53Z\\\",\\\"name\\\":\\\"Pulled\\\",\\\"message\\\":\\\"Successfully pulled image \\\"fabc5968e53845e9a95532ae240dcb17.azurecr.io/azureml/azureml_7fc6f3db27565728c2dfa99ee101907d@sha256:8cde893b875449479da21ec5545cd5686235ac5004bb4995804037b4fc1e8020\\\"\\\",\\\"type\\\":\\\"Normal\\\"}\\n{\\\"count\\\":7,\\\"firstTimestamp\\\":\\\"2024-04-05T21:18:15Z\\\",\\\"lastTimestamp\\\":\\\"2024-04-05T21:25:48Z\\\",\\\"name\\\":\\\"Started\\\",\\\"message\\\":\\\"Started container\\\",\\\"type\\\":\\\"Normal\\\"}\\n{\\\"count\\\":8,\\\"firstTimestamp\\\":\\\"2024-04-05T21:18:40Z\\\",\\\"lastTimestamp\\\":\\\"2024-04-05T21:25:55Z\\\",\\\"name\\\":\\\"Killing\\\",\\\"message\\\":\\\"Killing container with id fb6d63abe004584d0ca8c498b91039d59d8ed716cc0be0265e499153eccc45ae.\\\",\\\"type\\\":\\\"Normal\\\"}\\n{\\\"count\\\":1,\\\"firstTimestamp\\\":\\\"2024-04-05T21:23:52Z\\\",\\\"lastTimestamp\\\":\\\"2024-04-05T21:23:52Z\\\",\\\"name\\\":\\\"Pulling\\\",\\\"message\\\":\\\"pulling image \\\"fabc5968e53845e9a95532ae240dcb17.azurecr.io/azureml/azureml_7fc6f3db27565728c2dfa99ee101907d@sha256:8cde893b875449479da21ec5545cd5686235ac5004bb4995804037b4fc1e8020\\\"\\\",\\\"type\\\":\\\"Normal\\\"}\\n{\\\"count\\\":1,\\\"firstTimestamp\\\":\\\"2024-04-05T21:24:35Z\\\",\\\"lastTimestamp\\\":\\\"2024-04-05T21:24:35Z\\\",\\\"name\\\":\\\"Pulled\\\",\\\"message\\\":\\\"Successfully pulled image \\\"fabc5968e53845e9a95532ae240dcb17.azurecr.io/azureml/azureml_7fc6f3db27565728c2dfa99ee101907d@sha256:8cde893b875449479da21ec5545cd5686235ac5004bb4995804037b4fc1e8020\\\"\\\",\\\"type\\\":\\\"Normal\\\"}\\n{\\\"count\\\":4,\\\"firstTimestamp\\\":\\\"2024-04-05T21:26:15Z\\\",\\\"lastTimestamp\\\":\\\"2024-04-05T21:28:34Z\\\",\\\"name\\\":\\\"Started\\\",\\\"message\\\":\\\"Started container\\\",\\\"type\\\":\\\"Normal\\\"}\\n{\\\"count\\\":3,\\\"firstTimestamp\\\":\\\"2024-04-05T21:26:38Z\\\",\\\"lastTimestamp\\\":\\\"2024-04-05T21:27:59Z\\\",\\\"name\\\":\\\"Killing\\\",\\\"message\\\":\\\"Killing container with id 2b17b9410fd5185ac8b0b2db9a3dbcfdf282cee95c4cc0936f798193c4891579.\\\",\\\"type\\\":\\\"Normal\\\"}\\n\\\"\\n    }\\n  ]\\n}\"\n    }\n}",
     "output_type": "error",
     "traceback": [
      "\u001b[0;31m---------------------------------------------------------------------------\u001b[0m",
      "\u001b[0;31mWebserviceException\u001b[0m                       Traceback (most recent call last)",
      "Cell \u001b[0;32mIn[34], line 25\u001b[0m\n\u001b[1;32m     16\u001b[0m aci_config \u001b[38;5;241m=\u001b[39m AciWebservice\u001b[38;5;241m.\u001b[39mdeploy_configuration(cpu_cores\u001b[38;5;241m=\u001b[39m\u001b[38;5;241m1\u001b[39m, memory_gb\u001b[38;5;241m=\u001b[39m\u001b[38;5;241m1\u001b[39m, enable_app_insights\u001b[38;5;241m=\u001b[39m\u001b[38;5;28;01mTrue\u001b[39;00m, auth_enabled\u001b[38;5;241m=\u001b[39m\u001b[38;5;28;01mTrue\u001b[39;00m)\n\u001b[1;32m     18\u001b[0m service \u001b[38;5;241m=\u001b[39m Model\u001b[38;5;241m.\u001b[39mdeploy(workspace\u001b[38;5;241m=\u001b[39mws,\n\u001b[1;32m     19\u001b[0m                        name\u001b[38;5;241m=\u001b[39mservice_name,\n\u001b[1;32m     20\u001b[0m                        models\u001b[38;5;241m=\u001b[39m[model],\n\u001b[1;32m     21\u001b[0m                        inference_config\u001b[38;5;241m=\u001b[39minference_config,\n\u001b[1;32m     22\u001b[0m                        deployment_config\u001b[38;5;241m=\u001b[39maci_config,\n\u001b[1;32m     23\u001b[0m                        overwrite\u001b[38;5;241m=\u001b[39m\u001b[38;5;28;01mTrue\u001b[39;00m)\n\u001b[0;32m---> 25\u001b[0m \u001b[43mservice\u001b[49m\u001b[38;5;241;43m.\u001b[39;49m\u001b[43mwait_for_deployment\u001b[49m\u001b[43m(\u001b[49m\u001b[43mshow_output\u001b[49m\u001b[38;5;241;43m=\u001b[39;49m\u001b[38;5;28;43;01mTrue\u001b[39;49;00m\u001b[43m)\u001b[49m\n",
      "File \u001b[0;32m/anaconda/envs/azureml_py38/lib/python3.8/site-packages/azureml/core/webservice/webservice.py:918\u001b[0m, in \u001b[0;36mWebservice.wait_for_deployment\u001b[0;34m(self, show_output, timeout_sec)\u001b[0m\n\u001b[1;32m    915\u001b[0m         \u001b[38;5;28;01mif\u001b[39;00m \u001b[38;5;129;01mnot\u001b[39;00m logs_response:\n\u001b[1;32m    916\u001b[0m             logs_response \u001b[38;5;241m=\u001b[39m \u001b[38;5;124m'\u001b[39m\u001b[38;5;124mCurrent sub-operation type not known, more logs unavailable.\u001b[39m\u001b[38;5;124m'\u001b[39m\n\u001b[0;32m--> 918\u001b[0m         \u001b[38;5;28;01mraise\u001b[39;00m WebserviceException(\u001b[38;5;124m'\u001b[39m\u001b[38;5;124mService deployment polling reached non-successful terminal state, current \u001b[39m\u001b[38;5;124m'\u001b[39m\n\u001b[1;32m    919\u001b[0m                                   \u001b[38;5;124m'\u001b[39m\u001b[38;5;124mservice state: \u001b[39m\u001b[38;5;132;01m{}\u001b[39;00m\u001b[38;5;130;01m\\n\u001b[39;00m\u001b[38;5;124m'\u001b[39m\n\u001b[1;32m    920\u001b[0m                                   \u001b[38;5;124m'\u001b[39m\u001b[38;5;124mOperation ID: \u001b[39m\u001b[38;5;132;01m{}\u001b[39;00m\u001b[38;5;130;01m\\n\u001b[39;00m\u001b[38;5;124m'\u001b[39m\n\u001b[1;32m    921\u001b[0m                                   \u001b[38;5;124m'\u001b[39m\u001b[38;5;132;01m{}\u001b[39;00m\u001b[38;5;130;01m\\n\u001b[39;00m\u001b[38;5;124m'\u001b[39m\n\u001b[1;32m    922\u001b[0m                                   \u001b[38;5;124m'\u001b[39m\u001b[38;5;124mError:\u001b[39m\u001b[38;5;130;01m\\n\u001b[39;00m\u001b[38;5;124m'\u001b[39m\n\u001b[1;32m    923\u001b[0m                                   \u001b[38;5;124m'\u001b[39m\u001b[38;5;132;01m{}\u001b[39;00m\u001b[38;5;124m'\u001b[39m\u001b[38;5;241m.\u001b[39mformat(\u001b[38;5;28mself\u001b[39m\u001b[38;5;241m.\u001b[39mstate, \u001b[38;5;28mself\u001b[39m\u001b[38;5;241m.\u001b[39m_operation_endpoint\u001b[38;5;241m.\u001b[39msplit(\u001b[38;5;124m'\u001b[39m\u001b[38;5;124m/\u001b[39m\u001b[38;5;124m'\u001b[39m)[\u001b[38;5;241m-\u001b[39m\u001b[38;5;241m1\u001b[39m],\n\u001b[1;32m    924\u001b[0m                                               logs_response, format_error_response), logger\u001b[38;5;241m=\u001b[39mmodule_logger)\n\u001b[1;32m    925\u001b[0m     \u001b[38;5;28mprint\u001b[39m(\u001b[38;5;124m'\u001b[39m\u001b[38;5;132;01m{}\u001b[39;00m\u001b[38;5;124m service creation operation finished, operation \u001b[39m\u001b[38;5;124m\"\u001b[39m\u001b[38;5;132;01m{}\u001b[39;00m\u001b[38;5;124m\"\u001b[39m\u001b[38;5;124m'\u001b[39m\u001b[38;5;241m.\u001b[39mformat(\u001b[38;5;28mself\u001b[39m\u001b[38;5;241m.\u001b[39m_webservice_type,\n\u001b[1;32m    926\u001b[0m                                                                           operation_state))\n\u001b[1;32m    927\u001b[0m \u001b[38;5;28;01mexcept\u001b[39;00m WebserviceException \u001b[38;5;28;01mas\u001b[39;00m e:\n",
      "\u001b[0;31mWebserviceException\u001b[0m: WebserviceException:\n\tMessage: Service deployment polling reached non-successful terminal state, current service state: Failed\nOperation ID: 7adf17f6-82ba-4646-887c-9ce65f5f379e\nMore information can be found using '.get_logs()'\nError:\n{\n  \"code\": \"AciDeploymentFailed\",\n  \"statusCode\": 400,\n  \"message\": \"Aci Deployment failed with exception: Your container application crashed. This may be caused by errors in your scoring file's init() function.\n\t1. Please check the logs for your container instance: nba-data-env-service. From the AML SDK, you can run print(service.get_logs()) if you have service object to fetch the logs.\n\t2. You can interactively debug your scoring file locally. Please refer to https://docs.microsoft.com/azure/machine-learning/how-to-debug-visual-studio-code#debug-and-troubleshoot-deployments for more information.\n\t3. You can also try to run image fabc5968e53845e9a95532ae240dcb17.azurecr.io/azureml/azureml_7fc6f3db27565728c2dfa99ee101907d locally. Please refer to https://aka.ms/debugimage#service-launch-fails for more information.\",\n  \"details\": [\n    {\n      \"code\": \"CrashLoopBackOff\",\n      \"message\": \"Your container application crashed. This may be caused by errors in your scoring file's init() function.\n\t1. Please check the logs for your container instance: nba-data-env-service. From the AML SDK, you can run print(service.get_logs()) if you have service object to fetch the logs.\n\t2. You can interactively debug your scoring file locally. Please refer to https://docs.microsoft.com/azure/machine-learning/how-to-debug-visual-studio-code#debug-and-troubleshoot-deployments for more information.\n\t3. You can also try to run image fabc5968e53845e9a95532ae240dcb17.azurecr.io/azureml/azureml_7fc6f3db27565728c2dfa99ee101907d locally. Please refer to https://aka.ms/debugimage#service-launch-fails for more information.\"\n    },\n    {\n      \"code\": \"AciDeploymentFailed\",\n      \"message\": \"Your container application crashed. Please follow the steps to debug:\n\t1. From the AML SDK, you can run print(service.get_logs()) if you have service object to fetch the logs. Please refer to https://aka.ms/debugimage#dockerlog for more information.\n\t2. If your container application crashed. This may be caused by errors in your scoring file's init() function. You can try debugging locally first. Please refer to https://aka.ms/debugimage#debug-locally for more information.\n\t3. You can also interactively debug your scoring file locally. Please refer to https://docs.microsoft.com/azure/machine-learning/how-to-debug-visual-studio-code#debug-and-troubleshoot-deployments for more information.\n\t4. View the diagnostic events to check status of container, it may help you to debug the issue.\n\"RestartCount\": 3\n\"CurrentState\": {\"state\":\"Waiting\",\"startTime\":null,\"exitCode\":null,\"finishTime\":null,\"detailStatus\":\"CrashLoopBackOff: Back-off restarting failed\"}\n\"PreviousState\": {\"state\":\"Terminated\",\"startTime\":\"2024-04-05T21:28:34.269Z\",\"exitCode\":111,\"finishTime\":\"2024-04-05T21:28:56.432Z\",\"detailStatus\":\"Error\"}\n\"Events\":\n{\"count\":1,\"firstTimestamp\":\"2024-04-05T21:17:11Z\",\"lastTimestamp\":\"2024-04-05T21:17:11Z\",\"name\":\"Pulling\",\"message\":\"pulling image \"fabc5968e53845e9a95532ae240dcb17.azurecr.io/azureml/azureml_7fc6f3db27565728c2dfa99ee101907d@sha256:8cde893b875449479da21ec5545cd5686235ac5004bb4995804037b4fc1e8020\"\",\"type\":\"Normal\"}\n{\"count\":1,\"firstTimestamp\":\"2024-04-05T21:17:53Z\",\"lastTimestamp\":\"2024-04-05T21:17:53Z\",\"name\":\"Pulled\",\"message\":\"Successfully pulled image \"fabc5968e53845e9a95532ae240dcb17.azurecr.io/azureml/azureml_7fc6f3db27565728c2dfa99ee101907d@sha256:8cde893b875449479da21ec5545cd5686235ac5004bb4995804037b4fc1e8020\"\",\"type\":\"Normal\"}\n{\"count\":7,\"firstTimestamp\":\"2024-04-05T21:18:15Z\",\"lastTimestamp\":\"2024-04-05T21:25:48Z\",\"name\":\"Started\",\"message\":\"Started container\",\"type\":\"Normal\"}\n{\"count\":8,\"firstTimestamp\":\"2024-04-05T21:18:40Z\",\"lastTimestamp\":\"2024-04-05T21:25:55Z\",\"name\":\"Killing\",\"message\":\"Killing container with id fb6d63abe004584d0ca8c498b91039d59d8ed716cc0be0265e499153eccc45ae.\",\"type\":\"Normal\"}\n{\"count\":1,\"firstTimestamp\":\"2024-04-05T21:23:52Z\",\"lastTimestamp\":\"2024-04-05T21:23:52Z\",\"name\":\"Pulling\",\"message\":\"pulling image \"fabc5968e53845e9a95532ae240dcb17.azurecr.io/azureml/azureml_7fc6f3db27565728c2dfa99ee101907d@sha256:8cde893b875449479da21ec5545cd5686235ac5004bb4995804037b4fc1e8020\"\",\"type\":\"Normal\"}\n{\"count\":1,\"firstTimestamp\":\"2024-04-05T21:24:35Z\",\"lastTimestamp\":\"2024-04-05T21:24:35Z\",\"name\":\"Pulled\",\"message\":\"Successfully pulled image \"fabc5968e53845e9a95532ae240dcb17.azurecr.io/azureml/azureml_7fc6f3db27565728c2dfa99ee101907d@sha256:8cde893b875449479da21ec5545cd5686235ac5004bb4995804037b4fc1e8020\"\",\"type\":\"Normal\"}\n{\"count\":4,\"firstTimestamp\":\"2024-04-05T21:26:15Z\",\"lastTimestamp\":\"2024-04-05T21:28:34Z\",\"name\":\"Started\",\"message\":\"Started container\",\"type\":\"Normal\"}\n{\"count\":3,\"firstTimestamp\":\"2024-04-05T21:26:38Z\",\"lastTimestamp\":\"2024-04-05T21:27:59Z\",\"name\":\"Killing\",\"message\":\"Killing container with id 2b17b9410fd5185ac8b0b2db9a3dbcfdf282cee95c4cc0936f798193c4891579.\",\"type\":\"Normal\"}\n\"\n    }\n  ]\n}\n\tInnerException None\n\tErrorResponse \n{\n    \"error\": {\n        \"message\": \"Service deployment polling reached non-successful terminal state, current service state: Failed\\nOperation ID: 7adf17f6-82ba-4646-887c-9ce65f5f379e\\nMore information can be found using '.get_logs()'\\nError:\\n{\\n  \\\"code\\\": \\\"AciDeploymentFailed\\\",\\n  \\\"statusCode\\\": 400,\\n  \\\"message\\\": \\\"Aci Deployment failed with exception: Your container application crashed. This may be caused by errors in your scoring file's init() function.\\n\\t1. Please check the logs for your container instance: nba-data-env-service. From the AML SDK, you can run print(service.get_logs()) if you have service object to fetch the logs.\\n\\t2. You can interactively debug your scoring file locally. Please refer to https://docs.microsoft.com/azure/machine-learning/how-to-debug-visual-studio-code#debug-and-troubleshoot-deployments for more information.\\n\\t3. You can also try to run image fabc5968e53845e9a95532ae240dcb17.azurecr.io/azureml/azureml_7fc6f3db27565728c2dfa99ee101907d locally. Please refer to https://aka.ms/debugimage#service-launch-fails for more information.\\\",\\n  \\\"details\\\": [\\n    {\\n      \\\"code\\\": \\\"CrashLoopBackOff\\\",\\n      \\\"message\\\": \\\"Your container application crashed. This may be caused by errors in your scoring file's init() function.\\n\\t1. Please check the logs for your container instance: nba-data-env-service. From the AML SDK, you can run print(service.get_logs()) if you have service object to fetch the logs.\\n\\t2. You can interactively debug your scoring file locally. Please refer to https://docs.microsoft.com/azure/machine-learning/how-to-debug-visual-studio-code#debug-and-troubleshoot-deployments for more information.\\n\\t3. You can also try to run image fabc5968e53845e9a95532ae240dcb17.azurecr.io/azureml/azureml_7fc6f3db27565728c2dfa99ee101907d locally. Please refer to https://aka.ms/debugimage#service-launch-fails for more information.\\\"\\n    },\\n    {\\n      \\\"code\\\": \\\"AciDeploymentFailed\\\",\\n      \\\"message\\\": \\\"Your container application crashed. Please follow the steps to debug:\\n\\t1. From the AML SDK, you can run print(service.get_logs()) if you have service object to fetch the logs. Please refer to https://aka.ms/debugimage#dockerlog for more information.\\n\\t2. If your container application crashed. This may be caused by errors in your scoring file's init() function. You can try debugging locally first. Please refer to https://aka.ms/debugimage#debug-locally for more information.\\n\\t3. You can also interactively debug your scoring file locally. Please refer to https://docs.microsoft.com/azure/machine-learning/how-to-debug-visual-studio-code#debug-and-troubleshoot-deployments for more information.\\n\\t4. View the diagnostic events to check status of container, it may help you to debug the issue.\\n\\\"RestartCount\\\": 3\\n\\\"CurrentState\\\": {\\\"state\\\":\\\"Waiting\\\",\\\"startTime\\\":null,\\\"exitCode\\\":null,\\\"finishTime\\\":null,\\\"detailStatus\\\":\\\"CrashLoopBackOff: Back-off restarting failed\\\"}\\n\\\"PreviousState\\\": {\\\"state\\\":\\\"Terminated\\\",\\\"startTime\\\":\\\"2024-04-05T21:28:34.269Z\\\",\\\"exitCode\\\":111,\\\"finishTime\\\":\\\"2024-04-05T21:28:56.432Z\\\",\\\"detailStatus\\\":\\\"Error\\\"}\\n\\\"Events\\\":\\n{\\\"count\\\":1,\\\"firstTimestamp\\\":\\\"2024-04-05T21:17:11Z\\\",\\\"lastTimestamp\\\":\\\"2024-04-05T21:17:11Z\\\",\\\"name\\\":\\\"Pulling\\\",\\\"message\\\":\\\"pulling image \\\"fabc5968e53845e9a95532ae240dcb17.azurecr.io/azureml/azureml_7fc6f3db27565728c2dfa99ee101907d@sha256:8cde893b875449479da21ec5545cd5686235ac5004bb4995804037b4fc1e8020\\\"\\\",\\\"type\\\":\\\"Normal\\\"}\\n{\\\"count\\\":1,\\\"firstTimestamp\\\":\\\"2024-04-05T21:17:53Z\\\",\\\"lastTimestamp\\\":\\\"2024-04-05T21:17:53Z\\\",\\\"name\\\":\\\"Pulled\\\",\\\"message\\\":\\\"Successfully pulled image \\\"fabc5968e53845e9a95532ae240dcb17.azurecr.io/azureml/azureml_7fc6f3db27565728c2dfa99ee101907d@sha256:8cde893b875449479da21ec5545cd5686235ac5004bb4995804037b4fc1e8020\\\"\\\",\\\"type\\\":\\\"Normal\\\"}\\n{\\\"count\\\":7,\\\"firstTimestamp\\\":\\\"2024-04-05T21:18:15Z\\\",\\\"lastTimestamp\\\":\\\"2024-04-05T21:25:48Z\\\",\\\"name\\\":\\\"Started\\\",\\\"message\\\":\\\"Started container\\\",\\\"type\\\":\\\"Normal\\\"}\\n{\\\"count\\\":8,\\\"firstTimestamp\\\":\\\"2024-04-05T21:18:40Z\\\",\\\"lastTimestamp\\\":\\\"2024-04-05T21:25:55Z\\\",\\\"name\\\":\\\"Killing\\\",\\\"message\\\":\\\"Killing container with id fb6d63abe004584d0ca8c498b91039d59d8ed716cc0be0265e499153eccc45ae.\\\",\\\"type\\\":\\\"Normal\\\"}\\n{\\\"count\\\":1,\\\"firstTimestamp\\\":\\\"2024-04-05T21:23:52Z\\\",\\\"lastTimestamp\\\":\\\"2024-04-05T21:23:52Z\\\",\\\"name\\\":\\\"Pulling\\\",\\\"message\\\":\\\"pulling image \\\"fabc5968e53845e9a95532ae240dcb17.azurecr.io/azureml/azureml_7fc6f3db27565728c2dfa99ee101907d@sha256:8cde893b875449479da21ec5545cd5686235ac5004bb4995804037b4fc1e8020\\\"\\\",\\\"type\\\":\\\"Normal\\\"}\\n{\\\"count\\\":1,\\\"firstTimestamp\\\":\\\"2024-04-05T21:24:35Z\\\",\\\"lastTimestamp\\\":\\\"2024-04-05T21:24:35Z\\\",\\\"name\\\":\\\"Pulled\\\",\\\"message\\\":\\\"Successfully pulled image \\\"fabc5968e53845e9a95532ae240dcb17.azurecr.io/azureml/azureml_7fc6f3db27565728c2dfa99ee101907d@sha256:8cde893b875449479da21ec5545cd5686235ac5004bb4995804037b4fc1e8020\\\"\\\",\\\"type\\\":\\\"Normal\\\"}\\n{\\\"count\\\":4,\\\"firstTimestamp\\\":\\\"2024-04-05T21:26:15Z\\\",\\\"lastTimestamp\\\":\\\"2024-04-05T21:28:34Z\\\",\\\"name\\\":\\\"Started\\\",\\\"message\\\":\\\"Started container\\\",\\\"type\\\":\\\"Normal\\\"}\\n{\\\"count\\\":3,\\\"firstTimestamp\\\":\\\"2024-04-05T21:26:38Z\\\",\\\"lastTimestamp\\\":\\\"2024-04-05T21:27:59Z\\\",\\\"name\\\":\\\"Killing\\\",\\\"message\\\":\\\"Killing container with id 2b17b9410fd5185ac8b0b2db9a3dbcfdf282cee95c4cc0936f798193c4891579.\\\",\\\"type\\\":\\\"Normal\\\"}\\n\\\"\\n    }\\n  ]\\n}\"\n    }\n}"
     ]
    }
   ],
   "source": [
    "# register the model\n",
    "model_name = 'nba_3pt_voting_ensemble'\n",
    "model_path = 'outputs/model.pkl'\n",
    "model_description = 'Voting Ensemble Model for NBA 3PT Percentage Win Analysis'\n",
    "registered_model = automl_run.register_model(model_name=model_name, model_path=model_path, description=model_description)\n",
    "model = Model(ws, 'nba_3pt_voting_ensemble')\n",
    "\n",
    "# creating inference config and deploying the model as a web service\n",
    "service_name = 'nba-data-env-service'\n",
    "\n",
    "# creating environment\n",
    "nba_env = Environment(name=\"nba-env\", conda_file='./conda_dependencies.yml')\n",
    "nba_env.register(workspace=ws)\n",
    "\n",
    "inference_config = InferenceConfig(entry_script='./score.py',environment=nba_env)\n",
    "aci_config = AciWebservice.deploy_configuration(cpu_cores=1, memory_gb=1, enable_app_insights=True, auth_enabled=True)\n",
    "\n",
    "service = Model.deploy(workspace=ws,\n",
    "                       name=service_name,\n",
    "                       models=[model],\n",
    "                       inference_config=inference_config,\n",
    "                       deployment_config=aci_config,\n",
    "                       overwrite=True)\n",
    "\n",
    "service.wait_for_deployment(show_output=True)"
   ]
  },
  {
   "cell_type": "code",
   "execution_count": 29,
   "metadata": {},
   "outputs": [
    {
     "name": "stdout",
     "output_type": "stream",
     "text": [
      "None\n"
     ]
    }
   ],
   "source": [
    "print(service.get_logs())"
   ]
  },
  {
   "cell_type": "markdown",
   "metadata": {
    "collapsed": true,
    "gather": {
     "logged": 1598431657736
    },
    "jupyter": {
     "outputs_hidden": false,
     "source_hidden": false
    },
    "nteract": {
     "transient": {
      "deleting": false
     }
    }
   },
   "source": [
    "TODO: In the cell below, send a request to the web service you deployed to test it."
   ]
  },
  {
   "cell_type": "code",
   "execution_count": null,
   "metadata": {
    "gather": {
     "logged": 1598432707604
    },
    "jupyter": {
     "outputs_hidden": false,
     "source_hidden": false
    },
    "nteract": {
     "transient": {
      "deleting": false
     }
    }
   },
   "outputs": [],
   "source": [
    "# URL for the web service, should be similar to:\n",
    "# 'http://8530a665-66f3-49c8-a953-b82a2d312917.eastus.azurecontainer.io/score'\n",
    "scoring_uri = \"http://3791612e-f3ba-4abc-927d-c92ae5ff6aea.westus2.azurecontainer.io/score\"\n",
    "\n",
    "# If the service is authenticated, set the key or token\n",
    "key = \"8fQomtrNOLgHDISBo3tZoOMrtnREHaz0\"\n",
    "\n",
    "# Two sets of data to score, so we get two results back\n",
    "data = {\n",
    "    \"Inputs\": \n",
    "\t{\n",
    "\t\"data\":\n",
    "\t[\n",
    "      {\n",
    "        'season_id': 22015,\n",
    "        'matchup_home': 'ATL vs. DET',\n",
    "        'season_type': 'Regular Season',\n",
    "        'min': 240,\n",
    "        'team_name_home': 'Atlanta Hawks',\n",
    "        'fg3m_home': 8,\n",
    "        'fg3a_home': 27,\n",
    "        'fg3_pct_home': 0.296,\n",
    "        'wl_home': 'L',\n",
    "        'team_name_away': 'Detroit Pistons',\n",
    "        'fg3m_away': 12,\n",
    "        'fg3a_away': 29,\n",
    "        'fg3_pct_away': 0.414,\n",
    "        'wl_away': 'W',\n",
    "        'highest_3pp': 0.414,\n",
    "        'highest_3pp_wl': 'W'\n",
    "      },\n",
    "   ]\n",
    "}\n",
    "}\n",
    "# Convert to JSON string\n",
    "input_data = json.dumps(data)\n",
    "with open(\"data.json\", \"w\") as _f:\n",
    "    _f.write(input_data)\n",
    "\n",
    "# Set the content type\n",
    "headers = {\"Content-Type\": \"application/json\"}\n",
    "# If authentication is enabled, set the authorization header\n",
    "headers[\"Authorization\"] = f\"Bearer {key}\"\n",
    "\n",
    "# Make the request and display the response\n",
    "resp = requests.post(scoring_uri, input_data, headers=headers)\n",
    "print(resp.json())"
   ]
  },
  {
   "cell_type": "markdown",
   "metadata": {
    "collapsed": true,
    "gather": {
     "logged": 1598432765711
    },
    "jupyter": {
     "outputs_hidden": false,
     "source_hidden": false
    },
    "nteract": {
     "transient": {
      "deleting": false
     }
    }
   },
   "source": [
    "TODO: In the cell below, print the logs of the web service and delete the service"
   ]
  },
  {
   "cell_type": "code",
   "execution_count": null,
   "metadata": {
    "jupyter": {
     "outputs_hidden": false,
     "source_hidden": false
    },
    "nteract": {
     "transient": {
      "deleting": false
     }
    }
   },
   "outputs": [],
   "source": [
    "# getting and printing all logs\n",
    "endpoint_logs = service.get_logs()\n",
    "print(endpoint_logs)\n",
    "\n",
    "# deleting the service\n",
    "service.delete()"
   ]
  },
  {
   "cell_type": "markdown",
   "metadata": {},
   "source": [
    "**Submission Checklist**\n",
    "- I have registered the model.\n",
    "- I have deployed the model with the best accuracy as a webservice.\n",
    "- I have tested the webservice by sending a request to the model endpoint.\n",
    "- I have deleted the webservice and shutdown all the computes that I have used.\n",
    "- I have taken a screenshot showing the model endpoint as active.\n",
    "- The project includes a file containing the environment details.\n"
   ]
  },
  {
   "cell_type": "markdown",
   "metadata": {},
   "source": []
  }
 ],
 "metadata": {
  "kernel_info": {
   "name": "python3-azureml"
  },
  "kernelspec": {
   "display_name": "Python 3.8 - AzureML",
   "language": "python",
   "name": "python38-azureml"
  },
  "language_info": {
   "codemirror_mode": {
    "name": "ipython",
    "version": 3
   },
   "file_extension": ".py",
   "mimetype": "text/x-python",
   "name": "python",
   "nbconvert_exporter": "python",
   "pygments_lexer": "ipython3",
   "version": "3.8.5"
  },
  "nteract": {
   "version": "nteract-front-end@1.0.0"
  }
 },
 "nbformat": 4,
 "nbformat_minor": 2
}
