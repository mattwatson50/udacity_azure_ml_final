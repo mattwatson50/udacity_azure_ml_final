{
 "cells": [
  {
   "cell_type": "markdown",
   "metadata": {},
   "source": [
    "# Automated ML\n",
    "\n",
    "TODO: Import Dependencies. In the cell below, import all the dependencies that you will need to complete the project."
   ]
  },
  {
   "cell_type": "code",
   "execution_count": 15,
   "metadata": {
    "gather": {
     "logged": 1598423888013
    },
    "jupyter": {
     "outputs_hidden": false,
     "source_hidden": false
    },
    "nteract": {
     "transient": {
      "deleting": false
     }
    }
   },
   "outputs": [],
   "source": [
    "import requests\n",
    "import json\n",
    "\n",
    "from azureml.core import Workspace, Experiment\n",
    "from azureml.train.automl import AutoMLConfig\n",
    "from azureml.core.compute import ComputeTarget, AmlCompute\n",
    "from azureml.core.dataset import Dataset\n",
    "from azureml.widgets import RunDetails\n",
    "from azureml.automl.runtime.onnx_convert import OnnxConverter\n",
    "from azureml.core.model import InferenceConfig\n",
    "from azureml.core.webservice import AciWebservice\n",
    "from azureml.core import Environment"
   ]
  },
  {
   "cell_type": "markdown",
   "metadata": {},
   "source": [
    "## Dataset\n",
    "\n",
    "### Overview\n",
    "TODO: In this markdown cell, give an overview of the dataset you are using. Also mention the task you will be performing.\n",
    "\n",
    "\n",
    "TODO: Get data. In the cell below, write code to access the data you will be using in this project. Remember that the dataset needs to be external."
   ]
  },
  {
   "cell_type": "code",
   "execution_count": 10,
   "metadata": {
    "gather": {
     "logged": 1598423890461
    },
    "jupyter": {
     "outputs_hidden": false,
     "source_hidden": false
    },
    "nteract": {
     "transient": {
      "deleting": false
     }
    }
   },
   "outputs": [
    {
     "name": "stdout",
     "output_type": "stream",
     "text": [
      "Workspace.create(name='quick-starts-ws-256073', subscription_id='9e65f93e-bdd8-437b-b1e8-0647cd6098f7', resource_group='aml-quickstarts-256073')\n",
      "   season_id matchup_home     season_type  min         team_name_home  \\\n",
      "0      22015  ATL vs. DET  Regular Season  240          Atlanta Hawks   \n",
      "1      22015  GSW vs. NOP  Regular Season  240  Golden State Warriors   \n",
      "2      22015  CHI vs. CLE  Regular Season  240          Chicago Bulls   \n",
      "3      22015  BOS vs. PHI  Regular Season  240         Boston Celtics   \n",
      "4      22015  MIA vs. CHA  Regular Season  240             Miami Heat   \n",
      "\n",
      "   fg3m_home  fg3a_home  fg3_pct_home wl_home        team_name_away  \\\n",
      "0          8         27         0.296       L       Detroit Pistons   \n",
      "1          9         30         0.300       W  New Orleans Pelicans   \n",
      "2          7         19         0.368       W   Cleveland Cavaliers   \n",
      "3          8         24         0.333       W    Philadelphia 76ers   \n",
      "4         12         20         0.600       W     Charlotte Hornets   \n",
      "\n",
      "   fg3m_away  fg3a_away  fg3_pct_away wl_away  highest_3pp highest_3pp_wl  \n",
      "0         12         29         0.414       W        0.414              W  \n",
      "1          6         18         0.333       L        0.333              L  \n",
      "2          9         29         0.310       L        0.368              W  \n",
      "3          7         22         0.318       L        0.333              W  \n",
      "4          6         24         0.250       L        0.600              W  \n"
     ]
    }
   ],
   "source": [
    "# workspace setup\n",
    "ws = Workspace.from_config()\n",
    "print(ws)\n",
    "\n",
    "# dataset key info\n",
    "key = 'nba_3pt_data'\n",
    "data_desc = 'NBA game data from 2015 to 2023 containing 3 point percentages.'\n",
    "\n",
    "# checking if dataset is already registered\n",
    "if key in ws.datasets.keys():\n",
    "    nba_dataset = ws.datasets(key)\n",
    "else:\n",
    "    # get data from url\n",
    "    nba_data_url = 'https://raw.githubusercontent.com/mattwatson50/udacity_azure_ml_final/main/data/nba_3pt_data.csv'\n",
    "    dataset = Dataset.Tabular.from_delimited_files(nba_data_url)        \n",
    "    # register dataset\n",
    "    dataset = dataset.register(workspace=ws,\n",
    "                               name=key,\n",
    "                               description=data_desc)\n",
    "\n",
    "# getting nba dataset\n",
    "nba_df = nba_dataset.to_pandas_dataframe()\n",
    "print(nba_df.head())\n",
    "\n",
    "# choose a name for experiment\n",
    "experiment_name = 'automl_nba_3pt'\n",
    "\n",
    "experiment=Experiment(ws, experiment_name)"
   ]
  },
  {
   "cell_type": "code",
   "execution_count": 11,
   "metadata": {},
   "outputs": [
    {
     "name": "stdout",
     "output_type": "stream",
     "text": [
      "Cluster already created.\n",
      "Succeeded\n",
      "AmlCompute wait for completion finished\n",
      "\n",
      "Minimum number of nodes requested have been provisioned\n"
     ]
    }
   ],
   "source": [
    "# creating a compute cluster\n",
    "cluster_name = \"proj-compute-cluster\"\n",
    "\n",
    "try:\n",
    "    cpu_cluster = ComputeTarget(workspace=ws, name=cluster_name)\n",
    "    print('Cluster already created.')\n",
    "except ComputeTargetException:\n",
    "    compute_config = AmlCompute.provisioning_configuration(vm_size='STANDARD_DS3_V2',\n",
    "                                                           max_nodes=6)\n",
    "    cpu_cluster = ComputeTarget.create(ws, cluster_name, compute_config)\n",
    "\n",
    "cpu_cluster.wait_for_completion(show_output=True)"
   ]
  },
  {
   "cell_type": "markdown",
   "metadata": {},
   "source": [
    "## AutoML Configuration\n",
    "\n",
    "TODO: Explain why you chose the automl settings and cofiguration you used below."
   ]
  },
  {
   "cell_type": "code",
   "execution_count": 12,
   "metadata": {
    "gather": {
     "logged": 1598429217746
    },
    "jupyter": {
     "outputs_hidden": false,
     "source_hidden": false
    },
    "nteract": {
     "transient": {
      "deleting": false
     }
    }
   },
   "outputs": [],
   "source": [
    "# TODO: Put your automl settings here\n",
    "automl_settings = {\n",
    "    'experiment_timeout_minutes' : 30,\n",
    "    'task' : 'classification',\n",
    "    'primary_metric' : 'accuracy',\n",
    "    'training_data' : nba_dataset,\n",
    "    'label_column_name' : 'highest_3pp_wl',\n",
    "    'n_cross_validations' : 5,\n",
    "    'enable_early_stopping' : True,\n",
    "    'enable_onnx_compatible_models' : True\n",
    "}\n",
    "\n",
    "# TODO: Put your automl config here\n",
    "automl_config = AutoMLConfig(compute_target=cluster_name,\n",
    "                             **automl_settings)"
   ]
  },
  {
   "cell_type": "code",
   "execution_count": 13,
   "metadata": {
    "gather": {
     "logged": 1598431107951
    },
    "jupyter": {
     "outputs_hidden": false,
     "source_hidden": false
    },
    "nteract": {
     "transient": {
      "deleting": false
     }
    }
   },
   "outputs": [
    {
     "name": "stdout",
     "output_type": "stream",
     "text": [
      "Submitting remote run.\n"
     ]
    },
    {
     "data": {
      "text/html": [
       "<table style=\"width:100%\"><tr><th>Experiment</th><th>Id</th><th>Type</th><th>Status</th><th>Details Page</th><th>Docs Page</th></tr><tr><td>automl_nba</td><td>AutoML_9f2f0b89-96e9-4386-b51d-4f96314aef42</td><td>automl</td><td>NotStarted</td><td><a href=\"https://ml.azure.com/runs/AutoML_9f2f0b89-96e9-4386-b51d-4f96314aef42?wsid=/subscriptions/9e65f93e-bdd8-437b-b1e8-0647cd6098f7/resourcegroups/aml-quickstarts-256073/workspaces/quick-starts-ws-256073&amp;tid=660b3398-b80e-49d2-bc5b-ac1dc93b5254\" target=\"_blank\" rel=\"noopener\">Link to Azure Machine Learning studio</a></td><td><a href=\"https://docs.microsoft.com/en-us/python/api/overview/azure/ml/intro?view=azure-ml-py\" target=\"_blank\" rel=\"noopener\">Link to Documentation</a></td></tr></table>"
      ]
     },
     "metadata": {},
     "output_type": "display_data"
    }
   ],
   "source": [
    "# TODO: Submit your experiment\n",
    "remote_run = experiment.submit(automl_config)"
   ]
  },
  {
   "cell_type": "markdown",
   "metadata": {},
   "source": [
    "## Run Details\n",
    "\n",
    "OPTIONAL: Write about the different models trained and their performance. Why do you think some models did better than others?\n",
    "\n",
    "TODO: In the cell below, use the `RunDetails` widget to show the different experiments."
   ]
  },
  {
   "cell_type": "code",
   "execution_count": 16,
   "metadata": {
    "gather": {
     "logged": 1598431121770
    },
    "jupyter": {
     "outputs_hidden": false,
     "source_hidden": false
    },
    "nteract": {
     "transient": {
      "deleting": false
     }
    }
   },
   "outputs": [
    {
     "data": {
      "application/vnd.jupyter.widget-view+json": {
       "model_id": "81200e7ccefa45e1827892f48857e484",
       "version_major": 2,
       "version_minor": 0
      },
      "text/plain": [
       "_AutoMLWidget(widget_settings={'childWidgetDisplay': 'popup', 'send_telemetry': False, 'log_level': 'INFO', 's…"
      ]
     },
     "metadata": {},
     "output_type": "display_data"
    },
    {
     "data": {
      "application/aml.mini.widget.v1": "{\"status\": \"Completed\", \"workbench_run_details_uri\": \"https://ml.azure.com/runs/AutoML_9f2f0b89-96e9-4386-b51d-4f96314aef42?wsid=/subscriptions/9e65f93e-bdd8-437b-b1e8-0647cd6098f7/resourcegroups/aml-quickstarts-256073/workspaces/quick-starts-ws-256073&tid=660b3398-b80e-49d2-bc5b-ac1dc93b5254\", \"run_id\": \"AutoML_9f2f0b89-96e9-4386-b51d-4f96314aef42\", \"run_properties\": {\"run_id\": \"AutoML_9f2f0b89-96e9-4386-b51d-4f96314aef42\", \"created_utc\": \"2024-03-27T18:49:47.141614Z\", \"properties\": {\"num_iterations\": \"1000\", \"training_type\": \"TrainFull\", \"acquisition_function\": \"EI\", \"primary_metric\": \"accuracy\", \"train_split\": \"0\", \"acquisition_parameter\": \"0\", \"num_cross_validation\": \"5\", \"target\": \"proj-compute-cluster\", \"AMLSettingsJsonString\": \"{\\\"path\\\":null,\\\"name\\\":\\\"automl_nba\\\",\\\"subscription_id\\\":\\\"9e65f93e-bdd8-437b-b1e8-0647cd6098f7\\\",\\\"resource_group\\\":\\\"aml-quickstarts-256073\\\",\\\"workspace_name\\\":\\\"quick-starts-ws-256073\\\",\\\"region\\\":\\\"westus2\\\",\\\"compute_target\\\":\\\"proj-compute-cluster\\\",\\\"spark_service\\\":null,\\\"azure_service\\\":\\\"remote\\\",\\\"many_models\\\":false,\\\"pipeline_fetch_max_batch_size\\\":1,\\\"enable_batch_run\\\":true,\\\"enable_parallel_run\\\":false,\\\"num_procs\\\":null,\\\"enable_run_restructure\\\":false,\\\"start_auxiliary_runs_before_parent_complete\\\":false,\\\"enable_code_generation\\\":true,\\\"iterations\\\":1000,\\\"primary_metric\\\":\\\"accuracy\\\",\\\"task_type\\\":\\\"classification\\\",\\\"positive_label\\\":null,\\\"data_script\\\":null,\\\"test_size\\\":0.0,\\\"test_include_predictions_only\\\":false,\\\"validation_size\\\":0.0,\\\"n_cross_validations\\\":5,\\\"y_min\\\":null,\\\"y_max\\\":null,\\\"num_classes\\\":null,\\\"featurization\\\":\\\"auto\\\",\\\"_ignore_package_version_incompatibilities\\\":false,\\\"is_timeseries\\\":false,\\\"max_cores_per_iteration\\\":1,\\\"max_concurrent_iterations\\\":1,\\\"iteration_timeout_minutes\\\":null,\\\"mem_in_mb\\\":null,\\\"enforce_time_on_windows\\\":false,\\\"experiment_timeout_minutes\\\":30,\\\"experiment_exit_score\\\":null,\\\"partition_column_names\\\":null,\\\"whitelist_models\\\":null,\\\"blacklist_algos\\\":[\\\"TensorFlowLinearClassifier\\\",\\\"TensorFlowDNN\\\"],\\\"supported_models\\\":[\\\"GradientBoosting\\\",\\\"RandomForest\\\",\\\"TensorFlowLinearClassifier\\\",\\\"ExtremeRandomTrees\\\",\\\"KNN\\\",\\\"LogisticRegression\\\",\\\"LightGBM\\\",\\\"XGBoostClassifier\\\",\\\"AveragedPerceptronClassifier\\\",\\\"DecisionTree\\\",\\\"MultinomialNaiveBayes\\\",\\\"BernoulliNaiveBayes\\\",\\\"SVM\\\",\\\"TensorFlowDNN\\\",\\\"TabnetClassifier\\\",\\\"SGD\\\",\\\"LinearSVM\\\"],\\\"private_models\\\":[],\\\"auto_blacklist\\\":true,\\\"blacklist_samples_reached\\\":false,\\\"exclude_nan_labels\\\":true,\\\"verbosity\\\":20,\\\"_debug_log\\\":\\\"azureml_automl.log\\\",\\\"show_warnings\\\":false,\\\"model_explainability\\\":true,\\\"service_url\\\":null,\\\"sdk_url\\\":null,\\\"sdk_packages\\\":null,\\\"enable_onnx_compatible_models\\\":true,\\\"enable_split_onnx_featurizer_estimator_models\\\":false,\\\"vm_type\\\":\\\"Standard_DS3_v2\\\",\\\"telemetry_verbosity\\\":20,\\\"send_telemetry\\\":true,\\\"enable_dnn\\\":false,\\\"scenario\\\":\\\"AutoML\\\",\\\"environment_label\\\":null,\\\"save_mlflow\\\":false,\\\"enable_categorical_indicators\\\":false,\\\"force_text_dnn\\\":false,\\\"enable_feature_sweeping\\\":false,\\\"enable_early_stopping\\\":true,\\\"early_stopping_n_iters\\\":10,\\\"arguments\\\":null,\\\"dataset_id\\\":\\\"5d242fa0-350e-4ea9-861c-2b1d2d54653e\\\",\\\"hyperdrive_config\\\":null,\\\"validation_dataset_id\\\":null,\\\"run_source\\\":null,\\\"metrics\\\":null,\\\"enable_metric_confidence\\\":false,\\\"enable_ensembling\\\":true,\\\"enable_stack_ensembling\\\":false,\\\"ensemble_iterations\\\":15,\\\"enable_tf\\\":false,\\\"enable_subsampling\\\":null,\\\"subsample_seed\\\":null,\\\"enable_nimbusml\\\":false,\\\"enable_streaming\\\":false,\\\"force_streaming\\\":false,\\\"track_child_runs\\\":true,\\\"n_best_runs\\\":1,\\\"allowed_private_models\\\":[],\\\"label_column_name\\\":\\\"highest_3pp_wl\\\",\\\"weight_column_name\\\":null,\\\"cv_split_column_names\\\":null,\\\"enable_local_managed\\\":false,\\\"_local_managed_run_id\\\":null,\\\"cost_mode\\\":1,\\\"lag_length\\\":0,\\\"metric_operation\\\":\\\"maximize\\\",\\\"preprocess\\\":true}\", \"DataPrepJsonString\": \"{\\\\\\\"training_data\\\\\\\": {\\\\\\\"datasetId\\\\\\\": \\\\\\\"5d242fa0-350e-4ea9-861c-2b1d2d54653e\\\\\\\"}, \\\\\\\"datasets\\\\\\\": 0}\", \"EnableSubsampling\": null, \"runTemplate\": \"AutoML\", \"azureml.runsource\": \"automl\", \"display_task_type\": \"classification\", \"dependencies_versions\": \"{\\\"azureml-dataprep-native\\\": \\\"38.0.0\\\", \\\"azureml-dataprep\\\": \\\"4.10.8\\\", \\\"azureml-dataprep-rslex\\\": \\\"2.17.12\\\", \\\"azureml-train-automl-runtime\\\": \\\"1.51.0.post2\\\", \\\"azureml-train-automl-client\\\": \\\"1.51.0.post1\\\", \\\"azureml-training-tabular\\\": \\\"1.51.0.post1\\\", \\\"azureml-automl-runtime\\\": \\\"1.51.0.post1\\\", \\\"azureml-automl-core\\\": \\\"1.51.0.post1\\\", \\\"azureml-mlflow\\\": \\\"1.51.0\\\", \\\"azureml-datadrift\\\": \\\"1.51.0\\\", \\\"azureml-pipeline\\\": \\\"1.51.0\\\", \\\"azureml-contrib-dataset\\\": \\\"1.51.0\\\", \\\"azureml-contrib-notebook\\\": \\\"1.51.0\\\", \\\"azureml-accel-models\\\": \\\"1.51.0\\\", \\\"azureml-automl-dnn-nlp\\\": \\\"1.51.0\\\", \\\"azureml-pipeline-core\\\": \\\"1.51.0\\\", \\\"azureml-responsibleai\\\": \\\"1.51.0\\\", \\\"azureml-contrib-automl-pipeline-steps\\\": \\\"1.51.0\\\", \\\"azureml-pipeline-steps\\\": \\\"1.51.0\\\", \\\"azureml-core\\\": \\\"1.51.0\\\", \\\"azureml-contrib-reinforcementlearning\\\": \\\"1.51.0\\\", \\\"azureml-contrib-server\\\": \\\"1.51.0\\\", \\\"azureml-opendatasets\\\": \\\"1.51.0\\\", \\\"azureml-contrib-services\\\": \\\"1.51.0\\\", \\\"azureml-telemetry\\\": \\\"1.51.0\\\", \\\"azureml-train-restclients-hyperdrive\\\": \\\"1.51.0\\\", \\\"azureml-interpret\\\": \\\"1.51.0\\\", \\\"azureml-train-core\\\": \\\"1.51.0\\\", \\\"azureml-tensorboard\\\": \\\"1.51.0\\\", \\\"azureml-train\\\": \\\"1.51.0\\\", \\\"azureml-contrib-pipeline-steps\\\": \\\"1.51.0\\\", \\\"azureml-explain-model\\\": \\\"1.51.0\\\", \\\"azureml-cli-common\\\": \\\"1.51.0\\\", \\\"azureml-widgets\\\": \\\"1.51.0\\\", \\\"azureml-train-automl\\\": \\\"1.51.0\\\", \\\"azureml-defaults\\\": \\\"1.51.0\\\", \\\"azureml-contrib-fairness\\\": \\\"1.51.0\\\", \\\"azureml-sdk\\\": \\\"1.51.0\\\", \\\"azureml-dataset-runtime\\\": \\\"1.51.0\\\", \\\"azureml-inference-server-http\\\": \\\"0.8.4\\\"}\", \"_aml_system_scenario_identification\": \"Remote.Parent\", \"ClientType\": \"SDK\", \"PlatformVersion\": \"DPV1\", \"environment_cpu_name\": \"AzureML-AutoML\", \"environment_cpu_label\": \"scikit-upgrade2\", \"environment_gpu_name\": \"AzureML-AutoML-GPU\", \"environment_gpu_label\": \"scikit-upgrade2\", \"root_attribution\": \"automl\", \"attribution\": \"AutoML\", \"Orchestrator\": \"AutoML\", \"CancelUri\": \"https://westus2.api.azureml.ms/jasmine/v1.0/subscriptions/9e65f93e-bdd8-437b-b1e8-0647cd6098f7/resourceGroups/aml-quickstarts-256073/providers/Microsoft.MachineLearningServices/workspaces/quick-starts-ws-256073/experimentids/6c70b3c3-9d0d-4290-bb71-6ee0cee9e1ca/cancel/AutoML_9f2f0b89-96e9-4386-b51d-4f96314aef42\", \"ClientSdkVersion\": null, \"snapshotId\": \"00000000-0000-0000-0000-000000000000\", \"SetupRunId\": \"AutoML_9f2f0b89-96e9-4386-b51d-4f96314aef42_setup\", \"SetupRunContainerId\": \"dcid.AutoML_9f2f0b89-96e9-4386-b51d-4f96314aef42_setup\", \"FeaturizationRunJsonPath\": \"featurizer_container.json\", \"FeaturizationRunId\": \"AutoML_9f2f0b89-96e9-4386-b51d-4f96314aef42_featurize\", \"ProblemInfoJsonString\": \"{\\\"dataset_num_categorical\\\": 0, \\\"is_sparse\\\": true, \\\"subsampling\\\": false, \\\"has_extra_col\\\": true, \\\"dataset_classes\\\": 2, \\\"dataset_features\\\": 660, \\\"dataset_samples\\\": 10187, \\\"single_frequency_class_detected\\\": false}\", \"ModelExplainRunId\": \"AutoML_9f2f0b89-96e9-4386-b51d-4f96314aef42_ModelExplain\"}, \"tags\": {\"model_explain_run\": \"best_run\", \"_aml_system_automl_run_workspace_id\": \"3e516992-314e-4025-874c-aa00d2fc1241\", \"_aml_system_azureml.automlComponent\": \"AutoML\", \"pipeline_id_000\": \"5dfac790c5c209f98a1da2dc1c7fb76f0397324f;c7af0367625be6ac5c2fecbfc72ed444cb7a2111;799d2168db11fc19b9e1c6c1df62f8981ad39fe9;44b5d2d23120dfcf96a7dc6389a293d17a966b1b;3735210984ea10097d5c91905cf6300ac278cd89;5304e705d6f401cb07f85bcf0ca59ac1f84dfcf5;294650ec23bc3d067a4972de7ceb12f6e97260fa;3caa818370e5e0c328d6266c359019bd31681270;79ebb3b8c385e3190e3dd4c1fa28b74730528045;589334a57221e0720a95cf217c065115a7b841d1;5a8eb9d9f67b1dd7e9e4062585daa2417ea78989;35b8e2db3c5f6e714072e1be9f0210fe48426975;da45f657e4591caadf1589a85a1f7b8932585595;797e3e972ad02d947be4c64d2b06b775b6df7a49;3fd2e115482e0c7b92aa3297688aefb6c3aa6fb8;1dfdf370ba770047b14bfa59c40920815defcdab;5235e3d56688f5f38ef82d73fba7c2e698fc1af2;17f87d449bb43aaf3cdae4b7eb6dd6e7fbdaf343;dc68fbd594530b5d52812dd9b3ffa3d6d8ba625e;2032292dd602836ed754a266c771ac100c4c80dc;fedbb4995d6de479c513576119965d71276f03d1;e478544eb8734c07a1943f5bdf4e6605be6943df;3729fcdcce0e2533633dd5b0c9762f151aef849d;e7c78ea70fd379a87f18851b2b24b9c4d85cc441;04c1507aa326b2ef5d41ce4796b7e91f113b0ae9;b50199cdabdf259ad63e07a4298c340fec6b3a32;21a2896aab6f2ef7bfbc243a2b285f52cc2fe08d;5a7cc8c7cc69ba69ac36eec99283d6944b182016;8d6cf3e6f4331d0d81d9c1db48ceda8fada5f519;f608487f3423a4d41a4e6508822254c870b24e36;8520fafcdfafc4814110a6e10233269a5cb04dd5;d3812cd4cae6f09e5e02cdc7a9531db57c836045;d4e2676180ae8eecd8e10acb09be2380f214823d;fa16390cf5f14696601c7d969d4b3de1246ef303;__AutoML_Ensemble__\", \"score_000\": \"0.9885154089963738;0.9880244428032334;0.659271822606606;0.9172462534379917;0.9657408598436289;0.7394757342452172;0.9775205797746596;0.7127715284893841;0.7107109254069586;0.9637771396004149;0.8202639780353932;0.9741831080843454;0.7066854458465397;0.6184363562609873;0.9870427994756475;0.6844040308271463;0.7215091465397506;0.7543963177776396;0.9878285091845992;0.721312731156625;0.7795238528826137;0.9795818091509239;0.7109072926136351;0.9906749665053237;0.9857664608086996;0.7658787408410548;0.7109072926136351;0.9889082879390741;0.9749676615585179;0.9885152644670263;0.7107109254069586;0.9897915549575252;0.9801709589474024;0.9849813773935867;0.9917546489069003\", \"predicted_cost_000\": \"0;0;0.5;0.5;0.5;0.5;0.5;0.5;0.5;0.5;0.5;0.5;0.5;0.5;0.5;0.5;0.5;0.5;0.5;0.5;3.627758767502059;0.25626340834231576;0.21717026968813422;1.3622728500235903;4.793078521183817;0.269607065168813;0.03350938660176693;0.6727922038117428;0.672654728443006;2.6819521280128464;0.19809173586335893;2.357349728085891;3.539949803092558;1.341442274801512;0\", \"fit_time_000\": \"0.23159860000000002;0.6808444;0.6426468;0.33670839999999996;0.0902984;0.0790666;0.1513966;0.4229028;0.23192820000000003;0.11263720000000002;0.0665554;0.11009499999999998;0.41664519999999994;0.0747504;0.17428559999999998;0.9157666000000001;0.159409;0.5630398;0.30154139999999996;7.3540133999999995;11.174339;0.22679619999999998;0.0723866;4.757924000000001;3.7866396;0.152992;0.11476499999999998;0.562216;1.4846298;7.3348591999999995;0.22290000000000001;1.8795950000000001;4.9761616;2.8923124000000002;28\", \"training_percent_000\": \"100;100;100;100;100;100;100;100;100;100;100;100;100;100;100;100;100;100;100;100;100;100;100;100;100;100;100;100;100;100;100;100;100;100;100\", \"iteration_000\": \"0;1;2;3;4;5;6;7;8;9;10;11;12;13;14;15;16;17;18;19;20;21;22;23;24;25;26;27;28;29;30;31;32;33;34\", \"run_preprocessor_000\": \"MaxAbsScaler;MaxAbsScaler;MaxAbsScaler;SparseNormalizer;MaxAbsScaler;MaxAbsScaler;StandardScalerWrapper;MaxAbsScaler;StandardScalerWrapper;StandardScalerWrapper;SparseNormalizer;StandardScalerWrapper;MaxAbsScaler;MaxAbsScaler;StandardScalerWrapper;SparseNormalizer;StandardScalerWrapper;StandardScalerWrapper;StandardScalerWrapper;TruncatedSVDWrapper;TruncatedSVDWrapper;StandardScalerWrapper;MaxAbsScaler;StandardScalerWrapper;StandardScalerWrapper;TruncatedSVDWrapper;StandardScalerWrapper;StandardScalerWrapper;SparseNormalizer;StandardScalerWrapper;SparseNormalizer;StandardScalerWrapper;StandardScalerWrapper;StandardScalerWrapper;\", \"run_algorithm_000\": \"LightGBM;XGBoostClassifier;ExtremeRandomTrees;XGBoostClassifier;LightGBM;LightGBM;XGBoostClassifier;LogisticRegression;ExtremeRandomTrees;XGBoostClassifier;LightGBM;XGBoostClassifier;LogisticRegression;SGD;XGBoostClassifier;RandomForest;LogisticRegression;RandomForest;XGBoostClassifier;RandomForest;RandomForest;XGBoostClassifier;LightGBM;XGBoostClassifier;XGBoostClassifier;XGBoostClassifier;XGBoostClassifier;XGBoostClassifier;XGBoostClassifier;XGBoostClassifier;XGBoostClassifier;XGBoostClassifier;XGBoostClassifier;XGBoostClassifier;VotingEnsemble\", \"dynamic_allowlisting_iterations\": \"<25>;<30>;\", \"_aml_system_azureml.automl_early_exit_message\": \"Experiment timeout reached, hence experiment stopped. Current experiment timeout: 0 hour(s) 30 minute(s)\", \"automl_best_child_run_id\": \"AutoML_9f2f0b89-96e9-4386-b51d-4f96314aef42_34\", \"model_explain_best_run_child_id\": \"AutoML_9f2f0b89-96e9-4386-b51d-4f96314aef42_34\"}, \"end_time_utc\": \"2024-03-27T19:28:29.704287Z\", \"status\": \"Completed\", \"log_files\": {}, \"log_groups\": [], \"run_duration\": \"0:38:42\", \"run_number\": \"1711565387\", \"run_queued_details\": {\"status\": \"Completed\", \"details\": null}}, \"child_runs\": [{\"run_id\": \"AutoML_9f2f0b89-96e9-4386-b51d-4f96314aef42_setup\", \"run_number\": 1711565400, \"metric\": null, \"status\": \"Completed\", \"run_type\": \"azureml.scriptrun\", \"training_percent\": null, \"start_time\": \"2024-03-27T18:52:27.258812Z\", \"end_time\": \"2024-03-27T18:54:26.520052Z\", \"created_time\": \"2024-03-27T18:50:00.02182Z\", \"created_time_dt\": \"2024-03-27T18:50:00.02182Z\", \"duration\": \"0:04:26\", \"iteration\": null, \"goal\": null, \"run_name\": \"Completed\", \"run_properties\": null}, {\"run_id\": \"AutoML_9f2f0b89-96e9-4386-b51d-4f96314aef42_featurize\", \"run_number\": 1711565666, \"metric\": null, \"status\": \"Completed\", \"run_type\": \"automl.featurization\", \"training_percent\": null, \"start_time\": \"2024-03-27T18:54:27.230318Z\", \"end_time\": \"2024-03-27T18:56:42.271503Z\", \"created_time\": \"2024-03-27T18:54:26.884859Z\", \"created_time_dt\": \"2024-03-27T18:54:26.884859Z\", \"duration\": \"0:02:15\", \"iteration\": null, \"goal\": null, \"run_name\": \"Completed\", \"run_properties\": null}, {\"run_id\": \"AutoML_9f2f0b89-96e9-4386-b51d-4f96314aef42_0\", \"run_number\": 1711565804, \"metric\": null, \"status\": \"Completed\", \"run_type\": null, \"training_percent\": \"100\", \"start_time\": \"2024-03-27T18:57:23.153219Z\", \"end_time\": \"2024-03-27T18:57:37.375898Z\", \"created_time\": \"2024-03-27T18:56:44.240968Z\", \"created_time_dt\": \"2024-03-27T18:56:44.240968Z\", \"duration\": \"0:00:53\", \"iteration\": \"0\", \"goal\": \"accuracy_max\", \"run_name\": \"MaxAbsScaler, LightGBM\", \"run_properties\": \"copy=True\", \"primary_metric\": 0.98851541, \"best_metric\": 0.98851541}, {\"run_id\": \"AutoML_9f2f0b89-96e9-4386-b51d-4f96314aef42_2\", \"run_number\": 1711565805, \"metric\": null, \"status\": \"Completed\", \"run_type\": null, \"training_percent\": \"100\", \"start_time\": \"2024-03-27T18:57:53.362578Z\", \"end_time\": \"2024-03-27T18:58:08.60425Z\", \"created_time\": \"2024-03-27T18:56:45.414794Z\", \"created_time_dt\": \"2024-03-27T18:56:45.414794Z\", \"duration\": \"0:01:23\", \"iteration\": \"2\", \"goal\": \"accuracy_max\", \"run_name\": \"MaxAbsScaler, ExtremeRandomTrees\", \"run_properties\": \"copy=True\", \"primary_metric\": 0.65927182, \"best_metric\": 0.98851541}, {\"run_id\": \"AutoML_9f2f0b89-96e9-4386-b51d-4f96314aef42_3\", \"run_number\": 1711565806, \"metric\": null, \"status\": \"Completed\", \"run_type\": null, \"training_percent\": \"100\", \"start_time\": \"2024-03-27T18:58:09.254672Z\", \"end_time\": \"2024-03-27T18:58:21.481339Z\", \"created_time\": \"2024-03-27T18:56:46.026255Z\", \"created_time_dt\": \"2024-03-27T18:56:46.026255Z\", \"duration\": \"0:01:35\", \"iteration\": \"3\", \"goal\": \"accuracy_max\", \"run_name\": \"SparseNormalizer, XGBoostClassifier\", \"run_properties\": \"copy=True, norm='l2'\", \"primary_metric\": 0.91724625, \"best_metric\": 0.98851541}, {\"run_id\": \"AutoML_9f2f0b89-96e9-4386-b51d-4f96314aef42_5\", \"run_number\": 1711565807, \"metric\": null, \"status\": \"Completed\", \"run_type\": null, \"training_percent\": \"100\", \"start_time\": \"2024-03-27T18:58:33.589532Z\", \"end_time\": \"2024-03-27T18:58:43.916407Z\", \"created_time\": \"2024-03-27T18:56:47.124649Z\", \"created_time_dt\": \"2024-03-27T18:56:47.124649Z\", \"duration\": \"0:01:56\", \"iteration\": \"5\", \"goal\": \"accuracy_max\", \"run_name\": \"MaxAbsScaler, LightGBM\", \"run_properties\": \"copy=True\", \"primary_metric\": 0.73947573, \"best_metric\": 0.98851541}, {\"run_id\": \"AutoML_9f2f0b89-96e9-4386-b51d-4f96314aef42_7\", \"run_number\": 1711565808, \"metric\": null, \"status\": \"Completed\", \"run_type\": null, \"training_percent\": \"100\", \"start_time\": \"2024-03-27T18:58:56.064732Z\", \"end_time\": \"2024-03-27T18:59:09.101341Z\", \"created_time\": \"2024-03-27T18:56:48.078568Z\", \"created_time_dt\": \"2024-03-27T18:56:48.078568Z\", \"duration\": \"0:02:21\", \"iteration\": \"7\", \"goal\": \"accuracy_max\", \"run_name\": \"MaxAbsScaler, LogisticRegression\", \"run_properties\": \"copy=True\", \"primary_metric\": 0.71277153, \"best_metric\": 0.98851541}, {\"run_id\": \"AutoML_9f2f0b89-96e9-4386-b51d-4f96314aef42_9\", \"run_number\": 1711565809, \"metric\": null, \"status\": \"Completed\", \"run_type\": null, \"training_percent\": \"100\", \"start_time\": \"2024-03-27T18:59:22.17542Z\", \"end_time\": \"2024-03-27T18:59:32.886842Z\", \"created_time\": \"2024-03-27T18:56:49.011185Z\", \"created_time_dt\": \"2024-03-27T18:56:49.011185Z\", \"duration\": \"0:02:43\", \"iteration\": \"9\", \"goal\": \"accuracy_max\", \"run_name\": \"StandardScalerWrapper, XGBoostClassifier\", \"run_properties\": \"copy=True, with_mean=False, with_std=False\", \"primary_metric\": 0.96377714, \"best_metric\": 0.98851541}, {\"run_id\": \"AutoML_9f2f0b89-96e9-4386-b51d-4f96314aef42_11\", \"run_number\": 1711565810, \"metric\": null, \"status\": \"Completed\", \"run_type\": null, \"training_percent\": \"100\", \"start_time\": \"2024-03-27T18:59:44.917149Z\", \"end_time\": \"2024-03-27T18:59:55.466437Z\", \"created_time\": \"2024-03-27T18:56:49.997745Z\", \"created_time_dt\": \"2024-03-27T18:56:49.997745Z\", \"duration\": \"0:03:05\", \"iteration\": \"11\", \"goal\": \"accuracy_max\", \"run_name\": \"StandardScalerWrapper, XGBoostClassifier\", \"run_properties\": \"copy=True, with_mean=False, with_std=False\", \"primary_metric\": 0.97418311, \"best_metric\": 0.98851541}, {\"run_id\": \"AutoML_9f2f0b89-96e9-4386-b51d-4f96314aef42_14\", \"run_number\": 1711565811, \"metric\": null, \"status\": \"Completed\", \"run_type\": null, \"training_percent\": \"100\", \"start_time\": \"2024-03-27T19:00:20.262125Z\", \"end_time\": \"2024-03-27T19:00:31.1757Z\", \"created_time\": \"2024-03-27T18:56:51.455997Z\", \"created_time_dt\": \"2024-03-27T18:56:51.455997Z\", \"duration\": \"0:03:39\", \"iteration\": \"14\", \"goal\": \"accuracy_max\", \"run_name\": \"StandardScalerWrapper, XGBoostClassifier\", \"run_properties\": \"copy=True, with_mean=False, with_std=False\", \"primary_metric\": 0.9870428, \"best_metric\": 0.98851541}, {\"run_id\": \"AutoML_9f2f0b89-96e9-4386-b51d-4f96314aef42_16\", \"run_number\": 1711565812, \"metric\": null, \"status\": \"Completed\", \"run_type\": null, \"training_percent\": \"100\", \"start_time\": \"2024-03-27T19:00:48.535331Z\", \"end_time\": \"2024-03-27T19:00:59.536333Z\", \"created_time\": \"2024-03-27T18:56:52.408474Z\", \"created_time_dt\": \"2024-03-27T18:56:52.408474Z\", \"duration\": \"0:04:07\", \"iteration\": \"16\", \"goal\": \"accuracy_max\", \"run_name\": \"StandardScalerWrapper, LogisticRegression\", \"run_properties\": \"copy=True, with_mean=False, with_std=False\", \"primary_metric\": 0.72150915, \"best_metric\": 0.98851541}, {\"run_id\": \"AutoML_9f2f0b89-96e9-4386-b51d-4f96314aef42_18\", \"run_number\": 1711565813, \"metric\": null, \"status\": \"Completed\", \"run_type\": null, \"training_percent\": \"100\", \"start_time\": \"2024-03-27T19:01:14.588437Z\", \"end_time\": \"2024-03-27T19:01:26.844514Z\", \"created_time\": \"2024-03-27T18:56:53.531947Z\", \"created_time_dt\": \"2024-03-27T18:56:53.531947Z\", \"duration\": \"0:04:33\", \"iteration\": \"18\", \"goal\": \"accuracy_max\", \"run_name\": \"StandardScalerWrapper, XGBoostClassifier\", \"run_properties\": \"copy=True, with_mean=False, with_std=False\", \"primary_metric\": 0.98782851, \"best_metric\": 0.98851541}, {\"run_id\": \"AutoML_9f2f0b89-96e9-4386-b51d-4f96314aef42_worker_0\", \"run_number\": 1711565814, \"metric\": null, \"status\": \"Completed\", \"run_type\": \"azureml.scriptrun\", \"training_percent\": null, \"start_time\": \"2024-03-27T18:57:14.621991Z\", \"end_time\": \"2024-03-27T19:02:35.077876Z\", \"created_time\": \"2024-03-27T18:56:54.287686Z\", \"created_time_dt\": \"2024-03-27T18:56:54.287686Z\", \"duration\": \"0:05:40\", \"iteration\": null, \"goal\": null, \"run_name\": \"Completed\", \"run_properties\": null}, {\"run_id\": \"AutoML_9f2f0b89-96e9-4386-b51d-4f96314aef42_20\", \"run_number\": 1711566290, \"metric\": null, \"status\": \"Completed\", \"run_type\": \"azureml.scriptrun\", \"training_percent\": \"100\", \"start_time\": \"2024-03-27T19:09:14.833861Z\", \"end_time\": \"2024-03-27T19:12:33.308797Z\", \"created_time\": \"2024-03-27T19:04:50.931574Z\", \"created_time_dt\": \"2024-03-27T19:04:50.931574Z\", \"duration\": \"0:07:42\", \"iteration\": \"20\", \"goal\": \"accuracy_max\", \"run_name\": \"TruncatedSVDWrapper, RandomForest\", \"run_properties\": \"n_components=0.7026315789473684, random_state=None\", \"primary_metric\": 0.77952385, \"best_metric\": 0.98851541}, {\"run_id\": \"AutoML_9f2f0b89-96e9-4386-b51d-4f96314aef42_21\", \"run_number\": 1711566755, \"metric\": null, \"status\": \"Completed\", \"run_type\": \"azureml.scriptrun\", \"training_percent\": \"100\", \"start_time\": \"2024-03-27T19:12:56.361554Z\", \"end_time\": \"2024-03-27T19:13:26.329094Z\", \"created_time\": \"2024-03-27T19:12:35.051157Z\", \"created_time_dt\": \"2024-03-27T19:12:35.051157Z\", \"duration\": \"0:00:51\", \"iteration\": \"21\", \"goal\": \"accuracy_max\", \"run_name\": \"StandardScalerWrapper, XGBoostClassifier\", \"run_properties\": \"copy=True, with_mean=False, with_std=False\", \"primary_metric\": 0.97958181, \"best_metric\": 0.98851541}, {\"run_id\": \"AutoML_9f2f0b89-96e9-4386-b51d-4f96314aef42_22\", \"run_number\": 1711566807, \"metric\": null, \"status\": \"Completed\", \"run_type\": \"azureml.scriptrun\", \"training_percent\": \"100\", \"start_time\": \"2024-03-27T19:13:52.843854Z\", \"end_time\": \"2024-03-27T19:14:23.964955Z\", \"created_time\": \"2024-03-27T19:13:27.920735Z\", \"created_time_dt\": \"2024-03-27T19:13:27.920735Z\", \"duration\": \"0:00:56\", \"iteration\": \"22\", \"goal\": \"accuracy_max\", \"run_name\": \"MaxAbsScaler, LightGBM\", \"run_properties\": \"copy=True\", \"primary_metric\": 0.71090729, \"best_metric\": 0.98851541}, {\"run_id\": \"AutoML_9f2f0b89-96e9-4386-b51d-4f96314aef42_23\", \"run_number\": 1711566865, \"metric\": null, \"status\": \"Completed\", \"run_type\": \"azureml.scriptrun\", \"training_percent\": \"100\", \"start_time\": \"2024-03-27T19:14:45.288168Z\", \"end_time\": \"2024-03-27T19:15:45.676836Z\", \"created_time\": \"2024-03-27T19:14:25.476317Z\", \"created_time_dt\": \"2024-03-27T19:14:25.476317Z\", \"duration\": \"0:01:20\", \"iteration\": \"23\", \"goal\": \"accuracy_max\", \"run_name\": \"StandardScalerWrapper, XGBoostClassifier\", \"run_properties\": \"copy=True, with_mean=False, with_std=False\", \"primary_metric\": 0.99067497, \"best_metric\": 0.99067497}, {\"run_id\": \"AutoML_9f2f0b89-96e9-4386-b51d-4f96314aef42_24\", \"run_number\": 1711566947, \"metric\": null, \"status\": \"Completed\", \"run_type\": \"azureml.scriptrun\", \"training_percent\": \"100\", \"start_time\": \"2024-03-27T19:16:07.281646Z\", \"end_time\": \"2024-03-27T19:16:59.257143Z\", \"created_time\": \"2024-03-27T19:15:47.37993Z\", \"created_time_dt\": \"2024-03-27T19:15:47.37993Z\", \"duration\": \"0:01:11\", \"iteration\": \"24\", \"goal\": \"accuracy_max\", \"run_name\": \"StandardScalerWrapper, XGBoostClassifier\", \"run_properties\": \"copy=True, with_mean=False, with_std=False\", \"primary_metric\": 0.98576646, \"best_metric\": 0.99067497}, {\"run_id\": \"AutoML_9f2f0b89-96e9-4386-b51d-4f96314aef42_25\", \"run_number\": 1711567021, \"metric\": null, \"status\": \"Completed\", \"run_type\": \"azureml.scriptrun\", \"training_percent\": \"100\", \"start_time\": \"2024-03-27T19:17:24.324389Z\", \"end_time\": \"2024-03-27T19:17:52.865392Z\", \"created_time\": \"2024-03-27T19:17:01.500748Z\", \"created_time_dt\": \"2024-03-27T19:17:01.500748Z\", \"duration\": \"0:00:51\", \"iteration\": \"25\", \"goal\": \"accuracy_max\", \"run_name\": \"TruncatedSVDWrapper, XGBoostClassifier\", \"run_properties\": \"n_components=0.01, random_state=None\", \"primary_metric\": 0.76587874, \"best_metric\": 0.99067497}, {\"run_id\": \"AutoML_9f2f0b89-96e9-4386-b51d-4f96314aef42_26\", \"run_number\": 1711567074, \"metric\": null, \"status\": \"Completed\", \"run_type\": \"azureml.scriptrun\", \"training_percent\": \"100\", \"start_time\": \"2024-03-27T19:18:20.234673Z\", \"end_time\": \"2024-03-27T19:18:48.725045Z\", \"created_time\": \"2024-03-27T19:17:54.307365Z\", \"created_time_dt\": \"2024-03-27T19:17:54.307365Z\", \"duration\": \"0:00:54\", \"iteration\": \"26\", \"goal\": \"accuracy_max\", \"run_name\": \"StandardScalerWrapper, XGBoostClassifier\", \"run_properties\": \"copy=True, with_mean=False, with_std=False\", \"primary_metric\": 0.71090729, \"best_metric\": 0.99067497}, {\"run_id\": \"AutoML_9f2f0b89-96e9-4386-b51d-4f96314aef42_27\", \"run_number\": 1711567130, \"metric\": null, \"status\": \"Completed\", \"run_type\": \"azureml.scriptrun\", \"training_percent\": \"100\", \"start_time\": \"2024-03-27T19:19:14.193828Z\", \"end_time\": \"2024-03-27T19:19:44.983748Z\", \"created_time\": \"2024-03-27T19:18:50.112797Z\", \"created_time_dt\": \"2024-03-27T19:18:50.112797Z\", \"duration\": \"0:00:54\", \"iteration\": \"27\", \"goal\": \"accuracy_max\", \"run_name\": \"StandardScalerWrapper, XGBoostClassifier\", \"run_properties\": \"copy=True, with_mean=False, with_std=False\", \"primary_metric\": 0.98890829, \"best_metric\": 0.99067497}, {\"run_id\": \"AutoML_9f2f0b89-96e9-4386-b51d-4f96314aef42_28\", \"run_number\": 1711567186, \"metric\": null, \"status\": \"Completed\", \"run_type\": \"azureml.scriptrun\", \"training_percent\": \"100\", \"start_time\": \"2024-03-27T19:20:06.746432Z\", \"end_time\": \"2024-03-27T19:20:44.888556Z\", \"created_time\": \"2024-03-27T19:19:46.628952Z\", \"created_time_dt\": \"2024-03-27T19:19:46.628952Z\", \"duration\": \"0:00:58\", \"iteration\": \"28\", \"goal\": \"accuracy_max\", \"run_name\": \"SparseNormalizer, XGBoostClassifier\", \"run_properties\": \"copy=True, norm='l1'\", \"primary_metric\": 0.97496766, \"best_metric\": 0.99067497}, {\"run_id\": \"AutoML_9f2f0b89-96e9-4386-b51d-4f96314aef42_29\", \"run_number\": 1711567246, \"metric\": null, \"status\": \"Completed\", \"run_type\": \"azureml.scriptrun\", \"training_percent\": \"100\", \"start_time\": \"2024-03-27T19:21:07.396688Z\", \"end_time\": \"2024-03-27T19:22:25.962955Z\", \"created_time\": \"2024-03-27T19:20:46.473484Z\", \"created_time_dt\": \"2024-03-27T19:20:46.473484Z\", \"duration\": \"0:01:39\", \"iteration\": \"29\", \"goal\": \"accuracy_max\", \"run_name\": \"StandardScalerWrapper, XGBoostClassifier\", \"run_properties\": \"copy=True, with_mean=False, with_std=False\", \"primary_metric\": 0.98851526, \"best_metric\": 0.99067497}, {\"run_id\": \"AutoML_9f2f0b89-96e9-4386-b51d-4f96314aef42_30\", \"run_number\": 1711567348, \"metric\": null, \"status\": \"Completed\", \"run_type\": \"azureml.scriptrun\", \"training_percent\": \"100\", \"start_time\": \"2024-03-27T19:22:50.00375Z\", \"end_time\": \"2024-03-27T19:23:19.131625Z\", \"created_time\": \"2024-03-27T19:22:28.582641Z\", \"created_time_dt\": \"2024-03-27T19:22:28.582641Z\", \"duration\": \"0:00:50\", \"iteration\": \"30\", \"goal\": \"accuracy_max\", \"run_name\": \"SparseNormalizer, XGBoostClassifier\", \"run_properties\": \"copy=True, norm='l1'\", \"primary_metric\": 0.71071093, \"best_metric\": 0.99067497}, {\"run_id\": \"AutoML_9f2f0b89-96e9-4386-b51d-4f96314aef42_31\", \"run_number\": 1711567400, \"metric\": null, \"status\": \"Completed\", \"run_type\": \"azureml.scriptrun\", \"training_percent\": \"100\", \"start_time\": \"2024-03-27T19:23:42.484265Z\", \"end_time\": \"2024-03-27T19:24:22.536114Z\", \"created_time\": \"2024-03-27T19:23:20.797359Z\", \"created_time_dt\": \"2024-03-27T19:23:20.797359Z\", \"duration\": \"0:01:01\", \"iteration\": \"31\", \"goal\": \"accuracy_max\", \"run_name\": \"StandardScalerWrapper, XGBoostClassifier\", \"run_properties\": \"copy=True, with_mean=False, with_std=False\", \"primary_metric\": 0.98979155, \"best_metric\": 0.99067497}, {\"run_id\": \"AutoML_9f2f0b89-96e9-4386-b51d-4f96314aef42_32\", \"run_number\": 1711567464, \"metric\": null, \"status\": \"Completed\", \"run_type\": \"azureml.scriptrun\", \"training_percent\": \"100\", \"start_time\": \"2024-03-27T19:24:43.872515Z\", \"end_time\": \"2024-03-27T19:25:46.885718Z\", \"created_time\": \"2024-03-27T19:24:24.320201Z\", \"created_time_dt\": \"2024-03-27T19:24:24.320201Z\", \"duration\": \"0:01:22\", \"iteration\": \"32\", \"goal\": \"accuracy_max\", \"run_name\": \"StandardScalerWrapper, XGBoostClassifier\", \"run_properties\": \"copy=True, with_mean=False, with_std=False\", \"primary_metric\": 0.98017096, \"best_metric\": 0.99067497}, {\"run_id\": \"AutoML_9f2f0b89-96e9-4386-b51d-4f96314aef42_33\", \"run_number\": 1711567548, \"metric\": null, \"status\": \"Completed\", \"run_type\": \"azureml.scriptrun\", \"training_percent\": \"100\", \"start_time\": \"2024-03-27T19:26:10.547658Z\", \"end_time\": \"2024-03-27T19:26:58.233549Z\", \"created_time\": \"2024-03-27T19:25:48.447673Z\", \"created_time_dt\": \"2024-03-27T19:25:48.447673Z\", \"duration\": \"0:01:09\", \"iteration\": \"33\", \"goal\": \"accuracy_max\", \"run_name\": \"StandardScalerWrapper, XGBoostClassifier\", \"run_properties\": \"copy=True, with_mean=False, with_std=False\", \"primary_metric\": 0.98498138, \"best_metric\": 0.99067497}, {\"run_id\": \"AutoML_9f2f0b89-96e9-4386-b51d-4f96314aef42_34\", \"run_number\": 1711567619, \"metric\": null, \"status\": \"Completed\", \"run_type\": \"azureml.scriptrun\", \"training_percent\": \"100\", \"start_time\": \"2024-03-27T19:27:21.232449Z\", \"end_time\": \"2024-03-27T19:28:28.614623Z\", \"created_time\": \"2024-03-27T19:26:59.023582Z\", \"created_time_dt\": \"2024-03-27T19:26:59.023582Z\", \"duration\": \"0:01:29\", \"iteration\": \"34\", \"goal\": \"accuracy_max\", \"run_name\": \"VotingEnsemble\", \"run_properties\": \"classification_labels=numpy.array([0, 1]\", \"primary_metric\": 0.99175465, \"best_metric\": 0.99175465}], \"children_metrics\": {\"categories\": [0], \"series\": {\"average_precision_score_macro\": [{\"categories\": [\"0\", \"2\", \"3\", \"5\", \"7\", \"9\", \"11\", \"14\", \"16\", \"18\", \"20\", \"21\", \"22\", \"23\", \"24\", \"25\", \"26\", \"27\", \"28\", \"29\", \"30\", \"31\", \"32\", \"33\", \"34\"], \"mode\": \"markers\", \"name\": \"average_precision_score_macro\", \"stepped\": false, \"type\": \"scatter\", \"data\": [0.9989186072924847, 0.655026023507644, 0.9713437025778913, 0.9795268922521746, 0.6330359269624362, 0.9928735297537198, 0.9968254687434562, 0.999112509748452, 0.6084037456798046, 0.999187768688123, 0.8050519749974339, 0.9971038837526827, 0.8786452240020968, 0.9994696272639214, 0.9987759779947705, 0.7584135746729501, 0.7193794630027757, 0.9990896307391859, 0.9963690376902286, 0.9991995378061196, 0.5, 0.9992869314448957, 0.9978031772560426, 0.9985315180082619, 0.9994826993292275]}, {\"categories\": [\"0\", \"2\", \"3\", \"5\", \"7\", \"9\", \"11\", \"14\", \"16\", \"18\", \"20\", \"21\", \"22\", \"23\", \"24\", \"25\", \"26\", \"27\", \"28\", \"29\", \"30\", \"31\", \"32\", \"33\", \"34\"], \"mode\": \"lines\", \"name\": \"average_precision_score_macro_max\", \"stepped\": true, \"type\": \"scatter\", \"data\": [0.9989186072924847, 0.9989186072924847, 0.9989186072924847, 0.9989186072924847, 0.9989186072924847, 0.9989186072924847, 0.9989186072924847, 0.999112509748452, 0.999112509748452, 0.999187768688123, 0.999187768688123, 0.999187768688123, 0.999187768688123, 0.9994696272639214, 0.9994696272639214, 0.9994696272639214, 0.9994696272639214, 0.9994696272639214, 0.9994696272639214, 0.9994696272639214, 0.9994696272639214, 0.9994696272639214, 0.9994696272639214, 0.9994696272639214, 0.9994826993292275]}], \"f1_score_micro\": [{\"categories\": [\"0\", \"2\", \"3\", \"5\", \"7\", \"9\", \"11\", \"14\", \"16\", \"18\", \"20\", \"21\", \"22\", \"23\", \"24\", \"25\", \"26\", \"27\", \"28\", \"29\", \"30\", \"31\", \"32\", \"33\", \"34\"], \"mode\": \"markers\", \"name\": \"f1_score_micro\", \"stepped\": false, \"type\": \"scatter\", \"data\": [0.9885154089963738, 0.659271822606606, 0.9172462534379917, 0.7394757342452172, 0.7127715284893842, 0.9637771396004149, 0.9741831080843454, 0.9870427994756475, 0.7215091465397506, 0.9878285091845992, 0.7795238528826137, 0.9795818091509239, 0.7109072926136351, 0.9906749665053237, 0.9857664608086996, 0.7658787408410548, 0.7109072926136351, 0.9889082879390741, 0.9749676615585179, 0.9885152644670263, 0.7107109254069586, 0.9897915549575252, 0.9801709589474024, 0.9849813773935867, 0.9917546489069003]}, {\"categories\": [\"0\", \"2\", \"3\", \"5\", \"7\", \"9\", \"11\", \"14\", \"16\", \"18\", \"20\", \"21\", \"22\", \"23\", \"24\", \"25\", \"26\", \"27\", \"28\", \"29\", \"30\", \"31\", \"32\", \"33\", \"34\"], \"mode\": \"lines\", \"name\": \"f1_score_micro_max\", \"stepped\": true, \"type\": \"scatter\", \"data\": [0.9885154089963738, 0.9885154089963738, 0.9885154089963738, 0.9885154089963738, 0.9885154089963738, 0.9885154089963738, 0.9885154089963738, 0.9885154089963738, 0.9885154089963738, 0.9885154089963738, 0.9885154089963738, 0.9885154089963738, 0.9885154089963738, 0.9906749665053237, 0.9906749665053237, 0.9906749665053237, 0.9906749665053237, 0.9906749665053237, 0.9906749665053237, 0.9906749665053237, 0.9906749665053237, 0.9906749665053237, 0.9906749665053237, 0.9906749665053237, 0.9917546489069003]}], \"recall_score_macro\": [{\"categories\": [\"0\", \"2\", \"3\", \"5\", \"7\", \"9\", \"11\", \"14\", \"16\", \"18\", \"20\", \"21\", \"22\", \"23\", \"24\", \"25\", \"26\", \"27\", \"28\", \"29\", \"30\", \"31\", \"32\", \"33\", \"34\"], \"mode\": \"markers\", \"name\": \"recall_score_macro\", \"stepped\": false, \"type\": \"scatter\", \"data\": [0.9861367836571977, 0.6359578358061311, 0.8730841183961058, 0.5504049659851563, 0.5704037896628806, 0.9499417440846146, 0.9630767036819841, 0.9825864668685794, 0.5569732075382122, 0.9838251658456787, 0.7263926591801547, 0.972216736928791, 0.5003521126760564, 0.9885569077844505, 0.9829610273343332, 0.6595762097707137, 0.5017351069447684, 0.9864397366249893, 0.9663687409420619, 0.98680879007158, 0.5, 0.9873160874967113, 0.9706578507827544, 0.9818966816388922, 0.9892099409415549]}, {\"categories\": [\"0\", \"2\", \"3\", \"5\", \"7\", \"9\", \"11\", \"14\", \"16\", \"18\", \"20\", \"21\", \"22\", \"23\", \"24\", \"25\", \"26\", \"27\", \"28\", \"29\", \"30\", \"31\", \"32\", \"33\", \"34\"], \"mode\": \"lines\", \"name\": \"recall_score_macro_max\", \"stepped\": true, \"type\": \"scatter\", \"data\": [0.9861367836571977, 0.9861367836571977, 0.9861367836571977, 0.9861367836571977, 0.9861367836571977, 0.9861367836571977, 0.9861367836571977, 0.9861367836571977, 0.9861367836571977, 0.9861367836571977, 0.9861367836571977, 0.9861367836571977, 0.9861367836571977, 0.9885569077844505, 0.9885569077844505, 0.9885569077844505, 0.9885569077844505, 0.9885569077844505, 0.9885569077844505, 0.9885569077844505, 0.9885569077844505, 0.9885569077844505, 0.9885569077844505, 0.9885569077844505, 0.9892099409415549]}], \"average_precision_score_weighted\": [{\"categories\": [\"0\", \"2\", \"3\", \"5\", \"7\", \"9\", \"11\", \"14\", \"16\", \"18\", \"20\", \"21\", \"22\", \"23\", \"24\", \"25\", \"26\", \"27\", \"28\", \"29\", \"30\", \"31\", \"32\", \"33\", \"34\"], \"mode\": \"markers\", \"name\": \"average_precision_score_weighted\", \"stepped\": false, \"type\": \"scatter\", \"data\": [0.9992393112073856, 0.7331265945358766, 0.9798389811991459, 0.9855522072159673, 0.7138619755828868, 0.9950102584672085, 0.9977766519203722, 0.9993763182879827, 0.6837824777023624, 0.9994292976107978, 0.8497457435856977, 0.9980024792820805, 0.9048746095481748, 0.9996266528942505, 0.9991394668037579, 0.8185579789232854, 0.7898558253404907, 0.9993615564934186, 0.9974485350744603, 0.9994381833184667, 0.5888811295319246, 0.9994984134562259, 0.9984571401645702, 0.998968588855287, 0.9996353069982413]}, {\"categories\": [\"0\", \"2\", \"3\", \"5\", \"7\", \"9\", \"11\", \"14\", \"16\", \"18\", \"20\", \"21\", \"22\", \"23\", \"24\", \"25\", \"26\", \"27\", \"28\", \"29\", \"30\", \"31\", \"32\", \"33\", \"34\"], \"mode\": \"lines\", \"name\": \"average_precision_score_weighted_max\", \"stepped\": true, \"type\": \"scatter\", \"data\": [0.9992393112073856, 0.9992393112073856, 0.9992393112073856, 0.9992393112073856, 0.9992393112073856, 0.9992393112073856, 0.9992393112073856, 0.9993763182879827, 0.9993763182879827, 0.9994292976107978, 0.9994292976107978, 0.9994292976107978, 0.9994292976107978, 0.9996266528942505, 0.9996266528942505, 0.9996266528942505, 0.9996266528942505, 0.9996266528942505, 0.9996266528942505, 0.9996266528942505, 0.9996266528942505, 0.9996266528942505, 0.9996266528942505, 0.9996266528942505, 0.9996353069982413]}], \"balanced_accuracy\": [{\"categories\": [\"0\", \"2\", \"3\", \"5\", \"7\", \"9\", \"11\", \"14\", \"16\", \"18\", \"20\", \"21\", \"22\", \"23\", \"24\", \"25\", \"26\", \"27\", \"28\", \"29\", \"30\", \"31\", \"32\", \"33\", \"34\"], \"mode\": \"markers\", \"name\": \"balanced_accuracy\", \"stepped\": false, \"type\": \"scatter\", \"data\": [0.9861367836571977, 0.6359578358061311, 0.8730841183961058, 0.5504049659851563, 0.5704037896628806, 0.9499417440846146, 0.9630767036819841, 0.9825864668685794, 0.5569732075382122, 0.9838251658456787, 0.7263926591801547, 0.972216736928791, 0.5003521126760564, 0.9885569077844505, 0.9829610273343332, 0.6595762097707137, 0.5017351069447684, 0.9864397366249893, 0.9663687409420619, 0.98680879007158, 0.5, 0.9873160874967113, 0.9706578507827544, 0.9818966816388922, 0.9892099409415549]}, {\"categories\": [\"0\", \"2\", \"3\", \"5\", \"7\", \"9\", \"11\", \"14\", \"16\", \"18\", \"20\", \"21\", \"22\", \"23\", \"24\", \"25\", \"26\", \"27\", \"28\", \"29\", \"30\", \"31\", \"32\", \"33\", \"34\"], \"mode\": \"lines\", \"name\": \"balanced_accuracy_max\", \"stepped\": true, \"type\": \"scatter\", \"data\": [0.9861367836571977, 0.9861367836571977, 0.9861367836571977, 0.9861367836571977, 0.9861367836571977, 0.9861367836571977, 0.9861367836571977, 0.9861367836571977, 0.9861367836571977, 0.9861367836571977, 0.9861367836571977, 0.9861367836571977, 0.9861367836571977, 0.9885569077844505, 0.9885569077844505, 0.9885569077844505, 0.9885569077844505, 0.9885569077844505, 0.9885569077844505, 0.9885569077844505, 0.9885569077844505, 0.9885569077844505, 0.9885569077844505, 0.9885569077844505, 0.9892099409415549]}], \"AUC_macro\": [{\"categories\": [\"0\", \"2\", \"3\", \"5\", \"7\", \"9\", \"11\", \"14\", \"16\", \"18\", \"20\", \"21\", \"22\", \"23\", \"24\", \"25\", \"26\", \"27\", \"28\", \"29\", \"30\", \"31\", \"32\", \"33\", \"34\"], \"mode\": \"markers\", \"name\": \"AUC_macro\", \"stepped\": false, \"type\": \"scatter\", \"data\": [0.9992244569899761, 0.6932207883977396, 0.9791794946525231, 0.9851449349732292, 0.6723292918381064, 0.994799747333675, 0.9977221954442749, 0.9993696066387578, 0.6299075218778759, 0.9994198476826938, 0.8223191293144014, 0.9979966149262051, 0.8915828326602485, 0.9996226990631142, 0.9991183515613024, 0.7934968871201538, 0.7628966404245453, 0.9993504853461795, 0.997346389627735, 0.9994279144479856, 0.5, 0.9994905773121303, 0.9984206368596562, 0.9989411029751164, 0.9996272779164782]}, {\"categories\": [\"0\", \"2\", \"3\", \"5\", \"7\", \"9\", \"11\", \"14\", \"16\", \"18\", \"20\", \"21\", \"22\", \"23\", \"24\", \"25\", \"26\", \"27\", \"28\", \"29\", \"30\", \"31\", \"32\", \"33\", \"34\"], \"mode\": \"lines\", \"name\": \"AUC_macro_max\", \"stepped\": true, \"type\": \"scatter\", \"data\": [0.9992244569899761, 0.9992244569899761, 0.9992244569899761, 0.9992244569899761, 0.9992244569899761, 0.9992244569899761, 0.9992244569899761, 0.9993696066387578, 0.9993696066387578, 0.9994198476826938, 0.9994198476826938, 0.9994198476826938, 0.9994198476826938, 0.9996226990631142, 0.9996226990631142, 0.9996226990631142, 0.9996226990631142, 0.9996226990631142, 0.9996226990631142, 0.9996226990631142, 0.9996226990631142, 0.9996226990631142, 0.9996226990631142, 0.9996226990631142, 0.9996272779164782]}], \"AUC_weighted\": [{\"categories\": [\"0\", \"2\", \"3\", \"5\", \"7\", \"9\", \"11\", \"14\", \"16\", \"18\", \"20\", \"21\", \"22\", \"23\", \"24\", \"25\", \"26\", \"27\", \"28\", \"29\", \"30\", \"31\", \"32\", \"33\", \"34\"], \"mode\": \"markers\", \"name\": \"AUC_weighted\", \"stepped\": false, \"type\": \"scatter\", \"data\": [0.9992244569899761, 0.6932207883977396, 0.9791794946525233, 0.9851449349732292, 0.6723292918381064, 0.9947997473336748, 0.9977221954442749, 0.9993696066387576, 0.6299075218778759, 0.9994198476826938, 0.8223191293144014, 0.9979966149262051, 0.8915828326602485, 0.9996226990631142, 0.9991183515613024, 0.7934968871201538, 0.7628966404245453, 0.9993504853461795, 0.9973463896277348, 0.9994279144479858, 0.5, 0.9994905773121303, 0.9984206368596563, 0.9989411029751164, 0.9996272779164782]}, {\"categories\": [\"0\", \"2\", \"3\", \"5\", \"7\", \"9\", \"11\", \"14\", \"16\", \"18\", \"20\", \"21\", \"22\", \"23\", \"24\", \"25\", \"26\", \"27\", \"28\", \"29\", \"30\", \"31\", \"32\", \"33\", \"34\"], \"mode\": \"lines\", \"name\": \"AUC_weighted_max\", \"stepped\": true, \"type\": \"scatter\", \"data\": [0.9992244569899761, 0.9992244569899761, 0.9992244569899761, 0.9992244569899761, 0.9992244569899761, 0.9992244569899761, 0.9992244569899761, 0.9993696066387576, 0.9993696066387576, 0.9994198476826938, 0.9994198476826938, 0.9994198476826938, 0.9994198476826938, 0.9996226990631142, 0.9996226990631142, 0.9996226990631142, 0.9996226990631142, 0.9996226990631142, 0.9996226990631142, 0.9996226990631142, 0.9996226990631142, 0.9996226990631142, 0.9996226990631142, 0.9996226990631142, 0.9996272779164782]}], \"AUC_micro\": [{\"categories\": [\"0\", \"2\", \"3\", \"5\", \"7\", \"9\", \"11\", \"14\", \"16\", \"18\", \"20\", \"21\", \"22\", \"23\", \"24\", \"25\", \"26\", \"27\", \"28\", \"29\", \"30\", \"31\", \"32\", \"33\", \"34\"], \"mode\": \"markers\", \"name\": \"AUC_micro\", \"stepped\": false, \"type\": \"scatter\", \"data\": [0.9993509408251672, 0.7158523668288721, 0.9765962388703862, 0.914912359064149, 0.7789110130504036, 0.9952725379688449, 0.9978731665401834, 0.9994495086697261, 0.7643374613225169, 0.9994909023408833, 0.8641917719716208, 0.998184358963727, 0.8717323073220383, 0.9996755631892033, 0.999276258193088, 0.8483080788598618, 0.8189109698690397, 0.9994609769359102, 0.997771027194737, 0.9995227391984303, 0.7107109254069586, 0.9995647959431226, 0.9984526842968664, 0.9991157071009074, 0.9996797377292699]}, {\"categories\": [\"0\", \"2\", \"3\", \"5\", \"7\", \"9\", \"11\", \"14\", \"16\", \"18\", \"20\", \"21\", \"22\", \"23\", \"24\", \"25\", \"26\", \"27\", \"28\", \"29\", \"30\", \"31\", \"32\", \"33\", \"34\"], \"mode\": \"lines\", \"name\": \"AUC_micro_max\", \"stepped\": true, \"type\": \"scatter\", \"data\": [0.9993509408251672, 0.9993509408251672, 0.9993509408251672, 0.9993509408251672, 0.9993509408251672, 0.9993509408251672, 0.9993509408251672, 0.9994495086697261, 0.9994495086697261, 0.9994909023408833, 0.9994909023408833, 0.9994909023408833, 0.9994909023408833, 0.9996755631892033, 0.9996755631892033, 0.9996755631892033, 0.9996755631892033, 0.9996755631892033, 0.9996755631892033, 0.9996755631892033, 0.9996755631892033, 0.9996755631892033, 0.9996755631892033, 0.9996755631892033, 0.9996797377292699]}], \"precision_score_macro\": [{\"categories\": [\"0\", \"2\", \"3\", \"5\", \"7\", \"9\", \"11\", \"14\", \"16\", \"18\", \"20\", \"21\", \"22\", \"23\", \"24\", \"25\", \"26\", \"27\", \"28\", \"29\", \"30\", \"31\", \"32\", \"33\", \"34\"], \"mode\": \"markers\", \"name\": \"precision_score_macro\", \"stepped\": false, \"type\": \"scatter\", \"data\": [0.9860226652931141, 0.6182406545733541, 0.9234266555981143, 0.766218469211624, 0.6269480767784106, 0.9612201840820569, 0.9738980599027972, 0.9859005095435599, 0.6520275719504761, 0.9866022927031288, 0.7319441630350594, 0.9777598926360334, 0.45542633823827233, 0.988827268484102, 0.982485420731091, 0.7221686093288177, 0.5785354552788526, 0.9866700956494837, 0.9724687455075574, 0.9853693631205449, 0.3553554627034793, 0.9879189920590971, 0.9810039868601128, 0.9816254756625563, 0.9907703302491632]}, {\"categories\": [\"0\", \"2\", \"3\", \"5\", \"7\", \"9\", \"11\", \"14\", \"16\", \"18\", \"20\", \"21\", \"22\", \"23\", \"24\", \"25\", \"26\", \"27\", \"28\", \"29\", \"30\", \"31\", \"32\", \"33\", \"34\"], \"mode\": \"lines\", \"name\": \"precision_score_macro_max\", \"stepped\": true, \"type\": \"scatter\", \"data\": [0.9860226652931141, 0.9860226652931141, 0.9860226652931141, 0.9860226652931141, 0.9860226652931141, 0.9860226652931141, 0.9860226652931141, 0.9860226652931141, 0.9860226652931141, 0.9866022927031288, 0.9866022927031288, 0.9866022927031288, 0.9866022927031288, 0.988827268484102, 0.988827268484102, 0.988827268484102, 0.988827268484102, 0.988827268484102, 0.988827268484102, 0.988827268484102, 0.988827268484102, 0.988827268484102, 0.988827268484102, 0.988827268484102, 0.9907703302491632]}], \"average_precision_score_micro\": [{\"categories\": [\"0\", \"2\", \"3\", \"5\", \"7\", \"9\", \"11\", \"14\", \"16\", \"18\", \"20\", \"21\", \"22\", \"23\", \"24\", \"25\", \"26\", \"27\", \"28\", \"29\", \"30\", \"31\", \"32\", \"33\", \"34\"], \"mode\": \"markers\", \"name\": \"average_precision_score_micro\", \"stepped\": false, \"type\": \"scatter\", \"data\": [0.9993601811480873, 0.6873998082216162, 0.9774222946929418, 0.9241414747914402, 0.7667154637351562, 0.9953976050428928, 0.9979167727044841, 0.9994553305318219, 0.7393961156944517, 0.9994973271740107, 0.8635016637301944, 0.9982219904530713, 0.8729278115545158, 0.9996787823334123, 0.999286528660883, 0.8480341715679247, 0.8204756945922271, 0.9994681221127418, 0.9978188604353793, 0.9995283914252404, 0.6497960274694415, 0.999570005600351, 0.9984820670645005, 0.9991290190115576, 0.9996832568585639]}, {\"categories\": [\"0\", \"2\", \"3\", \"5\", \"7\", \"9\", \"11\", \"14\", \"16\", \"18\", \"20\", \"21\", \"22\", \"23\", \"24\", \"25\", \"26\", \"27\", \"28\", \"29\", \"30\", \"31\", \"32\", \"33\", \"34\"], \"mode\": \"lines\", \"name\": \"average_precision_score_micro_max\", \"stepped\": true, \"type\": \"scatter\", \"data\": [0.9993601811480873, 0.9993601811480873, 0.9993601811480873, 0.9993601811480873, 0.9993601811480873, 0.9993601811480873, 0.9993601811480873, 0.9994553305318219, 0.9994553305318219, 0.9994973271740107, 0.9994973271740107, 0.9994973271740107, 0.9994973271740107, 0.9996787823334123, 0.9996787823334123, 0.9996787823334123, 0.9996787823334123, 0.9996787823334123, 0.9996787823334123, 0.9996787823334123, 0.9996787823334123, 0.9996787823334123, 0.9996787823334123, 0.9996787823334123, 0.9996832568585639]}], \"weighted_accuracy\": [{\"categories\": [\"0\", \"2\", \"3\", \"5\", \"7\", \"9\", \"11\", \"14\", \"16\", \"18\", \"20\", \"21\", \"22\", \"23\", \"24\", \"25\", \"26\", \"27\", \"28\", \"29\", \"30\", \"31\", \"32\", \"33\", \"34\"], \"mode\": \"markers\", \"name\": \"weighted_accuracy\", \"stepped\": false, \"type\": \"scatter\", \"data\": [0.9901902388103423, 0.6754668103927772, 0.9479643118426313, 0.8716188661637346, 0.8122022706239813, 0.9734291022016477, 0.9819143696037351, 0.9901659925256784, 0.8364147485335988, 0.9906277286630223, 0.8166031483798457, 0.984680869326563, 0.8578369412515008, 0.9921651242468161, 0.9877289591545525, 0.840102850297521, 0.8569001946278758, 0.990652342954065, 0.9809606733659011, 0.9897098707436071, 0.8577453499534803, 0.9915250202050023, 0.9868072880657295, 0.9871346920966182, 0.9935414321034759]}, {\"categories\": [\"0\", \"2\", \"3\", \"5\", \"7\", \"9\", \"11\", \"14\", \"16\", \"18\", \"20\", \"21\", \"22\", \"23\", \"24\", \"25\", \"26\", \"27\", \"28\", \"29\", \"30\", \"31\", \"32\", \"33\", \"34\"], \"mode\": \"lines\", \"name\": \"weighted_accuracy_max\", \"stepped\": true, \"type\": \"scatter\", \"data\": [0.9901902388103423, 0.9901902388103423, 0.9901902388103423, 0.9901902388103423, 0.9901902388103423, 0.9901902388103423, 0.9901902388103423, 0.9901902388103423, 0.9901902388103423, 0.9906277286630223, 0.9906277286630223, 0.9906277286630223, 0.9906277286630223, 0.9921651242468161, 0.9921651242468161, 0.9921651242468161, 0.9921651242468161, 0.9921651242468161, 0.9921651242468161, 0.9921651242468161, 0.9921651242468161, 0.9921651242468161, 0.9921651242468161, 0.9921651242468161, 0.9935414321034759]}], \"log_loss\": [{\"categories\": [\"0\", \"2\", \"3\", \"5\", \"7\", \"9\", \"11\", \"14\", \"16\", \"18\", \"20\", \"21\", \"22\", \"23\", \"24\", \"25\", \"26\", \"27\", \"28\", \"29\", \"30\", \"31\", \"32\", \"33\", \"34\"], \"mode\": \"markers\", \"name\": \"log_loss\", \"stepped\": false, \"type\": \"scatter\", \"data\": [0.04392200007555409, 0.6752780420524652, 0.641633037050598, 0.4441089466886014, 0.5734355196066175, 0.14742736999275824, 0.14461722382992245, 0.07915494088525976, 0.5899129562716279, 0.11783399489995243, 0.6205911215569403, 0.12429441019993656, 0.5123172095026004, 0.04496376147036625, 0.03487366875161624, 0.4832043557211298, 0.5483568738686373, 0.03679880944144899, 0.0716541873106081, 0.031181113563370593, 0.6015889034853592, 0.0425644406821988, 0.3410884485417579, 0.03875466656817024, 0.1602617324083043]}, {\"categories\": [\"0\", \"2\", \"3\", \"5\", \"7\", \"9\", \"11\", \"14\", \"16\", \"18\", \"20\", \"21\", \"22\", \"23\", \"24\", \"25\", \"26\", \"27\", \"28\", \"29\", \"30\", \"31\", \"32\", \"33\", \"34\"], \"mode\": \"lines\", \"name\": \"log_loss_min\", \"stepped\": true, \"type\": \"scatter\", \"data\": [0.04392200007555409, 0.04392200007555409, 0.04392200007555409, 0.04392200007555409, 0.04392200007555409, 0.04392200007555409, 0.04392200007555409, 0.04392200007555409, 0.04392200007555409, 0.04392200007555409, 0.04392200007555409, 0.04392200007555409, 0.04392200007555409, 0.04392200007555409, 0.03487366875161624, 0.03487366875161624, 0.03487366875161624, 0.03487366875161624, 0.03487366875161624, 0.031181113563370593, 0.031181113563370593, 0.031181113563370593, 0.031181113563370593, 0.031181113563370593, 0.031181113563370593]}], \"f1_score_macro\": [{\"categories\": [\"0\", \"2\", \"3\", \"5\", \"7\", \"9\", \"11\", \"14\", \"16\", \"18\", \"20\", \"21\", \"22\", \"23\", \"24\", \"25\", \"26\", \"27\", \"28\", \"29\", \"30\", \"31\", \"32\", \"33\", \"34\"], \"mode\": \"markers\", \"name\": \"f1_score_macro\", \"stepped\": false, \"type\": \"scatter\", \"data\": [0.9860565306346583, 0.6193225352189085, 0.8932840095555477, 0.5076182800747578, 0.5680491965069109, 0.9553345325236787, 0.9682582870828831, 0.9842184647815847, 0.5419608682625751, 0.9851993568846964, 0.7288383393762542, 0.9749134634310337, 0.41618901852936424, 0.9886841928763037, 0.9827113627883639, 0.6741208517380206, 0.4204489027222057, 0.9865439737980768, 0.9693449995294943, 0.9860759422353491, 0.4154394335490106, 0.9876126143594934, 0.9756416840870875, 0.9817568443240875, 0.9899796750450014]}, {\"categories\": [\"0\", \"2\", \"3\", \"5\", \"7\", \"9\", \"11\", \"14\", \"16\", \"18\", \"20\", \"21\", \"22\", \"23\", \"24\", \"25\", \"26\", \"27\", \"28\", \"29\", \"30\", \"31\", \"32\", \"33\", \"34\"], \"mode\": \"lines\", \"name\": \"f1_score_macro_max\", \"stepped\": true, \"type\": \"scatter\", \"data\": [0.9860565306346583, 0.9860565306346583, 0.9860565306346583, 0.9860565306346583, 0.9860565306346583, 0.9860565306346583, 0.9860565306346583, 0.9860565306346583, 0.9860565306346583, 0.9860565306346583, 0.9860565306346583, 0.9860565306346583, 0.9860565306346583, 0.9886841928763037, 0.9886841928763037, 0.9886841928763037, 0.9886841928763037, 0.9886841928763037, 0.9886841928763037, 0.9886841928763037, 0.9886841928763037, 0.9886841928763037, 0.9886841928763037, 0.9886841928763037, 0.9899796750450014]}], \"recall_score_micro\": [{\"categories\": [\"0\", \"2\", \"3\", \"5\", \"7\", \"9\", \"11\", \"14\", \"16\", \"18\", \"20\", \"21\", \"22\", \"23\", \"24\", \"25\", \"26\", \"27\", \"28\", \"29\", \"30\", \"31\", \"32\", \"33\", \"34\"], \"mode\": \"markers\", \"name\": \"recall_score_micro\", \"stepped\": false, \"type\": \"scatter\", \"data\": [0.9885154089963738, 0.659271822606606, 0.9172462534379917, 0.7394757342452172, 0.7127715284893841, 0.9637771396004149, 0.9741831080843454, 0.9870427994756475, 0.7215091465397506, 0.9878285091845992, 0.7795238528826137, 0.9795818091509239, 0.7109072926136351, 0.9906749665053237, 0.9857664608086996, 0.7658787408410548, 0.7109072926136351, 0.9889082879390741, 0.9749676615585179, 0.9885152644670263, 0.7107109254069586, 0.9897915549575252, 0.9801709589474024, 0.9849813773935867, 0.9917546489069003]}, {\"categories\": [\"0\", \"2\", \"3\", \"5\", \"7\", \"9\", \"11\", \"14\", \"16\", \"18\", \"20\", \"21\", \"22\", \"23\", \"24\", \"25\", \"26\", \"27\", \"28\", \"29\", \"30\", \"31\", \"32\", \"33\", \"34\"], \"mode\": \"lines\", \"name\": \"recall_score_micro_max\", \"stepped\": true, \"type\": \"scatter\", \"data\": [0.9885154089963738, 0.9885154089963738, 0.9885154089963738, 0.9885154089963738, 0.9885154089963738, 0.9885154089963738, 0.9885154089963738, 0.9885154089963738, 0.9885154089963738, 0.9885154089963738, 0.9885154089963738, 0.9885154089963738, 0.9885154089963738, 0.9906749665053237, 0.9906749665053237, 0.9906749665053237, 0.9906749665053237, 0.9906749665053237, 0.9906749665053237, 0.9906749665053237, 0.9906749665053237, 0.9906749665053237, 0.9906749665053237, 0.9906749665053237, 0.9917546489069003]}], \"matthews_correlation\": [{\"categories\": [\"0\", \"2\", \"3\", \"5\", \"7\", \"9\", \"11\", \"14\", \"16\", \"18\", \"20\", \"21\", \"22\", \"23\", \"24\", \"25\", \"26\", \"27\", \"28\", \"29\", \"30\", \"31\", \"32\", \"33\", \"34\"], \"mode\": \"markers\", \"name\": \"matthews_correlation\", \"stepped\": false, \"type\": \"scatter\", \"data\": [0.9721522294279117, 0.253564894218105, 0.794729227448795, 0.21865478234939922, 0.18884686850293325, 0.9110870050527234, 0.9369019939344503, 0.9684795429793567, 0.18538318758328745, 0.9704230705071438, 0.4582583961689653, 0.9499525266382154, 0.010083226357874241, 0.9773817262152477, 0.9654429187615822, 0.3764743090773107, 0.02553883434403953, 0.9731064343276536, 0.938814957025496, 0.9721741441752622, 0.0, 0.9752335471030318, 0.951602957338236, 0.9635208701122064, 0.9799770520464215]}, {\"categories\": [\"0\", \"2\", \"3\", \"5\", \"7\", \"9\", \"11\", \"14\", \"16\", \"18\", \"20\", \"21\", \"22\", \"23\", \"24\", \"25\", \"26\", \"27\", \"28\", \"29\", \"30\", \"31\", \"32\", \"33\", \"34\"], \"mode\": \"lines\", \"name\": \"matthews_correlation_max\", \"stepped\": true, \"type\": \"scatter\", \"data\": [0.9721522294279117, 0.9721522294279117, 0.9721522294279117, 0.9721522294279117, 0.9721522294279117, 0.9721522294279117, 0.9721522294279117, 0.9721522294279117, 0.9721522294279117, 0.9721522294279117, 0.9721522294279117, 0.9721522294279117, 0.9721522294279117, 0.9773817262152477, 0.9773817262152477, 0.9773817262152477, 0.9773817262152477, 0.9773817262152477, 0.9773817262152477, 0.9773817262152477, 0.9773817262152477, 0.9773817262152477, 0.9773817262152477, 0.9773817262152477, 0.9799770520464215]}], \"norm_macro_recall\": [{\"categories\": [\"0\", \"2\", \"3\", \"5\", \"7\", \"9\", \"11\", \"14\", \"16\", \"18\", \"20\", \"21\", \"22\", \"23\", \"24\", \"25\", \"26\", \"27\", \"28\", \"29\", \"30\", \"31\", \"32\", \"33\", \"34\"], \"mode\": \"markers\", \"name\": \"norm_macro_recall\", \"stepped\": false, \"type\": \"scatter\", \"data\": [0.9722735673143955, 0.27191567161226227, 0.7461682367922113, 0.10080993197031259, 0.14080757932576113, 0.8998834881692293, 0.926153407363968, 0.9651729337371588, 0.11394641507642436, 0.9676503316913572, 0.4527853183603095, 0.9444334738575819, 0.0007042253521126973, 0.9771138155689005, 0.9659220546686665, 0.31915241954142737, 0.003470213889536744, 0.9728794732499786, 0.9327374818841238, 0.9736175801431599, 0.0, 0.9746321749934221, 0.9413157015655088, 0.9637933632777843, 0.9784198818831097]}, {\"categories\": [\"0\", \"2\", \"3\", \"5\", \"7\", \"9\", \"11\", \"14\", \"16\", \"18\", \"20\", \"21\", \"22\", \"23\", \"24\", \"25\", \"26\", \"27\", \"28\", \"29\", \"30\", \"31\", \"32\", \"33\", \"34\"], \"mode\": \"lines\", \"name\": \"norm_macro_recall_max\", \"stepped\": true, \"type\": \"scatter\", \"data\": [0.9722735673143955, 0.9722735673143955, 0.9722735673143955, 0.9722735673143955, 0.9722735673143955, 0.9722735673143955, 0.9722735673143955, 0.9722735673143955, 0.9722735673143955, 0.9722735673143955, 0.9722735673143955, 0.9722735673143955, 0.9722735673143955, 0.9771138155689005, 0.9771138155689005, 0.9771138155689005, 0.9771138155689005, 0.9771138155689005, 0.9771138155689005, 0.9771138155689005, 0.9771138155689005, 0.9771138155689005, 0.9771138155689005, 0.9771138155689005, 0.9784198818831097]}], \"accuracy\": [{\"categories\": [\"0\", \"2\", \"3\", \"5\", \"7\", \"9\", \"11\", \"14\", \"16\", \"18\", \"20\", \"21\", \"22\", \"23\", \"24\", \"25\", \"26\", \"27\", \"28\", \"29\", \"30\", \"31\", \"32\", \"33\", \"34\"], \"mode\": \"markers\", \"name\": \"accuracy\", \"stepped\": false, \"type\": \"scatter\", \"data\": [0.9885154089963738, 0.659271822606606, 0.9172462534379917, 0.7394757342452172, 0.7127715284893841, 0.9637771396004149, 0.9741831080843454, 0.9870427994756475, 0.7215091465397506, 0.9878285091845992, 0.7795238528826137, 0.9795818091509239, 0.7109072926136351, 0.9906749665053237, 0.9857664608086996, 0.7658787408410548, 0.7109072926136351, 0.9889082879390741, 0.9749676615585179, 0.9885152644670263, 0.7107109254069586, 0.9897915549575252, 0.9801709589474024, 0.9849813773935867, 0.9917546489069003]}, {\"categories\": [\"0\", \"2\", \"3\", \"5\", \"7\", \"9\", \"11\", \"14\", \"16\", \"18\", \"20\", \"21\", \"22\", \"23\", \"24\", \"25\", \"26\", \"27\", \"28\", \"29\", \"30\", \"31\", \"32\", \"33\", \"34\"], \"mode\": \"lines\", \"name\": \"accuracy_max\", \"stepped\": true, \"type\": \"scatter\", \"data\": [0.9885154089963738, 0.9885154089963738, 0.9885154089963738, 0.9885154089963738, 0.9885154089963738, 0.9885154089963738, 0.9885154089963738, 0.9885154089963738, 0.9885154089963738, 0.9885154089963738, 0.9885154089963738, 0.9885154089963738, 0.9885154089963738, 0.9906749665053237, 0.9906749665053237, 0.9906749665053237, 0.9906749665053237, 0.9906749665053237, 0.9906749665053237, 0.9906749665053237, 0.9906749665053237, 0.9906749665053237, 0.9906749665053237, 0.9906749665053237, 0.9917546489069003]}], \"recall_score_weighted\": [{\"categories\": [\"0\", \"2\", \"3\", \"5\", \"7\", \"9\", \"11\", \"14\", \"16\", \"18\", \"20\", \"21\", \"22\", \"23\", \"24\", \"25\", \"26\", \"27\", \"28\", \"29\", \"30\", \"31\", \"32\", \"33\", \"34\"], \"mode\": \"markers\", \"name\": \"recall_score_weighted\", \"stepped\": false, \"type\": \"scatter\", \"data\": [0.9885154089963738, 0.659271822606606, 0.9172462534379917, 0.7394757342452172, 0.7127715284893841, 0.9637771396004149, 0.9741831080843454, 0.9870427994756475, 0.7215091465397506, 0.9878285091845992, 0.7795238528826137, 0.9795818091509239, 0.7109072926136351, 0.9906749665053237, 0.9857664608086996, 0.7658787408410548, 0.7109072926136351, 0.9889082879390741, 0.9749676615585179, 0.9885152644670263, 0.7107109254069586, 0.9897915549575252, 0.9801709589474024, 0.9849813773935867, 0.9917546489069003]}, {\"categories\": [\"0\", \"2\", \"3\", \"5\", \"7\", \"9\", \"11\", \"14\", \"16\", \"18\", \"20\", \"21\", \"22\", \"23\", \"24\", \"25\", \"26\", \"27\", \"28\", \"29\", \"30\", \"31\", \"32\", \"33\", \"34\"], \"mode\": \"lines\", \"name\": \"recall_score_weighted_max\", \"stepped\": true, \"type\": \"scatter\", \"data\": [0.9885154089963738, 0.9885154089963738, 0.9885154089963738, 0.9885154089963738, 0.9885154089963738, 0.9885154089963738, 0.9885154089963738, 0.9885154089963738, 0.9885154089963738, 0.9885154089963738, 0.9885154089963738, 0.9885154089963738, 0.9885154089963738, 0.9906749665053237, 0.9906749665053237, 0.9906749665053237, 0.9906749665053237, 0.9906749665053237, 0.9906749665053237, 0.9906749665053237, 0.9906749665053237, 0.9906749665053237, 0.9906749665053237, 0.9906749665053237, 0.9917546489069003]}], \"precision_score_weighted\": [{\"categories\": [\"0\", \"2\", \"3\", \"5\", \"7\", \"9\", \"11\", \"14\", \"16\", \"18\", \"20\", \"21\", \"22\", \"23\", \"24\", \"25\", \"26\", \"27\", \"28\", \"29\", \"30\", \"31\", \"32\", \"33\", \"34\"], \"mode\": \"markers\", \"name\": \"precision_score_weighted\", \"stepped\": false, \"type\": \"scatter\", \"data\": [0.988547280654992, 0.6957510129119809, 0.9186927112913216, 0.7504979289840716, 0.676421178311106, 0.9636462506748016, 0.9742038538986246, 0.9870297351388906, 0.6876149309813895, 0.9878141297040145, 0.7774498379695046, 0.9795379096197333, 0.5610220018671879, 0.9906806366432788, 0.9857932213510997, 0.7511668857738212, 0.6334116329398342, 0.9889141956626382, 0.9749017256506491, 0.9885515230892408, 0.5051514901729208, 0.9897916868159978, 0.9802178601110192, 0.9849951664982731, 0.9917539466654468]}, {\"categories\": [\"0\", \"2\", \"3\", \"5\", \"7\", \"9\", \"11\", \"14\", \"16\", \"18\", \"20\", \"21\", \"22\", \"23\", \"24\", \"25\", \"26\", \"27\", \"28\", \"29\", \"30\", \"31\", \"32\", \"33\", \"34\"], \"mode\": \"lines\", \"name\": \"precision_score_weighted_max\", \"stepped\": true, \"type\": \"scatter\", \"data\": [0.988547280654992, 0.988547280654992, 0.988547280654992, 0.988547280654992, 0.988547280654992, 0.988547280654992, 0.988547280654992, 0.988547280654992, 0.988547280654992, 0.988547280654992, 0.988547280654992, 0.988547280654992, 0.988547280654992, 0.9906806366432788, 0.9906806366432788, 0.9906806366432788, 0.9906806366432788, 0.9906806366432788, 0.9906806366432788, 0.9906806366432788, 0.9906806366432788, 0.9906806366432788, 0.9906806366432788, 0.9906806366432788, 0.9917539466654468]}], \"f1_score_weighted\": [{\"categories\": [\"0\", \"2\", \"3\", \"5\", \"7\", \"9\", \"11\", \"14\", \"16\", \"18\", \"20\", \"21\", \"22\", \"23\", \"24\", \"25\", \"26\", \"27\", \"28\", \"29\", \"30\", \"31\", \"32\", \"33\", \"34\"], \"mode\": \"markers\", \"name\": \"f1_score_weighted\", \"stepped\": false, \"type\": \"scatter\", \"data\": [0.9885154002887271, 0.671122715181118, 0.9146259130086711, 0.6494060291789867, 0.6733132383258736, 0.963539468883515, 0.9740358321670479, 0.9870186450094692, 0.662636726620519, 0.9878113285667087, 0.7782473710312824, 0.979508923710673, 0.5910033269995336, 0.9906723599155771, 0.9857715508337167, 0.7469608605914239, 0.5932927746870641, 0.9889037204708092, 0.9748833881406735, 0.9885243067018878, 0.5905429837158958, 0.9897882252829898, 0.9800631292401208, 0.9849853338671715, 0.991747045359932]}, {\"categories\": [\"0\", \"2\", \"3\", \"5\", \"7\", \"9\", \"11\", \"14\", \"16\", \"18\", \"20\", \"21\", \"22\", \"23\", \"24\", \"25\", \"26\", \"27\", \"28\", \"29\", \"30\", \"31\", \"32\", \"33\", \"34\"], \"mode\": \"lines\", \"name\": \"f1_score_weighted_max\", \"stepped\": true, \"type\": \"scatter\", \"data\": [0.9885154002887271, 0.9885154002887271, 0.9885154002887271, 0.9885154002887271, 0.9885154002887271, 0.9885154002887271, 0.9885154002887271, 0.9885154002887271, 0.9885154002887271, 0.9885154002887271, 0.9885154002887271, 0.9885154002887271, 0.9885154002887271, 0.9906723599155771, 0.9906723599155771, 0.9906723599155771, 0.9906723599155771, 0.9906723599155771, 0.9906723599155771, 0.9906723599155771, 0.9906723599155771, 0.9906723599155771, 0.9906723599155771, 0.9906723599155771, 0.991747045359932]}], \"precision_score_micro\": [{\"categories\": [\"0\", \"2\", \"3\", \"5\", \"7\", \"9\", \"11\", \"14\", \"16\", \"18\", \"20\", \"21\", \"22\", \"23\", \"24\", \"25\", \"26\", \"27\", \"28\", \"29\", \"30\", \"31\", \"32\", \"33\", \"34\"], \"mode\": \"markers\", \"name\": \"precision_score_micro\", \"stepped\": false, \"type\": \"scatter\", \"data\": [0.9885154089963738, 0.659271822606606, 0.9172462534379917, 0.7394757342452172, 0.7127715284893841, 0.9637771396004149, 0.9741831080843454, 0.9870427994756475, 0.7215091465397506, 0.9878285091845992, 0.7795238528826137, 0.9795818091509239, 0.7109072926136351, 0.9906749665053237, 0.9857664608086996, 0.7658787408410548, 0.7109072926136351, 0.9889082879390741, 0.9749676615585179, 0.9885152644670263, 0.7107109254069586, 0.9897915549575252, 0.9801709589474024, 0.9849813773935867, 0.9917546489069003]}, {\"categories\": [\"0\", \"2\", \"3\", \"5\", \"7\", \"9\", \"11\", \"14\", \"16\", \"18\", \"20\", \"21\", \"22\", \"23\", \"24\", \"25\", \"26\", \"27\", \"28\", \"29\", \"30\", \"31\", \"32\", \"33\", \"34\"], \"mode\": \"lines\", \"name\": \"precision_score_micro_max\", \"stepped\": true, \"type\": \"scatter\", \"data\": [0.9885154089963738, 0.9885154089963738, 0.9885154089963738, 0.9885154089963738, 0.9885154089963738, 0.9885154089963738, 0.9885154089963738, 0.9885154089963738, 0.9885154089963738, 0.9885154089963738, 0.9885154089963738, 0.9885154089963738, 0.9885154089963738, 0.9906749665053237, 0.9906749665053237, 0.9906749665053237, 0.9906749665053237, 0.9906749665053237, 0.9906749665053237, 0.9906749665053237, 0.9906749665053237, 0.9906749665053237, 0.9906749665053237, 0.9906749665053237, 0.9917546489069003]}]}, \"metricName\": null, \"primaryMetricName\": \"accuracy\", \"showLegend\": false}, \"run_metrics\": [{\"name\": \"experiment_status\", \"run_id\": \"AutoML_9f2f0b89-96e9-4386-b51d-4f96314aef42\", \"categories\": [0, 1, 2, 3, 4, 5, 6, 7, 8, 9, 10, 11, 12, 13], \"series\": [{\"data\": [\"DatasetEvaluation\", \"FeaturesGeneration\", \"DatasetFeaturization\", \"DatasetFeaturizationCompleted\", \"DatasetCrossValidationSplit\", \"ModelSelection\", \"BestRunExplainModel\", \"ModelExplanationDataSetSetup\", \"PickSurrogateModel\", \"EngineeredFeatureExplanations\", \"EngineeredFeatureExplanations\", \"RawFeaturesExplanations\", \"RawFeaturesExplanations\", \"BestRunExplainModel\"]}]}, {\"name\": \"experiment_status_description\", \"run_id\": \"AutoML_9f2f0b89-96e9-4386-b51d-4f96314aef42\", \"categories\": [0, 1, 2, 3, 4, 5, 6, 7, 8, 9, 10, 11, 12, 13], \"series\": [{\"data\": [\"Gathering dataset statistics.\", \"Generating features for the dataset.\", \"Beginning to fit featurizers and featurize the dataset.\", \"Completed fit featurizers and featurizing the dataset.\", \"Generating individually featurized CV splits.\", \"Beginning model selection.\", \"Best run model explanations started\", \"Model explanations data setup completed\", \"Choosing LightGBM as the surrogate model for explanations\", \"Computation of engineered features started\", \"Computation of engineered features completed\", \"Computation of raw features started\", \"Computation of raw features completed\", \"Best run model explanations completed\"]}]}, {\"name\": \"recall_score_weighted\", \"run_id\": \"AutoML_9f2f0b89-96e9-4386-b51d-4f96314aef42\", \"categories\": [0], \"series\": [{\"data\": [0.9917546489069003]}]}, {\"name\": \"accuracy\", \"run_id\": \"AutoML_9f2f0b89-96e9-4386-b51d-4f96314aef42\", \"categories\": [0], \"series\": [{\"data\": [0.9917546489069003]}]}, {\"name\": \"recall_score_micro\", \"run_id\": \"AutoML_9f2f0b89-96e9-4386-b51d-4f96314aef42\", \"categories\": [0], \"series\": [{\"data\": [0.9917546489069003]}]}, {\"name\": \"AUC_weighted\", \"run_id\": \"AutoML_9f2f0b89-96e9-4386-b51d-4f96314aef42\", \"categories\": [0], \"series\": [{\"data\": [0.9996272779164782]}]}, {\"name\": \"average_precision_score_micro\", \"run_id\": \"AutoML_9f2f0b89-96e9-4386-b51d-4f96314aef42\", \"categories\": [0], \"series\": [{\"data\": [0.9996832568585639]}]}, {\"name\": \"weighted_accuracy\", \"run_id\": \"AutoML_9f2f0b89-96e9-4386-b51d-4f96314aef42\", \"categories\": [0], \"series\": [{\"data\": [0.9935414321034759]}]}, {\"name\": \"average_precision_score_macro\", \"run_id\": \"AutoML_9f2f0b89-96e9-4386-b51d-4f96314aef42\", \"categories\": [0], \"series\": [{\"data\": [0.9994826993292275]}]}, {\"name\": \"average_precision_score_weighted\", \"run_id\": \"AutoML_9f2f0b89-96e9-4386-b51d-4f96314aef42\", \"categories\": [0], \"series\": [{\"data\": [0.9996353069982413]}]}, {\"name\": \"f1_score_micro\", \"run_id\": \"AutoML_9f2f0b89-96e9-4386-b51d-4f96314aef42\", \"categories\": [0], \"series\": [{\"data\": [0.9917546489069003]}]}, {\"name\": \"log_loss\", \"run_id\": \"AutoML_9f2f0b89-96e9-4386-b51d-4f96314aef42\", \"categories\": [0], \"series\": [{\"data\": [0.1602617324083043]}]}, {\"name\": \"AUC_macro\", \"run_id\": \"AutoML_9f2f0b89-96e9-4386-b51d-4f96314aef42\", \"categories\": [0], \"series\": [{\"data\": [0.9996272779164782]}]}, {\"name\": \"precision_score_macro\", \"run_id\": \"AutoML_9f2f0b89-96e9-4386-b51d-4f96314aef42\", \"categories\": [0], \"series\": [{\"data\": [0.9907703302491632]}]}, {\"name\": \"AUC_micro\", \"run_id\": \"AutoML_9f2f0b89-96e9-4386-b51d-4f96314aef42\", \"categories\": [0], \"series\": [{\"data\": [0.9996797377292699]}]}, {\"name\": \"precision_score_micro\", \"run_id\": \"AutoML_9f2f0b89-96e9-4386-b51d-4f96314aef42\", \"categories\": [0], \"series\": [{\"data\": [0.9917546489069003]}]}, {\"name\": \"precision_score_weighted\", \"run_id\": \"AutoML_9f2f0b89-96e9-4386-b51d-4f96314aef42\", \"categories\": [0], \"series\": [{\"data\": [0.9917539466654468]}]}, {\"name\": \"f1_score_weighted\", \"run_id\": \"AutoML_9f2f0b89-96e9-4386-b51d-4f96314aef42\", \"categories\": [0], \"series\": [{\"data\": [0.991747045359932]}]}, {\"name\": \"balanced_accuracy\", \"run_id\": \"AutoML_9f2f0b89-96e9-4386-b51d-4f96314aef42\", \"categories\": [0], \"series\": [{\"data\": [0.9892099409415549]}]}, {\"name\": \"matthews_correlation\", \"run_id\": \"AutoML_9f2f0b89-96e9-4386-b51d-4f96314aef42\", \"categories\": [0], \"series\": [{\"data\": [0.9799770520464215]}]}, {\"name\": \"norm_macro_recall\", \"run_id\": \"AutoML_9f2f0b89-96e9-4386-b51d-4f96314aef42\", \"categories\": [0], \"series\": [{\"data\": [0.9784198818831097]}]}, {\"name\": \"f1_score_macro\", \"run_id\": \"AutoML_9f2f0b89-96e9-4386-b51d-4f96314aef42\", \"categories\": [0], \"series\": [{\"data\": [0.9899796750450014]}]}, {\"name\": \"recall_score_macro\", \"run_id\": \"AutoML_9f2f0b89-96e9-4386-b51d-4f96314aef42\", \"categories\": [0], \"series\": [{\"data\": [0.9892099409415549]}]}], \"run_logs\": \"\\nRun is completed.\", \"graph\": {}, \"widget_settings\": {\"childWidgetDisplay\": \"popup\", \"send_telemetry\": false, \"log_level\": \"INFO\", \"sdk_version\": \"1.51.0\"}, \"loading\": false}"
     },
     "metadata": {},
     "output_type": "display_data"
    }
   ],
   "source": [
    "# showing RunDetails\n",
    "RunDetails(remote_run).show()"
   ]
  },
  {
   "cell_type": "markdown",
   "metadata": {},
   "source": [
    "## Best Model\n",
    "\n",
    "TODO: In the cell below, get the best model from the automl experiments and display all the properties of the model.\n",
    "\n"
   ]
  },
  {
   "cell_type": "code",
   "execution_count": 31,
   "metadata": {
    "gather": {
     "logged": 1598431425670
    },
    "jupyter": {
     "outputs_hidden": false,
     "source_hidden": false
    },
    "nteract": {
     "transient": {
      "deleting": false
     }
    }
   },
   "outputs": [
    {
     "name": "stderr",
     "output_type": "stream",
     "text": [
      "IOPub data rate exceeded.\n",
      "The Jupyter server will temporarily stop sending output\n",
      "to the client in order to avoid crashing it.\n",
      "To change this limit, set the config variable\n",
      "`--ServerApp.iopub_data_rate_limit`.\n",
      "\n",
      "Current values:\n",
      "ServerApp.iopub_data_rate_limit=1000000.0 (bytes/sec)\n",
      "ServerApp.rate_limit_window=3.0 (secs)\n",
      "\n"
     ]
    }
   ],
   "source": [
    "# Retrieve and save your best automl model.\n",
    "\n",
    "# getting best model and saving it out with onnx\n",
    "automl_run, automl_best_model = remote_run.get_output(return_onnx_model=True)\n",
    "print('Run ID: ' + automl_run.id)\n",
    "print('Model Name: ' + automl_run.properties['model_name'])\n",
    "print('Model Details:')\n",
    "print(automl_best_model)"
   ]
  },
  {
   "cell_type": "code",
   "execution_count": 32,
   "metadata": {
    "gather": {
     "logged": 1598431426111
    },
    "jupyter": {
     "outputs_hidden": false,
     "source_hidden": false
    },
    "nteract": {
     "transient": {
      "deleting": false
     }
    }
   },
   "outputs": [],
   "source": [
    "#TODO: Save the best model\n",
    "\n",
    "# convert and save the model\n",
    "OnnxConverter.save_onnx_model(automl_best_model, file_path=\"./automl_best_model.onnx\")"
   ]
  },
  {
   "cell_type": "markdown",
   "metadata": {},
   "source": [
    "## Model Deployment\n",
    "\n",
    "Remember you have to deploy only one of the two models you trained but you still need to register both the models. Perform the steps in the rest of this notebook only if you wish to deploy this model.\n",
    "\n",
    "TODO: In the cell below, register the model, create an inference config and deploy the model as a web service."
   ]
  },
  {
   "cell_type": "code",
   "execution_count": null,
   "metadata": {
    "gather": {
     "logged": 1598431435189
    },
    "jupyter": {
     "outputs_hidden": false,
     "source_hidden": false
    },
    "nteract": {
     "transient": {
      "deleting": false
     }
    }
   },
   "outputs": [],
   "source": [
    "# register the model\n",
    "model_name = 'nba_3pt_voting_ensemble'\n",
    "model_description = 'Voting Ensemble Model for NBA 3PT Percentage Win Analysis'\n",
    "registered_model = automl_run.register_model(model_name=model_name, description=model_description)\n",
    "\n",
    "# creating inference config and deploying the model as a web service\n",
    "service_name = 'nba-data-env-service'\n",
    "\n",
    "# creating environment\n",
    "nba_env = Environment(name=\"nba-env\")\n",
    "nba_env.register(workspace=ws)\n",
    "\n",
    "inference_config = InferenceConfig(entry_script='score.py',environment=nba_env)\n",
    "aci_config = AciWebservice.deploy_configuration(cpu_cores=1, memory_gb=1)\n",
    "\n",
    "service = Model.deploy(workspace=ws,\n",
    "                       name=service_name,\n",
    "                       models=[automl_best_model],\n",
    "                       inference_config=inference_config,\n",
    "                       deployment_config=aci_config,\n",
    "                       overwrite=True)\n",
    "\n",
    "service.wait_for_deployment(show_output=True)"
   ]
  },
  {
   "cell_type": "markdown",
   "metadata": {
    "collapsed": true,
    "gather": {
     "logged": 1598431657736
    },
    "jupyter": {
     "outputs_hidden": false,
     "source_hidden": false
    },
    "nteract": {
     "transient": {
      "deleting": false
     }
    }
   },
   "source": [
    "TODO: In the cell below, send a request to the web service you deployed to test it."
   ]
  },
  {
   "cell_type": "code",
   "execution_count": null,
   "metadata": {
    "gather": {
     "logged": 1598432707604
    },
    "jupyter": {
     "outputs_hidden": false,
     "source_hidden": false
    },
    "nteract": {
     "transient": {
      "deleting": false
     }
    }
   },
   "outputs": [],
   "source": [
    "# URL for the web service, should be similar to:\n",
    "# 'http://8530a665-66f3-49c8-a953-b82a2d312917.eastus.azurecontainer.io/score'\n",
    "scoring_uri = \"http://3791612e-f3ba-4abc-927d-c92ae5ff6aea.westus2.azurecontainer.io/score\"\n",
    "\n",
    "# If the service is authenticated, set the key or token\n",
    "key = \"8fQomtrNOLgHDISBo3tZoOMrtnREHaz0\"\n",
    "\n",
    "# Two sets of data to score, so we get two results back\n",
    "data = {\n",
    "    \"Inputs\": \n",
    "\t{\n",
    "\t\"data\":\n",
    "\t[\n",
    "      {\n",
    "        'season_id': 22015,\n",
    "        'matchup_home': 'ATL vs. DET',\n",
    "        'season_type': 'Regular Season',\n",
    "        'min': 240,\n",
    "        'team_name_home': 'Atlanta Hawks',\n",
    "        'fg3m_home': 8,\n",
    "        'fg3a_home': 27,\n",
    "        'fg3_pct_home': 0.296,\n",
    "        'wl_home': 'L',\n",
    "        'team_name_away': 'Detroit Pistons',\n",
    "        'fg3m_away': 12,\n",
    "        'fg3a_away': 29,\n",
    "        'fg3_pct_away': 0.414,\n",
    "        'wl_away': 'W',\n",
    "        'highest_3pp': 0.414,\n",
    "        'highest_3pp_wl': 'W'\n",
    "      },\n",
    "   ]\n",
    "}\n",
    "}\n",
    "# Convert to JSON string\n",
    "input_data = json.dumps(data)\n",
    "with open(\"data.json\", \"w\") as _f:\n",
    "    _f.write(input_data)\n",
    "\n",
    "# Set the content type\n",
    "headers = {\"Content-Type\": \"application/json\"}\n",
    "# If authentication is enabled, set the authorization header\n",
    "headers[\"Authorization\"] = f\"Bearer {key}\"\n",
    "\n",
    "# Make the request and display the response\n",
    "resp = requests.post(scoring_uri, input_data, headers=headers)\n",
    "print(resp.json())"
   ]
  },
  {
   "cell_type": "markdown",
   "metadata": {
    "collapsed": true,
    "gather": {
     "logged": 1598432765711
    },
    "jupyter": {
     "outputs_hidden": false,
     "source_hidden": false
    },
    "nteract": {
     "transient": {
      "deleting": false
     }
    }
   },
   "source": [
    "TODO: In the cell below, print the logs of the web service and delete the service"
   ]
  },
  {
   "cell_type": "code",
   "execution_count": null,
   "metadata": {
    "jupyter": {
     "outputs_hidden": false,
     "source_hidden": false
    },
    "nteract": {
     "transient": {
      "deleting": false
     }
    }
   },
   "outputs": [],
   "source": []
  },
  {
   "cell_type": "markdown",
   "metadata": {},
   "source": [
    "**Submission Checklist**\n",
    "- I have registered the model.\n",
    "- I have deployed the model with the best accuracy as a webservice.\n",
    "- I have tested the webservice by sending a request to the model endpoint.\n",
    "- I have deleted the webservice and shutdown all the computes that I have used.\n",
    "- I have taken a screenshot showing the model endpoint as active.\n",
    "- The project includes a file containing the environment details.\n"
   ]
  },
  {
   "cell_type": "markdown",
   "metadata": {},
   "source": []
  }
 ],
 "metadata": {
  "kernel_info": {
   "name": "python3-azureml"
  },
  "kernelspec": {
   "display_name": "Python 3.8 - AzureML",
   "language": "python",
   "name": "python38-azureml"
  },
  "language_info": {
   "codemirror_mode": {
    "name": "ipython",
    "version": 3
   },
   "file_extension": ".py",
   "mimetype": "text/x-python",
   "name": "python",
   "nbconvert_exporter": "python",
   "pygments_lexer": "ipython3",
   "version": "3.8.5"
  },
  "nteract": {
   "version": "nteract-front-end@1.0.0"
  }
 },
 "nbformat": 4,
 "nbformat_minor": 2
}
