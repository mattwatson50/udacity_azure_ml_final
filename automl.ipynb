{
 "cells": [
  {
   "cell_type": "markdown",
   "metadata": {},
   "source": [
    "# Automated ML\n",
    "\n",
    "TODO: Import Dependencies. In the cell below, import all the dependencies that you will need to complete the project."
   ]
  },
  {
   "cell_type": "code",
   "execution_count": 1,
   "metadata": {
    "gather": {
     "logged": 1598423888013
    },
    "jupyter": {
     "outputs_hidden": false,
     "source_hidden": false
    },
    "nteract": {
     "transient": {
      "deleting": false
     }
    }
   },
   "outputs": [],
   "source": [
    "import requests\n",
    "import json\n",
    "\n",
    "from azureml.core import Workspace, Experiment\n",
    "from azureml.train.automl import AutoMLConfig\n",
    "from azureml.core.compute import ComputeTarget, AmlCompute\n",
    "from azureml.core.compute_target import ComputeTargetException\n",
    "from azureml.core.dataset import Dataset\n",
    "from azureml.widgets import RunDetails\n",
    "from azureml.automl.runtime.onnx_convert import OnnxConverter\n",
    "from azureml.core.model import InferenceConfig\n",
    "from azureml.core.webservice import AciWebservice\n",
    "from azureml.core import Environment\n",
    "from azureml.core.model import Model"
   ]
  },
  {
   "cell_type": "markdown",
   "metadata": {},
   "source": [
    "## Dataset\n",
    "\n",
    "### Overview\n",
    "TODO: In this markdown cell, give an overview of the dataset you are using. Also mention the task you will be performing.\n",
    "\n",
    "\n",
    "TODO: Get data. In the cell below, write code to access the data you will be using in this project. Remember that the dataset needs to be external."
   ]
  },
  {
   "cell_type": "code",
   "execution_count": 4,
   "metadata": {
    "gather": {
     "logged": 1598423890461
    },
    "jupyter": {
     "outputs_hidden": false,
     "source_hidden": false
    },
    "nteract": {
     "transient": {
      "deleting": false
     }
    }
   },
   "outputs": [
    {
     "name": "stderr",
     "output_type": "stream",
     "text": [
      "2024-04-08:13:55:35,834 INFO     [workspace.py:291] Found the config file in: /mnt/batch/tasks/shared/LS_root/mounts/clusters/notebook257202/code/config.json\n"
     ]
    },
    {
     "name": "stdout",
     "output_type": "stream",
     "text": [
      "Workspace.create(name='quick-starts-ws-257202', subscription_id='d4ad7261-832d-46b2-b093-22156001df5b', resource_group='aml-quickstarts-257202')\n"
     ]
    },
    {
     "name": "stderr",
     "output_type": "stream",
     "text": [
      "2024-04-08:13:55:38,445 INFO     [clientbase.py:192] Created a worker pool for first use\n"
     ]
    },
    {
     "name": "stdout",
     "output_type": "stream",
     "text": [
      "   season_id matchup_home     season_type  min         team_name_home  \\\n",
      "0      22015  ATL vs. DET  Regular Season  240          Atlanta Hawks   \n",
      "1      22015  GSW vs. NOP  Regular Season  240  Golden State Warriors   \n",
      "2      22015  CHI vs. CLE  Regular Season  240          Chicago Bulls   \n",
      "3      22015  BOS vs. PHI  Regular Season  240         Boston Celtics   \n",
      "4      22015  MIA vs. CHA  Regular Season  240             Miami Heat   \n",
      "\n",
      "   fg3m_home  fg3a_home  fg3_pct_home wl_home        team_name_away  \\\n",
      "0          8         27          0.30       L       Detroit Pistons   \n",
      "1          9         30          0.30       W  New Orleans Pelicans   \n",
      "2          7         19          0.37       W   Cleveland Cavaliers   \n",
      "3          8         24          0.33       W    Philadelphia 76ers   \n",
      "4         12         20          0.60       W     Charlotte Hornets   \n",
      "\n",
      "   fg3m_away  fg3a_away  fg3_pct_away wl_away  highest_3pp highest_3pp_wl  \n",
      "0         12         29          0.41       W         0.41              W  \n",
      "1          6         18          0.33       L         0.33              L  \n",
      "2          9         29          0.31       L         0.37              W  \n",
      "3          7         22          0.32       L         0.33              W  \n",
      "4          6         24          0.25       L         0.60              W  \n"
     ]
    }
   ],
   "source": [
    "# workspace setup\n",
    "ws = Workspace.from_config()\n",
    "print(ws)\n",
    "\n",
    "# dataset key info\n",
    "key = 'nba_3pt_data'\n",
    "data_desc = 'NBA game data from 2015 to 2023 containing 3 point percentages.'\n",
    "\n",
    "# checking if dataset is already registered\n",
    "if key in ws.datasets.keys():\n",
    "    nba_dataset = ws.datasets[key]\n",
    "else:\n",
    "    # get data from url\n",
    "    nba_data_url = 'https://raw.githubusercontent.com/mattwatson50/udacity_azure_ml_final/main/data/nba_3pt_data.csv'\n",
    "    nba_dataset = Dataset.Tabular.from_delimited_files(nba_data_url)        \n",
    "    # register dataset\n",
    "    nba_dataset = nba_dataset.register(workspace=ws,\n",
    "                               name=key,\n",
    "                               description=data_desc)\n",
    "\n",
    "# getting nba dataset\n",
    "nba_df = nba_dataset.to_pandas_dataframe()\n",
    "print(nba_df.head())\n",
    "\n",
    "# choose a name for experiment\n",
    "experiment_name = 'automl_nba_3pt'\n",
    "\n",
    "experiment=Experiment(ws, experiment_name)"
   ]
  },
  {
   "cell_type": "code",
   "execution_count": 5,
   "metadata": {},
   "outputs": [
    {
     "name": "stdout",
     "output_type": "stream",
     "text": [
      "InProgress..\n",
      "SucceededProvisioning operation finished, operation \"Succeeded\"\n",
      "Succeeded\n",
      "AmlCompute wait for completion finished\n",
      "\n",
      "Minimum number of nodes requested have been provisioned\n"
     ]
    }
   ],
   "source": [
    "# creating a compute cluster\n",
    "cluster_name = \"proj-compute-cluster\"\n",
    "\n",
    "try:\n",
    "    cpu_cluster = ComputeTarget(workspace=ws, name=cluster_name)\n",
    "    print('Cluster already created.')\n",
    "except ComputeTargetException:\n",
    "    compute_config = AmlCompute.provisioning_configuration(vm_size='STANDARD_DS3_V2',\n",
    "                                                           max_nodes=6)\n",
    "    cpu_cluster = ComputeTarget.create(ws, cluster_name, compute_config)\n",
    "\n",
    "cpu_cluster.wait_for_completion(show_output=True)"
   ]
  },
  {
   "cell_type": "markdown",
   "metadata": {},
   "source": [
    "## AutoML Configuration\n",
    "\n",
    "TODO: Explain why you chose the automl settings and cofiguration you used below."
   ]
  },
  {
   "cell_type": "code",
   "execution_count": 6,
   "metadata": {
    "gather": {
     "logged": 1598429217746
    },
    "jupyter": {
     "outputs_hidden": false,
     "source_hidden": false
    },
    "nteract": {
     "transient": {
      "deleting": false
     }
    }
   },
   "outputs": [],
   "source": [
    "# automl settings\n",
    "automl_settings = {\n",
    "    'experiment_timeout_minutes' : 30,\n",
    "    'task' : 'classification',\n",
    "    'primary_metric' : 'accuracy',\n",
    "    'training_data' : nba_dataset,\n",
    "    'label_column_name' : 'highest_3pp_wl',\n",
    "    'n_cross_validations' : 5,\n",
    "    'enable_early_stopping' : True,\n",
    "    'enable_onnx_compatible_models' : True\n",
    "}\n",
    "\n",
    "# setting automl_config\n",
    "automl_config = AutoMLConfig(compute_target=cluster_name,\n",
    "                             **automl_settings)"
   ]
  },
  {
   "cell_type": "code",
   "execution_count": 7,
   "metadata": {
    "gather": {
     "logged": 1598431107951
    },
    "jupyter": {
     "outputs_hidden": false,
     "source_hidden": false
    },
    "nteract": {
     "transient": {
      "deleting": false
     }
    }
   },
   "outputs": [
    {
     "name": "stdout",
     "output_type": "stream",
     "text": [
      "Submitting remote run.\n"
     ]
    },
    {
     "data": {
      "text/html": [
       "<table style=\"width:100%\"><tr><th>Experiment</th><th>Id</th><th>Type</th><th>Status</th><th>Details Page</th><th>Docs Page</th></tr><tr><td>automl_nba_3pt</td><td>AutoML_03172180-f10d-4b73-b3fd-b5bfdb197d81</td><td>automl</td><td>NotStarted</td><td><a href=\"https://ml.azure.com/runs/AutoML_03172180-f10d-4b73-b3fd-b5bfdb197d81?wsid=/subscriptions/d4ad7261-832d-46b2-b093-22156001df5b/resourcegroups/aml-quickstarts-257202/workspaces/quick-starts-ws-257202&amp;tid=660b3398-b80e-49d2-bc5b-ac1dc93b5254\" target=\"_blank\" rel=\"noopener\">Link to Azure Machine Learning studio</a></td><td><a href=\"https://docs.microsoft.com/en-us/python/api/overview/azure/ml/intro?view=azure-ml-py\" target=\"_blank\" rel=\"noopener\">Link to Documentation</a></td></tr></table>"
      ]
     },
     "metadata": {},
     "output_type": "display_data"
    }
   ],
   "source": [
    "# submitting experiment\n",
    "remote_run = experiment.submit(automl_config)"
   ]
  },
  {
   "cell_type": "markdown",
   "metadata": {},
   "source": [
    "## Run Details\n",
    "\n",
    "OPTIONAL: Write about the different models trained and their performance. Why do you think some models did better than others?\n",
    "\n",
    "TODO: In the cell below, use the `RunDetails` widget to show the different experiments."
   ]
  },
  {
   "cell_type": "code",
   "execution_count": 8,
   "metadata": {
    "gather": {
     "logged": 1598431121770
    },
    "jupyter": {
     "outputs_hidden": false,
     "source_hidden": false
    },
    "nteract": {
     "transient": {
      "deleting": false
     }
    }
   },
   "outputs": [
    {
     "data": {
      "application/vnd.jupyter.widget-view+json": {
       "model_id": "681a855210a64484a9d520c92bd3ba45",
       "version_major": 2,
       "version_minor": 0
      },
      "text/plain": [
       "_AutoMLWidget(widget_settings={'childWidgetDisplay': 'popup', 'send_telemetry': False, 'log_level': 'INFO', 's…"
      ]
     },
     "metadata": {},
     "output_type": "display_data"
    },
    {
     "data": {
      "application/aml.mini.widget.v1": "{\"status\": \"Completed\", \"workbench_run_details_uri\": \"https://ml.azure.com/runs/AutoML_03172180-f10d-4b73-b3fd-b5bfdb197d81?wsid=/subscriptions/d4ad7261-832d-46b2-b093-22156001df5b/resourcegroups/aml-quickstarts-257202/workspaces/quick-starts-ws-257202&tid=660b3398-b80e-49d2-bc5b-ac1dc93b5254\", \"run_id\": \"AutoML_03172180-f10d-4b73-b3fd-b5bfdb197d81\", \"run_properties\": {\"run_id\": \"AutoML_03172180-f10d-4b73-b3fd-b5bfdb197d81\", \"created_utc\": \"2024-04-08T13:57:09.237832Z\", \"properties\": {\"num_iterations\": \"1000\", \"training_type\": \"TrainFull\", \"acquisition_function\": \"EI\", \"primary_metric\": \"accuracy\", \"train_split\": \"0\", \"acquisition_parameter\": \"0\", \"num_cross_validation\": \"5\", \"target\": \"proj-compute-cluster\", \"AMLSettingsJsonString\": \"{\\\"path\\\":null,\\\"name\\\":\\\"automl_nba_3pt\\\",\\\"subscription_id\\\":\\\"d4ad7261-832d-46b2-b093-22156001df5b\\\",\\\"resource_group\\\":\\\"aml-quickstarts-257202\\\",\\\"workspace_name\\\":\\\"quick-starts-ws-257202\\\",\\\"region\\\":\\\"westeurope\\\",\\\"compute_target\\\":\\\"proj-compute-cluster\\\",\\\"spark_service\\\":null,\\\"azure_service\\\":\\\"remote\\\",\\\"many_models\\\":false,\\\"pipeline_fetch_max_batch_size\\\":1,\\\"enable_batch_run\\\":true,\\\"enable_parallel_run\\\":false,\\\"num_procs\\\":null,\\\"enable_run_restructure\\\":false,\\\"start_auxiliary_runs_before_parent_complete\\\":false,\\\"enable_code_generation\\\":true,\\\"iterations\\\":1000,\\\"primary_metric\\\":\\\"accuracy\\\",\\\"task_type\\\":\\\"classification\\\",\\\"positive_label\\\":null,\\\"data_script\\\":null,\\\"test_size\\\":0.0,\\\"test_include_predictions_only\\\":false,\\\"validation_size\\\":0.0,\\\"n_cross_validations\\\":5,\\\"y_min\\\":null,\\\"y_max\\\":null,\\\"num_classes\\\":null,\\\"featurization\\\":\\\"auto\\\",\\\"_ignore_package_version_incompatibilities\\\":false,\\\"is_timeseries\\\":false,\\\"max_cores_per_iteration\\\":1,\\\"max_concurrent_iterations\\\":1,\\\"iteration_timeout_minutes\\\":null,\\\"mem_in_mb\\\":null,\\\"enforce_time_on_windows\\\":false,\\\"experiment_timeout_minutes\\\":30,\\\"experiment_exit_score\\\":null,\\\"partition_column_names\\\":null,\\\"whitelist_models\\\":null,\\\"blacklist_algos\\\":[\\\"TensorFlowLinearClassifier\\\",\\\"TensorFlowDNN\\\"],\\\"supported_models\\\":[\\\"KNN\\\",\\\"AveragedPerceptronClassifier\\\",\\\"LogisticRegression\\\",\\\"MultinomialNaiveBayes\\\",\\\"SGD\\\",\\\"BernoulliNaiveBayes\\\",\\\"RandomForest\\\",\\\"TabnetClassifier\\\",\\\"TensorFlowLinearClassifier\\\",\\\"LinearSVM\\\",\\\"DecisionTree\\\",\\\"LightGBM\\\",\\\"ExtremeRandomTrees\\\",\\\"TensorFlowDNN\\\",\\\"GradientBoosting\\\",\\\"XGBoostClassifier\\\",\\\"SVM\\\"],\\\"private_models\\\":[],\\\"auto_blacklist\\\":true,\\\"blacklist_samples_reached\\\":false,\\\"exclude_nan_labels\\\":true,\\\"verbosity\\\":20,\\\"_debug_log\\\":\\\"azureml_automl.log\\\",\\\"show_warnings\\\":false,\\\"model_explainability\\\":true,\\\"service_url\\\":null,\\\"sdk_url\\\":null,\\\"sdk_packages\\\":null,\\\"enable_onnx_compatible_models\\\":true,\\\"enable_split_onnx_featurizer_estimator_models\\\":false,\\\"vm_type\\\":\\\"STANDARD_DS3_V2\\\",\\\"telemetry_verbosity\\\":20,\\\"send_telemetry\\\":true,\\\"enable_dnn\\\":false,\\\"scenario\\\":\\\"AutoML\\\",\\\"environment_label\\\":null,\\\"save_mlflow\\\":false,\\\"enable_categorical_indicators\\\":false,\\\"force_text_dnn\\\":false,\\\"enable_feature_sweeping\\\":false,\\\"enable_early_stopping\\\":true,\\\"early_stopping_n_iters\\\":10,\\\"arguments\\\":null,\\\"dataset_id\\\":\\\"7ec4a079-c3fa-46c1-8ab1-005785999844\\\",\\\"hyperdrive_config\\\":null,\\\"validation_dataset_id\\\":null,\\\"run_source\\\":null,\\\"metrics\\\":null,\\\"enable_metric_confidence\\\":false,\\\"enable_ensembling\\\":true,\\\"enable_stack_ensembling\\\":false,\\\"ensemble_iterations\\\":15,\\\"enable_tf\\\":false,\\\"enable_subsampling\\\":null,\\\"subsample_seed\\\":null,\\\"enable_nimbusml\\\":false,\\\"enable_streaming\\\":false,\\\"force_streaming\\\":false,\\\"track_child_runs\\\":true,\\\"n_best_runs\\\":1,\\\"allowed_private_models\\\":[],\\\"label_column_name\\\":\\\"highest_3pp_wl\\\",\\\"weight_column_name\\\":null,\\\"cv_split_column_names\\\":null,\\\"enable_local_managed\\\":false,\\\"_local_managed_run_id\\\":null,\\\"cost_mode\\\":1,\\\"lag_length\\\":0,\\\"metric_operation\\\":\\\"maximize\\\",\\\"preprocess\\\":true}\", \"DataPrepJsonString\": \"{\\\\\\\"training_data\\\\\\\": {\\\\\\\"datasetId\\\\\\\": \\\\\\\"7ec4a079-c3fa-46c1-8ab1-005785999844\\\\\\\"}, \\\\\\\"datasets\\\\\\\": 0}\", \"EnableSubsampling\": null, \"runTemplate\": \"AutoML\", \"azureml.runsource\": \"automl\", \"display_task_type\": \"classification\", \"dependencies_versions\": \"{\\\"azureml-dataprep-native\\\": \\\"38.0.0\\\", \\\"azureml-dataprep\\\": \\\"4.10.8\\\", \\\"azureml-dataprep-rslex\\\": \\\"2.17.12\\\", \\\"azureml-train-automl-runtime\\\": \\\"1.51.0.post2\\\", \\\"azureml-train-automl-client\\\": \\\"1.51.0.post1\\\", \\\"azureml-training-tabular\\\": \\\"1.51.0.post1\\\", \\\"azureml-automl-runtime\\\": \\\"1.51.0.post1\\\", \\\"azureml-automl-core\\\": \\\"1.51.0.post1\\\", \\\"azureml-mlflow\\\": \\\"1.51.0\\\", \\\"azureml-datadrift\\\": \\\"1.51.0\\\", \\\"azureml-pipeline\\\": \\\"1.51.0\\\", \\\"azureml-contrib-dataset\\\": \\\"1.51.0\\\", \\\"azureml-contrib-notebook\\\": \\\"1.51.0\\\", \\\"azureml-accel-models\\\": \\\"1.51.0\\\", \\\"azureml-automl-dnn-nlp\\\": \\\"1.51.0\\\", \\\"azureml-pipeline-core\\\": \\\"1.51.0\\\", \\\"azureml-responsibleai\\\": \\\"1.51.0\\\", \\\"azureml-contrib-automl-pipeline-steps\\\": \\\"1.51.0\\\", \\\"azureml-pipeline-steps\\\": \\\"1.51.0\\\", \\\"azureml-core\\\": \\\"1.51.0\\\", \\\"azureml-contrib-reinforcementlearning\\\": \\\"1.51.0\\\", \\\"azureml-contrib-server\\\": \\\"1.51.0\\\", \\\"azureml-opendatasets\\\": \\\"1.51.0\\\", \\\"azureml-contrib-services\\\": \\\"1.51.0\\\", \\\"azureml-telemetry\\\": \\\"1.51.0\\\", \\\"azureml-train-restclients-hyperdrive\\\": \\\"1.51.0\\\", \\\"azureml-interpret\\\": \\\"1.51.0\\\", \\\"azureml-train-core\\\": \\\"1.51.0\\\", \\\"azureml-tensorboard\\\": \\\"1.51.0\\\", \\\"azureml-train\\\": \\\"1.51.0\\\", \\\"azureml-contrib-pipeline-steps\\\": \\\"1.51.0\\\", \\\"azureml-explain-model\\\": \\\"1.51.0\\\", \\\"azureml-cli-common\\\": \\\"1.51.0\\\", \\\"azureml-widgets\\\": \\\"1.51.0\\\", \\\"azureml-train-automl\\\": \\\"1.51.0\\\", \\\"azureml-defaults\\\": \\\"1.51.0\\\", \\\"azureml-contrib-fairness\\\": \\\"1.51.0\\\", \\\"azureml-sdk\\\": \\\"1.51.0\\\", \\\"azureml-dataset-runtime\\\": \\\"1.51.0\\\", \\\"azureml-inference-server-http\\\": \\\"0.8.4\\\"}\", \"_aml_system_scenario_identification\": \"Remote.Parent\", \"ClientType\": \"SDK\", \"PlatformVersion\": \"DPV1\", \"environment_cpu_name\": \"AzureML-AutoML\", \"environment_cpu_label\": \"scikit-upgrade2\", \"environment_gpu_name\": \"AzureML-AutoML-GPU\", \"environment_gpu_label\": \"scikit-upgrade2\", \"root_attribution\": \"automl\", \"attribution\": \"AutoML\", \"Orchestrator\": \"AutoML\", \"CancelUri\": \"https://westeurope.api.azureml.ms/jasmine/v1.0/subscriptions/d4ad7261-832d-46b2-b093-22156001df5b/resourceGroups/aml-quickstarts-257202/providers/Microsoft.MachineLearningServices/workspaces/quick-starts-ws-257202/experimentids/746d9f20-baf2-4d2b-a0c6-69f0b35fe048/cancel/AutoML_03172180-f10d-4b73-b3fd-b5bfdb197d81\", \"ClientSdkVersion\": null, \"snapshotId\": \"00000000-0000-0000-0000-000000000000\", \"SetupRunId\": \"AutoML_03172180-f10d-4b73-b3fd-b5bfdb197d81_setup\", \"SetupRunContainerId\": \"dcid.AutoML_03172180-f10d-4b73-b3fd-b5bfdb197d81_setup\", \"FeaturizationRunJsonPath\": \"featurizer_container.json\", \"FeaturizationRunId\": \"AutoML_03172180-f10d-4b73-b3fd-b5bfdb197d81_featurize\", \"ProblemInfoJsonString\": \"{\\\"dataset_num_categorical\\\": 0, \\\"is_sparse\\\": true, \\\"subsampling\\\": false, \\\"has_extra_col\\\": true, \\\"dataset_classes\\\": 2, \\\"dataset_features\\\": 660, \\\"dataset_samples\\\": 10187, \\\"single_frequency_class_detected\\\": false}\", \"ModelExplainRunId\": \"AutoML_03172180-f10d-4b73-b3fd-b5bfdb197d81_ModelExplain\"}, \"tags\": {\"model_explain_run\": \"best_run\", \"_aml_system_automl_run_workspace_id\": \"f7cc2f93-1e7e-4c87-aa80-92c65595ef59\", \"_aml_system_azureml.automlComponent\": \"AutoML\", \"pipeline_id_000\": \"5dfac790c5c209f98a1da2dc1c7fb76f0397324f;c7af0367625be6ac5c2fecbfc72ed444cb7a2111;799d2168db11fc19b9e1c6c1df62f8981ad39fe9;44b5d2d23120dfcf96a7dc6389a293d17a966b1b;3735210984ea10097d5c91905cf6300ac278cd89;5304e705d6f401cb07f85bcf0ca59ac1f84dfcf5;294650ec23bc3d067a4972de7ceb12f6e97260fa;3caa818370e5e0c328d6266c359019bd31681270;79ebb3b8c385e3190e3dd4c1fa28b74730528045;589334a57221e0720a95cf217c065115a7b841d1;5a8eb9d9f67b1dd7e9e4062585daa2417ea78989;35b8e2db3c5f6e714072e1be9f0210fe48426975;da45f657e4591caadf1589a85a1f7b8932585595;797e3e972ad02d947be4c64d2b06b775b6df7a49;3fd2e115482e0c7b92aa3297688aefb6c3aa6fb8;1dfdf370ba770047b14bfa59c40920815defcdab;5235e3d56688f5f38ef82d73fba7c2e698fc1af2;17f87d449bb43aaf3cdae4b7eb6dd6e7fbdaf343;dc68fbd594530b5d52812dd9b3ffa3d6d8ba625e;2032292dd602836ed754a266c771ac100c4c80dc;fedbb4995d6de479c513576119965d71276f03d1;e478544eb8734c07a1943f5bdf4e6605be6943df;3729fcdcce0e2533633dd5b0c9762f151aef849d;e7c78ea70fd379a87f18851b2b24b9c4d85cc441;04c1507aa326b2ef5d41ce4796b7e91f113b0ae9;b50199cdabdf259ad63e07a4298c340fec6b3a32;21a2896aab6f2ef7bfbc243a2b285f52cc2fe08d;5a7cc8c7cc69ba69ac36eec99283d6944b182016;8d6cf3e6f4331d0d81d9c1db48ceda8fada5f519;f608487f3423a4d41a4e6508822254c870b24e36;8520fafcdfafc4814110a6e10233269a5cb04dd5;d3812cd4cae6f09e5e02cdc7a9531db57c836045;d4e2676180ae8eecd8e10acb09be2380f214823d;fa16390cf5f14696601c7d969d4b3de1246ef303;__AutoML_Ensemble__\", \"score_000\": \"0.9885154089963738;0.9880244428032334;0.6602547185218695;0.9172462534379917;0.9657408598436289;0.7394757342452172;0.9775205797746596;0.7127715284893841;0.7107109254069586;0.9637771396004149;0.8202639780353932;0.9741831080843454;0.7066854458465397;0.6344381638413588;0.9870427994756475;0.6782168258175664;0.7215091465397506;0.7586140695465584;0.9878285091845992;0.719840217988797;0.7700030784750997;0.9795818091509239;0.7109072926136351;0.9906749665053237;0.9857664608086996;0.7675474285097627;0.7109072926136351;0.9889082879390741;0.9749676615585179;0.9885152644670263;0.7107109254069586;0.9897915549575252;0.9801709589474024;0.9849813773935867;0.9919510161135768\", \"predicted_cost_000\": \"0;0;0.5;0.5;0.5;0.5;0.5;0.5;0.5;0.5;0.5;0.5;0.5;0.5;0.5;0.5;0.5;0.5;0.5;0.5;3.9607283174233077;0.25154316309558516;0.18793556877362141;1.1625128047181856;5.1728619849614175;0.25247163918051996;0.02561091731395966;0.5587868384832863;0.643334937635096;2.5823160763729875;0.2073340936679326;2.2978167109939567;4.115150131939002;1.2576752322173552;0\", \"fit_time_000\": \"0.2447406;0.7938628;0.6472675999999999;0.3741846;0.082146;0.0556272;0.16234600000000002;0.3502324;0.24110579999999998;0.1202386;0.06479539999999999;0.11788260000000002;0.342885;0.0655524;0.18106360000000002;0.996116;0.1403616;0.607916;0.3341632;8.381454399999999;10.768198600000002;0.20343940000000002;0.04829219999999999;4.8348406;3.7935166000000002;0.13276759999999999;0.08506620000000001;0.5719201999999999;1.4988832;7.347945000000001;0.19202580000000002;1.8631430000000002;5.027729;2.9147458;25\", \"training_percent_000\": \"100;100;100;100;100;100;100;100;100;100;100;100;100;100;100;100;100;100;100;100;100;100;100;100;100;100;100;100;100;100;100;100;100;100;100\", \"iteration_000\": \"0;1;2;3;4;5;6;7;8;9;10;11;12;13;14;15;16;17;18;19;20;21;22;23;24;25;26;27;28;29;30;31;32;33;34\", \"run_preprocessor_000\": \"MaxAbsScaler;MaxAbsScaler;MaxAbsScaler;SparseNormalizer;MaxAbsScaler;MaxAbsScaler;StandardScalerWrapper;MaxAbsScaler;StandardScalerWrapper;StandardScalerWrapper;SparseNormalizer;StandardScalerWrapper;MaxAbsScaler;MaxAbsScaler;StandardScalerWrapper;SparseNormalizer;StandardScalerWrapper;StandardScalerWrapper;StandardScalerWrapper;TruncatedSVDWrapper;TruncatedSVDWrapper;StandardScalerWrapper;MaxAbsScaler;StandardScalerWrapper;StandardScalerWrapper;TruncatedSVDWrapper;StandardScalerWrapper;StandardScalerWrapper;SparseNormalizer;StandardScalerWrapper;SparseNormalizer;StandardScalerWrapper;StandardScalerWrapper;StandardScalerWrapper;\", \"run_algorithm_000\": \"LightGBM;XGBoostClassifier;ExtremeRandomTrees;XGBoostClassifier;LightGBM;LightGBM;XGBoostClassifier;LogisticRegression;ExtremeRandomTrees;XGBoostClassifier;LightGBM;XGBoostClassifier;LogisticRegression;SGD;XGBoostClassifier;RandomForest;LogisticRegression;RandomForest;XGBoostClassifier;RandomForest;RandomForest;XGBoostClassifier;LightGBM;XGBoostClassifier;XGBoostClassifier;XGBoostClassifier;XGBoostClassifier;XGBoostClassifier;XGBoostClassifier;XGBoostClassifier;XGBoostClassifier;XGBoostClassifier;XGBoostClassifier;XGBoostClassifier;VotingEnsemble\", \"dynamic_allowlisting_iterations\": \"<25>;<30>;\", \"_aml_system_azureml.automl_early_exit_message\": \"No scores improved over last 10 iterations, so experiment stopped early. This early stopping behavior can be disabled by setting enable_early_stopping = False in AutoMLConfig for notebook/python SDK runs.\", \"automl_best_child_run_id\": \"AutoML_03172180-f10d-4b73-b3fd-b5bfdb197d81_34\", \"model_explain_best_run_child_id\": \"AutoML_03172180-f10d-4b73-b3fd-b5bfdb197d81_34\"}, \"end_time_utc\": \"2024-04-08T14:37:12.487749Z\", \"status\": \"Completed\", \"log_files\": {}, \"log_groups\": [], \"run_duration\": \"0:40:03\", \"run_number\": \"1712584629\", \"run_queued_details\": {\"status\": \"Completed\", \"details\": null}}, \"child_runs\": [{\"run_id\": \"AutoML_03172180-f10d-4b73-b3fd-b5bfdb197d81_setup\", \"run_number\": 1712584644, \"metric\": null, \"status\": \"Completed\", \"run_type\": \"azureml.scriptrun\", \"training_percent\": null, \"start_time\": \"2024-04-08T14:01:50.416374Z\", \"end_time\": \"2024-04-08T14:03:41.350813Z\", \"created_time\": \"2024-04-08T13:57:24.312378Z\", \"created_time_dt\": \"2024-04-08T13:57:24.312378Z\", \"duration\": \"0:06:17\", \"iteration\": null, \"goal\": null, \"run_name\": \"Completed\", \"run_properties\": null}, {\"run_id\": \"AutoML_03172180-f10d-4b73-b3fd-b5bfdb197d81_featurize\", \"run_number\": 1712585021, \"metric\": null, \"status\": \"Completed\", \"run_type\": \"automl.featurization\", \"training_percent\": null, \"start_time\": \"2024-04-08T14:03:42.138603Z\", \"end_time\": \"2024-04-08T14:05:43.152663Z\", \"created_time\": \"2024-04-08T14:03:41.695746Z\", \"created_time_dt\": \"2024-04-08T14:03:41.695746Z\", \"duration\": \"0:02:01\", \"iteration\": null, \"goal\": null, \"run_name\": \"Completed\", \"run_properties\": null}, {\"run_id\": \"AutoML_03172180-f10d-4b73-b3fd-b5bfdb197d81_0\", \"run_number\": 1712585144, \"metric\": null, \"status\": \"Completed\", \"run_type\": null, \"training_percent\": \"100\", \"start_time\": \"2024-04-08T14:06:28.710401Z\", \"end_time\": \"2024-04-08T14:06:45.05881Z\", \"created_time\": \"2024-04-08T14:05:44.800948Z\", \"created_time_dt\": \"2024-04-08T14:05:44.800948Z\", \"duration\": \"0:01:00\", \"iteration\": \"0\", \"goal\": \"accuracy_max\", \"run_name\": \"MaxAbsScaler, LightGBM\", \"run_properties\": \"copy=True\", \"primary_metric\": 0.98851541, \"best_metric\": 0.98851541}, {\"run_id\": \"AutoML_03172180-f10d-4b73-b3fd-b5bfdb197d81_1\", \"run_number\": 1712585145, \"metric\": null, \"status\": \"Completed\", \"run_type\": null, \"training_percent\": \"100\", \"start_time\": \"2024-04-08T14:06:45.845667Z\", \"end_time\": \"2024-04-08T14:07:02.543903Z\", \"created_time\": \"2024-04-08T14:05:45.282083Z\", \"created_time_dt\": \"2024-04-08T14:05:45.282083Z\", \"duration\": \"0:01:17\", \"iteration\": \"1\", \"goal\": \"accuracy_max\", \"run_name\": \"MaxAbsScaler, XGBoostClassifier\", \"run_properties\": \"copy=True\", \"primary_metric\": 0.98802444, \"best_metric\": 0.98851541}, {\"run_id\": \"AutoML_03172180-f10d-4b73-b3fd-b5bfdb197d81_3\", \"run_number\": 1712585146, \"metric\": null, \"status\": \"Completed\", \"run_type\": null, \"training_percent\": \"100\", \"start_time\": \"2024-04-08T14:07:19.719427Z\", \"end_time\": \"2024-04-08T14:07:33.393742Z\", \"created_time\": \"2024-04-08T14:05:46.361456Z\", \"created_time_dt\": \"2024-04-08T14:05:46.361456Z\", \"duration\": \"0:01:47\", \"iteration\": \"3\", \"goal\": \"accuracy_max\", \"run_name\": \"SparseNormalizer, XGBoostClassifier\", \"run_properties\": \"copy=True, norm='l2'\", \"primary_metric\": 0.91724625, \"best_metric\": 0.98851541}, {\"run_id\": \"AutoML_03172180-f10d-4b73-b3fd-b5bfdb197d81_5\", \"run_number\": 1712585147, \"metric\": null, \"status\": \"Completed\", \"run_type\": null, \"training_percent\": \"100\", \"start_time\": \"2024-04-08T14:07:46.602947Z\", \"end_time\": \"2024-04-08T14:07:58.946771Z\", \"created_time\": \"2024-04-08T14:05:47.333373Z\", \"created_time_dt\": \"2024-04-08T14:05:47.333373Z\", \"duration\": \"0:02:11\", \"iteration\": \"5\", \"goal\": \"accuracy_max\", \"run_name\": \"MaxAbsScaler, LightGBM\", \"run_properties\": \"copy=True\", \"primary_metric\": 0.73947573, \"best_metric\": 0.98851541}, {\"run_id\": \"AutoML_03172180-f10d-4b73-b3fd-b5bfdb197d81_7\", \"run_number\": 1712585148, \"metric\": null, \"status\": \"Completed\", \"run_type\": null, \"training_percent\": \"100\", \"start_time\": \"2024-04-08T14:08:13.040958Z\", \"end_time\": \"2024-04-08T14:08:26.05507Z\", \"created_time\": \"2024-04-08T14:05:48.399999Z\", \"created_time_dt\": \"2024-04-08T14:05:48.399999Z\", \"duration\": \"0:02:37\", \"iteration\": \"7\", \"goal\": \"accuracy_max\", \"run_name\": \"MaxAbsScaler, LogisticRegression\", \"run_properties\": \"copy=True\", \"primary_metric\": 0.71277153, \"best_metric\": 0.98851541}, {\"run_id\": \"AutoML_03172180-f10d-4b73-b3fd-b5bfdb197d81_9\", \"run_number\": 1712585149, \"metric\": null, \"status\": \"Completed\", \"run_type\": null, \"training_percent\": \"100\", \"start_time\": \"2024-04-08T14:08:39.973018Z\", \"end_time\": \"2024-04-08T14:08:51.906723Z\", \"created_time\": \"2024-04-08T14:05:49.842695Z\", \"created_time_dt\": \"2024-04-08T14:05:49.842695Z\", \"duration\": \"0:03:02\", \"iteration\": \"9\", \"goal\": \"accuracy_max\", \"run_name\": \"StandardScalerWrapper, XGBoostClassifier\", \"run_properties\": \"copy=True, with_mean=False, with_std=False\", \"primary_metric\": 0.96377714, \"best_metric\": 0.98851541}, {\"run_id\": \"AutoML_03172180-f10d-4b73-b3fd-b5bfdb197d81_10\", \"run_number\": 1712585150, \"metric\": null, \"status\": \"Completed\", \"run_type\": null, \"training_percent\": \"100\", \"start_time\": \"2024-04-08T14:08:52.835622Z\", \"end_time\": \"2024-04-08T14:09:03.617209Z\", \"created_time\": \"2024-04-08T14:05:50.873212Z\", \"created_time_dt\": \"2024-04-08T14:05:50.873212Z\", \"duration\": \"0:03:12\", \"iteration\": \"10\", \"goal\": \"accuracy_max\", \"run_name\": \"SparseNormalizer, LightGBM\", \"run_properties\": \"copy=True, norm='l1'\", \"primary_metric\": 0.82026398, \"best_metric\": 0.98851541}, {\"run_id\": \"AutoML_03172180-f10d-4b73-b3fd-b5bfdb197d81_11\", \"run_number\": 1712585151, \"metric\": null, \"status\": \"Completed\", \"run_type\": null, \"training_percent\": \"100\", \"start_time\": \"2024-04-08T14:09:04.380983Z\", \"end_time\": \"2024-04-08T14:09:15.892932Z\", \"created_time\": \"2024-04-08T14:05:51.379781Z\", \"created_time_dt\": \"2024-04-08T14:05:51.379781Z\", \"duration\": \"0:03:24\", \"iteration\": \"11\", \"goal\": \"accuracy_max\", \"run_name\": \"StandardScalerWrapper, XGBoostClassifier\", \"run_properties\": \"copy=True, with_mean=False, with_std=False\", \"primary_metric\": 0.97418311, \"best_metric\": 0.98851541}, {\"run_id\": \"AutoML_03172180-f10d-4b73-b3fd-b5bfdb197d81_13\", \"run_number\": 1712585152, \"metric\": null, \"status\": \"Completed\", \"run_type\": null, \"training_percent\": \"100\", \"start_time\": \"2024-04-08T14:09:30.094565Z\", \"end_time\": \"2024-04-08T14:09:41.488716Z\", \"created_time\": \"2024-04-08T14:05:52.382321Z\", \"created_time_dt\": \"2024-04-08T14:05:52.382321Z\", \"duration\": \"0:03:49\", \"iteration\": \"13\", \"goal\": \"accuracy_max\", \"run_name\": \"MaxAbsScaler, SGD\", \"run_properties\": \"copy=True\", \"primary_metric\": 0.63443816, \"best_metric\": 0.98851541}, {\"run_id\": \"AutoML_03172180-f10d-4b73-b3fd-b5bfdb197d81_15\", \"run_number\": 1712585153, \"metric\": null, \"status\": \"Completed\", \"run_type\": null, \"training_percent\": \"100\", \"start_time\": \"2024-04-08T14:09:55.453276Z\", \"end_time\": \"2024-04-08T14:10:12.897443Z\", \"created_time\": \"2024-04-08T14:05:53.251776Z\", \"created_time_dt\": \"2024-04-08T14:05:53.251776Z\", \"duration\": \"0:04:19\", \"iteration\": \"15\", \"goal\": \"accuracy_max\", \"run_name\": \"SparseNormalizer, RandomForest\", \"run_properties\": \"copy=True, norm='l2'\", \"primary_metric\": 0.67821683, \"best_metric\": 0.98851541}, {\"run_id\": \"AutoML_03172180-f10d-4b73-b3fd-b5bfdb197d81_17\", \"run_number\": 1712585154, \"metric\": null, \"status\": \"Completed\", \"run_type\": null, \"training_percent\": \"100\", \"start_time\": \"2024-04-08T14:10:27.111225Z\", \"end_time\": \"2024-04-08T14:10:42.683319Z\", \"created_time\": \"2024-04-08T14:05:54.120907Z\", \"created_time_dt\": \"2024-04-08T14:05:54.120907Z\", \"duration\": \"0:04:48\", \"iteration\": \"17\", \"goal\": \"accuracy_max\", \"run_name\": \"StandardScalerWrapper, RandomForest\", \"run_properties\": \"copy=True, with_mean=False, with_std=False\", \"primary_metric\": 0.75861407, \"best_metric\": 0.98851541}, {\"run_id\": \"AutoML_03172180-f10d-4b73-b3fd-b5bfdb197d81_worker_0\", \"run_number\": 1712585155, \"metric\": null, \"status\": \"Completed\", \"run_type\": \"azureml.scriptrun\", \"training_percent\": null, \"start_time\": \"2024-04-08T14:06:19.856837Z\", \"end_time\": \"2024-04-08T14:12:39.102361Z\", \"created_time\": \"2024-04-08T14:05:55.360584Z\", \"created_time_dt\": \"2024-04-08T14:05:55.360584Z\", \"duration\": \"0:06:43\", \"iteration\": null, \"goal\": null, \"run_name\": \"Completed\", \"run_properties\": null}, {\"run_id\": \"AutoML_03172180-f10d-4b73-b3fd-b5bfdb197d81_20\", \"run_number\": 1712585835, \"metric\": null, \"status\": \"Completed\", \"run_type\": \"azureml.scriptrun\", \"training_percent\": \"100\", \"start_time\": \"2024-04-08T14:17:42.605039Z\", \"end_time\": \"2024-04-08T14:19:20.726355Z\", \"created_time\": \"2024-04-08T14:17:15.448021Z\", \"created_time_dt\": \"2024-04-08T14:17:15.448021Z\", \"duration\": \"0:02:05\", \"iteration\": \"20\", \"goal\": \"accuracy_max\", \"run_name\": \"TruncatedSVDWrapper, RandomForest\", \"run_properties\": \"n_components=0.7026315789473684, random_state=None\", \"primary_metric\": 0.77000308, \"best_metric\": 0.98851541}, {\"run_id\": \"AutoML_03172180-f10d-4b73-b3fd-b5bfdb197d81_21\", \"run_number\": 1712585962, \"metric\": null, \"status\": \"Completed\", \"run_type\": \"azureml.scriptrun\", \"training_percent\": \"100\", \"start_time\": \"2024-04-08T14:19:49.321299Z\", \"end_time\": \"2024-04-08T14:20:23.634253Z\", \"created_time\": \"2024-04-08T14:19:22.748342Z\", \"created_time_dt\": \"2024-04-08T14:19:22.748342Z\", \"duration\": \"0:01:00\", \"iteration\": \"21\", \"goal\": \"accuracy_max\", \"run_name\": \"StandardScalerWrapper, XGBoostClassifier\", \"run_properties\": \"copy=True, with_mean=False, with_std=False\", \"primary_metric\": 0.97958181, \"best_metric\": 0.98851541}, {\"run_id\": \"AutoML_03172180-f10d-4b73-b3fd-b5bfdb197d81_22\", \"run_number\": 1712586026, \"metric\": null, \"status\": \"Completed\", \"run_type\": \"azureml.scriptrun\", \"training_percent\": \"100\", \"start_time\": \"2024-04-08T14:20:51.317632Z\", \"end_time\": \"2024-04-08T14:21:27.614754Z\", \"created_time\": \"2024-04-08T14:20:26.567726Z\", \"created_time_dt\": \"2024-04-08T14:20:26.567726Z\", \"duration\": \"0:01:01\", \"iteration\": \"22\", \"goal\": \"accuracy_max\", \"run_name\": \"MaxAbsScaler, LightGBM\", \"run_properties\": \"copy=True\", \"primary_metric\": 0.71090729, \"best_metric\": 0.98851541}, {\"run_id\": \"AutoML_03172180-f10d-4b73-b3fd-b5bfdb197d81_23\", \"run_number\": 1712586089, \"metric\": null, \"status\": \"Completed\", \"run_type\": \"azureml.scriptrun\", \"training_percent\": \"100\", \"start_time\": \"2024-04-08T14:21:56.351373Z\", \"end_time\": \"2024-04-08T14:23:01.516495Z\", \"created_time\": \"2024-04-08T14:21:29.318198Z\", \"created_time_dt\": \"2024-04-08T14:21:29.318198Z\", \"duration\": \"0:01:32\", \"iteration\": \"23\", \"goal\": \"accuracy_max\", \"run_name\": \"StandardScalerWrapper, XGBoostClassifier\", \"run_properties\": \"copy=True, with_mean=False, with_std=False\", \"primary_metric\": 0.99067497, \"best_metric\": 0.99067497}, {\"run_id\": \"AutoML_03172180-f10d-4b73-b3fd-b5bfdb197d81_24\", \"run_number\": 1712586183, \"metric\": null, \"status\": \"Completed\", \"run_type\": \"azureml.scriptrun\", \"training_percent\": \"100\", \"start_time\": \"2024-04-08T14:23:24.486065Z\", \"end_time\": \"2024-04-08T14:24:17.115819Z\", \"created_time\": \"2024-04-08T14:23:03.194535Z\", \"created_time_dt\": \"2024-04-08T14:23:03.194535Z\", \"duration\": \"0:01:13\", \"iteration\": \"24\", \"goal\": \"accuracy_max\", \"run_name\": \"StandardScalerWrapper, XGBoostClassifier\", \"run_properties\": \"copy=True, with_mean=False, with_std=False\", \"primary_metric\": 0.98576646, \"best_metric\": 0.99067497}, {\"run_id\": \"AutoML_03172180-f10d-4b73-b3fd-b5bfdb197d81_25\", \"run_number\": 1712586259, \"metric\": null, \"status\": \"Completed\", \"run_type\": \"azureml.scriptrun\", \"training_percent\": \"100\", \"start_time\": \"2024-04-08T14:24:44.195833Z\", \"end_time\": \"2024-04-08T14:25:17.525065Z\", \"created_time\": \"2024-04-08T14:24:19.559642Z\", \"created_time_dt\": \"2024-04-08T14:24:19.559642Z\", \"duration\": \"0:00:57\", \"iteration\": \"25\", \"goal\": \"accuracy_max\", \"run_name\": \"TruncatedSVDWrapper, XGBoostClassifier\", \"run_properties\": \"n_components=0.01, random_state=None\", \"primary_metric\": 0.76754743, \"best_metric\": 0.99067497}, {\"run_id\": \"AutoML_03172180-f10d-4b73-b3fd-b5bfdb197d81_26\", \"run_number\": 1712586319, \"metric\": null, \"status\": \"Completed\", \"run_type\": \"azureml.scriptrun\", \"training_percent\": \"100\", \"start_time\": \"2024-04-08T14:25:41.643899Z\", \"end_time\": \"2024-04-08T14:26:16.947616Z\", \"created_time\": \"2024-04-08T14:25:19.062525Z\", \"created_time_dt\": \"2024-04-08T14:25:19.062525Z\", \"duration\": \"0:00:57\", \"iteration\": \"26\", \"goal\": \"accuracy_max\", \"run_name\": \"StandardScalerWrapper, XGBoostClassifier\", \"run_properties\": \"copy=True, with_mean=False, with_std=False\", \"primary_metric\": 0.71090729, \"best_metric\": 0.99067497}, {\"run_id\": \"AutoML_03172180-f10d-4b73-b3fd-b5bfdb197d81_27\", \"run_number\": 1712586378, \"metric\": null, \"status\": \"Completed\", \"run_type\": \"azureml.scriptrun\", \"training_percent\": \"100\", \"start_time\": \"2024-04-08T14:26:41.772434Z\", \"end_time\": \"2024-04-08T14:27:21.501885Z\", \"created_time\": \"2024-04-08T14:26:18.576391Z\", \"created_time_dt\": \"2024-04-08T14:26:18.576391Z\", \"duration\": \"0:01:02\", \"iteration\": \"27\", \"goal\": \"accuracy_max\", \"run_name\": \"StandardScalerWrapper, XGBoostClassifier\", \"run_properties\": \"copy=True, with_mean=False, with_std=False\", \"primary_metric\": 0.98890829, \"best_metric\": 0.99067497}, {\"run_id\": \"AutoML_03172180-f10d-4b73-b3fd-b5bfdb197d81_28\", \"run_number\": 1712586443, \"metric\": null, \"status\": \"Completed\", \"run_type\": \"azureml.scriptrun\", \"training_percent\": \"100\", \"start_time\": \"2024-04-08T14:27:46.069289Z\", \"end_time\": \"2024-04-08T14:28:37.016881Z\", \"created_time\": \"2024-04-08T14:27:23.115942Z\", \"created_time_dt\": \"2024-04-08T14:27:23.115942Z\", \"duration\": \"0:01:13\", \"iteration\": \"28\", \"goal\": \"accuracy_max\", \"run_name\": \"SparseNormalizer, XGBoostClassifier\", \"run_properties\": \"copy=True, norm='l1'\", \"primary_metric\": 0.97496766, \"best_metric\": 0.99067497}, {\"run_id\": \"AutoML_03172180-f10d-4b73-b3fd-b5bfdb197d81_29\", \"run_number\": 1712586518, \"metric\": null, \"status\": \"Completed\", \"run_type\": \"azureml.scriptrun\", \"training_percent\": \"100\", \"start_time\": \"2024-04-08T14:29:03.242437Z\", \"end_time\": \"2024-04-08T14:30:35.078604Z\", \"created_time\": \"2024-04-08T14:28:38.580058Z\", \"created_time_dt\": \"2024-04-08T14:28:38.580058Z\", \"duration\": \"0:01:56\", \"iteration\": \"29\", \"goal\": \"accuracy_max\", \"run_name\": \"StandardScalerWrapper, XGBoostClassifier\", \"run_properties\": \"copy=True, with_mean=False, with_std=False\", \"primary_metric\": 0.98851526, \"best_metric\": 0.99067497}, {\"run_id\": \"AutoML_03172180-f10d-4b73-b3fd-b5bfdb197d81_30\", \"run_number\": 1712586637, \"metric\": null, \"status\": \"Completed\", \"run_type\": \"azureml.scriptrun\", \"training_percent\": \"100\", \"start_time\": \"2024-04-08T14:31:00.245468Z\", \"end_time\": \"2024-04-08T14:31:33.150952Z\", \"created_time\": \"2024-04-08T14:30:37.735722Z\", \"created_time_dt\": \"2024-04-08T14:30:37.735722Z\", \"duration\": \"0:00:55\", \"iteration\": \"30\", \"goal\": \"accuracy_max\", \"run_name\": \"SparseNormalizer, XGBoostClassifier\", \"run_properties\": \"copy=True, norm='l1'\", \"primary_metric\": 0.71071093, \"best_metric\": 0.99067497}, {\"run_id\": \"AutoML_03172180-f10d-4b73-b3fd-b5bfdb197d81_31\", \"run_number\": 1712586694, \"metric\": null, \"status\": \"Completed\", \"run_type\": \"azureml.scriptrun\", \"training_percent\": \"100\", \"start_time\": \"2024-04-08T14:31:58.641348Z\", \"end_time\": \"2024-04-08T14:32:46.901041Z\", \"created_time\": \"2024-04-08T14:31:34.679374Z\", \"created_time_dt\": \"2024-04-08T14:31:34.679374Z\", \"duration\": \"0:01:12\", \"iteration\": \"31\", \"goal\": \"accuracy_max\", \"run_name\": \"StandardScalerWrapper, XGBoostClassifier\", \"run_properties\": \"copy=True, with_mean=False, with_std=False\", \"primary_metric\": 0.98979155, \"best_metric\": 0.99067497}, {\"run_id\": \"AutoML_03172180-f10d-4b73-b3fd-b5bfdb197d81_32\", \"run_number\": 1712586768, \"metric\": null, \"status\": \"Completed\", \"run_type\": \"azureml.scriptrun\", \"training_percent\": \"100\", \"start_time\": \"2024-04-08T14:33:16.296387Z\", \"end_time\": \"2024-04-08T14:34:23.130004Z\", \"created_time\": \"2024-04-08T14:32:48.67912Z\", \"created_time_dt\": \"2024-04-08T14:32:48.67912Z\", \"duration\": \"0:01:34\", \"iteration\": \"32\", \"goal\": \"accuracy_max\", \"run_name\": \"StandardScalerWrapper, XGBoostClassifier\", \"run_properties\": \"copy=True, with_mean=False, with_std=False\", \"primary_metric\": 0.98017096, \"best_metric\": 0.99067497}, {\"run_id\": \"AutoML_03172180-f10d-4b73-b3fd-b5bfdb197d81_33\", \"run_number\": 1712586864, \"metric\": null, \"status\": \"Completed\", \"run_type\": \"azureml.scriptrun\", \"training_percent\": \"100\", \"start_time\": \"2024-04-08T14:34:52.004362Z\", \"end_time\": \"2024-04-08T14:35:40.190177Z\", \"created_time\": \"2024-04-08T14:34:24.846806Z\", \"created_time_dt\": \"2024-04-08T14:34:24.846806Z\", \"duration\": \"0:01:15\", \"iteration\": \"33\", \"goal\": \"accuracy_max\", \"run_name\": \"StandardScalerWrapper, XGBoostClassifier\", \"run_properties\": \"copy=True, with_mean=False, with_std=False\", \"primary_metric\": 0.98498138, \"best_metric\": 0.99067497}, {\"run_id\": \"AutoML_03172180-f10d-4b73-b3fd-b5bfdb197d81_34\", \"run_number\": 1712586941, \"metric\": null, \"status\": \"Completed\", \"run_type\": \"azureml.scriptrun\", \"training_percent\": \"100\", \"start_time\": \"2024-04-08T14:36:02.018384Z\", \"end_time\": \"2024-04-08T14:37:11.314193Z\", \"created_time\": \"2024-04-08T14:35:41.041864Z\", \"created_time_dt\": \"2024-04-08T14:35:41.041864Z\", \"duration\": \"0:01:30\", \"iteration\": \"34\", \"goal\": \"accuracy_max\", \"run_name\": \"VotingEnsemble\", \"run_properties\": \"classification_labels=numpy.array([0, 1]\", \"primary_metric\": 0.99195102, \"best_metric\": 0.99195102}], \"children_metrics\": {\"categories\": [0], \"series\": {\"log_loss\": [{\"categories\": [\"0\", \"1\", \"3\", \"5\", \"7\", \"9\", \"10\", \"11\", \"13\", \"15\", \"17\", \"20\", \"21\", \"22\", \"23\", \"24\", \"25\", \"26\", \"27\", \"28\", \"29\", \"30\", \"31\", \"32\", \"33\", \"34\"], \"mode\": \"markers\", \"name\": \"log_loss\", \"stepped\": false, \"type\": \"scatter\", \"data\": [0.04392200007555409, 0.038934941199162, 0.641633037050598, 0.44410894668860135, 0.5734321758226913, 0.14742736999275824, 0.4144283627742496, 0.14461722382992245, 0.7189170363672116, 0.659631785792868, 0.444797231674768, 0.6229583070316342, 0.12429441019993656, 0.5123172095026004, 0.04496376147036625, 0.03487366875161624, 0.4817562617256971, 0.5483568738686373, 0.03679880944144899, 0.0716541873106081, 0.031181113563370593, 0.6015889034853592, 0.0425644406821988, 0.3410884485417579, 0.03875466656817024, 0.17646602192045618]}, {\"categories\": [\"0\", \"1\", \"3\", \"5\", \"7\", \"9\", \"10\", \"11\", \"13\", \"15\", \"17\", \"20\", \"21\", \"22\", \"23\", \"24\", \"25\", \"26\", \"27\", \"28\", \"29\", \"30\", \"31\", \"32\", \"33\", \"34\"], \"mode\": \"lines\", \"name\": \"log_loss_min\", \"stepped\": true, \"type\": \"scatter\", \"data\": [0.04392200007555409, 0.038934941199162, 0.038934941199162, 0.038934941199162, 0.038934941199162, 0.038934941199162, 0.038934941199162, 0.038934941199162, 0.038934941199162, 0.038934941199162, 0.038934941199162, 0.038934941199162, 0.038934941199162, 0.038934941199162, 0.038934941199162, 0.03487366875161624, 0.03487366875161624, 0.03487366875161624, 0.03487366875161624, 0.03487366875161624, 0.031181113563370593, 0.031181113563370593, 0.031181113563370593, 0.031181113563370593, 0.031181113563370593, 0.031181113563370593]}], \"recall_score_macro\": [{\"categories\": [\"0\", \"1\", \"3\", \"5\", \"7\", \"9\", \"10\", \"11\", \"13\", \"15\", \"17\", \"20\", \"21\", \"22\", \"23\", \"24\", \"25\", \"26\", \"27\", \"28\", \"29\", \"30\", \"31\", \"32\", \"33\", \"34\"], \"mode\": \"markers\", \"name\": \"recall_score_macro\", \"stepped\": false, \"type\": \"scatter\", \"data\": [0.9861367836571977, 0.985775511968308, 0.8730841183961058, 0.5504049659851563, 0.5704037896628806, 0.9499417440846146, 0.6956804471184231, 0.9630767036819841, 0.6133441243462247, 0.6587795416241832, 0.5830238277680853, 0.7154954393107567, 0.972216736928791, 0.5003521126760564, 0.9885569077844505, 0.9829610273343332, 0.6622175186670333, 0.5017351069447684, 0.9864397366249893, 0.9663687409420619, 0.98680879007158, 0.5, 0.9873160874967113, 0.9706578507827544, 0.9818966816388922, 0.9889379631485049]}, {\"categories\": [\"0\", \"1\", \"3\", \"5\", \"7\", \"9\", \"10\", \"11\", \"13\", \"15\", \"17\", \"20\", \"21\", \"22\", \"23\", \"24\", \"25\", \"26\", \"27\", \"28\", \"29\", \"30\", \"31\", \"32\", \"33\", \"34\"], \"mode\": \"lines\", \"name\": \"recall_score_macro_max\", \"stepped\": true, \"type\": \"scatter\", \"data\": [0.9861367836571977, 0.9861367836571977, 0.9861367836571977, 0.9861367836571977, 0.9861367836571977, 0.9861367836571977, 0.9861367836571977, 0.9861367836571977, 0.9861367836571977, 0.9861367836571977, 0.9861367836571977, 0.9861367836571977, 0.9861367836571977, 0.9861367836571977, 0.9885569077844505, 0.9885569077844505, 0.9885569077844505, 0.9885569077844505, 0.9885569077844505, 0.9885569077844505, 0.9885569077844505, 0.9885569077844505, 0.9885569077844505, 0.9885569077844505, 0.9885569077844505, 0.9889379631485049]}], \"norm_macro_recall\": [{\"categories\": [\"0\", \"1\", \"3\", \"5\", \"7\", \"9\", \"10\", \"11\", \"13\", \"15\", \"17\", \"20\", \"21\", \"22\", \"23\", \"24\", \"25\", \"26\", \"27\", \"28\", \"29\", \"30\", \"31\", \"32\", \"33\", \"34\"], \"mode\": \"markers\", \"name\": \"norm_macro_recall\", \"stepped\": false, \"type\": \"scatter\", \"data\": [0.9722735673143955, 0.9715510239366161, 0.7461682367922113, 0.10080993197031259, 0.14080757932576113, 0.8998834881692293, 0.39136089423684617, 0.926153407363968, 0.2266882486924493, 0.3175590832483664, 0.1660476555361705, 0.4309908786215135, 0.9444334738575819, 0.0007042253521126973, 0.9771138155689005, 0.9659220546686665, 0.3244350373340664, 0.003470213889536744, 0.9728794732499786, 0.9327374818841238, 0.9736175801431599, 0.0, 0.9746321749934221, 0.9413157015655088, 0.9637933632777843, 0.9778759262970096]}, {\"categories\": [\"0\", \"1\", \"3\", \"5\", \"7\", \"9\", \"10\", \"11\", \"13\", \"15\", \"17\", \"20\", \"21\", \"22\", \"23\", \"24\", \"25\", \"26\", \"27\", \"28\", \"29\", \"30\", \"31\", \"32\", \"33\", \"34\"], \"mode\": \"lines\", \"name\": \"norm_macro_recall_max\", \"stepped\": true, \"type\": \"scatter\", \"data\": [0.9722735673143955, 0.9722735673143955, 0.9722735673143955, 0.9722735673143955, 0.9722735673143955, 0.9722735673143955, 0.9722735673143955, 0.9722735673143955, 0.9722735673143955, 0.9722735673143955, 0.9722735673143955, 0.9722735673143955, 0.9722735673143955, 0.9722735673143955, 0.9771138155689005, 0.9771138155689005, 0.9771138155689005, 0.9771138155689005, 0.9771138155689005, 0.9771138155689005, 0.9771138155689005, 0.9771138155689005, 0.9771138155689005, 0.9771138155689005, 0.9771138155689005, 0.9778759262970096]}], \"precision_score_macro\": [{\"categories\": [\"0\", \"1\", \"3\", \"5\", \"7\", \"9\", \"10\", \"11\", \"13\", \"15\", \"17\", \"20\", \"21\", \"22\", \"23\", \"24\", \"25\", \"26\", \"27\", \"28\", \"29\", \"30\", \"31\", \"32\", \"33\", \"34\"], \"mode\": \"markers\", \"name\": \"precision_score_macro\", \"stepped\": false, \"type\": \"scatter\", \"data\": [0.9860226652931141, 0.9851781420852896, 0.9234266555981143, 0.766218469211624, 0.6269480767784106, 0.9612201840820569, 0.8792210841643865, 0.9738980599027972, 0.5979524015414599, 0.6380252454034331, 0.8733394249929599, 0.7201894939300012, 0.9777598926360334, 0.45542633823827233, 0.988827268484102, 0.982485420731091, 0.7245646525539557, 0.5785354552788526, 0.9866700956494837, 0.9724687455075574, 0.9853693631205449, 0.3553554627034793, 0.9879189920590971, 0.9810039868601128, 0.9816254756625563, 0.9915057475793118]}, {\"categories\": [\"0\", \"1\", \"3\", \"5\", \"7\", \"9\", \"10\", \"11\", \"13\", \"15\", \"17\", \"20\", \"21\", \"22\", \"23\", \"24\", \"25\", \"26\", \"27\", \"28\", \"29\", \"30\", \"31\", \"32\", \"33\", \"34\"], \"mode\": \"lines\", \"name\": \"precision_score_macro_max\", \"stepped\": true, \"type\": \"scatter\", \"data\": [0.9860226652931141, 0.9860226652931141, 0.9860226652931141, 0.9860226652931141, 0.9860226652931141, 0.9860226652931141, 0.9860226652931141, 0.9860226652931141, 0.9860226652931141, 0.9860226652931141, 0.9860226652931141, 0.9860226652931141, 0.9860226652931141, 0.9860226652931141, 0.988827268484102, 0.988827268484102, 0.988827268484102, 0.988827268484102, 0.988827268484102, 0.988827268484102, 0.988827268484102, 0.988827268484102, 0.988827268484102, 0.988827268484102, 0.988827268484102, 0.9915057475793118]}], \"f1_score_weighted\": [{\"categories\": [\"0\", \"1\", \"3\", \"5\", \"7\", \"9\", \"10\", \"11\", \"13\", \"15\", \"17\", \"20\", \"21\", \"22\", \"23\", \"24\", \"25\", \"26\", \"27\", \"28\", \"29\", \"30\", \"31\", \"32\", \"33\", \"34\"], \"mode\": \"markers\", \"name\": \"f1_score_weighted\", \"stepped\": false, \"type\": \"scatter\", \"data\": [0.9885154002887271, 0.9880282606645678, 0.9146259130086711, 0.6494060291789867, 0.6733132383258736, 0.963539468883515, 0.7922970523141526, 0.9740358321670479, 0.6477313561266143, 0.6894170779233726, 0.6887648282235113, 0.7688234056645225, 0.979508923710673, 0.5910033269995336, 0.9906723599155771, 0.9857715508337167, 0.7491040364863101, 0.5932927746870641, 0.9889037204708092, 0.9748833881406735, 0.9885243067018878, 0.5905429837158958, 0.9897882252829898, 0.9800631292401208, 0.9849853338671715, 0.9919398753677493]}, {\"categories\": [\"0\", \"1\", \"3\", \"5\", \"7\", \"9\", \"10\", \"11\", \"13\", \"15\", \"17\", \"20\", \"21\", \"22\", \"23\", \"24\", \"25\", \"26\", \"27\", \"28\", \"29\", \"30\", \"31\", \"32\", \"33\", \"34\"], \"mode\": \"lines\", \"name\": \"f1_score_weighted_max\", \"stepped\": true, \"type\": \"scatter\", \"data\": [0.9885154002887271, 0.9885154002887271, 0.9885154002887271, 0.9885154002887271, 0.9885154002887271, 0.9885154002887271, 0.9885154002887271, 0.9885154002887271, 0.9885154002887271, 0.9885154002887271, 0.9885154002887271, 0.9885154002887271, 0.9885154002887271, 0.9885154002887271, 0.9906723599155771, 0.9906723599155771, 0.9906723599155771, 0.9906723599155771, 0.9906723599155771, 0.9906723599155771, 0.9906723599155771, 0.9906723599155771, 0.9906723599155771, 0.9906723599155771, 0.9906723599155771, 0.9919398753677493]}], \"AUC_weighted\": [{\"categories\": [\"0\", \"1\", \"3\", \"5\", \"7\", \"9\", \"10\", \"11\", \"13\", \"15\", \"17\", \"20\", \"21\", \"22\", \"23\", \"24\", \"25\", \"26\", \"27\", \"28\", \"29\", \"30\", \"31\", \"32\", \"33\", \"34\"], \"mode\": \"markers\", \"name\": \"AUC_weighted\", \"stepped\": false, \"type\": \"scatter\", \"data\": [0.9992244569899761, 0.9991699343488557, 0.9791794946525233, 0.9851449349732292, 0.6723339030232864, 0.9947997473336748, 0.9379916475077499, 0.9977221954442749, 0.6617160142347441, 0.7270719250879943, 0.9520594189111897, 0.8110369612251744, 0.9979966149262051, 0.8915828326602485, 0.9996226990631142, 0.9991183515613024, 0.7953736971882677, 0.7628966404245453, 0.9993504853461795, 0.9973463896277348, 0.9994279144479858, 0.5, 0.9994905773121303, 0.9984206368596563, 0.9989411029751164, 0.9996192904553457]}, {\"categories\": [\"0\", \"1\", \"3\", \"5\", \"7\", \"9\", \"10\", \"11\", \"13\", \"15\", \"17\", \"20\", \"21\", \"22\", \"23\", \"24\", \"25\", \"26\", \"27\", \"28\", \"29\", \"30\", \"31\", \"32\", \"33\", \"34\"], \"mode\": \"lines\", \"name\": \"AUC_weighted_max\", \"stepped\": true, \"type\": \"scatter\", \"data\": [0.9992244569899761, 0.9992244569899761, 0.9992244569899761, 0.9992244569899761, 0.9992244569899761, 0.9992244569899761, 0.9992244569899761, 0.9992244569899761, 0.9992244569899761, 0.9992244569899761, 0.9992244569899761, 0.9992244569899761, 0.9992244569899761, 0.9992244569899761, 0.9996226990631142, 0.9996226990631142, 0.9996226990631142, 0.9996226990631142, 0.9996226990631142, 0.9996226990631142, 0.9996226990631142, 0.9996226990631142, 0.9996226990631142, 0.9996226990631142, 0.9996226990631142, 0.9996226990631142]}], \"precision_score_micro\": [{\"categories\": [\"0\", \"1\", \"3\", \"5\", \"7\", \"9\", \"10\", \"11\", \"13\", \"15\", \"17\", \"20\", \"21\", \"22\", \"23\", \"24\", \"25\", \"26\", \"27\", \"28\", \"29\", \"30\", \"31\", \"32\", \"33\", \"34\"], \"mode\": \"markers\", \"name\": \"precision_score_micro\", \"stepped\": false, \"type\": \"scatter\", \"data\": [0.9885154089963738, 0.9880244428032334, 0.9172462534379917, 0.7394757342452172, 0.7127715284893841, 0.9637771396004149, 0.8202639780353932, 0.9741831080843454, 0.6344381638413588, 0.6782168258175664, 0.7586140695465584, 0.7700030784750997, 0.9795818091509239, 0.7109072926136351, 0.9906749665053237, 0.9857664608086996, 0.7675474285097627, 0.7109072926136351, 0.9889082879390741, 0.9749676615585179, 0.9885152644670263, 0.7107109254069586, 0.9897915549575252, 0.9801709589474024, 0.9849813773935867, 0.9919510161135768]}, {\"categories\": [\"0\", \"1\", \"3\", \"5\", \"7\", \"9\", \"10\", \"11\", \"13\", \"15\", \"17\", \"20\", \"21\", \"22\", \"23\", \"24\", \"25\", \"26\", \"27\", \"28\", \"29\", \"30\", \"31\", \"32\", \"33\", \"34\"], \"mode\": \"lines\", \"name\": \"precision_score_micro_max\", \"stepped\": true, \"type\": \"scatter\", \"data\": [0.9885154089963738, 0.9885154089963738, 0.9885154089963738, 0.9885154089963738, 0.9885154089963738, 0.9885154089963738, 0.9885154089963738, 0.9885154089963738, 0.9885154089963738, 0.9885154089963738, 0.9885154089963738, 0.9885154089963738, 0.9885154089963738, 0.9885154089963738, 0.9906749665053237, 0.9906749665053237, 0.9906749665053237, 0.9906749665053237, 0.9906749665053237, 0.9906749665053237, 0.9906749665053237, 0.9906749665053237, 0.9906749665053237, 0.9906749665053237, 0.9906749665053237, 0.9919510161135768]}], \"matthews_correlation\": [{\"categories\": [\"0\", \"1\", \"3\", \"5\", \"7\", \"9\", \"10\", \"11\", \"13\", \"15\", \"17\", \"20\", \"21\", \"22\", \"23\", \"24\", \"25\", \"26\", \"27\", \"28\", \"29\", \"30\", \"31\", \"32\", \"33\", \"34\"], \"mode\": \"markers\", \"name\": \"matthews_correlation\", \"stepped\": false, \"type\": \"scatter\", \"data\": [0.9721522294279117, 0.9709480788588956, 0.794729227448795, 0.21865478234939922, 0.18884686850293325, 0.9110870050527234, 0.5437078398089614, 0.9369019939344503, 0.21066232426474585, 0.2960583538261935, 0.34703118148527684, 0.43561617579503203, 0.9499525266382154, 0.010083226357874241, 0.9773817262152477, 0.9654429187615822, 0.38166291004814673, 0.02553883434403953, 0.9731064343276536, 0.938814957025496, 0.9721741441752622, 0.0, 0.9752335471030318, 0.951602957338236, 0.9635208701122064, 0.9804389805771064]}, {\"categories\": [\"0\", \"1\", \"3\", \"5\", \"7\", \"9\", \"10\", \"11\", \"13\", \"15\", \"17\", \"20\", \"21\", \"22\", \"23\", \"24\", \"25\", \"26\", \"27\", \"28\", \"29\", \"30\", \"31\", \"32\", \"33\", \"34\"], \"mode\": \"lines\", \"name\": \"matthews_correlation_max\", \"stepped\": true, \"type\": \"scatter\", \"data\": [0.9721522294279117, 0.9721522294279117, 0.9721522294279117, 0.9721522294279117, 0.9721522294279117, 0.9721522294279117, 0.9721522294279117, 0.9721522294279117, 0.9721522294279117, 0.9721522294279117, 0.9721522294279117, 0.9721522294279117, 0.9721522294279117, 0.9721522294279117, 0.9773817262152477, 0.9773817262152477, 0.9773817262152477, 0.9773817262152477, 0.9773817262152477, 0.9773817262152477, 0.9773817262152477, 0.9773817262152477, 0.9773817262152477, 0.9773817262152477, 0.9773817262152477, 0.9804389805771064]}], \"recall_score_micro\": [{\"categories\": [\"0\", \"1\", \"3\", \"5\", \"7\", \"9\", \"10\", \"11\", \"13\", \"15\", \"17\", \"20\", \"21\", \"22\", \"23\", \"24\", \"25\", \"26\", \"27\", \"28\", \"29\", \"30\", \"31\", \"32\", \"33\", \"34\"], \"mode\": \"markers\", \"name\": \"recall_score_micro\", \"stepped\": false, \"type\": \"scatter\", \"data\": [0.9885154089963738, 0.9880244428032334, 0.9172462534379917, 0.7394757342452172, 0.7127715284893841, 0.9637771396004149, 0.8202639780353932, 0.9741831080843454, 0.6344381638413588, 0.6782168258175664, 0.7586140695465584, 0.7700030784750997, 0.9795818091509239, 0.7109072926136351, 0.9906749665053237, 0.9857664608086996, 0.7675474285097627, 0.7109072926136351, 0.9889082879390741, 0.9749676615585179, 0.9885152644670263, 0.7107109254069586, 0.9897915549575252, 0.9801709589474024, 0.9849813773935867, 0.9919510161135768]}, {\"categories\": [\"0\", \"1\", \"3\", \"5\", \"7\", \"9\", \"10\", \"11\", \"13\", \"15\", \"17\", \"20\", \"21\", \"22\", \"23\", \"24\", \"25\", \"26\", \"27\", \"28\", \"29\", \"30\", \"31\", \"32\", \"33\", \"34\"], \"mode\": \"lines\", \"name\": \"recall_score_micro_max\", \"stepped\": true, \"type\": \"scatter\", \"data\": [0.9885154089963738, 0.9885154089963738, 0.9885154089963738, 0.9885154089963738, 0.9885154089963738, 0.9885154089963738, 0.9885154089963738, 0.9885154089963738, 0.9885154089963738, 0.9885154089963738, 0.9885154089963738, 0.9885154089963738, 0.9885154089963738, 0.9885154089963738, 0.9906749665053237, 0.9906749665053237, 0.9906749665053237, 0.9906749665053237, 0.9906749665053237, 0.9906749665053237, 0.9906749665053237, 0.9906749665053237, 0.9906749665053237, 0.9906749665053237, 0.9906749665053237, 0.9919510161135768]}], \"f1_score_macro\": [{\"categories\": [\"0\", \"1\", \"3\", \"5\", \"7\", \"9\", \"10\", \"11\", \"13\", \"15\", \"17\", \"20\", \"21\", \"22\", \"23\", \"24\", \"25\", \"26\", \"27\", \"28\", \"29\", \"30\", \"31\", \"32\", \"33\", \"34\"], \"mode\": \"markers\", \"name\": \"f1_score_macro\", \"stepped\": false, \"type\": \"scatter\", \"data\": [0.9860565306346583, 0.9854589719859821, 0.8932840095555477, 0.5076182800747578, 0.5680491965069109, 0.9553345325236787, 0.7237413176656956, 0.9682582870828831, 0.5951386778158272, 0.6403158929340875, 0.5680207423344948, 0.7175470231752832, 0.9749134634310337, 0.41618901852936424, 0.9886841928763037, 0.9827113627883639, 0.6770977582399528, 0.4204489027222057, 0.9865439737980768, 0.9693449995294943, 0.9860759422353491, 0.4154394335490106, 0.9876126143594934, 0.9756416840870875, 0.9817568443240875, 0.9902062981705063]}, {\"categories\": [\"0\", \"1\", \"3\", \"5\", \"7\", \"9\", \"10\", \"11\", \"13\", \"15\", \"17\", \"20\", \"21\", \"22\", \"23\", \"24\", \"25\", \"26\", \"27\", \"28\", \"29\", \"30\", \"31\", \"32\", \"33\", \"34\"], \"mode\": \"lines\", \"name\": \"f1_score_macro_max\", \"stepped\": true, \"type\": \"scatter\", \"data\": [0.9860565306346583, 0.9860565306346583, 0.9860565306346583, 0.9860565306346583, 0.9860565306346583, 0.9860565306346583, 0.9860565306346583, 0.9860565306346583, 0.9860565306346583, 0.9860565306346583, 0.9860565306346583, 0.9860565306346583, 0.9860565306346583, 0.9860565306346583, 0.9886841928763037, 0.9886841928763037, 0.9886841928763037, 0.9886841928763037, 0.9886841928763037, 0.9886841928763037, 0.9886841928763037, 0.9886841928763037, 0.9886841928763037, 0.9886841928763037, 0.9886841928763037, 0.9902062981705063]}], \"accuracy\": [{\"categories\": [\"0\", \"1\", \"3\", \"5\", \"7\", \"9\", \"10\", \"11\", \"13\", \"15\", \"17\", \"20\", \"21\", \"22\", \"23\", \"24\", \"25\", \"26\", \"27\", \"28\", \"29\", \"30\", \"31\", \"32\", \"33\", \"34\"], \"mode\": \"markers\", \"name\": \"accuracy\", \"stepped\": false, \"type\": \"scatter\", \"data\": [0.9885154089963738, 0.9880244428032334, 0.9172462534379917, 0.7394757342452172, 0.7127715284893841, 0.9637771396004149, 0.8202639780353932, 0.9741831080843454, 0.6344381638413588, 0.6782168258175664, 0.7586140695465584, 0.7700030784750997, 0.9795818091509239, 0.7109072926136351, 0.9906749665053237, 0.9857664608086996, 0.7675474285097627, 0.7109072926136351, 0.9889082879390741, 0.9749676615585179, 0.9885152644670263, 0.7107109254069586, 0.9897915549575252, 0.9801709589474024, 0.9849813773935867, 0.9919510161135768]}, {\"categories\": [\"0\", \"1\", \"3\", \"5\", \"7\", \"9\", \"10\", \"11\", \"13\", \"15\", \"17\", \"20\", \"21\", \"22\", \"23\", \"24\", \"25\", \"26\", \"27\", \"28\", \"29\", \"30\", \"31\", \"32\", \"33\", \"34\"], \"mode\": \"lines\", \"name\": \"accuracy_max\", \"stepped\": true, \"type\": \"scatter\", \"data\": [0.9885154089963738, 0.9885154089963738, 0.9885154089963738, 0.9885154089963738, 0.9885154089963738, 0.9885154089963738, 0.9885154089963738, 0.9885154089963738, 0.9885154089963738, 0.9885154089963738, 0.9885154089963738, 0.9885154089963738, 0.9885154089963738, 0.9885154089963738, 0.9906749665053237, 0.9906749665053237, 0.9906749665053237, 0.9906749665053237, 0.9906749665053237, 0.9906749665053237, 0.9906749665053237, 0.9906749665053237, 0.9906749665053237, 0.9906749665053237, 0.9906749665053237, 0.9919510161135768]}], \"precision_score_weighted\": [{\"categories\": [\"0\", \"1\", \"3\", \"5\", \"7\", \"9\", \"10\", \"11\", \"13\", \"15\", \"17\", \"20\", \"21\", \"22\", \"23\", \"24\", \"25\", \"26\", \"27\", \"28\", \"29\", \"30\", \"31\", \"32\", \"33\", \"34\"], \"mode\": \"markers\", \"name\": \"precision_score_weighted\", \"stepped\": false, \"type\": \"scatter\", \"data\": [0.988547280654992, 0.9880565527472971, 0.9186927112913216, 0.7504979289840716, 0.676421178311106, 0.9636462506748016, 0.8470189150215145, 0.9742038538986246, 0.6786839307689034, 0.7137744191163107, 0.8200295099827839, 0.7680734362558168, 0.9795379096197333, 0.5610220018671879, 0.9906806366432788, 0.9857932213510997, 0.753151135126809, 0.6334116329398342, 0.9889141956626382, 0.9749017256506491, 0.9885515230892408, 0.5051514901729208, 0.9897916868159978, 0.9802178601110192, 0.9849951664982731, 0.991950436243403]}, {\"categories\": [\"0\", \"1\", \"3\", \"5\", \"7\", \"9\", \"10\", \"11\", \"13\", \"15\", \"17\", \"20\", \"21\", \"22\", \"23\", \"24\", \"25\", \"26\", \"27\", \"28\", \"29\", \"30\", \"31\", \"32\", \"33\", \"34\"], \"mode\": \"lines\", \"name\": \"precision_score_weighted_max\", \"stepped\": true, \"type\": \"scatter\", \"data\": [0.988547280654992, 0.988547280654992, 0.988547280654992, 0.988547280654992, 0.988547280654992, 0.988547280654992, 0.988547280654992, 0.988547280654992, 0.988547280654992, 0.988547280654992, 0.988547280654992, 0.988547280654992, 0.988547280654992, 0.988547280654992, 0.9906806366432788, 0.9906806366432788, 0.9906806366432788, 0.9906806366432788, 0.9906806366432788, 0.9906806366432788, 0.9906806366432788, 0.9906806366432788, 0.9906806366432788, 0.9906806366432788, 0.9906806366432788, 0.991950436243403]}], \"recall_score_weighted\": [{\"categories\": [\"0\", \"1\", \"3\", \"5\", \"7\", \"9\", \"10\", \"11\", \"13\", \"15\", \"17\", \"20\", \"21\", \"22\", \"23\", \"24\", \"25\", \"26\", \"27\", \"28\", \"29\", \"30\", \"31\", \"32\", \"33\", \"34\"], \"mode\": \"markers\", \"name\": \"recall_score_weighted\", \"stepped\": false, \"type\": \"scatter\", \"data\": [0.9885154089963738, 0.9880244428032334, 0.9172462534379917, 0.7394757342452172, 0.7127715284893841, 0.9637771396004149, 0.8202639780353932, 0.9741831080843454, 0.6344381638413588, 0.6782168258175664, 0.7586140695465584, 0.7700030784750997, 0.9795818091509239, 0.7109072926136351, 0.9906749665053237, 0.9857664608086996, 0.7675474285097627, 0.7109072926136351, 0.9889082879390741, 0.9749676615585179, 0.9885152644670263, 0.7107109254069586, 0.9897915549575252, 0.9801709589474024, 0.9849813773935867, 0.9919510161135768]}, {\"categories\": [\"0\", \"1\", \"3\", \"5\", \"7\", \"9\", \"10\", \"11\", \"13\", \"15\", \"17\", \"20\", \"21\", \"22\", \"23\", \"24\", \"25\", \"26\", \"27\", \"28\", \"29\", \"30\", \"31\", \"32\", \"33\", \"34\"], \"mode\": \"lines\", \"name\": \"recall_score_weighted_max\", \"stepped\": true, \"type\": \"scatter\", \"data\": [0.9885154089963738, 0.9885154089963738, 0.9885154089963738, 0.9885154089963738, 0.9885154089963738, 0.9885154089963738, 0.9885154089963738, 0.9885154089963738, 0.9885154089963738, 0.9885154089963738, 0.9885154089963738, 0.9885154089963738, 0.9885154089963738, 0.9885154089963738, 0.9906749665053237, 0.9906749665053237, 0.9906749665053237, 0.9906749665053237, 0.9906749665053237, 0.9906749665053237, 0.9906749665053237, 0.9906749665053237, 0.9906749665053237, 0.9906749665053237, 0.9906749665053237, 0.9919510161135768]}], \"average_precision_score_macro\": [{\"categories\": [\"0\", \"1\", \"3\", \"5\", \"7\", \"9\", \"10\", \"11\", \"13\", \"15\", \"17\", \"20\", \"21\", \"22\", \"23\", \"24\", \"25\", \"26\", \"27\", \"28\", \"29\", \"30\", \"31\", \"32\", \"33\", \"34\"], \"mode\": \"markers\", \"name\": \"average_precision_score_macro\", \"stepped\": false, \"type\": \"scatter\", \"data\": [0.9989186072924847, 0.9988521554138415, 0.9713437025778913, 0.9795268922521746, 0.6330435191164657, 0.9928735297537198, 0.922803270759702, 0.9968254687434562, 0.6223267914039587, 0.6902498772007808, 0.9377083049412217, 0.7933455944784519, 0.9971038837526827, 0.8786452240020968, 0.9994696272639214, 0.9987759779947705, 0.7596053403422395, 0.7193794630027757, 0.9990896307391859, 0.9963690376902286, 0.9991995378061196, 0.5, 0.9992869314448957, 0.9978031772560426, 0.9985315180082619, 0.9994727615378685]}, {\"categories\": [\"0\", \"1\", \"3\", \"5\", \"7\", \"9\", \"10\", \"11\", \"13\", \"15\", \"17\", \"20\", \"21\", \"22\", \"23\", \"24\", \"25\", \"26\", \"27\", \"28\", \"29\", \"30\", \"31\", \"32\", \"33\", \"34\"], \"mode\": \"lines\", \"name\": \"average_precision_score_macro_max\", \"stepped\": true, \"type\": \"scatter\", \"data\": [0.9989186072924847, 0.9989186072924847, 0.9989186072924847, 0.9989186072924847, 0.9989186072924847, 0.9989186072924847, 0.9989186072924847, 0.9989186072924847, 0.9989186072924847, 0.9989186072924847, 0.9989186072924847, 0.9989186072924847, 0.9989186072924847, 0.9989186072924847, 0.9994696272639214, 0.9994696272639214, 0.9994696272639214, 0.9994696272639214, 0.9994696272639214, 0.9994696272639214, 0.9994696272639214, 0.9994696272639214, 0.9994696272639214, 0.9994696272639214, 0.9994696272639214, 0.9994727615378685]}], \"balanced_accuracy\": [{\"categories\": [\"0\", \"1\", \"3\", \"5\", \"7\", \"9\", \"10\", \"11\", \"13\", \"15\", \"17\", \"20\", \"21\", \"22\", \"23\", \"24\", \"25\", \"26\", \"27\", \"28\", \"29\", \"30\", \"31\", \"32\", \"33\", \"34\"], \"mode\": \"markers\", \"name\": \"balanced_accuracy\", \"stepped\": false, \"type\": \"scatter\", \"data\": [0.9861367836571977, 0.985775511968308, 0.8730841183961058, 0.5504049659851563, 0.5704037896628806, 0.9499417440846146, 0.6956804471184231, 0.9630767036819841, 0.6133441243462247, 0.6587795416241832, 0.5830238277680853, 0.7154954393107567, 0.972216736928791, 0.5003521126760564, 0.9885569077844505, 0.9829610273343332, 0.6622175186670333, 0.5017351069447684, 0.9864397366249893, 0.9663687409420619, 0.98680879007158, 0.5, 0.9873160874967113, 0.9706578507827544, 0.9818966816388922, 0.9889379631485049]}, {\"categories\": [\"0\", \"1\", \"3\", \"5\", \"7\", \"9\", \"10\", \"11\", \"13\", \"15\", \"17\", \"20\", \"21\", \"22\", \"23\", \"24\", \"25\", \"26\", \"27\", \"28\", \"29\", \"30\", \"31\", \"32\", \"33\", \"34\"], \"mode\": \"lines\", \"name\": \"balanced_accuracy_max\", \"stepped\": true, \"type\": \"scatter\", \"data\": [0.9861367836571977, 0.9861367836571977, 0.9861367836571977, 0.9861367836571977, 0.9861367836571977, 0.9861367836571977, 0.9861367836571977, 0.9861367836571977, 0.9861367836571977, 0.9861367836571977, 0.9861367836571977, 0.9861367836571977, 0.9861367836571977, 0.9861367836571977, 0.9885569077844505, 0.9885569077844505, 0.9885569077844505, 0.9885569077844505, 0.9885569077844505, 0.9885569077844505, 0.9885569077844505, 0.9885569077844505, 0.9885569077844505, 0.9885569077844505, 0.9885569077844505, 0.9889379631485049]}], \"weighted_accuracy\": [{\"categories\": [\"0\", \"1\", \"3\", \"5\", \"7\", \"9\", \"10\", \"11\", \"13\", \"15\", \"17\", \"20\", \"21\", \"22\", \"23\", \"24\", \"25\", \"26\", \"27\", \"28\", \"29\", \"30\", \"31\", \"32\", \"33\", \"34\"], \"mode\": \"markers\", \"name\": \"weighted_accuracy\", \"stepped\": false, \"type\": \"scatter\", \"data\": [0.9901902388103423, 0.9896043713518786, 0.9479643118426313, 0.8716188661637346, 0.8122022706239813, 0.9734291022016477, 0.9073853755455679, 0.9819143696037351, 0.6491670638281859, 0.6917308287193394, 0.8812137433693584, 0.8080438031329885, 0.984680869326563, 0.8578369412515008, 0.9921651242468161, 0.9877289591545525, 0.8410799257792065, 0.8569001946278758, 0.990652342954065, 0.9809606733659011, 0.9897098707436071, 0.8577453499534803, 0.9915250202050023, 0.9868072880657295, 0.9871346920966182, 0.9940623359070326]}, {\"categories\": [\"0\", \"1\", \"3\", \"5\", \"7\", \"9\", \"10\", \"11\", \"13\", \"15\", \"17\", \"20\", \"21\", \"22\", \"23\", \"24\", \"25\", \"26\", \"27\", \"28\", \"29\", \"30\", \"31\", \"32\", \"33\", \"34\"], \"mode\": \"lines\", \"name\": \"weighted_accuracy_max\", \"stepped\": true, \"type\": \"scatter\", \"data\": [0.9901902388103423, 0.9901902388103423, 0.9901902388103423, 0.9901902388103423, 0.9901902388103423, 0.9901902388103423, 0.9901902388103423, 0.9901902388103423, 0.9901902388103423, 0.9901902388103423, 0.9901902388103423, 0.9901902388103423, 0.9901902388103423, 0.9901902388103423, 0.9921651242468161, 0.9921651242468161, 0.9921651242468161, 0.9921651242468161, 0.9921651242468161, 0.9921651242468161, 0.9921651242468161, 0.9921651242468161, 0.9921651242468161, 0.9921651242468161, 0.9921651242468161, 0.9940623359070326]}], \"average_precision_score_micro\": [{\"categories\": [\"0\", \"1\", \"3\", \"5\", \"7\", \"9\", \"10\", \"11\", \"13\", \"15\", \"17\", \"20\", \"21\", \"22\", \"23\", \"24\", \"25\", \"26\", \"27\", \"28\", \"29\", \"30\", \"31\", \"32\", \"33\", \"34\"], \"mode\": \"markers\", \"name\": \"average_precision_score_micro\", \"stepped\": false, \"type\": \"scatter\", \"data\": [0.9993601811480873, 0.9993276107886853, 0.9774222946929418, 0.9241414747914402, 0.7667162956991913, 0.9953976050428928, 0.9241187583774174, 0.9979167727044841, 0.6916485047128033, 0.7376058597027061, 0.9123823237277554, 0.8539542910838461, 0.9982219904530713, 0.8729278115545158, 0.9996787823334123, 0.999286528660883, 0.8498593061712099, 0.8204756945922271, 0.9994681221127418, 0.9978188604353793, 0.9995283914252404, 0.6497960274694415, 0.999570005600351, 0.9984820670645005, 0.9991290190115576, 0.9996633589167697]}, {\"categories\": [\"0\", \"1\", \"3\", \"5\", \"7\", \"9\", \"10\", \"11\", \"13\", \"15\", \"17\", \"20\", \"21\", \"22\", \"23\", \"24\", \"25\", \"26\", \"27\", \"28\", \"29\", \"30\", \"31\", \"32\", \"33\", \"34\"], \"mode\": \"lines\", \"name\": \"average_precision_score_micro_max\", \"stepped\": true, \"type\": \"scatter\", \"data\": [0.9993601811480873, 0.9993601811480873, 0.9993601811480873, 0.9993601811480873, 0.9993601811480873, 0.9993601811480873, 0.9993601811480873, 0.9993601811480873, 0.9993601811480873, 0.9993601811480873, 0.9993601811480873, 0.9993601811480873, 0.9993601811480873, 0.9993601811480873, 0.9996787823334123, 0.9996787823334123, 0.9996787823334123, 0.9996787823334123, 0.9996787823334123, 0.9996787823334123, 0.9996787823334123, 0.9996787823334123, 0.9996787823334123, 0.9996787823334123, 0.9996787823334123, 0.9996787823334123]}], \"AUC_micro\": [{\"categories\": [\"0\", \"1\", \"3\", \"5\", \"7\", \"9\", \"10\", \"11\", \"13\", \"15\", \"17\", \"20\", \"21\", \"22\", \"23\", \"24\", \"25\", \"26\", \"27\", \"28\", \"29\", \"30\", \"31\", \"32\", \"33\", \"34\"], \"mode\": \"markers\", \"name\": \"AUC_micro\", \"stepped\": false, \"type\": \"scatter\", \"data\": [0.9993509408251672, 0.9993174406681261, 0.9765962388703862, 0.914912359064149, 0.7789130354684256, 0.9952725379688449, 0.9195076443982225, 0.9978731665401834, 0.6944679118768478, 0.7431894638598787, 0.9036004222252212, 0.8546918792258925, 0.998184358963727, 0.8717323073220383, 0.9996755631892033, 0.999276258193088, 0.8491012152147037, 0.8189109698690397, 0.9994609769359102, 0.997771027194737, 0.9995227391984303, 0.7107109254069586, 0.9995647959431226, 0.9984526842968664, 0.9991157071009074, 0.99965940854211]}, {\"categories\": [\"0\", \"1\", \"3\", \"5\", \"7\", \"9\", \"10\", \"11\", \"13\", \"15\", \"17\", \"20\", \"21\", \"22\", \"23\", \"24\", \"25\", \"26\", \"27\", \"28\", \"29\", \"30\", \"31\", \"32\", \"33\", \"34\"], \"mode\": \"lines\", \"name\": \"AUC_micro_max\", \"stepped\": true, \"type\": \"scatter\", \"data\": [0.9993509408251672, 0.9993509408251672, 0.9993509408251672, 0.9993509408251672, 0.9993509408251672, 0.9993509408251672, 0.9993509408251672, 0.9993509408251672, 0.9993509408251672, 0.9993509408251672, 0.9993509408251672, 0.9993509408251672, 0.9993509408251672, 0.9993509408251672, 0.9996755631892033, 0.9996755631892033, 0.9996755631892033, 0.9996755631892033, 0.9996755631892033, 0.9996755631892033, 0.9996755631892033, 0.9996755631892033, 0.9996755631892033, 0.9996755631892033, 0.9996755631892033, 0.9996755631892033]}], \"average_precision_score_weighted\": [{\"categories\": [\"0\", \"1\", \"3\", \"5\", \"7\", \"9\", \"10\", \"11\", \"13\", \"15\", \"17\", \"20\", \"21\", \"22\", \"23\", \"24\", \"25\", \"26\", \"27\", \"28\", \"29\", \"30\", \"31\", \"32\", \"33\", \"34\"], \"mode\": \"markers\", \"name\": \"average_precision_score_weighted\", \"stepped\": false, \"type\": \"scatter\", \"data\": [0.9992393112073856, 0.9991932124503355, 0.9798389811991459, 0.9855522072159673, 0.7138666336654543, 0.9950102584672085, 0.9442462697428692, 0.9977766519203722, 0.7065031745387568, 0.7636464179759886, 0.9556999406763517, 0.8406935038229861, 0.9980024792820805, 0.9048746095481748, 0.9996266528942505, 0.9991394668037579, 0.8202510186628572, 0.7898558253404907, 0.9993615564934186, 0.9974485350744603, 0.9994381833184667, 0.5888811295319246, 0.9994984134562259, 0.9984571401645702, 0.998968588855287, 0.999628155462222]}, {\"categories\": [\"0\", \"1\", \"3\", \"5\", \"7\", \"9\", \"10\", \"11\", \"13\", \"15\", \"17\", \"20\", \"21\", \"22\", \"23\", \"24\", \"25\", \"26\", \"27\", \"28\", \"29\", \"30\", \"31\", \"32\", \"33\", \"34\"], \"mode\": \"lines\", \"name\": \"average_precision_score_weighted_max\", \"stepped\": true, \"type\": \"scatter\", \"data\": [0.9992393112073856, 0.9992393112073856, 0.9992393112073856, 0.9992393112073856, 0.9992393112073856, 0.9992393112073856, 0.9992393112073856, 0.9992393112073856, 0.9992393112073856, 0.9992393112073856, 0.9992393112073856, 0.9992393112073856, 0.9992393112073856, 0.9992393112073856, 0.9996266528942505, 0.9996266528942505, 0.9996266528942505, 0.9996266528942505, 0.9996266528942505, 0.9996266528942505, 0.9996266528942505, 0.9996266528942505, 0.9996266528942505, 0.9996266528942505, 0.9996266528942505, 0.999628155462222]}], \"f1_score_micro\": [{\"categories\": [\"0\", \"1\", \"3\", \"5\", \"7\", \"9\", \"10\", \"11\", \"13\", \"15\", \"17\", \"20\", \"21\", \"22\", \"23\", \"24\", \"25\", \"26\", \"27\", \"28\", \"29\", \"30\", \"31\", \"32\", \"33\", \"34\"], \"mode\": \"markers\", \"name\": \"f1_score_micro\", \"stepped\": false, \"type\": \"scatter\", \"data\": [0.9885154089963738, 0.9880244428032334, 0.9172462534379917, 0.7394757342452172, 0.7127715284893842, 0.9637771396004149, 0.8202639780353932, 0.9741831080843454, 0.6344381638413588, 0.6782168258175664, 0.7586140695465584, 0.7700030784750997, 0.9795818091509239, 0.7109072926136351, 0.9906749665053237, 0.9857664608086996, 0.7675474285097627, 0.7109072926136351, 0.9889082879390741, 0.9749676615585179, 0.9885152644670263, 0.7107109254069586, 0.9897915549575252, 0.9801709589474024, 0.9849813773935867, 0.9919510161135768]}, {\"categories\": [\"0\", \"1\", \"3\", \"5\", \"7\", \"9\", \"10\", \"11\", \"13\", \"15\", \"17\", \"20\", \"21\", \"22\", \"23\", \"24\", \"25\", \"26\", \"27\", \"28\", \"29\", \"30\", \"31\", \"32\", \"33\", \"34\"], \"mode\": \"lines\", \"name\": \"f1_score_micro_max\", \"stepped\": true, \"type\": \"scatter\", \"data\": [0.9885154089963738, 0.9885154089963738, 0.9885154089963738, 0.9885154089963738, 0.9885154089963738, 0.9885154089963738, 0.9885154089963738, 0.9885154089963738, 0.9885154089963738, 0.9885154089963738, 0.9885154089963738, 0.9885154089963738, 0.9885154089963738, 0.9885154089963738, 0.9906749665053237, 0.9906749665053237, 0.9906749665053237, 0.9906749665053237, 0.9906749665053237, 0.9906749665053237, 0.9906749665053237, 0.9906749665053237, 0.9906749665053237, 0.9906749665053237, 0.9906749665053237, 0.9919510161135768]}], \"AUC_macro\": [{\"categories\": [\"0\", \"1\", \"3\", \"5\", \"7\", \"9\", \"10\", \"11\", \"13\", \"15\", \"17\", \"20\", \"21\", \"22\", \"23\", \"24\", \"25\", \"26\", \"27\", \"28\", \"29\", \"30\", \"31\", \"32\", \"33\", \"34\"], \"mode\": \"markers\", \"name\": \"AUC_macro\", \"stepped\": false, \"type\": \"scatter\", \"data\": [0.9992244569899761, 0.9991699343488557, 0.9791794946525231, 0.9851449349732292, 0.6723339030232864, 0.994799747333675, 0.9379916475077499, 0.9977221954442749, 0.6617160142347441, 0.7270719250879945, 0.9520594189111897, 0.8110369612251744, 0.9979966149262051, 0.8915828326602485, 0.9996226990631142, 0.9991183515613024, 0.7953736971882677, 0.7628966404245453, 0.9993504853461795, 0.997346389627735, 0.9994279144479856, 0.5, 0.9994905773121303, 0.9984206368596562, 0.9989411029751164, 0.9996192904553457]}, {\"categories\": [\"0\", \"1\", \"3\", \"5\", \"7\", \"9\", \"10\", \"11\", \"13\", \"15\", \"17\", \"20\", \"21\", \"22\", \"23\", \"24\", \"25\", \"26\", \"27\", \"28\", \"29\", \"30\", \"31\", \"32\", \"33\", \"34\"], \"mode\": \"lines\", \"name\": \"AUC_macro_max\", \"stepped\": true, \"type\": \"scatter\", \"data\": [0.9992244569899761, 0.9992244569899761, 0.9992244569899761, 0.9992244569899761, 0.9992244569899761, 0.9992244569899761, 0.9992244569899761, 0.9992244569899761, 0.9992244569899761, 0.9992244569899761, 0.9992244569899761, 0.9992244569899761, 0.9992244569899761, 0.9992244569899761, 0.9996226990631142, 0.9996226990631142, 0.9996226990631142, 0.9996226990631142, 0.9996226990631142, 0.9996226990631142, 0.9996226990631142, 0.9996226990631142, 0.9996226990631142, 0.9996226990631142, 0.9996226990631142, 0.9996226990631142]}]}, \"metricName\": null, \"primaryMetricName\": \"accuracy\", \"showLegend\": false}, \"run_metrics\": [{\"name\": \"experiment_status_description\", \"run_id\": \"AutoML_03172180-f10d-4b73-b3fd-b5bfdb197d81\", \"categories\": [0, 1, 2, 3, 4, 5, 6, 7, 8, 9, 10, 11, 12, 13], \"series\": [{\"data\": [\"Gathering dataset statistics.\", \"Generating features for the dataset.\", \"Beginning to fit featurizers and featurize the dataset.\", \"Completed fit featurizers and featurizing the dataset.\", \"Generating individually featurized CV splits.\", \"Beginning model selection.\", \"Best run model explanations started\", \"Model explanations data setup completed\", \"Choosing LightGBM as the surrogate model for explanations\", \"Computation of engineered features started\", \"Computation of engineered features completed\", \"Computation of raw features started\", \"Computation of raw features completed\", \"Best run model explanations completed\"]}]}, {\"name\": \"experiment_status\", \"run_id\": \"AutoML_03172180-f10d-4b73-b3fd-b5bfdb197d81\", \"categories\": [0, 1, 2, 3, 4, 5, 6, 7, 8, 9, 10, 11, 12, 13], \"series\": [{\"data\": [\"DatasetEvaluation\", \"FeaturesGeneration\", \"DatasetFeaturization\", \"DatasetFeaturizationCompleted\", \"DatasetCrossValidationSplit\", \"ModelSelection\", \"BestRunExplainModel\", \"ModelExplanationDataSetSetup\", \"PickSurrogateModel\", \"EngineeredFeatureExplanations\", \"EngineeredFeatureExplanations\", \"RawFeaturesExplanations\", \"RawFeaturesExplanations\", \"BestRunExplainModel\"]}]}, {\"name\": \"accuracy\", \"run_id\": \"AutoML_03172180-f10d-4b73-b3fd-b5bfdb197d81\", \"categories\": [0], \"series\": [{\"data\": [0.9919510161135768]}]}, {\"name\": \"balanced_accuracy\", \"run_id\": \"AutoML_03172180-f10d-4b73-b3fd-b5bfdb197d81\", \"categories\": [0], \"series\": [{\"data\": [0.9889379631485049]}]}, {\"name\": \"AUC_micro\", \"run_id\": \"AutoML_03172180-f10d-4b73-b3fd-b5bfdb197d81\", \"categories\": [0], \"series\": [{\"data\": [0.99965940854211]}]}, {\"name\": \"log_loss\", \"run_id\": \"AutoML_03172180-f10d-4b73-b3fd-b5bfdb197d81\", \"categories\": [0], \"series\": [{\"data\": [0.17646602192045618]}]}, {\"name\": \"norm_macro_recall\", \"run_id\": \"AutoML_03172180-f10d-4b73-b3fd-b5bfdb197d81\", \"categories\": [0], \"series\": [{\"data\": [0.9778759262970096]}]}, {\"name\": \"precision_score_micro\", \"run_id\": \"AutoML_03172180-f10d-4b73-b3fd-b5bfdb197d81\", \"categories\": [0], \"series\": [{\"data\": [0.9919510161135768]}]}, {\"name\": \"AUC_macro\", \"run_id\": \"AutoML_03172180-f10d-4b73-b3fd-b5bfdb197d81\", \"categories\": [0], \"series\": [{\"data\": [0.9996192904553457]}]}, {\"name\": \"precision_score_weighted\", \"run_id\": \"AutoML_03172180-f10d-4b73-b3fd-b5bfdb197d81\", \"categories\": [0], \"series\": [{\"data\": [0.991950436243403]}]}, {\"name\": \"matthews_correlation\", \"run_id\": \"AutoML_03172180-f10d-4b73-b3fd-b5bfdb197d81\", \"categories\": [0], \"series\": [{\"data\": [0.9804389805771064]}]}, {\"name\": \"AUC_weighted\", \"run_id\": \"AutoML_03172180-f10d-4b73-b3fd-b5bfdb197d81\", \"categories\": [0], \"series\": [{\"data\": [0.9996192904553457]}]}, {\"name\": \"f1_score_weighted\", \"run_id\": \"AutoML_03172180-f10d-4b73-b3fd-b5bfdb197d81\", \"categories\": [0], \"series\": [{\"data\": [0.9919398753677493]}]}, {\"name\": \"average_precision_score_micro\", \"run_id\": \"AutoML_03172180-f10d-4b73-b3fd-b5bfdb197d81\", \"categories\": [0], \"series\": [{\"data\": [0.9996633589167697]}]}, {\"name\": \"f1_score_micro\", \"run_id\": \"AutoML_03172180-f10d-4b73-b3fd-b5bfdb197d81\", \"categories\": [0], \"series\": [{\"data\": [0.9919510161135768]}]}, {\"name\": \"average_precision_score_macro\", \"run_id\": \"AutoML_03172180-f10d-4b73-b3fd-b5bfdb197d81\", \"categories\": [0], \"series\": [{\"data\": [0.9994727615378685]}]}, {\"name\": \"f1_score_macro\", \"run_id\": \"AutoML_03172180-f10d-4b73-b3fd-b5bfdb197d81\", \"categories\": [0], \"series\": [{\"data\": [0.9902062981705063]}]}, {\"name\": \"recall_score_macro\", \"run_id\": \"AutoML_03172180-f10d-4b73-b3fd-b5bfdb197d81\", \"categories\": [0], \"series\": [{\"data\": [0.9889379631485049]}]}, {\"name\": \"weighted_accuracy\", \"run_id\": \"AutoML_03172180-f10d-4b73-b3fd-b5bfdb197d81\", \"categories\": [0], \"series\": [{\"data\": [0.9940623359070326]}]}, {\"name\": \"recall_score_weighted\", \"run_id\": \"AutoML_03172180-f10d-4b73-b3fd-b5bfdb197d81\", \"categories\": [0], \"series\": [{\"data\": [0.9919510161135768]}]}, {\"name\": \"precision_score_macro\", \"run_id\": \"AutoML_03172180-f10d-4b73-b3fd-b5bfdb197d81\", \"categories\": [0], \"series\": [{\"data\": [0.9915057475793118]}]}, {\"name\": \"average_precision_score_weighted\", \"run_id\": \"AutoML_03172180-f10d-4b73-b3fd-b5bfdb197d81\", \"categories\": [0], \"series\": [{\"data\": [0.999628155462222]}]}, {\"name\": \"recall_score_micro\", \"run_id\": \"AutoML_03172180-f10d-4b73-b3fd-b5bfdb197d81\", \"categories\": [0], \"series\": [{\"data\": [0.9919510161135768]}]}], \"run_logs\": \"\\nRun is completed.\", \"graph\": {}, \"widget_settings\": {\"childWidgetDisplay\": \"popup\", \"send_telemetry\": false, \"log_level\": \"INFO\", \"sdk_version\": \"1.51.0\"}, \"loading\": false}"
     },
     "metadata": {},
     "output_type": "display_data"
    }
   ],
   "source": [
    "# showing RunDetails\n",
    "RunDetails(remote_run).show()"
   ]
  },
  {
   "cell_type": "markdown",
   "metadata": {},
   "source": [
    "## Best Model\n",
    "\n",
    "TODO: In the cell below, get the best model from the automl experiments and display all the properties of the model.\n",
    "\n"
   ]
  },
  {
   "cell_type": "code",
   "execution_count": 9,
   "metadata": {
    "gather": {
     "logged": 1598431425670
    },
    "jupyter": {
     "outputs_hidden": false,
     "source_hidden": false
    },
    "nteract": {
     "transient": {
      "deleting": false
     }
    }
   },
   "outputs": [
    {
     "name": "stdout",
     "output_type": "stream",
     "text": [
      "Run ID: AutoML_03172180-f10d-4b73-b3fd-b5bfdb197d81_34\n",
      "Model Name: AutoML03172180f34\n",
      "Model Details:\n"
     ]
    }
   ],
   "source": [
    "# getting best model and saving it out with onnx\n",
    "automl_run, automl_best_model = remote_run.get_output(return_onnx_model=True)\n",
    "print('Run ID: ' + automl_run.id)\n",
    "print('Model Name: ' + automl_run.properties['model_name'])\n",
    "print('Model Details:')\n",
    "print(automl_best_model)"
   ]
  },
  {
   "cell_type": "code",
   "execution_count": 10,
   "metadata": {
    "gather": {
     "logged": 1598431426111
    },
    "jupyter": {
     "outputs_hidden": false,
     "source_hidden": false
    },
    "nteract": {
     "transient": {
      "deleting": false
     }
    }
   },
   "outputs": [],
   "source": [
    "# convert and save the model\n",
    "OnnxConverter.save_onnx_model(automl_best_model, file_path=\"./automl_best_model.onnx\")"
   ]
  },
  {
   "cell_type": "markdown",
   "metadata": {},
   "source": [
    "## Model Deployment\n",
    "\n",
    "Remember you have to deploy only one of the two models you trained but you still need to register both the models. Perform the steps in the rest of this notebook only if you wish to deploy this model.\n",
    "\n",
    "TODO: In the cell below, register the model, create an inference config and deploy the model as a web service."
   ]
  },
  {
   "cell_type": "code",
   "execution_count": 18,
   "metadata": {
    "gather": {
     "logged": 1598431435189
    },
    "jupyter": {
     "outputs_hidden": false,
     "source_hidden": false
    },
    "nteract": {
     "transient": {
      "deleting": false
     }
    }
   },
   "outputs": [
    {
     "name": "stdout",
     "output_type": "stream",
     "text": [
      "Tips: You can try get_logs(): https://aka.ms/debugimage#dockerlog or local deployment: https://aka.ms/debugimage#debug-locally to debug if deployment takes longer than 10 minutes.\n",
      "Running\n",
      "2024-04-08 16:11:21+00:00 Creating Container Registry if not exists.\n",
      "2024-04-08 16:11:21+00:00 Use the existing image.\n",
      "2024-04-08 16:11:22+00:00 Submitting deployment to compute..\n",
      "2024-04-08 16:11:27+00:00 Checking the status of deployment nba-data-env-service..\n",
      "2024-04-08 16:15:03+00:00 Checking the status of inference endpoint nba-data-env-service.\n",
      "Succeeded\n",
      "ACI service creation operation finished, operation \"Succeeded\"\n"
     ]
    }
   ],
   "source": [
    "# register the model\n",
    "model_name = 'nba_3pt_voting_ensemble'\n",
    "model_path = 'outputs/model.pkl'\n",
    "model_description = 'Voting Ensemble Model for NBA 3PT Percentage Win Analysis'\n",
    "registered_model = automl_run.register_model(model_name=model_name, model_path=model_path, description=model_description)\n",
    "model = Model(ws, 'nba_3pt_voting_ensemble')\n",
    "\n",
    "# creating inference config and deploying the model as a web service\n",
    "service_name = 'nba-data-env-service'\n",
    "\n",
    "# get the scoring file directly from azure by downloading it through the GUI\n",
    "inference_config = InferenceConfig(entry_script='./scoring_file_v_1_0_0.py')\n",
    "aci_config = AciWebservice.deploy_configuration(cpu_cores=1, memory_gb=1, enable_app_insights=True, auth_enabled=True)\n",
    "\n",
    "service = Model.deploy(workspace=ws,\n",
    "                       name=service_name,\n",
    "                       models=[model],\n",
    "                       inference_config=inference_config,\n",
    "                       deployment_config=aci_config,\n",
    "                       overwrite=True)\n",
    "\n",
    "service.wait_for_deployment(show_output=True)"
   ]
  },
  {
   "cell_type": "code",
   "execution_count": 15,
   "metadata": {},
   "outputs": [
    {
     "name": "stdout",
     "output_type": "stream",
     "text": [
      "2024-04-08T15:52:05,614619383+00:00 - rsyslog/run \n",
      "2024-04-08T15:52:05,629135506+00:00 - gunicorn/run \n",
      "2024-04-08T15:52:05,635584849+00:00 | gunicorn/run | \n",
      "2024-04-08T15:52:05,648643439+00:00 | gunicorn/run | ###############################################\n",
      "2024-04-08T15:52:05,649494558+00:00 - nginx/run \n",
      "2024-04-08T15:52:05,650489480+00:00 | gunicorn/run | AzureML Container Runtime Information\n",
      "2024-04-08T15:52:05,655070282+00:00 | gunicorn/run | ###############################################\n",
      "2024-04-08T15:52:05,660335299+00:00 | gunicorn/run | \n",
      "2024-04-08T15:52:05,671114938+00:00 | gunicorn/run | \n",
      "2024-04-08T15:52:05,678991313+00:00 | gunicorn/run | AzureML image information: openmpi4.1.0-ubuntu20.04, Materializaton Build:20230628.v2\n",
      "2024-04-08T15:52:05,682928701+00:00 | gunicorn/run | \n",
      "2024-04-08T15:52:05,684394733+00:00 | gunicorn/run | \n",
      "2024-04-08T15:52:05,689147239+00:00 | gunicorn/run | PATH environment variable: /azureml-envs/azureml-automl/bin:/opt/miniconda/bin:/usr/local/sbin:/usr/local/bin:/usr/sbin:/usr/bin:/sbin:/bin\n",
      "2024-04-08T15:52:05,690536170+00:00 | gunicorn/run | PYTHONPATH environment variable: \n",
      "2024-04-08T15:52:05,705678306+00:00 | gunicorn/run | \n",
      "2024-04-08T15:52:07,261826385+00:00 | gunicorn/run | CONDAPATH environment variable: /opt/miniconda\n",
      "\n",
      "# conda environments:\n",
      "#\n",
      "                         /azureml-envs/azureml-automl\n",
      "base                     /opt/miniconda\n",
      "\n",
      "2024-04-08T15:52:09,359235292+00:00 | gunicorn/run | \n",
      "2024-04-08T15:52:09,361386940+00:00 | gunicorn/run | Pip Dependencies (before dynamic installation)\n",
      "\n",
      "adal==1.2.7\n",
      "applicationinsights==0.11.10\n",
      "arch==5.3.1\n",
      "argcomplete==2.1.2\n",
      "argon2-cffi==21.3.0\n",
      "argon2-cffi-bindings==21.2.0\n",
      "asttokens==2.2.1\n",
      "attrs==23.1.0\n",
      "azure-common==1.1.28\n",
      "azure-core==1.27.1\n",
      "azure-graphrbac==0.61.1\n",
      "azure-identity==1.13.0\n",
      "azure-mgmt-authorization==3.0.0\n",
      "azure-mgmt-containerregistry==10.1.0\n",
      "azure-mgmt-core==1.4.0\n",
      "azure-mgmt-keyvault==10.2.2\n",
      "azure-mgmt-resource==22.0.0\n",
      "azure-mgmt-storage==21.0.0\n",
      "azure-storage-blob==12.13.0\n",
      "azure-storage-queue==12.6.0\n",
      "azureml-automl-core==1.52.0.post1\n",
      "azureml-automl-runtime==1.52.0.post1\n",
      "azureml-core==1.52.0\n",
      "azureml-dataprep==4.11.4\n",
      "azureml-dataprep-native==38.0.0\n",
      "azureml-dataprep-rslex==2.18.4\n",
      "azureml-dataset-runtime==1.52.0\n",
      "azureml-defaults==1.52.0\n",
      "azureml-inference-server-http==0.8.4\n",
      "azureml-interpret==1.52.0\n",
      "azureml-mlflow==1.52.0\n",
      "azureml-pipeline-core==1.52.0\n",
      "azureml-responsibleai==1.52.0\n",
      "azureml-telemetry==1.52.0\n",
      "azureml-train-automl-client==1.52.0\n",
      "azureml-train-automl-runtime==1.52.0\n",
      "azureml-train-core==1.52.0\n",
      "azureml-train-restclients-hyperdrive==1.52.0\n",
      "azureml-training-tabular==1.52.0\n",
      "backcall==0.2.0\n",
      "backports.tempfile==1.0\n",
      "backports.weakref==1.0.post1\n",
      "bcrypt==4.0.1\n",
      "beautifulsoup4==4.12.2\n",
      "bleach==6.0.0\n",
      "bokeh==2.4.3\n",
      "boto==2.49.0\n",
      "boto3==1.20.19\n",
      "botocore==1.23.19\n",
      "Brotli @ file:///home/conda/feedstock_root/build_artifacts/brotli-split_1687884021435/work\n",
      "cachetools==5.3.1\n",
      "certifi==2023.5.7\n",
      "cffi @ file:///home/conda/feedstock_root/build_artifacts/cffi_1671179356964/work\n",
      "charset-normalizer @ file:///home/conda/feedstock_root/build_artifacts/charset-normalizer_1678108872112/work\n",
      "click==8.1.4\n",
      "cloudpickle @ file:///home/conda/feedstock_root/build_artifacts/cloudpickle_1598400192773/work\n",
      "cmdstanpy==0.9.5\n",
      "contextlib2==21.6.0\n",
      "contourpy==1.1.0\n",
      "convertdate @ file:///home/conda/feedstock_root/build_artifacts/convertdate_1642883757836/work\n",
      "cryptography==41.0.0\n",
      "cycler==0.11.0\n",
      "Cython==0.29.17\n",
      "dask==2023.2.0\n",
      "databricks-cli==0.17.7\n",
      "dataclasses==0.6\n",
      "debugpy==1.6.7\n",
      "decorator==5.1.1\n",
      "defusedxml==0.7.1\n",
      "dice-ml==0.9\n",
      "dill==0.3.6\n",
      "distributed==2023.2.0\n",
      "distro==1.8.0\n",
      "docker==6.1.3\n",
      "dotnetcore2==3.1.23\n",
      "econml==0.14.1\n",
      "entrypoints==0.4\n",
      "ephem==4.1.4\n",
      "erroranalysis==0.4.4\n",
      "executing==1.2.0\n",
      "fairlearn==0.8.0\n",
      "fastjsonschema==2.17.1\n",
      "fbprophet==0.7.1\n",
      "fire==0.5.0\n",
      "Flask==2.2.5\n",
      "Flask-Cors==3.0.10\n",
      "flatbuffers==23.5.26\n",
      "fonttools==4.40.0\n",
      "fsspec==2023.6.0\n",
      "fusepy==3.0.1\n",
      "gensim==3.8.3\n",
      "gitdb==4.0.10\n",
      "GitPython==3.1.31\n",
      "google-api-core==2.11.1\n",
      "google-auth==2.21.0\n",
      "googleapis-common-protos==1.59.1\n",
      "gunicorn==20.1.0\n",
      "h5py==3.9.0\n",
      "holidays @ file:///home/conda/feedstock_root/build_artifacts/holidays_1595448845196/work\n",
      "humanfriendly==10.0\n",
      "idna @ file:///home/conda/feedstock_root/build_artifacts/idna_1663625384323/work\n",
      "importlib-metadata==6.8.0\n",
      "importlib-resources==5.13.0\n",
      "inference-schema==1.5.1\n",
      "interpret-community==0.29.0\n",
      "interpret-core==0.3.2\n",
      "ipykernel==6.8.0\n",
      "ipython==8.12.2\n",
      "ipython-genutils==0.2.0\n",
      "isodate==0.6.1\n",
      "itsdangerous==2.1.2\n",
      "jedi==0.18.2\n",
      "jeepney==0.8.0\n",
      "Jinja2==3.1.2\n",
      "jmespath==0.10.0\n",
      "joblib @ file:///home/conda/feedstock_root/build_artifacts/joblib_1663332044897/work\n",
      "jsonpickle==3.0.1\n",
      "jsonschema==4.18.0\n",
      "jsonschema-specifications==2023.6.1\n",
      "jupyter_client==7.4.9\n",
      "jupyter_core==5.3.1\n",
      "jupyterlab-pygments==0.2.2\n",
      "keras2onnx==1.6.0\n",
      "kiwisolver==1.4.4\n",
      "knack==0.10.1\n",
      "korean-lunar-calendar @ file:///home/conda/feedstock_root/build_artifacts/korean_lunar_calendar_1663341251025/work\n",
      "lightgbm==3.2.1\n",
      "llvmlite==0.38.1\n",
      "locket==1.0.0\n",
      "LunarCalendar==0.0.9\n",
      "MarkupSafe==2.1.2\n",
      "matplotlib==3.7.2\n",
      "matplotlib-inline==0.1.6\n",
      "mistune==3.0.1\n",
      "ml-wrappers==0.4.11\n",
      "mlflow-skinny==2.4.1\n",
      "mltable==1.4.1\n",
      "msal==1.22.0\n",
      "msal-extensions==1.0.0\n",
      "msgpack==1.0.5\n",
      "msrest==0.7.1\n",
      "msrestazure==0.6.4\n",
      "nbclient==0.8.0\n",
      "nbconvert==7.6.0\n",
      "nbformat==5.9.0\n",
      "ndg-httpsclient==0.5.1\n",
      "nest-asyncio==1.5.6\n",
      "networkx==2.5\n",
      "notebook==6.4.9\n",
      "numba==0.55.2\n",
      "numpy==1.22.3\n",
      "oauthlib==3.2.2\n",
      "onnx==1.13.1\n",
      "onnxconverter-common==1.6.0\n",
      "onnxmltools==1.4.1\n",
      "onnxruntime==1.11.1\n",
      "opencensus==0.11.2\n",
      "opencensus-context==0.1.3\n",
      "opencensus-ext-azure==1.1.9\n",
      "packaging==23.0\n",
      "pandas==1.1.5\n",
      "pandocfilters==1.5.0\n",
      "paramiko==3.2.0\n",
      "parso==0.8.3\n",
      "partd==1.4.0\n",
      "pathspec==0.11.1\n",
      "patsy==0.5.3\n",
      "pexpect==4.8.0\n",
      "pickleshare==0.7.5\n",
      "Pillow==10.0.0\n",
      "pkginfo==1.9.6\n",
      "pkgutil_resolve_name==1.3.10\n",
      "platformdirs @ file:///home/conda/feedstock_root/build_artifacts/platformdirs_1688739404342/work\n",
      "pmdarima==1.8.0\n",
      "pooch @ file:///home/conda/feedstock_root/build_artifacts/pooch_1679580333621/work\n",
      "portalocker==2.7.0\n",
      "prometheus-client==0.17.0\n",
      "prompt-toolkit==3.0.39\n",
      "property-cached==1.6.4\n",
      "protobuf==3.20.3\n",
      "psutil @ file:///home/conda/feedstock_root/build_artifacts/psutil_1681775007745/work\n",
      "ptyprocess==0.7.0\n",
      "pure-eval==0.2.2\n",
      "py-cpuinfo==5.0.0\n",
      "pyarrow==9.0.0\n",
      "pyasn1==0.5.0\n",
      "pyasn1-modules==0.3.0\n",
      "pycparser @ file:///home/conda/feedstock_root/build_artifacts/pycparser_1636257122734/work\n",
      "pydantic==1.10.11\n",
      "Pygments==2.15.1\n",
      "PyJWT==2.7.0\n",
      "PyMeeus @ file:///home/conda/feedstock_root/build_artifacts/pymeeus_1670868433998/work\n",
      "PyNaCl==1.5.0\n",
      "pyOpenSSL @ file:///home/conda/feedstock_root/build_artifacts/pyopenssl_1685514481738/work\n",
      "pyparsing==3.0.9\n",
      "PySocks @ file:///home/conda/feedstock_root/build_artifacts/pysocks_1661604839144/work\n",
      "pystan==2.19.1.1\n",
      "python-dateutil @ file:///home/conda/feedstock_root/build_artifacts/python-dateutil_1626286286081/work\n",
      "pytz @ file:///home/conda/feedstock_root/build_artifacts/pytz_1680088766131/work\n",
      "PyYAML==6.0\n",
      "pyzmq==25.1.0\n",
      "raiutils==0.4.0\n",
      "referencing==0.29.1\n",
      "requests @ file:///home/conda/feedstock_root/build_artifacts/requests_1684774241324/work\n",
      "requests-oauthlib==1.3.1\n",
      "responsibleai==0.28.0\n",
      "rpds-py==0.8.8\n",
      "rsa==4.9\n",
      "s3transfer==0.5.2\n",
      "scikit-learn==0.22.1\n",
      "scipy==1.5.3\n",
      "SecretStorage==3.3.3\n",
      "semver==2.13.0\n",
      "Send2Trash==1.8.2\n",
      "setuptools-git==1.2\n",
      "shap==0.41.0\n",
      "six @ file:///home/conda/feedstock_root/build_artifacts/six_1620240208055/work\n",
      "skl2onnx==1.4.9\n",
      "sklearn-pandas==1.7.0\n",
      "slicer==0.0.7\n",
      "smart-open==1.9.0\n",
      "smmap==5.0.0\n",
      "sortedcontainers==2.4.0\n",
      "soupsieve==2.4.1\n",
      "sparse==0.14.0\n",
      "sqlparse==0.4.4\n",
      "stack-data==0.6.2\n",
      "statsmodels==0.11.1\n",
      "tabulate==0.9.0\n",
      "tblib==2.0.0\n",
      "termcolor==2.3.0\n",
      "terminado==0.17.1\n",
      "tinycss2==1.2.1\n",
      "toolz==0.12.0\n",
      "tornado==6.3.2\n",
      "tqdm==4.65.0\n",
      "traitlets==5.9.0\n",
      "typing_extensions @ file:///home/conda/feedstock_root/build_artifacts/typing_extensions_1688315532570/work\n",
      "urllib3==1.26.16\n",
      "wcwidth==0.2.6\n",
      "webencodings==0.5.1\n",
      "websocket-client==1.6.1\n",
      "Werkzeug==2.3.6\n",
      "wrapt==1.12.1\n",
      "xgboost==1.3.3\n",
      "zict==3.0.0\n",
      "zipp==3.15.0\n",
      "\n",
      "2024-04-08T15:52:11,671840315+00:00 | gunicorn/run | \n",
      "2024-04-08T15:52:11,677055129+00:00 | gunicorn/run | ###############################################\n",
      "2024-04-08T15:52:11,678834967+00:00 | gunicorn/run | Checking if the Python package azureml-inference-server-http is installed\n",
      "2024-04-08T15:52:11,682964058+00:00 | gunicorn/run | ###############################################\n",
      "2024-04-08T15:52:11,684365288+00:00 | gunicorn/run | \n",
      "2024-04-08T15:52:16,204430410+00:00 | gunicorn/run | \n",
      "2024-04-08T15:52:16,210509243+00:00 | gunicorn/run | ###############################################\n",
      "2024-04-08T15:52:16,212525787+00:00 | gunicorn/run | AzureML Inference Server\n",
      "2024-04-08T15:52:16,214608133+00:00 | gunicorn/run | ###############################################\n",
      "2024-04-08T15:52:16,219227933+00:00 | gunicorn/run | \n",
      "2024-04-08T15:52:20,098807864+00:00 | gunicorn/run | Starting AzureML Inference Server HTTP.\n",
      "2024-04-08 15:52:20,487 I [77] azmlinfsrv - Loaded logging config from /azureml-envs/azureml-automl/lib/python3.8/site-packages/azureml_inference_server_http/logging.json\n",
      "2024-04-08 15:52:20,825 I [77] gunicorn.error - Starting gunicorn 20.1.0\n",
      "2024-04-08 15:52:20,826 I [77] gunicorn.error - Listening at: http://0.0.0.0:31311 (77)\n",
      "2024-04-08 15:52:20,826 I [77] gunicorn.error - Using worker: sync\n",
      "2024-04-08 15:52:20,832 I [146] gunicorn.error - Booting worker with pid: 146\n",
      "/azureml-envs/azureml-automl/lib/python3.8/site-packages/azureml_inference_server_http/server/config.py:51: FutureWarning: aliases are no longer used by BaseSettings to define which environment variables to read. Instead use the \"env\" field setting. See https://pydantic-docs.helpmanual.io/usage/settings/#environment-variable-names\n",
      "Valid Application Insights instrumentation key provided.\n",
      "  class AMLInferenceServerConfig(pydantic.BaseSettings):\n",
      "\n",
      "Azure ML Inferencing HTTP server v0.8.4\n",
      "\n",
      "\n",
      "Server Settings\n",
      "---------------\n",
      "Entry Script Name: /var/azureml-app/main.py\n",
      "Model Directory: /var/azureml-app/azureml-models/nba_3pt_voting_ensemble/4\n",
      "Config File: None\n",
      "Worker Count: 1\n",
      "Worker Timeout (seconds): 300\n",
      "Server Port: 31311\n",
      "Health Port: 31311\n",
      "Application Insights Enabled: true\n",
      "Application Insights Key: AppInsights key provided\n",
      "Inferencing HTTP server version: azmlinfsrv/0.8.4\n",
      "CORS for the specified origins: None\n",
      "Create dedicated endpoint for health: None\n",
      "\n",
      "\n",
      "Server Routes\n",
      "---------------\n",
      "Liveness Probe: GET   127.0.0.1:31311/\n",
      "Score:          POST  127.0.0.1:31311/score\n",
      "\n",
      "2024-04-08 15:52:21,759 I [146] azmlinfsrv - AML_FLASK_ONE_COMPATIBILITY is set. Patched Flask to ensure compatibility with Flask 1.\n",
      "Initializing logger\n",
      "2024-04-08 15:52:21,762 I [146] azmlinfsrv - Starting up app insights client\n",
      "WARNING:opencensus.ext.azure.common:DeprecationWarning: Explicitly using instrumentation key isdeprecated. Please use a connection string instead.\n",
      "WARNING:opencensus.ext.azure.common:DeprecationWarning: Explicitly using instrumentation key isdeprecated. Please use a connection string instead.\n",
      "WARNING:opencensus.ext.azure.common:DeprecationWarning: Explicitly using instrumentation key isdeprecated. Please use a connection string instead.\n",
      "2024-04-08 15:52:27,712 I [146] azmlinfsrv.user_script - Found driver script at /var/azureml-app/main.py and the score script at /var/azureml-app/score.py\n",
      "2024-04-08 15:52:27,712 I [146] azmlinfsrv.user_script - run() is not decorated. Server will invoke it with the input in JSON string.\n",
      "2024-04-08 15:52:27,713 I [146] azmlinfsrv.user_script - Invoking user's init function\n",
      "ERROR:fbprophet.plot:Importing plotly failed. Interactive plots will not work.\n",
      "2024-04-08 15:52:42,256 I [146] azmlinfsrv.user_script - Users's init has completed successfully\n",
      "2024-04-08 15:52:42,260 I [146] azmlinfsrv.swagger - Swaggers are prepared for the following versions: [2, 3, 3.1].\n",
      "2024-04-08 15:52:42,260 I [146] azmlinfsrv - Scoring timeout is set to 60000\n",
      "2024-04-08 15:54:06,308 W [146] azmlinfsrv - x-ms-request-id header has been deprecated and will be removed from future versions of the server. Please use x-ms-client-request-id.\n",
      "2024-04-08 15:54:06,310 I [146] gunicorn.access - 127.0.0.1 - - [08/Apr/2024:15:54:06 +0000] \"GET / HTTP/1.0\" 200 7 \"-\" \"Go-http-client/1.1\"\n",
      "2024-04-08 15:54:06,315 W [146] azmlinfsrv - x-ms-request-id header has been deprecated and will be removed from future versions of the server. Please use x-ms-client-request-id.\n",
      "2024-04-08 15:54:06,316 I [146] azmlinfsrv - GET /swagger.json 200 0.875ms 2218\n",
      "2024-04-08 15:54:06,317 I [146] gunicorn.access - 127.0.0.1 - - [08/Apr/2024:15:54:06 +0000] \"GET /swagger.json HTTP/1.0\" 200 2218 \"-\" \"Go-http-client/1.1\"\n",
      "2024-04-08 15:54:11,378 W [146] azmlinfsrv - x-ms-request-id header has been deprecated and will be removed from future versions of the server. Please use x-ms-client-request-id.\n",
      "2024-04-08 15:54:11,379 I [146] gunicorn.access - 127.0.0.1 - - [08/Apr/2024:15:54:11 +0000] \"GET / HTTP/1.0\" 200 7 \"-\" \"Go-http-client/1.1\"\n",
      "2024-04-08 15:54:11,387 W [146] azmlinfsrv - x-ms-request-id header has been deprecated and will be removed from future versions of the server. Please use x-ms-client-request-id.\n",
      "2024-04-08 15:54:11,388 I [146] azmlinfsrv - GET /swagger.json 200 0.929ms 2218\n",
      "2024-04-08 15:54:11,390 I [146] gunicorn.access - 127.0.0.1 - - [08/Apr/2024:15:54:11 +0000] \"GET /swagger.json HTTP/1.0\" 200 2218 \"-\" \"Go-http-client/1.1\"\n",
      "2024-04-08 15:54:30,607 W [146] azmlinfsrv - x-ms-request-id header has been deprecated and will be removed from future versions of the server. Please use x-ms-client-request-id.\n",
      "2024-04-08 15:54:30,608 I [146] gunicorn.access - 127.0.0.1 - - [08/Apr/2024:15:54:30 +0000] \"GET / HTTP/1.0\" 200 7 \"-\" \"Go-http-client/1.1\"\n",
      "2024-04-08 15:54:30,614 W [146] azmlinfsrv - x-ms-request-id header has been deprecated and will be removed from future versions of the server. Please use x-ms-client-request-id.\n",
      "2024-04-08 15:54:30,615 I [146] azmlinfsrv - GET /swagger.json 200 1.031ms 2218\n",
      "2024-04-08 15:54:30,616 I [146] gunicorn.access - 127.0.0.1 - - [08/Apr/2024:15:54:30 +0000] \"GET /swagger.json HTTP/1.0\" 200 2218 \"-\" \"Go-http-client/1.1\"\n",
      "\n"
     ]
    }
   ],
   "source": [
    "print(service.get_logs())"
   ]
  },
  {
   "cell_type": "markdown",
   "metadata": {
    "collapsed": true,
    "gather": {
     "logged": 1598431657736
    },
    "jupyter": {
     "outputs_hidden": false,
     "source_hidden": false
    },
    "nteract": {
     "transient": {
      "deleting": false
     }
    }
   },
   "source": [
    "TODO: In the cell below, send a request to the web service you deployed to test it."
   ]
  },
  {
   "cell_type": "code",
   "execution_count": 20,
   "metadata": {
    "gather": {
     "logged": 1598432707604
    },
    "jupyter": {
     "outputs_hidden": false,
     "source_hidden": false
    },
    "nteract": {
     "transient": {
      "deleting": false
     }
    }
   },
   "outputs": [
    {
     "name": "stdout",
     "output_type": "stream",
     "text": [
      "{\"result\": [\"W\"]}\n"
     ]
    }
   ],
   "source": [
    "# get the scoring uri and the auth key from the endpoint in azure under the consume section\n",
    "scoring_uri = \"http://4ab0e724-1492-41f2-b465-b937a5d655f0.westeurope.azurecontainer.io/score\"\n",
    "key = \"CqGmVyg0DAfAboCglzixP3GQpueh26IF\"\n",
    "\n",
    "# sample data, ensure this is formatted correctly if you wish to add more\n",
    "data = {\"data\":\n",
    "           [\n",
    "              {\n",
    "                'season_id': 22015,\n",
    "                'matchup_home': 'ATL vs. DET',\n",
    "                'season_type': 'Regular Season',\n",
    "                'min': 240,\n",
    "                'team_name_home': 'Atlanta Hawks',\n",
    "                'fg3m_home': 8,\n",
    "                'fg3a_home': 27,\n",
    "                'fg3_pct_home': 0.296,\n",
    "                'wl_home': 'L',\n",
    "                'team_name_away': 'Detroit Pistons',\n",
    "                'fg3m_away': 12,\n",
    "                'fg3a_away': 29,\n",
    "                'fg3_pct_away': 0.414,\n",
    "                'wl_away': 'W',\n",
    "                'highest_3pp': 0.414\n",
    "      },\n",
    "   ]\n",
    "}\n",
    "# convert to json and save out file\n",
    "input_data = json.dumps(data)\n",
    "with open(\"data.json\", \"w\") as _f:\n",
    "    _f.write(input_data)\n",
    "\n",
    "# setting context type to json\n",
    "headers = {\"Content-Type\": \"application/json\"}\n",
    "# passing auth\n",
    "headers[\"Authorization\"] = f\"Bearer {key}\"\n",
    "\n",
    "# make the request and display the response\n",
    "resp = requests.post(scoring_uri, input_data, headers=headers)\n",
    "print(resp.json())"
   ]
  },
  {
   "cell_type": "markdown",
   "metadata": {
    "collapsed": true,
    "gather": {
     "logged": 1598432765711
    },
    "jupyter": {
     "outputs_hidden": false,
     "source_hidden": false
    },
    "nteract": {
     "transient": {
      "deleting": false
     }
    }
   },
   "source": [
    "TODO: In the cell below, print the logs of the web service and delete the service"
   ]
  },
  {
   "cell_type": "code",
   "execution_count": 21,
   "metadata": {
    "jupyter": {
     "outputs_hidden": false,
     "source_hidden": false
    },
    "nteract": {
     "transient": {
      "deleting": false
     }
    }
   },
   "outputs": [
    {
     "name": "stdout",
     "output_type": "stream",
     "text": [
      "2024-04-08T16:13:42,183336066+00:00 - rsyslog/run \n",
      "2024-04-08T16:13:42,189992968+00:00 - gunicorn/run \n",
      "2024-04-08T16:13:42,194171032+00:00 | gunicorn/run | \n",
      "2024-04-08T16:13:42,196737971+00:00 | gunicorn/run | ###############################################\n",
      "2024-04-08T16:13:42,201813249+00:00 | gunicorn/run | AzureML Container Runtime Information\n",
      "2024-04-08T16:13:42,203269171+00:00 - nginx/run \n",
      "2024-04-08T16:13:42,203546375+00:00 | gunicorn/run | ###############################################\n",
      "2024-04-08T16:13:42,204853795+00:00 | gunicorn/run | \n",
      "2024-04-08T16:13:42,212646614+00:00 | gunicorn/run | \n",
      "2024-04-08T16:13:42,223146975+00:00 | gunicorn/run | AzureML image information: openmpi4.1.0-ubuntu20.04, Materializaton Build:20230628.v2\n",
      "2024-04-08T16:13:42,226321624+00:00 | gunicorn/run | \n",
      "2024-04-08T16:13:42,230717291+00:00 | gunicorn/run | \n",
      "2024-04-08T16:13:42,234593850+00:00 | gunicorn/run | PATH environment variable: /azureml-envs/azureml-automl/bin:/opt/miniconda/bin:/usr/local/sbin:/usr/local/bin:/usr/sbin:/usr/bin:/sbin:/bin\n",
      "2024-04-08T16:13:42,236863285+00:00 | gunicorn/run | PYTHONPATH environment variable: \n",
      "2024-04-08T16:13:42,240830945+00:00 | gunicorn/run | \n",
      "2024-04-08T16:13:43,143824259+00:00 | gunicorn/run | CONDAPATH environment variable: /opt/miniconda\n",
      "\n",
      "# conda environments:\n",
      "#\n",
      "                         /azureml-envs/azureml-automl\n",
      "base                     /opt/miniconda\n",
      "\n",
      "2024-04-08T16:13:44,416935835+00:00 | gunicorn/run | \n",
      "2024-04-08T16:13:44,420099484+00:00 | gunicorn/run | Pip Dependencies (before dynamic installation)\n",
      "\n",
      "adal==1.2.7\n",
      "applicationinsights==0.11.10\n",
      "arch==5.3.1\n",
      "argcomplete==2.1.2\n",
      "argon2-cffi==21.3.0\n",
      "argon2-cffi-bindings==21.2.0\n",
      "asttokens==2.2.1\n",
      "attrs==23.1.0\n",
      "azure-common==1.1.28\n",
      "azure-core==1.27.1\n",
      "azure-graphrbac==0.61.1\n",
      "azure-identity==1.13.0\n",
      "azure-mgmt-authorization==3.0.0\n",
      "azure-mgmt-containerregistry==10.1.0\n",
      "azure-mgmt-core==1.4.0\n",
      "azure-mgmt-keyvault==10.2.2\n",
      "azure-mgmt-resource==22.0.0\n",
      "azure-mgmt-storage==21.0.0\n",
      "azure-storage-blob==12.13.0\n",
      "azure-storage-queue==12.6.0\n",
      "azureml-automl-core==1.52.0.post1\n",
      "azureml-automl-runtime==1.52.0.post1\n",
      "azureml-core==1.52.0\n",
      "azureml-dataprep==4.11.4\n",
      "azureml-dataprep-native==38.0.0\n",
      "azureml-dataprep-rslex==2.18.4\n",
      "azureml-dataset-runtime==1.52.0\n",
      "azureml-defaults==1.52.0\n",
      "azureml-inference-server-http==0.8.4\n",
      "azureml-interpret==1.52.0\n",
      "azureml-mlflow==1.52.0\n",
      "azureml-pipeline-core==1.52.0\n",
      "azureml-responsibleai==1.52.0\n",
      "azureml-telemetry==1.52.0\n",
      "azureml-train-automl-client==1.52.0\n",
      "azureml-train-automl-runtime==1.52.0\n",
      "azureml-train-core==1.52.0\n",
      "azureml-train-restclients-hyperdrive==1.52.0\n",
      "azureml-training-tabular==1.52.0\n",
      "backcall==0.2.0\n",
      "backports.tempfile==1.0\n",
      "backports.weakref==1.0.post1\n",
      "bcrypt==4.0.1\n",
      "beautifulsoup4==4.12.2\n",
      "bleach==6.0.0\n",
      "bokeh==2.4.3\n",
      "boto==2.49.0\n",
      "boto3==1.20.19\n",
      "botocore==1.23.19\n",
      "Brotli @ file:///home/conda/feedstock_root/build_artifacts/brotli-split_1687884021435/work\n",
      "cachetools==5.3.1\n",
      "certifi==2023.5.7\n",
      "cffi @ file:///home/conda/feedstock_root/build_artifacts/cffi_1671179356964/work\n",
      "charset-normalizer @ file:///home/conda/feedstock_root/build_artifacts/charset-normalizer_1678108872112/work\n",
      "click==8.1.4\n",
      "cloudpickle @ file:///home/conda/feedstock_root/build_artifacts/cloudpickle_1598400192773/work\n",
      "cmdstanpy==0.9.5\n",
      "contextlib2==21.6.0\n",
      "contourpy==1.1.0\n",
      "convertdate @ file:///home/conda/feedstock_root/build_artifacts/convertdate_1642883757836/work\n",
      "cryptography==41.0.0\n",
      "cycler==0.11.0\n",
      "Cython==0.29.17\n",
      "dask==2023.2.0\n",
      "databricks-cli==0.17.7\n",
      "dataclasses==0.6\n",
      "debugpy==1.6.7\n",
      "decorator==5.1.1\n",
      "defusedxml==0.7.1\n",
      "dice-ml==0.9\n",
      "dill==0.3.6\n",
      "distributed==2023.2.0\n",
      "distro==1.8.0\n",
      "docker==6.1.3\n",
      "dotnetcore2==3.1.23\n",
      "econml==0.14.1\n",
      "entrypoints==0.4\n",
      "ephem==4.1.4\n",
      "erroranalysis==0.4.4\n",
      "executing==1.2.0\n",
      "fairlearn==0.8.0\n",
      "fastjsonschema==2.17.1\n",
      "fbprophet==0.7.1\n",
      "fire==0.5.0\n",
      "Flask==2.2.5\n",
      "Flask-Cors==3.0.10\n",
      "flatbuffers==23.5.26\n",
      "fonttools==4.40.0\n",
      "fsspec==2023.6.0\n",
      "fusepy==3.0.1\n",
      "gensim==3.8.3\n",
      "gitdb==4.0.10\n",
      "GitPython==3.1.31\n",
      "google-api-core==2.11.1\n",
      "google-auth==2.21.0\n",
      "googleapis-common-protos==1.59.1\n",
      "gunicorn==20.1.0\n",
      "h5py==3.9.0\n",
      "holidays @ file:///home/conda/feedstock_root/build_artifacts/holidays_1595448845196/work\n",
      "humanfriendly==10.0\n",
      "idna @ file:///home/conda/feedstock_root/build_artifacts/idna_1663625384323/work\n",
      "importlib-metadata==6.8.0\n",
      "importlib-resources==5.13.0\n",
      "inference-schema==1.5.1\n",
      "interpret-community==0.29.0\n",
      "interpret-core==0.3.2\n",
      "ipykernel==6.8.0\n",
      "ipython==8.12.2\n",
      "ipython-genutils==0.2.0\n",
      "isodate==0.6.1\n",
      "itsdangerous==2.1.2\n",
      "jedi==0.18.2\n",
      "jeepney==0.8.0\n",
      "Jinja2==3.1.2\n",
      "jmespath==0.10.0\n",
      "joblib @ file:///home/conda/feedstock_root/build_artifacts/joblib_1663332044897/work\n",
      "jsonpickle==3.0.1\n",
      "jsonschema==4.18.0\n",
      "jsonschema-specifications==2023.6.1\n",
      "jupyter_client==7.4.9\n",
      "jupyter_core==5.3.1\n",
      "jupyterlab-pygments==0.2.2\n",
      "keras2onnx==1.6.0\n",
      "kiwisolver==1.4.4\n",
      "knack==0.10.1\n",
      "korean-lunar-calendar @ file:///home/conda/feedstock_root/build_artifacts/korean_lunar_calendar_1663341251025/work\n",
      "lightgbm==3.2.1\n",
      "llvmlite==0.38.1\n",
      "locket==1.0.0\n",
      "LunarCalendar==0.0.9\n",
      "MarkupSafe==2.1.2\n",
      "matplotlib==3.7.2\n",
      "matplotlib-inline==0.1.6\n",
      "mistune==3.0.1\n",
      "ml-wrappers==0.4.11\n",
      "mlflow-skinny==2.4.1\n",
      "mltable==1.4.1\n",
      "msal==1.22.0\n",
      "msal-extensions==1.0.0\n",
      "msgpack==1.0.5\n",
      "msrest==0.7.1\n",
      "msrestazure==0.6.4\n",
      "nbclient==0.8.0\n",
      "nbconvert==7.6.0\n",
      "nbformat==5.9.0\n",
      "ndg-httpsclient==0.5.1\n",
      "nest-asyncio==1.5.6\n",
      "networkx==2.5\n",
      "notebook==6.4.9\n",
      "numba==0.55.2\n",
      "numpy==1.22.3\n",
      "oauthlib==3.2.2\n",
      "onnx==1.13.1\n",
      "onnxconverter-common==1.6.0\n",
      "onnxmltools==1.4.1\n",
      "onnxruntime==1.11.1\n",
      "opencensus==0.11.2\n",
      "opencensus-context==0.1.3\n",
      "opencensus-ext-azure==1.1.9\n",
      "packaging==23.0\n",
      "pandas==1.1.5\n",
      "pandocfilters==1.5.0\n",
      "paramiko==3.2.0\n",
      "parso==0.8.3\n",
      "partd==1.4.0\n",
      "pathspec==0.11.1\n",
      "patsy==0.5.3\n",
      "pexpect==4.8.0\n",
      "pickleshare==0.7.5\n",
      "Pillow==10.0.0\n",
      "pkginfo==1.9.6\n",
      "pkgutil_resolve_name==1.3.10\n",
      "platformdirs @ file:///home/conda/feedstock_root/build_artifacts/platformdirs_1688739404342/work\n",
      "pmdarima==1.8.0\n",
      "pooch @ file:///home/conda/feedstock_root/build_artifacts/pooch_1679580333621/work\n",
      "portalocker==2.7.0\n",
      "prometheus-client==0.17.0\n",
      "prompt-toolkit==3.0.39\n",
      "property-cached==1.6.4\n",
      "protobuf==3.20.3\n",
      "psutil @ file:///home/conda/feedstock_root/build_artifacts/psutil_1681775007745/work\n",
      "ptyprocess==0.7.0\n",
      "pure-eval==0.2.2\n",
      "py-cpuinfo==5.0.0\n",
      "pyarrow==9.0.0\n",
      "pyasn1==0.5.0\n",
      "pyasn1-modules==0.3.0\n",
      "pycparser @ file:///home/conda/feedstock_root/build_artifacts/pycparser_1636257122734/work\n",
      "pydantic==1.10.11\n",
      "Pygments==2.15.1\n",
      "PyJWT==2.7.0\n",
      "PyMeeus @ file:///home/conda/feedstock_root/build_artifacts/pymeeus_1670868433998/work\n",
      "PyNaCl==1.5.0\n",
      "pyOpenSSL @ file:///home/conda/feedstock_root/build_artifacts/pyopenssl_1685514481738/work\n",
      "pyparsing==3.0.9\n",
      "PySocks @ file:///home/conda/feedstock_root/build_artifacts/pysocks_1661604839144/work\n",
      "pystan==2.19.1.1\n",
      "python-dateutil @ file:///home/conda/feedstock_root/build_artifacts/python-dateutil_1626286286081/work\n",
      "pytz @ file:///home/conda/feedstock_root/build_artifacts/pytz_1680088766131/work\n",
      "PyYAML==6.0\n",
      "pyzmq==25.1.0\n",
      "raiutils==0.4.0\n",
      "referencing==0.29.1\n",
      "requests @ file:///home/conda/feedstock_root/build_artifacts/requests_1684774241324/work\n",
      "requests-oauthlib==1.3.1\n",
      "responsibleai==0.28.0\n",
      "rpds-py==0.8.8\n",
      "rsa==4.9\n",
      "s3transfer==0.5.2\n",
      "scikit-learn==0.22.1\n",
      "scipy==1.5.3\n",
      "SecretStorage==3.3.3\n",
      "semver==2.13.0\n",
      "Send2Trash==1.8.2\n",
      "setuptools-git==1.2\n",
      "shap==0.41.0\n",
      "six @ file:///home/conda/feedstock_root/build_artifacts/six_1620240208055/work\n",
      "skl2onnx==1.4.9\n",
      "sklearn-pandas==1.7.0\n",
      "slicer==0.0.7\n",
      "smart-open==1.9.0\n",
      "smmap==5.0.0\n",
      "sortedcontainers==2.4.0\n",
      "soupsieve==2.4.1\n",
      "sparse==0.14.0\n",
      "sqlparse==0.4.4\n",
      "stack-data==0.6.2\n",
      "statsmodels==0.11.1\n",
      "tabulate==0.9.0\n",
      "tblib==2.0.0\n",
      "termcolor==2.3.0\n",
      "terminado==0.17.1\n",
      "tinycss2==1.2.1\n",
      "toolz==0.12.0\n",
      "tornado==6.3.2\n",
      "tqdm==4.65.0\n",
      "traitlets==5.9.0\n",
      "typing_extensions @ file:///home/conda/feedstock_root/build_artifacts/typing_extensions_1688315532570/work\n",
      "urllib3==1.26.16\n",
      "wcwidth==0.2.6\n",
      "webencodings==0.5.1\n",
      "websocket-client==1.6.1\n",
      "Werkzeug==2.3.6\n",
      "wrapt==1.12.1\n",
      "xgboost==1.3.3\n",
      "zict==3.0.0\n",
      "zipp==3.15.0\n",
      "\n",
      "2024-04-08T16:13:46,380108668+00:00 | gunicorn/run | \n",
      "2024-04-08T16:13:46,385380349+00:00 | gunicorn/run | ###############################################\n",
      "2024-04-08T16:13:46,387986088+00:00 | gunicorn/run | Checking if the Python package azureml-inference-server-http is installed\n",
      "2024-04-08T16:13:46,390214222+00:00 | gunicorn/run | ###############################################\n",
      "2024-04-08T16:13:46,394886094+00:00 | gunicorn/run | \n",
      "2024-04-08T16:13:49,870430157+00:00 | gunicorn/run | \n",
      "2024-04-08T16:13:49,872606490+00:00 | gunicorn/run | ###############################################\n",
      "2024-04-08T16:13:49,878595783+00:00 | gunicorn/run | AzureML Inference Server\n",
      "2024-04-08T16:13:49,880140707+00:00 | gunicorn/run | ###############################################\n",
      "2024-04-08T16:13:49,881783432+00:00 | gunicorn/run | \n",
      "2024-04-08T16:13:53,257810413+00:00 | gunicorn/run | Starting AzureML Inference Server HTTP.\n",
      "2024-04-08 16:13:53,651 I [78] azmlinfsrv - Loaded logging config from /azureml-envs/azureml-automl/lib/python3.8/site-packages/azureml_inference_server_http/logging.json\n",
      "2024-04-08 16:13:53,990 I [78] gunicorn.error - Starting gunicorn 20.1.0\n",
      "2024-04-08 16:13:53,991 I [78] gunicorn.error - Listening at: http://0.0.0.0:31311 (78)\n",
      "2024-04-08 16:13:53,991 I [78] gunicorn.error - Using worker: sync\n",
      "2024-04-08 16:13:53,999 I [147] gunicorn.error - Booting worker with pid: 147\n",
      "/azureml-envs/azureml-automl/lib/python3.8/site-packages/azureml_inference_server_http/server/config.py:51: FutureWarning: aliases are no longer used by BaseSettings to define which environment variables to read. Instead use the \"env\" field setting. See https://pydantic-docs.helpmanual.io/usage/settings/#environment-variable-names\n",
      "  class AMLInferenceServerConfig(pydantic.BaseSettings):\n",
      "Valid Application Insights instrumentation key provided.\n",
      "\n",
      "Azure ML Inferencing HTTP server v0.8.4\n",
      "\n",
      "\n",
      "Server Settings\n",
      "---------------\n",
      "Entry Script Name: /var/azureml-app/main.py\n",
      "Model Directory: /var/azureml-app/azureml-models/nba_3pt_voting_ensemble/5\n",
      "Config File: None\n",
      "Worker Count: 1\n",
      "Worker Timeout (seconds): 300\n",
      "Server Port: 31311\n",
      "Health Port: 31311\n",
      "Application Insights Enabled: true\n",
      "Application Insights Key: AppInsights key provided\n",
      "Inferencing HTTP server version: azmlinfsrv/0.8.4\n",
      "CORS for the specified origins: None\n",
      "Create dedicated endpoint for health: None\n",
      "\n",
      "\n",
      "Server Routes\n",
      "---------------\n",
      "Liveness Probe: GET   127.0.0.1:31311/\n",
      "Score:          POST  127.0.0.1:31311/score\n",
      "\n",
      "2024-04-08 16:13:54,803 I [147] azmlinfsrv - AML_FLASK_ONE_COMPATIBILITY is set. Patched Flask to ensure compatibility with Flask 1.\n",
      "Initializing logger\n",
      "2024-04-08 16:13:54,808 I [147] azmlinfsrv - Starting up app insights client\n",
      "WARNING:opencensus.ext.azure.common:DeprecationWarning: Explicitly using instrumentation key isdeprecated. Please use a connection string instead.\n",
      "WARNING:opencensus.ext.azure.common:DeprecationWarning: Explicitly using instrumentation key isdeprecated. Please use a connection string instead.\n",
      "WARNING:opencensus.ext.azure.common:DeprecationWarning: Explicitly using instrumentation key isdeprecated. Please use a connection string instead.\n",
      "2024-04-08 16:14:01,364 I [147] azmlinfsrv.user_script - Found driver script at /var/azureml-app/main.py and the score script at /var/azureml-app/scoring_file_v_1_0_0.py\n",
      "2024-04-08 16:14:01,365 I [147] azmlinfsrv.user_script - run() is decorated with @input_schema. Server will invoke it with the following arguments: data, method.\n",
      "2024-04-08 16:14:01,365 I [147] azmlinfsrv.user_script - Invoking user's init function\n",
      "ERROR:fbprophet.plot:Importing plotly failed. Interactive plots will not work.\n",
      "2024-04-08 16:14:12,811 I [147] azmlinfsrv.user_script - Users's init has completed successfully\n",
      "2024-04-08 16:14:12,851 I [147] azmlinfsrv.swagger - Swaggers are prepared for the following versions: [2, 3, 3.1].\n",
      "2024-04-08 16:14:12,851 I [147] azmlinfsrv - Scoring timeout is set to 60000\n",
      "2024-04-08 16:15:03,603 W [147] azmlinfsrv - x-ms-request-id header has been deprecated and will be removed from future versions of the server. Please use x-ms-client-request-id.\n",
      "2024-04-08 16:15:03,604 I [147] gunicorn.access - 127.0.0.1 - - [08/Apr/2024:16:15:03 +0000] \"GET / HTTP/1.0\" 200 7 \"-\" \"Go-http-client/1.1\"\n",
      "2024-04-08 16:15:03,613 W [147] azmlinfsrv - x-ms-request-id header has been deprecated and will be removed from future versions of the server. Please use x-ms-client-request-id.\n",
      "2024-04-08 16:15:03,614 I [147] azmlinfsrv - GET /swagger.json 200 0.765ms 3728\n",
      "2024-04-08 16:15:03,616 I [147] gunicorn.access - 127.0.0.1 - - [08/Apr/2024:16:15:03 +0000] \"GET /swagger.json HTTP/1.0\" 200 3728 \"-\" \"Go-http-client/1.1\"\n",
      "2024-04-08 16:15:06,649 W [147] azmlinfsrv - x-ms-request-id header has been deprecated and will be removed from future versions of the server. Please use x-ms-client-request-id.\n",
      "2024-04-08 16:15:06,650 I [147] gunicorn.access - 127.0.0.1 - - [08/Apr/2024:16:15:06 +0000] \"GET / HTTP/1.0\" 200 7 \"-\" \"Go-http-client/1.1\"\n",
      "2024-04-08 16:15:06,654 W [147] azmlinfsrv - x-ms-request-id header has been deprecated and will be removed from future versions of the server. Please use x-ms-client-request-id.\n",
      "2024-04-08 16:15:06,657 I [147] azmlinfsrv - GET /swagger.json 200 4.088ms 3728\n",
      "2024-04-08 16:15:06,659 I [147] gunicorn.access - 127.0.0.1 - - [08/Apr/2024:16:15:06 +0000] \"GET /swagger.json HTTP/1.0\" 200 3728 \"-\" \"Go-http-client/1.1\"\n",
      "2024-04-08 16:17:36,394 W [147] azmlinfsrv - x-ms-request-id header has been deprecated and will be removed from future versions of the server. Please use x-ms-client-request-id.\n",
      "2024-04-08 16:17:36,395 I [147] gunicorn.access - 127.0.0.1 - - [08/Apr/2024:16:17:36 +0000] \"GET / HTTP/1.0\" 200 7 \"-\" \"Go-http-client/1.1\"\n",
      "2024-04-08 16:17:36,400 W [147] azmlinfsrv - x-ms-request-id header has been deprecated and will be removed from future versions of the server. Please use x-ms-client-request-id.\n",
      "2024-04-08 16:17:36,402 I [147] azmlinfsrv - GET /swagger.json 200 1.026ms 3728\n",
      "2024-04-08 16:17:36,403 I [147] gunicorn.access - 127.0.0.1 - - [08/Apr/2024:16:17:36 +0000] \"GET /swagger.json HTTP/1.0\" 200 3728 \"-\" \"Go-http-client/1.1\"\n",
      "2024-04-08 16:17:59,915 W [147] azmlinfsrv - x-ms-request-id header has been deprecated and will be removed from future versions of the server. Please use x-ms-client-request-id.\n",
      "2024-04-08 16:17:59,933 E [147] azmlinfsrv.trace - (<class 'azureml_inference_server_http.server.user_script.UserScriptException'>, UserScriptException('Caught an unhandled exception from the user script'), <traceback object at 0x7f2a54b7acc0>)\n",
      "Traceback (most recent call last):\n",
      "  File \"/azureml-envs/azureml-automl/lib/python3.8/site-packages/azureml_inference_server_http/server/user_script.py\", line 130, in invoke_run\n",
      "    run_output = self._wrapped_user_run(**run_parameters, request_headers=dict(request.headers))\n",
      "  File \"/azureml-envs/azureml-automl/lib/python3.8/site-packages/azureml_inference_server_http/server/user_script.py\", line 154, in <lambda>\n",
      "    self._wrapped_user_run = lambda request_headers, **kwargs: self._user_run(**kwargs)\n",
      "  File \"/azureml-envs/azureml-automl/lib/python3.8/site-packages/inference_schema/schema_decorators.py\", line 62, in decorator_input\n",
      "    return user_run(*args, **kwargs)\n",
      "  File \"/azureml-envs/azureml-automl/lib/python3.8/site-packages/inference_schema/schema_decorators.py\", line 58, in decorator_input\n",
      "    kwargs[param_name] = _deserialize_input_argument(kwargs[param_name], param_type, param_name)\n",
      "  File \"/azureml-envs/azureml-automl/lib/python3.8/site-packages/inference_schema/schema_decorators.py\", line 343, in _deserialize_input_argument\n",
      "    input_data = param_type.deserialize_input(input_data)\n",
      "  File \"/azureml-envs/azureml-automl/lib/python3.8/site-packages/inference_schema/parameter_types/pandas_parameter_type.py\", line 107, in deserialize_input\n",
      "    raise ValueError(\n",
      "ValueError: Invalid input data frame: data frame has size 16 on dimension #1, while expected value is 15\n",
      "\n",
      "The above exception was the direct cause of the following exception:\n",
      "\n",
      "Traceback (most recent call last):\n",
      "  File \"/azureml-envs/azureml-automl/lib/python3.8/site-packages/azureml_inference_server_http/server/routes.py\", line 219, in handle_score\n",
      "    timed_result = main_blueprint.user_script.invoke_run(request, timeout_ms=config.scoring_timeout)\n",
      "  File \"/azureml-envs/azureml-automl/lib/python3.8/site-packages/azureml_inference_server_http/server/user_script.py\", line 137, in invoke_run\n",
      "    raise UserScriptException(ex) from ex\n",
      "azureml_inference_server_http.server.user_script.UserScriptException: Caught an unhandled exception from the user script\n",
      "2024-04-08 16:17:59,937 E [147] azmlinfsrv - Encountered Exception: Traceback (most recent call last):\n",
      "  File \"/azureml-envs/azureml-automl/lib/python3.8/site-packages/azureml_inference_server_http/server/user_script.py\", line 130, in invoke_run\n",
      "    run_output = self._wrapped_user_run(**run_parameters, request_headers=dict(request.headers))\n",
      "  File \"/azureml-envs/azureml-automl/lib/python3.8/site-packages/azureml_inference_server_http/server/user_script.py\", line 154, in <lambda>\n",
      "    self._wrapped_user_run = lambda request_headers, **kwargs: self._user_run(**kwargs)\n",
      "  File \"/azureml-envs/azureml-automl/lib/python3.8/site-packages/inference_schema/schema_decorators.py\", line 62, in decorator_input\n",
      "    return user_run(*args, **kwargs)\n",
      "  File \"/azureml-envs/azureml-automl/lib/python3.8/site-packages/inference_schema/schema_decorators.py\", line 58, in decorator_input\n",
      "    kwargs[param_name] = _deserialize_input_argument(kwargs[param_name], param_type, param_name)\n",
      "  File \"/azureml-envs/azureml-automl/lib/python3.8/site-packages/inference_schema/schema_decorators.py\", line 343, in _deserialize_input_argument\n",
      "    input_data = param_type.deserialize_input(input_data)\n",
      "  File \"/azureml-envs/azureml-automl/lib/python3.8/site-packages/inference_schema/parameter_types/pandas_parameter_type.py\", line 107, in deserialize_input\n",
      "    raise ValueError(\n",
      "ValueError: Invalid input data frame: data frame has size 16 on dimension #1, while expected value is 15\n",
      "\n",
      "The above exception was the direct cause of the following exception:\n",
      "\n",
      "Traceback (most recent call last):\n",
      "  File \"/azureml-envs/azureml-automl/lib/python3.8/site-packages/azureml_inference_server_http/server/routes.py\", line 219, in handle_score\n",
      "    timed_result = main_blueprint.user_script.invoke_run(request, timeout_ms=config.scoring_timeout)\n",
      "  File \"/azureml-envs/azureml-automl/lib/python3.8/site-packages/azureml_inference_server_http/server/user_script.py\", line 137, in invoke_run\n",
      "    raise UserScriptException(ex) from ex\n",
      "azureml_inference_server_http.server.user_script.UserScriptException: Caught an unhandled exception from the user script\n",
      "\n",
      "2024-04-08 16:17:59,940 I [147] azmlinfsrv - POST /score 500 24.036ms 92\n",
      "2024-04-08 16:17:59,942 I [147] gunicorn.access - 127.0.0.1 - - [08/Apr/2024:16:17:59 +0000] \"POST /score HTTP/1.0\" 500 92 \"-\" \"python-requests/2.31.0\"\n",
      "2024-04-08 16:20:07,439 W [147] azmlinfsrv - x-ms-request-id header has been deprecated and will be removed from future versions of the server. Please use x-ms-client-request-id.\n",
      "2024-04-08 16:20:07,600 I [147] azmlinfsrv - POST /score 200 160.514ms 23\n",
      "2024-04-08 16:20:07,606 I [147] gunicorn.access - 127.0.0.1 - - [08/Apr/2024:16:20:07 +0000] \"POST /score HTTP/1.0\" 200 23 \"-\" \"python-requests/2.31.0\"\n",
      "\n"
     ]
    }
   ],
   "source": [
    "# getting and printing all logs\n",
    "endpoint_logs = service.get_logs()\n",
    "print(endpoint_logs)\n",
    "\n",
    "# deleting the service\n",
    "service.delete()"
   ]
  },
  {
   "cell_type": "markdown",
   "metadata": {},
   "source": [
    "**Submission Checklist**\n",
    "- I have registered the model.\n",
    "- I have deployed the model with the best accuracy as a webservice.\n",
    "- I have tested the webservice by sending a request to the model endpoint.\n",
    "- I have deleted the webservice and shutdown all the computes that I have used.\n",
    "- I have taken a screenshot showing the model endpoint as active.\n",
    "- The project includes a file containing the environment details.\n"
   ]
  },
  {
   "cell_type": "markdown",
   "metadata": {},
   "source": []
  }
 ],
 "metadata": {
  "kernel_info": {
   "name": "python3-azureml"
  },
  "kernelspec": {
   "display_name": "Python 3.8 - AzureML",
   "language": "python",
   "name": "python38-azureml"
  },
  "language_info": {
   "codemirror_mode": {
    "name": "ipython",
    "version": 3
   },
   "file_extension": ".py",
   "mimetype": "text/x-python",
   "name": "python",
   "nbconvert_exporter": "python",
   "pygments_lexer": "ipython3",
   "version": "3.8.5"
  },
  "nteract": {
   "version": "nteract-front-end@1.0.0"
  }
 },
 "nbformat": 4,
 "nbformat_minor": 2
}
